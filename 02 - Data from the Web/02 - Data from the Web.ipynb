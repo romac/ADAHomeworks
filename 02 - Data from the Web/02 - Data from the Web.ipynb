{
 "cells": [
  {
   "cell_type": "markdown",
   "metadata": {},
   "source": [
    "# 02 - Data from the Web\n",
    "\n",
    "\n",
    "## You will never guess how long it takes EPFL students to complete their degree!\n",
    "\n",
    "## (Question 2 will shock you!)"
   ]
  },
  {
   "cell_type": "markdown",
   "metadata": {},
   "source": [
    "---"
   ]
  },
  {
   "cell_type": "markdown",
   "metadata": {},
   "source": [
    "## Part 0 - Helpers and constants"
   ]
  },
  {
   "cell_type": "markdown",
   "metadata": {},
   "source": [
    "#### Import modules"
   ]
  },
  {
   "cell_type": "code",
   "execution_count": 8,
   "metadata": {
    "collapsed": false
   },
   "outputs": [],
   "source": [
    "%matplotlib inline\n",
    "\n",
    "import requests\n",
    "\n",
    "from bs4 import BeautifulSoup\n",
    "\n",
    "import re\n",
    "\n",
    "import pickle\n",
    "\n",
    "import pandas as pd\n",
    "\n",
    "import matplotlib.pyplot as plt\n",
    "\n",
    "# import seaborn as sns\n",
    "# sns.set_context('notebook')"
   ]
  },
  {
   "cell_type": "markdown",
   "metadata": {},
   "source": [
    "#### Constants"
   ]
  },
  {
   "cell_type": "code",
   "execution_count": 9,
   "metadata": {
    "collapsed": true
   },
   "outputs": [],
   "source": [
    "# Base URL for isa.epfl.ch public report searches\n",
    "isa_base_url = 'http://isa.epfl.ch/imoniteur_ISAP/'"
   ]
  },
  {
   "cell_type": "markdown",
   "metadata": {},
   "source": [
    "#### Helpers"
   ]
  },
  {
   "cell_type": "code",
   "execution_count": 10,
   "metadata": {
    "collapsed": true
   },
   "outputs": [],
   "source": [
    "##\n",
    "# Helper for creating search path\n",
    "#\n",
    "# @param  path -- the path to concatenate to the base URL\n",
    "# @return a full URL\n",
    "#\n",
    "def isa_url(path):\n",
    "    return isa_base_url + path"
   ]
  },
  {
   "cell_type": "code",
   "execution_count": 11,
   "metadata": {
    "collapsed": true
   },
   "outputs": [],
   "source": [
    "##\n",
    "# Allow accessing dictionary items as object attributes\n",
    "#\n",
    "# @param  dict -- The dict to convert to an object\n",
    "# @return an object\n",
    "#\n",
    "# @url https://goodcode.io/articles/python-dict-object/\n",
    "#\n",
    "class objdict(dict):\n",
    "    def __getattr__(self, name):\n",
    "        if name in self:\n",
    "            return self[name]\n",
    "        else:\n",
    "            raise AttributeError(\"No such attribute: \" + name)\n",
    "\n",
    "    def __setattr__(self, name, value):\n",
    "        self[name] = value\n",
    "\n",
    "    def __delattr__(self, name):\n",
    "        if name in self:\n",
    "            del self[name]\n",
    "        else:\n",
    "            raise AttributeError(\"No such attribute: \" + name)"
   ]
  },
  {
   "cell_type": "code",
   "execution_count": 12,
   "metadata": {
    "collapsed": false
   },
   "outputs": [],
   "source": [
    "##\n",
    "# Fetch the given url using a GET requests with the supplied parameters\n",
    "# and return a BeautifulSoup object.\n",
    "#\n",
    "# @param  url -- The URL of the page to fetch\n",
    "# @param  params -- The parameters to supply as a query string\n",
    "# @return A BeautifulSoup object for the page\n",
    "#\n",
    "def get_page(url, params=None):\n",
    "    r = requests.get(url, params)\n",
    "    \n",
    "     # Check whether the request succeeded or not\n",
    "    if r.status_code is not requests.codes.ok:\n",
    "        print(\"Something went wrong. Got status code = %d\" % r.status_code)\n",
    "        return None\n",
    "    \n",
    "    # Make sure we actually got some content back, as ISA will return a 200 status code but no content\n",
    "    # when the supplied parameters are wrong.\n",
    "    if int(r.headers['Content-Length']) == 0:\n",
    "        print(\"Something went wrong. Got Content-Length: 0\")\n",
    "        return None\n",
    "    \n",
    "    # Extract the response body\n",
    "    html = r.text\n",
    "    \n",
    "    # Parse it with BeautifulSoup\n",
    "    return BeautifulSoup(html, 'html.parser')"
   ]
  },
  {
   "cell_type": "markdown",
   "metadata": {},
   "source": [
    "## Part 1 - Scraper Module"
   ]
  },
  {
   "cell_type": "markdown",
   "metadata": {},
   "source": [
    "The first step is to fetch all the data from ISA.\n",
    "\n",
    "To do this, we will have to scrape the respective frames that ISA serves for the form and then the search results. Steps are detailed below."
   ]
  },
  {
   "cell_type": "code",
   "execution_count": 13,
   "metadata": {
    "collapsed": false
   },
   "outputs": [],
   "source": [
    "# URL of the public ISA home page.\n",
    "isa_home_url = isa_url('%21gedpublicreports.htm?ww_i_reportmodel=133685247')"
   ]
  },
  {
   "cell_type": "markdown",
   "metadata": {},
   "source": [
    "#### Get the right frame URL from the home page"
   ]
  },
  {
   "cell_type": "code",
   "execution_count": 14,
   "metadata": {
    "collapsed": false
   },
   "outputs": [],
   "source": [
    "# Get the home page content\n",
    "home_soup = get_page(isa_home_url)"
   ]
  },
  {
   "cell_type": "code",
   "execution_count": 15,
   "metadata": {
    "collapsed": false
   },
   "outputs": [],
   "source": [
    "# Find the frame containing the form\n",
    "toc_frame = home_soup.find('frame', attrs={'name': 'toc'})"
   ]
  },
  {
   "cell_type": "code",
   "execution_count": 16,
   "metadata": {
    "collapsed": false
   },
   "outputs": [
    {
     "data": {
      "text/plain": [
       "'!GEDPUBLICREPORTS.filter?ww_i_reportModel=133685247'"
      ]
     },
     "execution_count": 16,
     "metadata": {},
     "output_type": "execute_result"
    }
   ],
   "source": [
    "# Extract the frame's URL\n",
    "toc_frame_url = toc_frame['src']\n",
    "toc_frame_url"
   ]
  },
  {
   "cell_type": "markdown",
   "metadata": {},
   "source": [
    "#### Let's now get the form itself"
   ]
  },
  {
   "cell_type": "code",
   "execution_count": 17,
   "metadata": {
    "collapsed": false
   },
   "outputs": [],
   "source": [
    "# URL of the frame containing the form\n",
    "toc_url = isa_url(toc_frame_url)"
   ]
  },
  {
   "cell_type": "code",
   "execution_count": 18,
   "metadata": {
    "collapsed": false
   },
   "outputs": [],
   "source": [
    "# Fetch and parse the page\n",
    "toc_soup = get_page(toc_url)"
   ]
  },
  {
   "cell_type": "code",
   "execution_count": 19,
   "metadata": {
    "collapsed": true
   },
   "outputs": [],
   "source": [
    "# Find the form itself within the page.\n",
    "# The form's name is a heuristic, read from the page's source.\n",
    "form_elem = toc_soup.find('form', attrs={'name': 'f'})"
   ]
  },
  {
   "cell_type": "code",
   "execution_count": 20,
   "metadata": {
    "collapsed": false
   },
   "outputs": [
    {
     "data": {
      "text/plain": [
       "'http://isa.epfl.ch/imoniteur_ISAP/!GEDPUBLICREPORTS.filter'"
      ]
     },
     "execution_count": 20,
     "metadata": {},
     "output_type": "execute_result"
    }
   ],
   "source": [
    "# Find the form's action on validation\n",
    "form_action = form_elem['action']\n",
    "form_action_url = isa_url(form_action)\n",
    "form_action_url"
   ]
  },
  {
   "cell_type": "markdown",
   "metadata": {},
   "source": [
    "### Manually craft the same request submitting the form would send to the server\n",
    "\n",
    "The requests below corresponds to:\n",
    "\n",
    "**Format:** html  \n",
    "**Unité academique:** Informatique  \n",
    "**Période académique:** *blank*  \n",
    "**Période pédagogique:** *blank*  \n",
    "**Type de semestre:** *blank*  "
   ]
  },
  {
   "cell_type": "code",
   "execution_count": 21,
   "metadata": {
    "collapsed": false
   },
   "outputs": [],
   "source": [
    "##\n",
    "# Define a payload dictionary with all the parameters expected by ISA's API endpoint\n",
    "#\n",
    "# /!\\ By default we will request all possibilities from the endpoint, and then filter. /!\\ #\n",
    "#\n",
    "# Example requests for specific academic or pedagogic periods are left FYI.\n",
    "#\n",
    "payload = {\n",
    "    'ww_b_list': '1',\n",
    "    'ww_i_reportmodel': '133685247',\n",
    "    'ww_c_langue': '',\n",
    "    \n",
    "    # Format = html\n",
    "    'ww_i_reportModelXsl': '133685270', \n",
    "    \n",
    "    # Faculty = { Informatique : 249847 }\n",
    "    'zz_x_UNITE_ACAD': 'Informatique',\n",
    "    'ww_x_UNITE_ACAD': '249847',\n",
    "    \n",
    "    # Academic Period = { '' : null } if we want all possible periods\n",
    "    #                 = { '2016-2017' : 355925344 } for a specific year\n",
    "    'zz_x_PERIODE_ACAD': '',\n",
    "    'ww_x_PERIODE_ACAD': 'null',\n",
    "\n",
    "    \n",
    "    # Pedagogic Period = { '' : null } if we want all possible periods\n",
    "    #                  = { 'Bachelor semestre 1' : 249108 } for a specific period\n",
    "    'zz_x_PERIODE_PEDAGO': '',\n",
    "    'ww_x_PERIODE_PEDAGO': 'null',\n",
    "    \n",
    "    # Winter or summer semesters\n",
    "    'zz_x_HIVERETE': '',\n",
    "    'ww_x_HIVERETE': 'null',\n",
    "    \n",
    "    'dummy': 'ok'\n",
    "}"
   ]
  },
  {
   "cell_type": "markdown",
   "metadata": {},
   "source": [
    "#### Send the request and extract the list of links that would appear below the form had we submitted it using the browser"
   ]
  },
  {
   "cell_type": "code",
   "execution_count": 22,
   "metadata": {
    "collapsed": true
   },
   "outputs": [],
   "source": [
    "# Parse the result\n",
    "form_result_soup = get_page(form_action_url, params=payload)\n",
    "# form_result_soup.prettify() # Debug print"
   ]
  },
  {
   "cell_type": "code",
   "execution_count": 23,
   "metadata": {
    "collapsed": true
   },
   "outputs": [],
   "source": [
    "# Extract the links from the list of results\n",
    "all_links = form_result_soup('a', class_='ww_x_GPS')\n",
    "# all_links # Debug print"
   ]
  },
  {
   "cell_type": "markdown",
   "metadata": {},
   "source": [
    "Store the links in a dictionary. Some cleaning is applied, such as whitespace stripping\n",
    "\n",
    "> **Note:** We remove the first link, named 'Tous', as we will request each page individually\n",
    "      in order to avoid downloading a huge HTML table, which would also be much more painful to parse."
   ]
  },
  {
   "cell_type": "code",
   "execution_count": 24,
   "metadata": {
    "collapsed": true
   },
   "outputs": [],
   "source": [
    "links = [\n",
    "    objdict({\n",
    "        'text': link.text.strip(),\n",
    "        'onclick_text': link.attrs['onclick']\n",
    "    }) for link in all_links if link.text.strip() != 'Tous'\n",
    "]"
   ]
  },
  {
   "cell_type": "markdown",
   "metadata": {},
   "source": [
    "For each link,the page loads the respective results with the following on-click action :\n",
    "\n",
    "```\n",
    "loadReport('ww_x_GPS=2021043255');return false;\n",
    "```\n",
    "\n",
    "We will use the following function ```parse_url()``` to extract the ```ww_x_GPS``` parameter expected by the API to return the desired information about the students."
   ]
  },
  {
   "cell_type": "code",
   "execution_count": 25,
   "metadata": {
    "collapsed": true
   },
   "outputs": [],
   "source": [
    "kv_pattern = r\"\"\"'(\\w+)=(\\d+)'\"\"\"\n",
    "kv_re = re.compile(kv_pattern)\n",
    "\n",
    "##\n",
    "# Extract a single key=value pair from the given string\n",
    "#\n",
    "# @param  haystack -- The string to look for a 'key=value' string\n",
    "# @return A dict with 'key' and 'value' keys holding the extracted values\n",
    "# \n",
    "def extract_kv_pair(haystack):\n",
    "    match = re.search(kv_re, haystack)\n",
    "\n",
    "    if match == None:\n",
    "        print('parse_url: parsing failure: %s' % url)\n",
    "        return None\n",
    "    \n",
    "    return objdict({\n",
    "        'key': match.group(1),\n",
    "        'value': match.group(2)\n",
    "    })"
   ]
  },
  {
   "cell_type": "markdown",
   "metadata": {},
   "source": [
    "The list itself must be parsed to extract information regarding section, academic year, pedagogic period. The format is the following :\n",
    "\n",
    "```\n",
    "Informatique, 2016-2017, Bachelor semestre 1\n",
    "```\n",
    "\n",
    "We call an element of the list an item, and parse it with the following ```parse_item()``` function."
   ]
  },
  {
   "cell_type": "code",
   "execution_count": 27,
   "metadata": {
    "collapsed": false
   },
   "outputs": [],
   "source": [
    "parse_item_pattern = r\"\"\"Informatique,\\s*(?P<start_year>\\d+)-(?P<end_year>\\d+),\\s*(?P<degree>[\\w]+) semestre (?P<semester>\\d)\"\"\"\n",
    "parse_item_re = re.compile(parse_item_pattern)\n",
    "\n",
    "##\n",
    "# Extract information regarding degree, academic period and semester number from\n",
    "# the given string, according to the following format:\n",
    "#\n",
    "#     Informatique, [start year]-[end year], [degree] semestre [semester number]\n",
    "#\n",
    "# @param  item -- The item text itself\n",
    "# @param  onclick_text -- The text held in the 'onclick' attribute of the item <a> tag\n",
    "# @param  payload -- The payload used to query the page displaying the items list\n",
    "# @return An object/dict holding the extracted information and the URL params associated to corresponding page\n",
    "#\n",
    "def parse_item(item, onclick_text, payload):\n",
    "    match = re.match(parse_item_re, item)\n",
    "    \n",
    "    # The above regex will match only the kind of records we are interested in, so we can\n",
    "    # safely drop all the non-matching ones\n",
    "    if match == None:\n",
    "        return None\n",
    "    \n",
    "    kv_pair = extract_kv_pair(onclick_text)\n",
    "    \n",
    "    if kv_pair == None:\n",
    "        return None\n",
    "    \n",
    "    params = payload.copy()\n",
    "    params[kv_pair.key] = kv_pair.value\n",
    "    \n",
    "    return objdict({\n",
    "        'start_year': int(match.group('start_year')),\n",
    "        'end_year': int(match.group('end_year')),\n",
    "        'degree': match.group('degree'),\n",
    "        'semester': int(match.group('semester')),\n",
    "        'params': params\n",
    "    })\n",
    "\n",
    "def show_item(item):\n",
    "    if 'degree' in item:\n",
    "        return ('%s semester %s (%d-%d)' % (item.degree, item.semester, item.start_year, item.end_year))\n",
    "    else:\n",
    "        return ('Master project, %s semester (%d-%d)' % (item.season, item.start_year, item.end_year))\n",
    "\n",
    "## \n",
    "# Filter all None elements from the given list\n",
    "#\n",
    "# @param  a_list -- The list to filter\n",
    "# @return the filtered list\n",
    "def filter_none(a_list):\n",
    "    return [item for item in a_list if item != None]"
   ]
  },
  {
   "cell_type": "markdown",
   "metadata": {},
   "source": [
    "Let's now parse all the links, and extract the URL parameter we will need to fetch the corresponding page:"
   ]
  },
  {
   "cell_type": "code",
   "execution_count": 28,
   "metadata": {
    "collapsed": false
   },
   "outputs": [],
   "source": [
    "all_items = [parse_item(link.text, link.onclick_text, payload) for link in links]"
   ]
  },
  {
   "cell_type": "markdown",
   "metadata": {},
   "source": [
    "We only one to fetch the students who started after 2007 and end their master before 2017:"
   ]
  },
  {
   "cell_type": "code",
   "execution_count": 29,
   "metadata": {
    "collapsed": false
   },
   "outputs": [],
   "source": [
    "def is_valid_item(item):\n",
    "    return item != None and item.start_year >= 2007 and item.end_year <= 2017\n",
    "\n",
    "def filter_items(items):\n",
    "    return [item for item in items if is_valid_item(item)]"
   ]
  },
  {
   "cell_type": "code",
   "execution_count": 30,
   "metadata": {
    "collapsed": false
   },
   "outputs": [
    {
     "data": {
      "text/plain": [
       "{'degree': 'Bachelor',\n",
       " 'end_year': 2008,\n",
       " 'params': {'dummy': 'ok',\n",
       "  'ww_b_list': '1',\n",
       "  'ww_c_langue': '',\n",
       "  'ww_i_reportModelXsl': '133685270',\n",
       "  'ww_i_reportmodel': '133685247',\n",
       "  'ww_x_GPS': '71297531',\n",
       "  'ww_x_HIVERETE': 'null',\n",
       "  'ww_x_PERIODE_ACAD': 'null',\n",
       "  'ww_x_PERIODE_PEDAGO': 'null',\n",
       "  'ww_x_UNITE_ACAD': '249847',\n",
       "  'zz_x_HIVERETE': '',\n",
       "  'zz_x_PERIODE_ACAD': '',\n",
       "  'zz_x_PERIODE_PEDAGO': '',\n",
       "  'zz_x_UNITE_ACAD': 'Informatique'},\n",
       " 'semester': 1,\n",
       " 'start_year': 2007}"
      ]
     },
     "execution_count": 30,
     "metadata": {},
     "output_type": "execute_result"
    }
   ],
   "source": [
    "items = filter_items(all_items)\n",
    "items[0]"
   ]
  },
  {
   "cell_type": "markdown",
   "metadata": {},
   "source": [
    "#### Let's now go through all the collected items to extract the list of enrolled students"
   ]
  },
  {
   "cell_type": "code",
   "execution_count": 31,
   "metadata": {
    "collapsed": false
   },
   "outputs": [],
   "source": [
    "list_page_url = isa_url('!GEDPUBLICREPORTS.html')\n",
    "\n",
    "##\n",
    "# Parse a row of the table into a dictionary, keeping all cells,\n",
    "# and adding the information about the degree and semester.\n",
    "#\n",
    "# @param  tr -- A BeautifulSoup object for the row\n",
    "# @param  item -- The item associated with the page\n",
    "# @param  headers -- The list of headers of the table\n",
    "# @return An objdict holding the extracted informaton + degree, semester, start and end years\n",
    "#\n",
    "def parse_student_row(tr, item, headers):\n",
    "    tds = tr.find_all('td')\n",
    "    texts = [td.text for td in tds]\n",
    "    \n",
    "    res = {}\n",
    "    for i, header in enumerate(headers):\n",
    "        res[header] = texts[i]\n",
    "    \n",
    "    item_keys = ['degree', 'semester', 'start_year', 'end_year']\n",
    "    for key in item_keys:\n",
    "        res[key] = item[key]\n",
    "    \n",
    "    return objdict(res)\n",
    "\n",
    "##\n",
    "# Extract all students from the (given) page that was fetched with the given item.\n",
    "#\n",
    "# @param  page_soup -- A BeautifulSoup object for the page\n",
    "# @param  item -- The item corresponding to the given page\n",
    "# @return The list of students contained in the table found in the page\n",
    "#\n",
    "def parse_students_list(page_soup, item):\n",
    "    table = page_soup.find('table')\n",
    "    trs = table.find_all('tr')\n",
    "    \n",
    "    # If the table has less than 3 rows, it doesn't contain any students\n",
    "    if len(trs) < 3:\n",
    "        return []\n",
    "    \n",
    "    (header_row, students_rows) = (trs[1], trs[2:])\n",
    "        \n",
    "    headers = [x.text for x in header_row.find_all('th')]\n",
    "    \n",
    "    return [\n",
    "        parse_student_row(student_row, item, headers) for student_row in students_rows\n",
    "    ]\n",
    "\n",
    "##\n",
    "# Load and extract all students in the page characterized by the given item.\n",
    "#\n",
    "# @param  item -- The item corresponding to the page to fetch\n",
    "# @return An objdict holding the parsed page and the item\n",
    "#\n",
    "def load_student_page(item):\n",
    "    print('Loading page for \"%s\"' % show_item(item))\n",
    "    \n",
    "    return objdict({\n",
    "        'soup': get_page(list_page_url, item.params),\n",
    "        'item': item\n",
    "    })\n",
    "\n",
    "##\n",
    "# Flatten a list of list into a list.\n",
    "#\n",
    "# @param  a_list -- A list of lists\n",
    "# @return The flattened list\n",
    "def flatten_list(a_list):\n",
    "    return [item for sublist in a_list for item in sublist]"
   ]
  },
  {
   "cell_type": "code",
   "execution_count": 32,
   "metadata": {
    "collapsed": false
   },
   "outputs": [],
   "source": [
    "# Set this flag to False to load the data from ISA\n",
    "load_from_disk = True\n",
    "save_path = \"students_data.p\"\n",
    "\n",
    "if load_from_disk:\n",
    "    student_list = pickle.load(open(save_path, 'rb'))\n",
    "else:\n",
    "    students_pages = [load_student_page(item) for item in items]\n",
    "\n",
    "    students_lists = [\n",
    "        parse_students_list(page.soup, page.item) for page in students_pages\n",
    "    ]\n",
    "\n",
    "    student_list = flatten_list(students_lists)\n",
    "    \n",
    "    # Serialize the whole data to disk\n",
    "    pickle.dump(student_list, open(save_path, 'wb'))"
   ]
  },
  {
   "cell_type": "markdown",
   "metadata": {},
   "source": [
    "## Part 2 - Data analysis"
   ]
  },
  {
   "cell_type": "markdown",
   "metadata": {},
   "source": [
    "### Question 1\n",
    "\n",
    "> Keep only the students for which you have an entry for both Bachelor semestre 1 and Bachelor semestre 6. Compute how many months it took each student to go from the first to the sixth semester. Partition the data between male and female students, and compute the average -- is the difference in average statistically significant?"
   ]
  },
  {
   "cell_type": "markdown",
   "metadata": {},
   "source": [
    "Let's load all students, and clean up the columns names for easier subsequent manipulation:"
   ]
  },
  {
   "cell_type": "code",
   "execution_count": 33,
   "metadata": {
    "collapsed": false
   },
   "outputs": [],
   "source": [
    "students_data = pd.DataFrame(student_list)\n",
    "\n",
    "##\n",
    "# Load the list of Bachelor students, with the relevant information.\n",
    "# @param  data -- The list of students\n",
    "# @return a DataFrame containing the records of Bachelor Students\n",
    "#\n",
    "def load_bsc_data(data):\n",
    "    bsc_data = students_data[['No Sciper', 'Civilité', 'Nom Prénom', 'degree', 'semester', 'start_year', 'end_year']]\n",
    "    return bsc_data.rename(columns={'No Sciper': 'sciper', 'Civilité': 'title', 'Nom Prénom': 'name'})\n",
    "    \n",
    "bsc_data = load_bsc_data(students_data)"
   ]
  },
  {
   "cell_type": "markdown",
   "metadata": {},
   "source": [
    "We only want to keep Bachelor students for whom we have an entry for both semester 1 and 6:"
   ]
  },
  {
   "cell_type": "code",
   "execution_count": 34,
   "metadata": {
    "collapsed": false
   },
   "outputs": [
    {
     "data": {
      "text/html": [
       "<div>\n",
       "<table border=\"1\" class=\"dataframe\">\n",
       "  <thead>\n",
       "    <tr style=\"text-align: right;\">\n",
       "      <th></th>\n",
       "      <th>title</th>\n",
       "      <th>name</th>\n",
       "      <th>degree</th>\n",
       "      <th>semester</th>\n",
       "      <th>start_year</th>\n",
       "      <th>end_year</th>\n",
       "    </tr>\n",
       "    <tr>\n",
       "      <th>sciper</th>\n",
       "      <th></th>\n",
       "      <th></th>\n",
       "      <th></th>\n",
       "      <th></th>\n",
       "      <th></th>\n",
       "      <th></th>\n",
       "    </tr>\n",
       "  </thead>\n",
       "  <tbody>\n",
       "    <tr>\n",
       "      <th>147008</th>\n",
       "      <td>Monsieur</td>\n",
       "      <td>Good Xavier</td>\n",
       "      <td>Bachelor</td>\n",
       "      <td>4</td>\n",
       "      <td>2009</td>\n",
       "      <td>2010</td>\n",
       "    </tr>\n",
       "    <tr>\n",
       "      <th>147008</th>\n",
       "      <td>Monsieur</td>\n",
       "      <td>Good Xavier</td>\n",
       "      <td>Bachelor</td>\n",
       "      <td>1</td>\n",
       "      <td>2008</td>\n",
       "      <td>2009</td>\n",
       "    </tr>\n",
       "    <tr>\n",
       "      <th>147008</th>\n",
       "      <td>Monsieur</td>\n",
       "      <td>Good Xavier</td>\n",
       "      <td>Bachelor</td>\n",
       "      <td>2</td>\n",
       "      <td>2008</td>\n",
       "      <td>2009</td>\n",
       "    </tr>\n",
       "    <tr>\n",
       "      <th>147008</th>\n",
       "      <td>Monsieur</td>\n",
       "      <td>Good Xavier</td>\n",
       "      <td>Bachelor</td>\n",
       "      <td>3</td>\n",
       "      <td>2009</td>\n",
       "      <td>2010</td>\n",
       "    </tr>\n",
       "    <tr>\n",
       "      <th>147008</th>\n",
       "      <td>Monsieur</td>\n",
       "      <td>Good Xavier</td>\n",
       "      <td>Bachelor</td>\n",
       "      <td>6</td>\n",
       "      <td>2010</td>\n",
       "      <td>2011</td>\n",
       "    </tr>\n",
       "    <tr>\n",
       "      <th>147008</th>\n",
       "      <td>Monsieur</td>\n",
       "      <td>Good Xavier</td>\n",
       "      <td>Bachelor</td>\n",
       "      <td>5</td>\n",
       "      <td>2010</td>\n",
       "      <td>2011</td>\n",
       "    </tr>\n",
       "    <tr>\n",
       "      <th>169569</th>\n",
       "      <td>Monsieur</td>\n",
       "      <td>Arévalo Christian</td>\n",
       "      <td>Bachelor</td>\n",
       "      <td>3</td>\n",
       "      <td>2008</td>\n",
       "      <td>2009</td>\n",
       "    </tr>\n",
       "    <tr>\n",
       "      <th>169569</th>\n",
       "      <td>Monsieur</td>\n",
       "      <td>Arévalo Christian</td>\n",
       "      <td>Bachelor</td>\n",
       "      <td>4</td>\n",
       "      <td>2008</td>\n",
       "      <td>2009</td>\n",
       "    </tr>\n",
       "    <tr>\n",
       "      <th>169569</th>\n",
       "      <td>Monsieur</td>\n",
       "      <td>Arévalo Christian</td>\n",
       "      <td>Bachelor</td>\n",
       "      <td>2</td>\n",
       "      <td>2007</td>\n",
       "      <td>2008</td>\n",
       "    </tr>\n",
       "    <tr>\n",
       "      <th>169569</th>\n",
       "      <td>Monsieur</td>\n",
       "      <td>Arévalo Christian</td>\n",
       "      <td>Bachelor</td>\n",
       "      <td>5</td>\n",
       "      <td>2009</td>\n",
       "      <td>2010</td>\n",
       "    </tr>\n",
       "    <tr>\n",
       "      <th>169569</th>\n",
       "      <td>Monsieur</td>\n",
       "      <td>Arévalo Christian</td>\n",
       "      <td>Bachelor</td>\n",
       "      <td>6</td>\n",
       "      <td>2009</td>\n",
       "      <td>2010</td>\n",
       "    </tr>\n",
       "    <tr>\n",
       "      <th>169569</th>\n",
       "      <td>Monsieur</td>\n",
       "      <td>Arévalo Christian</td>\n",
       "      <td>Bachelor</td>\n",
       "      <td>1</td>\n",
       "      <td>2007</td>\n",
       "      <td>2008</td>\n",
       "    </tr>\n",
       "    <tr>\n",
       "      <th>169731</th>\n",
       "      <td>Monsieur</td>\n",
       "      <td>Knecht Mathieu</td>\n",
       "      <td>Bachelor</td>\n",
       "      <td>5</td>\n",
       "      <td>2010</td>\n",
       "      <td>2011</td>\n",
       "    </tr>\n",
       "    <tr>\n",
       "      <th>169731</th>\n",
       "      <td>Monsieur</td>\n",
       "      <td>Knecht Mathieu</td>\n",
       "      <td>Bachelor</td>\n",
       "      <td>3</td>\n",
       "      <td>2008</td>\n",
       "      <td>2009</td>\n",
       "    </tr>\n",
       "    <tr>\n",
       "      <th>169731</th>\n",
       "      <td>Monsieur</td>\n",
       "      <td>Knecht Mathieu</td>\n",
       "      <td>Bachelor</td>\n",
       "      <td>4</td>\n",
       "      <td>2008</td>\n",
       "      <td>2009</td>\n",
       "    </tr>\n",
       "    <tr>\n",
       "      <th>169731</th>\n",
       "      <td>Monsieur</td>\n",
       "      <td>Knecht Mathieu</td>\n",
       "      <td>Bachelor</td>\n",
       "      <td>3</td>\n",
       "      <td>2009</td>\n",
       "      <td>2010</td>\n",
       "    </tr>\n",
       "    <tr>\n",
       "      <th>169731</th>\n",
       "      <td>Monsieur</td>\n",
       "      <td>Knecht Mathieu</td>\n",
       "      <td>Bachelor</td>\n",
       "      <td>4</td>\n",
       "      <td>2009</td>\n",
       "      <td>2010</td>\n",
       "    </tr>\n",
       "    <tr>\n",
       "      <th>169731</th>\n",
       "      <td>Monsieur</td>\n",
       "      <td>Knecht Mathieu</td>\n",
       "      <td>Bachelor</td>\n",
       "      <td>6</td>\n",
       "      <td>2010</td>\n",
       "      <td>2011</td>\n",
       "    </tr>\n",
       "    <tr>\n",
       "      <th>169731</th>\n",
       "      <td>Monsieur</td>\n",
       "      <td>Knecht Mathieu</td>\n",
       "      <td>Bachelor</td>\n",
       "      <td>1</td>\n",
       "      <td>2007</td>\n",
       "      <td>2008</td>\n",
       "    </tr>\n",
       "    <tr>\n",
       "      <th>169731</th>\n",
       "      <td>Monsieur</td>\n",
       "      <td>Knecht Mathieu</td>\n",
       "      <td>Bachelor</td>\n",
       "      <td>2</td>\n",
       "      <td>2007</td>\n",
       "      <td>2008</td>\n",
       "    </tr>\n",
       "  </tbody>\n",
       "</table>\n",
       "</div>"
      ],
      "text/plain": [
       "           title               name    degree  semester  start_year  end_year\n",
       "sciper                                                                       \n",
       "147008  Monsieur        Good Xavier  Bachelor         4        2009      2010\n",
       "147008  Monsieur        Good Xavier  Bachelor         1        2008      2009\n",
       "147008  Monsieur        Good Xavier  Bachelor         2        2008      2009\n",
       "147008  Monsieur        Good Xavier  Bachelor         3        2009      2010\n",
       "147008  Monsieur        Good Xavier  Bachelor         6        2010      2011\n",
       "147008  Monsieur        Good Xavier  Bachelor         5        2010      2011\n",
       "169569  Monsieur  Arévalo Christian  Bachelor         3        2008      2009\n",
       "169569  Monsieur  Arévalo Christian  Bachelor         4        2008      2009\n",
       "169569  Monsieur  Arévalo Christian  Bachelor         2        2007      2008\n",
       "169569  Monsieur  Arévalo Christian  Bachelor         5        2009      2010\n",
       "169569  Monsieur  Arévalo Christian  Bachelor         6        2009      2010\n",
       "169569  Monsieur  Arévalo Christian  Bachelor         1        2007      2008\n",
       "169731  Monsieur     Knecht Mathieu  Bachelor         5        2010      2011\n",
       "169731  Monsieur     Knecht Mathieu  Bachelor         3        2008      2009\n",
       "169731  Monsieur     Knecht Mathieu  Bachelor         4        2008      2009\n",
       "169731  Monsieur     Knecht Mathieu  Bachelor         3        2009      2010\n",
       "169731  Monsieur     Knecht Mathieu  Bachelor         4        2009      2010\n",
       "169731  Monsieur     Knecht Mathieu  Bachelor         6        2010      2011\n",
       "169731  Monsieur     Knecht Mathieu  Bachelor         1        2007      2008\n",
       "169731  Monsieur     Knecht Mathieu  Bachelor         2        2007      2008"
      ]
     },
     "execution_count": 34,
     "metadata": {},
     "output_type": "execute_result"
    }
   ],
   "source": [
    "##\n",
    "# Filter the list of Bachelor students to keep only those with entries\n",
    "# at semesters 1 and 6\n",
    "# \n",
    "# @param  bsc_data -- the Bachelor student records\n",
    "# @return the filtered list of students who have completed their Bachelor\n",
    "#\n",
    "def filter_bsc_students(bsc_data):\n",
    "    bsc_students = bsc_data[bsc_data['degree'] == 'Bachelor']\n",
    "    idx1 = set(bsc_students[bsc_students['semester'] == 1].set_index('sciper').index)\n",
    "    idx6 = set(bsc_students[bsc_students['semester'] == 6].set_index('sciper').index)\n",
    "\n",
    "    idx = idx1.intersection(idx6)\n",
    "\n",
    "    return bsc_students[bsc_students['sciper'].isin(idx)].set_index('sciper').sort_index()\n",
    "\n",
    "bsc = filter_bsc_students(bsc_data)\n",
    "bsc.head(20)"
   ]
  },
  {
   "cell_type": "markdown",
   "metadata": {},
   "source": [
    "We now compute the number a semester each student did, and add it as a column.\n",
    "We do so by computing the number of rows we have per student (TODO: Ensure we don't have duplicated rows)"
   ]
  },
  {
   "cell_type": "code",
   "execution_count": 35,
   "metadata": {
    "collapsed": false
   },
   "outputs": [
    {
     "data": {
      "text/html": [
       "<div>\n",
       "<table border=\"1\" class=\"dataframe\">\n",
       "  <thead>\n",
       "    <tr style=\"text-align: right;\">\n",
       "      <th></th>\n",
       "      <th>title</th>\n",
       "      <th>name</th>\n",
       "      <th>degree</th>\n",
       "      <th>semester</th>\n",
       "      <th>start_year</th>\n",
       "      <th>end_year</th>\n",
       "      <th>semester_count</th>\n",
       "    </tr>\n",
       "    <tr>\n",
       "      <th>sciper</th>\n",
       "      <th></th>\n",
       "      <th></th>\n",
       "      <th></th>\n",
       "      <th></th>\n",
       "      <th></th>\n",
       "      <th></th>\n",
       "      <th></th>\n",
       "    </tr>\n",
       "  </thead>\n",
       "  <tbody>\n",
       "    <tr>\n",
       "      <th>147008</th>\n",
       "      <td>Monsieur</td>\n",
       "      <td>Good Xavier</td>\n",
       "      <td>Bachelor</td>\n",
       "      <td>4</td>\n",
       "      <td>2009</td>\n",
       "      <td>2010</td>\n",
       "      <td>6</td>\n",
       "    </tr>\n",
       "    <tr>\n",
       "      <th>147008</th>\n",
       "      <td>Monsieur</td>\n",
       "      <td>Good Xavier</td>\n",
       "      <td>Bachelor</td>\n",
       "      <td>1</td>\n",
       "      <td>2008</td>\n",
       "      <td>2009</td>\n",
       "      <td>6</td>\n",
       "    </tr>\n",
       "    <tr>\n",
       "      <th>147008</th>\n",
       "      <td>Monsieur</td>\n",
       "      <td>Good Xavier</td>\n",
       "      <td>Bachelor</td>\n",
       "      <td>2</td>\n",
       "      <td>2008</td>\n",
       "      <td>2009</td>\n",
       "      <td>6</td>\n",
       "    </tr>\n",
       "    <tr>\n",
       "      <th>147008</th>\n",
       "      <td>Monsieur</td>\n",
       "      <td>Good Xavier</td>\n",
       "      <td>Bachelor</td>\n",
       "      <td>3</td>\n",
       "      <td>2009</td>\n",
       "      <td>2010</td>\n",
       "      <td>6</td>\n",
       "    </tr>\n",
       "    <tr>\n",
       "      <th>147008</th>\n",
       "      <td>Monsieur</td>\n",
       "      <td>Good Xavier</td>\n",
       "      <td>Bachelor</td>\n",
       "      <td>6</td>\n",
       "      <td>2010</td>\n",
       "      <td>2011</td>\n",
       "      <td>6</td>\n",
       "    </tr>\n",
       "    <tr>\n",
       "      <th>147008</th>\n",
       "      <td>Monsieur</td>\n",
       "      <td>Good Xavier</td>\n",
       "      <td>Bachelor</td>\n",
       "      <td>5</td>\n",
       "      <td>2010</td>\n",
       "      <td>2011</td>\n",
       "      <td>6</td>\n",
       "    </tr>\n",
       "    <tr>\n",
       "      <th>169569</th>\n",
       "      <td>Monsieur</td>\n",
       "      <td>Arévalo Christian</td>\n",
       "      <td>Bachelor</td>\n",
       "      <td>3</td>\n",
       "      <td>2008</td>\n",
       "      <td>2009</td>\n",
       "      <td>6</td>\n",
       "    </tr>\n",
       "    <tr>\n",
       "      <th>169569</th>\n",
       "      <td>Monsieur</td>\n",
       "      <td>Arévalo Christian</td>\n",
       "      <td>Bachelor</td>\n",
       "      <td>4</td>\n",
       "      <td>2008</td>\n",
       "      <td>2009</td>\n",
       "      <td>6</td>\n",
       "    </tr>\n",
       "    <tr>\n",
       "      <th>169569</th>\n",
       "      <td>Monsieur</td>\n",
       "      <td>Arévalo Christian</td>\n",
       "      <td>Bachelor</td>\n",
       "      <td>2</td>\n",
       "      <td>2007</td>\n",
       "      <td>2008</td>\n",
       "      <td>6</td>\n",
       "    </tr>\n",
       "    <tr>\n",
       "      <th>169569</th>\n",
       "      <td>Monsieur</td>\n",
       "      <td>Arévalo Christian</td>\n",
       "      <td>Bachelor</td>\n",
       "      <td>5</td>\n",
       "      <td>2009</td>\n",
       "      <td>2010</td>\n",
       "      <td>6</td>\n",
       "    </tr>\n",
       "    <tr>\n",
       "      <th>169569</th>\n",
       "      <td>Monsieur</td>\n",
       "      <td>Arévalo Christian</td>\n",
       "      <td>Bachelor</td>\n",
       "      <td>6</td>\n",
       "      <td>2009</td>\n",
       "      <td>2010</td>\n",
       "      <td>6</td>\n",
       "    </tr>\n",
       "    <tr>\n",
       "      <th>169569</th>\n",
       "      <td>Monsieur</td>\n",
       "      <td>Arévalo Christian</td>\n",
       "      <td>Bachelor</td>\n",
       "      <td>1</td>\n",
       "      <td>2007</td>\n",
       "      <td>2008</td>\n",
       "      <td>6</td>\n",
       "    </tr>\n",
       "    <tr>\n",
       "      <th>169731</th>\n",
       "      <td>Monsieur</td>\n",
       "      <td>Knecht Mathieu</td>\n",
       "      <td>Bachelor</td>\n",
       "      <td>5</td>\n",
       "      <td>2010</td>\n",
       "      <td>2011</td>\n",
       "      <td>8</td>\n",
       "    </tr>\n",
       "    <tr>\n",
       "      <th>169731</th>\n",
       "      <td>Monsieur</td>\n",
       "      <td>Knecht Mathieu</td>\n",
       "      <td>Bachelor</td>\n",
       "      <td>3</td>\n",
       "      <td>2008</td>\n",
       "      <td>2009</td>\n",
       "      <td>8</td>\n",
       "    </tr>\n",
       "    <tr>\n",
       "      <th>169731</th>\n",
       "      <td>Monsieur</td>\n",
       "      <td>Knecht Mathieu</td>\n",
       "      <td>Bachelor</td>\n",
       "      <td>4</td>\n",
       "      <td>2008</td>\n",
       "      <td>2009</td>\n",
       "      <td>8</td>\n",
       "    </tr>\n",
       "    <tr>\n",
       "      <th>169731</th>\n",
       "      <td>Monsieur</td>\n",
       "      <td>Knecht Mathieu</td>\n",
       "      <td>Bachelor</td>\n",
       "      <td>3</td>\n",
       "      <td>2009</td>\n",
       "      <td>2010</td>\n",
       "      <td>8</td>\n",
       "    </tr>\n",
       "    <tr>\n",
       "      <th>169731</th>\n",
       "      <td>Monsieur</td>\n",
       "      <td>Knecht Mathieu</td>\n",
       "      <td>Bachelor</td>\n",
       "      <td>4</td>\n",
       "      <td>2009</td>\n",
       "      <td>2010</td>\n",
       "      <td>8</td>\n",
       "    </tr>\n",
       "    <tr>\n",
       "      <th>169731</th>\n",
       "      <td>Monsieur</td>\n",
       "      <td>Knecht Mathieu</td>\n",
       "      <td>Bachelor</td>\n",
       "      <td>6</td>\n",
       "      <td>2010</td>\n",
       "      <td>2011</td>\n",
       "      <td>8</td>\n",
       "    </tr>\n",
       "    <tr>\n",
       "      <th>169731</th>\n",
       "      <td>Monsieur</td>\n",
       "      <td>Knecht Mathieu</td>\n",
       "      <td>Bachelor</td>\n",
       "      <td>1</td>\n",
       "      <td>2007</td>\n",
       "      <td>2008</td>\n",
       "      <td>8</td>\n",
       "    </tr>\n",
       "    <tr>\n",
       "      <th>169731</th>\n",
       "      <td>Monsieur</td>\n",
       "      <td>Knecht Mathieu</td>\n",
       "      <td>Bachelor</td>\n",
       "      <td>2</td>\n",
       "      <td>2007</td>\n",
       "      <td>2008</td>\n",
       "      <td>8</td>\n",
       "    </tr>\n",
       "  </tbody>\n",
       "</table>\n",
       "</div>"
      ],
      "text/plain": [
       "           title               name    degree  semester  start_year  end_year  \\\n",
       "sciper                                                                          \n",
       "147008  Monsieur        Good Xavier  Bachelor         4        2009      2010   \n",
       "147008  Monsieur        Good Xavier  Bachelor         1        2008      2009   \n",
       "147008  Monsieur        Good Xavier  Bachelor         2        2008      2009   \n",
       "147008  Monsieur        Good Xavier  Bachelor         3        2009      2010   \n",
       "147008  Monsieur        Good Xavier  Bachelor         6        2010      2011   \n",
       "147008  Monsieur        Good Xavier  Bachelor         5        2010      2011   \n",
       "169569  Monsieur  Arévalo Christian  Bachelor         3        2008      2009   \n",
       "169569  Monsieur  Arévalo Christian  Bachelor         4        2008      2009   \n",
       "169569  Monsieur  Arévalo Christian  Bachelor         2        2007      2008   \n",
       "169569  Monsieur  Arévalo Christian  Bachelor         5        2009      2010   \n",
       "169569  Monsieur  Arévalo Christian  Bachelor         6        2009      2010   \n",
       "169569  Monsieur  Arévalo Christian  Bachelor         1        2007      2008   \n",
       "169731  Monsieur     Knecht Mathieu  Bachelor         5        2010      2011   \n",
       "169731  Monsieur     Knecht Mathieu  Bachelor         3        2008      2009   \n",
       "169731  Monsieur     Knecht Mathieu  Bachelor         4        2008      2009   \n",
       "169731  Monsieur     Knecht Mathieu  Bachelor         3        2009      2010   \n",
       "169731  Monsieur     Knecht Mathieu  Bachelor         4        2009      2010   \n",
       "169731  Monsieur     Knecht Mathieu  Bachelor         6        2010      2011   \n",
       "169731  Monsieur     Knecht Mathieu  Bachelor         1        2007      2008   \n",
       "169731  Monsieur     Knecht Mathieu  Bachelor         2        2007      2008   \n",
       "\n",
       "        semester_count  \n",
       "sciper                  \n",
       "147008               6  \n",
       "147008               6  \n",
       "147008               6  \n",
       "147008               6  \n",
       "147008               6  \n",
       "147008               6  \n",
       "169569               6  \n",
       "169569               6  \n",
       "169569               6  \n",
       "169569               6  \n",
       "169569               6  \n",
       "169569               6  \n",
       "169731               8  \n",
       "169731               8  \n",
       "169731               8  \n",
       "169731               8  \n",
       "169731               8  \n",
       "169731               8  \n",
       "169731               8  \n",
       "169731               8  "
      ]
     },
     "execution_count": 35,
     "metadata": {},
     "output_type": "execute_result"
    }
   ],
   "source": [
    "##\n",
    "# Add a column to the student records to have the number of semesters they spent at EPFL\n",
    "#\n",
    "# @param  bsc -- the records\n",
    "# @return bsc with an extra column : the number of semesters it took the student to complete their bachelor\n",
    "#\n",
    "def add_semesters_count(bsc):\n",
    "    cols = ['sciper', 'semester']\n",
    "    semester_count = bsc.reset_index()[cols].groupby('sciper').count().rename(columns={'semester': 'semester_count'})\n",
    "    return bsc.merge(semester_count, left_index=True, right_index=True)\n",
    "    \n",
    "bsc_with_count = add_semesters_count(bsc)\n",
    "bsc_with_count.head(20)"
   ]
  },
  {
   "cell_type": "markdown",
   "metadata": {},
   "source": [
    "We now group rows by SCIPER, to only get one row per student. Since we're only interested in the SCIPER, name, and semster count, which are identical for all rows concerning a given student, we can safely take the first row per student."
   ]
  },
  {
   "cell_type": "code",
   "execution_count": 36,
   "metadata": {
    "collapsed": false
   },
   "outputs": [
    {
     "data": {
      "text/html": [
       "<div>\n",
       "<table border=\"1\" class=\"dataframe\">\n",
       "  <thead>\n",
       "    <tr style=\"text-align: right;\">\n",
       "      <th></th>\n",
       "      <th>title</th>\n",
       "      <th>name</th>\n",
       "      <th>semester_count</th>\n",
       "    </tr>\n",
       "    <tr>\n",
       "      <th>sciper</th>\n",
       "      <th></th>\n",
       "      <th></th>\n",
       "      <th></th>\n",
       "    </tr>\n",
       "  </thead>\n",
       "  <tbody>\n",
       "    <tr>\n",
       "      <th>186188</th>\n",
       "      <td>Monsieur</td>\n",
       "      <td>Widmer Florian</td>\n",
       "      <td>6</td>\n",
       "    </tr>\n",
       "    <tr>\n",
       "      <th>195899</th>\n",
       "      <td>Monsieur</td>\n",
       "      <td>Scarnera Gianni</td>\n",
       "      <td>8</td>\n",
       "    </tr>\n",
       "    <tr>\n",
       "      <th>227209</th>\n",
       "      <td>Monsieur</td>\n",
       "      <td>Brousse Cyriaque Gilles Guillaume</td>\n",
       "      <td>7</td>\n",
       "    </tr>\n",
       "    <tr>\n",
       "      <th>178287</th>\n",
       "      <td>Monsieur</td>\n",
       "      <td>Cressier Gilles</td>\n",
       "      <td>6</td>\n",
       "    </tr>\n",
       "    <tr>\n",
       "      <th>216778</th>\n",
       "      <td>Madame</td>\n",
       "      <td>Henrioux Manon</td>\n",
       "      <td>6</td>\n",
       "    </tr>\n",
       "    <tr>\n",
       "      <th>226312</th>\n",
       "      <td>Monsieur</td>\n",
       "      <td>Bordenca Tobias</td>\n",
       "      <td>8</td>\n",
       "    </tr>\n",
       "    <tr>\n",
       "      <th>175280</th>\n",
       "      <td>Monsieur</td>\n",
       "      <td>Uberti Quentin</td>\n",
       "      <td>8</td>\n",
       "    </tr>\n",
       "    <tr>\n",
       "      <th>218353</th>\n",
       "      <td>Monsieur</td>\n",
       "      <td>Favrod Philémon Orphée</td>\n",
       "      <td>6</td>\n",
       "    </tr>\n",
       "    <tr>\n",
       "      <th>184342</th>\n",
       "      <td>Monsieur</td>\n",
       "      <td>Zimmermann Marc</td>\n",
       "      <td>6</td>\n",
       "    </tr>\n",
       "    <tr>\n",
       "      <th>178706</th>\n",
       "      <td>Madame</td>\n",
       "      <td>Falbriard Stéphanie</td>\n",
       "      <td>6</td>\n",
       "    </tr>\n",
       "  </tbody>\n",
       "</table>\n",
       "</div>"
      ],
      "text/plain": [
       "           title                               name  semester_count\n",
       "sciper                                                             \n",
       "186188  Monsieur                     Widmer Florian               6\n",
       "195899  Monsieur                    Scarnera Gianni               8\n",
       "227209  Monsieur  Brousse Cyriaque Gilles Guillaume               7\n",
       "178287  Monsieur                    Cressier Gilles               6\n",
       "216778    Madame                     Henrioux Manon               6\n",
       "226312  Monsieur                    Bordenca Tobias               8\n",
       "175280  Monsieur                     Uberti Quentin               8\n",
       "218353  Monsieur             Favrod Philémon Orphée               6\n",
       "184342  Monsieur                    Zimmermann Marc               6\n",
       "178706    Madame                Falbriard Stéphanie               6"
      ]
     },
     "execution_count": 36,
     "metadata": {},
     "output_type": "execute_result"
    }
   ],
   "source": [
    "bsc_agg = bsc_with_count[['title', 'name', 'semester_count']].reset_index().groupby('sciper').agg('first')\n",
    "bsc_agg.sample(10)"
   ]
  },
  {
   "cell_type": "markdown",
   "metadata": {},
   "source": [
    "Let's now filter students who did less than 6 semesters, as those either haven't completed their BSc\n",
    "or are outliers who switched sections or something else."
   ]
  },
  {
   "cell_type": "code",
   "execution_count": 37,
   "metadata": {
    "collapsed": false
   },
   "outputs": [
    {
     "data": {
      "text/plain": [
       "1"
      ]
     },
     "execution_count": 37,
     "metadata": {},
     "output_type": "execute_result"
    }
   ],
   "source": [
    "len(bsc_agg[bsc_agg['semester_count'] < 6])"
   ]
  },
  {
   "cell_type": "code",
   "execution_count": 38,
   "metadata": {
    "collapsed": false
   },
   "outputs": [
    {
     "data": {
      "text/html": [
       "<div>\n",
       "<table border=\"1\" class=\"dataframe\">\n",
       "  <thead>\n",
       "    <tr style=\"text-align: right;\">\n",
       "      <th></th>\n",
       "      <th>semester_count</th>\n",
       "    </tr>\n",
       "  </thead>\n",
       "  <tbody>\n",
       "    <tr>\n",
       "      <th>count</th>\n",
       "      <td>396.000000</td>\n",
       "    </tr>\n",
       "    <tr>\n",
       "      <th>mean</th>\n",
       "      <td>7.090909</td>\n",
       "    </tr>\n",
       "    <tr>\n",
       "      <th>std</th>\n",
       "      <td>1.518433</td>\n",
       "    </tr>\n",
       "    <tr>\n",
       "      <th>min</th>\n",
       "      <td>6.000000</td>\n",
       "    </tr>\n",
       "    <tr>\n",
       "      <th>25%</th>\n",
       "      <td>6.000000</td>\n",
       "    </tr>\n",
       "    <tr>\n",
       "      <th>50%</th>\n",
       "      <td>6.000000</td>\n",
       "    </tr>\n",
       "    <tr>\n",
       "      <th>75%</th>\n",
       "      <td>8.000000</td>\n",
       "    </tr>\n",
       "    <tr>\n",
       "      <th>max</th>\n",
       "      <td>12.000000</td>\n",
       "    </tr>\n",
       "  </tbody>\n",
       "</table>\n",
       "</div>"
      ],
      "text/plain": [
       "       semester_count\n",
       "count      396.000000\n",
       "mean         7.090909\n",
       "std          1.518433\n",
       "min          6.000000\n",
       "25%          6.000000\n",
       "50%          6.000000\n",
       "75%          8.000000\n",
       "max         12.000000"
      ]
     },
     "execution_count": 38,
     "metadata": {},
     "output_type": "execute_result"
    }
   ],
   "source": [
    "bsc_agg_filtered = bsc_agg[bsc_agg['semester_count'] >= 6]\n",
    "bsc_agg_filtered.describe()"
   ]
  },
  {
   "cell_type": "code",
   "execution_count": 39,
   "metadata": {
    "collapsed": false
   },
   "outputs": [
    {
     "data": {
      "text/plain": [
       "title          \n",
       "Madame    count     29.000000\n",
       "          mean       6.793103\n",
       "          std        1.346406\n",
       "          min        6.000000\n",
       "          25%        6.000000\n",
       "          50%        6.000000\n",
       "          75%        8.000000\n",
       "          max       11.000000\n",
       "Monsieur  count    368.000000\n",
       "          mean       7.105978\n",
       "          std        1.536891\n",
       "          min        4.000000\n",
       "          25%        6.000000\n",
       "          50%        6.000000\n",
       "          75%        8.000000\n",
       "          max       12.000000\n",
       "Name: semester_count, dtype: float64"
      ]
     },
     "execution_count": 39,
     "metadata": {},
     "output_type": "execute_result"
    }
   ],
   "source": [
    "by_title = bsc_agg.groupby('title')\n",
    "by_title['semester_count'].describe()"
   ]
  },
  {
   "cell_type": "markdown",
   "metadata": {},
   "source": [
    "### Testing the average duration between male (M) and female (F) students"
   ]
  },
  {
   "cell_type": "code",
   "execution_count": 40,
   "metadata": {
    "collapsed": true
   },
   "outputs": [],
   "source": [
    "# Import stats lib for t-test\n",
    "from scipy import stats"
   ]
  },
  {
   "cell_type": "markdown",
   "metadata": {},
   "source": [
    "Let us start by grouping the values into male (M) and female (F) groups"
   ]
  },
  {
   "cell_type": "code",
   "execution_count": 41,
   "metadata": {
    "collapsed": true
   },
   "outputs": [],
   "source": [
    "M = by_title.get_group('Monsieur')['semester_count']\n",
    "F = by_title.get_group('Madame')['semester_count']"
   ]
  },
  {
   "cell_type": "markdown",
   "metadata": {},
   "source": [
    "The mean values are given by:"
   ]
  },
  {
   "cell_type": "code",
   "execution_count": 42,
   "metadata": {
    "collapsed": false
   },
   "outputs": [
    {
     "name": "stdout",
     "output_type": "stream",
     "text": [
      "Mean duration for male students = 7.105978260869565\n",
      "Mean duration for female students = 6.793103448275862\n"
     ]
    }
   ],
   "source": [
    "print('Mean duration for male students = {}'.format(M.mean()))\n",
    "print('Mean duration for female students = {}'.format(F.mean()))"
   ]
  },
  {
   "cell_type": "markdown",
   "metadata": {},
   "source": [
    "Though through intuitively we would conclude that the duration is not the same on average, we will conduct a t-test to prove the null hypothesis H0 :\n",
    "\n",
    "> **H0** -- The mean duration for male and female students is the same\n",
    "\n",
    "To test this hypothesis we will use **Welch's t-test**, which is a Student t-test for data with different variances. Welch’s t-test does not pool the standard deviations, but divides the variance in each group by the size of that group. We will have a two-tailed t-test since means can be higher or lower if the null hypothesis is disproved."
   ]
  },
  {
   "cell_type": "code",
   "execution_count": 43,
   "metadata": {
    "collapsed": false
   },
   "outputs": [
    {
     "name": "stdout",
     "output_type": "stream",
     "text": [
      "M var = 2.362035007700522, F var = 1.8128078817733981, delta = 0.549227125927124\n",
      "We find a statistic t = 1.191705695448116, with a p-value = 0.24162457057331926\n"
     ]
    }
   ],
   "source": [
    "# Check that the variances are not equal (justifying Welch's t-test)\n",
    "delta_variance = abs(M.var() - F.var())\n",
    "\n",
    "# Under this tolerance the difference is not significative\n",
    "tol = 1e-6\n",
    "\n",
    "print('M var = {}, F var = {}, delta = {}'.format(M.var(), F.var(), delta_variance))\n",
    "\n",
    "(t_statistic, p_value) = stats.ttest_ind(M, F, equal_var = delta_variance < tol)\n",
    "\n",
    "print('We find a statistic t = {}, with a p-value = {}'.format(t_statistic, p_value))"
   ]
  },
  {
   "cell_type": "markdown",
   "metadata": {},
   "source": [
    "We have found a high p-value (almost 25%) which means we can validate the null hypothesis and conclude that \n",
    "**there is no statistically significant difference between the average duration of bachelor study between males and females**."
   ]
  },
  {
   "cell_type": "markdown",
   "metadata": {},
   "source": [
    "### Question 2\n",
    "\n",
    "> Perform a similar operation to what described above, this time for Master students. Notice that this data is more tricky, as there are many missing records in the IS-Academia database. Therefore, try to guess how much time a master student spent at EPFL by at least checking the distance in months between Master semestre 1 and Master semestre 2. If the Mineur field is not empty, the student should also appear registered in Master semestre 3. Last but not the least, don't forget to check if the student has an entry also in the Projet Master tables. Once you can handle well this data, compute the \"average stay at EPFL\" for master students. Now extract all the students with a Spécialisation and compute the \"average stay\" per each category of that attribute -- compared to the general average, can you find any specialization for which the difference in average is statistically significant?"
   ]
  },
  {
   "cell_type": "code",
   "execution_count": 44,
   "metadata": {
    "collapsed": false
   },
   "outputs": [],
   "source": [
    "## \n",
    "# Repeat the previous procedure of loading records for Bachelor students,\n",
    "# this time for Master students. We will also rename the columns for easier\n",
    "# consumption\n",
    "#\n",
    "# @param  data -- The student data\n",
    "# @return a dataframe containing the Master students records\n",
    "#\n",
    "def load_msc_data(data):\n",
    "    cols = [\n",
    "        'Civilité', 'No Sciper', 'Nom Prénom', 'Statut',\n",
    "        'Spécialisation', 'Mineur',\n",
    "        'degree', 'semester', 'end_year', 'start_year'\n",
    "    ]\n",
    "    rename = {\n",
    "        'Civilité': 'title',\n",
    "        'No Sciper': 'sciper',\n",
    "        'Nom Prénom': 'name',\n",
    "        'Statut': 'status',\n",
    "        'Spécialisation': 'specialisation',\n",
    "        'Mineur': 'minor'\n",
    "    }\n",
    "    \n",
    "    return students_data[cols].rename(columns=rename)\n",
    "    \n",
    "msc_data = load_msc_data(students_data)\n",
    "\n",
    "##\n",
    "# Filter the students list to retrieve only Master students and the semesters they\n",
    "# spent at EPFL\n",
    "# \n",
    "# @param  students_data -- The students record\n",
    "# @return the masters student data\n",
    "#\n",
    "def filter_msc_students(students_data):\n",
    "    return students_data[(students_data['degree'] == 'Master') & (students_data['status'] == 'Présent')]\n",
    "\n",
    "msc = filter_msc_students(msc_data).set_index('sciper').sort_index()"
   ]
  },
  {
   "cell_type": "code",
   "execution_count": 45,
   "metadata": {
    "collapsed": false
   },
   "outputs": [
    {
     "data": {
      "text/html": [
       "<div>\n",
       "<table border=\"1\" class=\"dataframe\">\n",
       "  <thead>\n",
       "    <tr style=\"text-align: right;\">\n",
       "      <th></th>\n",
       "      <th>title</th>\n",
       "      <th>name</th>\n",
       "      <th>status</th>\n",
       "      <th>specialisation</th>\n",
       "      <th>minor</th>\n",
       "      <th>degree</th>\n",
       "      <th>semester</th>\n",
       "      <th>end_year</th>\n",
       "      <th>start_year</th>\n",
       "      <th>semester_count</th>\n",
       "    </tr>\n",
       "    <tr>\n",
       "      <th>sciper</th>\n",
       "      <th></th>\n",
       "      <th></th>\n",
       "      <th></th>\n",
       "      <th></th>\n",
       "      <th></th>\n",
       "      <th></th>\n",
       "      <th></th>\n",
       "      <th></th>\n",
       "      <th></th>\n",
       "      <th></th>\n",
       "    </tr>\n",
       "  </thead>\n",
       "  <tbody>\n",
       "    <tr>\n",
       "      <th>210271</th>\n",
       "      <td>Monsieur</td>\n",
       "      <td>Zhang Daiwei</td>\n",
       "      <td>Présent</td>\n",
       "      <td></td>\n",
       "      <td>Mineur en Management, technologie et entrepren...</td>\n",
       "      <td>Master</td>\n",
       "      <td>2</td>\n",
       "      <td>2012</td>\n",
       "      <td>2011</td>\n",
       "      <td>2</td>\n",
       "    </tr>\n",
       "    <tr>\n",
       "      <th>256612</th>\n",
       "      <td>Monsieur</td>\n",
       "      <td>Sympetheros Alexandros</td>\n",
       "      <td>Présent</td>\n",
       "      <td></td>\n",
       "      <td>Mineur en Management, technologie et entrepren...</td>\n",
       "      <td>Master</td>\n",
       "      <td>2</td>\n",
       "      <td>2016</td>\n",
       "      <td>2015</td>\n",
       "      <td>2</td>\n",
       "    </tr>\n",
       "    <tr>\n",
       "      <th>199294</th>\n",
       "      <td>Monsieur</td>\n",
       "      <td>Jin Xuedong</td>\n",
       "      <td>Présent</td>\n",
       "      <td></td>\n",
       "      <td>Mineur en Management, technologie et entrepren...</td>\n",
       "      <td>Master</td>\n",
       "      <td>3</td>\n",
       "      <td>2012</td>\n",
       "      <td>2011</td>\n",
       "      <td>2</td>\n",
       "    </tr>\n",
       "    <tr>\n",
       "      <th>233800</th>\n",
       "      <td>Monsieur</td>\n",
       "      <td>Mrini Khalil</td>\n",
       "      <td>Présent</td>\n",
       "      <td></td>\n",
       "      <td>Mineur STAS Chine</td>\n",
       "      <td>Master</td>\n",
       "      <td>1</td>\n",
       "      <td>2017</td>\n",
       "      <td>2016</td>\n",
       "      <td>1</td>\n",
       "    </tr>\n",
       "    <tr>\n",
       "      <th>160391</th>\n",
       "      <td>Monsieur</td>\n",
       "      <td>Chipounov Vitaly</td>\n",
       "      <td>Présent</td>\n",
       "      <td></td>\n",
       "      <td>Mineur en Management, technologie et entrepren...</td>\n",
       "      <td>Master</td>\n",
       "      <td>3</td>\n",
       "      <td>2008</td>\n",
       "      <td>2007</td>\n",
       "      <td>1</td>\n",
       "    </tr>\n",
       "  </tbody>\n",
       "</table>\n",
       "</div>"
      ],
      "text/plain": [
       "           title                    name   status specialisation  \\\n",
       "sciper                                                             \n",
       "210271  Monsieur            Zhang Daiwei  Présent                  \n",
       "256612  Monsieur  Sympetheros Alexandros  Présent                  \n",
       "199294  Monsieur             Jin Xuedong  Présent                  \n",
       "233800  Monsieur            Mrini Khalil  Présent                  \n",
       "160391  Monsieur        Chipounov Vitaly  Présent                  \n",
       "\n",
       "                                                    minor  degree  semester  \\\n",
       "sciper                                                                        \n",
       "210271  Mineur en Management, technologie et entrepren...  Master         2   \n",
       "256612  Mineur en Management, technologie et entrepren...  Master         2   \n",
       "199294  Mineur en Management, technologie et entrepren...  Master         3   \n",
       "233800                                  Mineur STAS Chine  Master         1   \n",
       "160391  Mineur en Management, technologie et entrepren...  Master         3   \n",
       "\n",
       "        end_year  start_year  semester_count  \n",
       "sciper                                        \n",
       "210271      2012        2011               2  \n",
       "256612      2016        2015               2  \n",
       "199294      2012        2011               2  \n",
       "233800      2017        2016               1  \n",
       "160391      2008        2007               1  "
      ]
     },
     "execution_count": 45,
     "metadata": {},
     "output_type": "execute_result"
    }
   ],
   "source": [
    "msc_count = add_semesters_count(msc)\n",
    "msc_count[(msc_count['semester_count'] < 3) & (msc_count['minor'] != '')].sample(5)"
   ]
  },
  {
   "cell_type": "markdown",
   "metadata": {},
   "source": [
    "We now to only keep one row per student, and since we're only interested in either:\n",
    "\n",
    "- values that are the same in all rows (ie. sciper, name, semester count)\n",
    "- the value present in the row with the highest end year (ie. specialisation, minor)\n",
    "\n",
    "we can, for each student, order the rows per ```end_year``` and only keep the last of those rows."
   ]
  },
  {
   "cell_type": "code",
   "execution_count": 46,
   "metadata": {
    "collapsed": false
   },
   "outputs": [],
   "source": [
    "cols_to_keep = ['title', 'name', 'minor', 'specialisation', 'semester_count', 'end_year']\n",
    "msc_agg = msc_count[cols_to_keep].reset_index().sort_values('end_year').groupby('sciper').agg('last')"
   ]
  },
  {
   "cell_type": "code",
   "execution_count": 47,
   "metadata": {
    "collapsed": false
   },
   "outputs": [
    {
     "data": {
      "text/html": [
       "<div>\n",
       "<table border=\"1\" class=\"dataframe\">\n",
       "  <thead>\n",
       "    <tr style=\"text-align: right;\">\n",
       "      <th></th>\n",
       "      <th></th>\n",
       "      <th>end_year</th>\n",
       "      <th>semester_count</th>\n",
       "    </tr>\n",
       "    <tr>\n",
       "      <th>title</th>\n",
       "      <th></th>\n",
       "      <th></th>\n",
       "      <th></th>\n",
       "    </tr>\n",
       "  </thead>\n",
       "  <tbody>\n",
       "    <tr>\n",
       "      <th rowspan=\"8\" valign=\"top\">Madame</th>\n",
       "      <th>count</th>\n",
       "      <td>131.000000</td>\n",
       "      <td>131.000000</td>\n",
       "    </tr>\n",
       "    <tr>\n",
       "      <th>mean</th>\n",
       "      <td>2013.404580</td>\n",
       "      <td>2.503817</td>\n",
       "    </tr>\n",
       "    <tr>\n",
       "      <th>std</th>\n",
       "      <td>2.945084</td>\n",
       "      <td>1.098069</td>\n",
       "    </tr>\n",
       "    <tr>\n",
       "      <th>min</th>\n",
       "      <td>2008.000000</td>\n",
       "      <td>1.000000</td>\n",
       "    </tr>\n",
       "    <tr>\n",
       "      <th>25%</th>\n",
       "      <td>2012.000000</td>\n",
       "      <td>2.000000</td>\n",
       "    </tr>\n",
       "    <tr>\n",
       "      <th>50%</th>\n",
       "      <td>2014.000000</td>\n",
       "      <td>3.000000</td>\n",
       "    </tr>\n",
       "    <tr>\n",
       "      <th>75%</th>\n",
       "      <td>2016.000000</td>\n",
       "      <td>3.000000</td>\n",
       "    </tr>\n",
       "    <tr>\n",
       "      <th>max</th>\n",
       "      <td>2017.000000</td>\n",
       "      <td>7.000000</td>\n",
       "    </tr>\n",
       "    <tr>\n",
       "      <th rowspan=\"8\" valign=\"top\">Monsieur</th>\n",
       "      <th>count</th>\n",
       "      <td>834.000000</td>\n",
       "      <td>834.000000</td>\n",
       "    </tr>\n",
       "    <tr>\n",
       "      <th>mean</th>\n",
       "      <td>2013.496403</td>\n",
       "      <td>2.482014</td>\n",
       "    </tr>\n",
       "    <tr>\n",
       "      <th>std</th>\n",
       "      <td>3.034118</td>\n",
       "      <td>1.004330</td>\n",
       "    </tr>\n",
       "    <tr>\n",
       "      <th>min</th>\n",
       "      <td>2008.000000</td>\n",
       "      <td>1.000000</td>\n",
       "    </tr>\n",
       "    <tr>\n",
       "      <th>25%</th>\n",
       "      <td>2011.000000</td>\n",
       "      <td>2.000000</td>\n",
       "    </tr>\n",
       "    <tr>\n",
       "      <th>50%</th>\n",
       "      <td>2014.000000</td>\n",
       "      <td>3.000000</td>\n",
       "    </tr>\n",
       "    <tr>\n",
       "      <th>75%</th>\n",
       "      <td>2016.000000</td>\n",
       "      <td>3.000000</td>\n",
       "    </tr>\n",
       "    <tr>\n",
       "      <th>max</th>\n",
       "      <td>2017.000000</td>\n",
       "      <td>6.000000</td>\n",
       "    </tr>\n",
       "  </tbody>\n",
       "</table>\n",
       "</div>"
      ],
      "text/plain": [
       "                   end_year  semester_count\n",
       "title                                      \n",
       "Madame   count   131.000000      131.000000\n",
       "         mean   2013.404580        2.503817\n",
       "         std       2.945084        1.098069\n",
       "         min    2008.000000        1.000000\n",
       "         25%    2012.000000        2.000000\n",
       "         50%    2014.000000        3.000000\n",
       "         75%    2016.000000        3.000000\n",
       "         max    2017.000000        7.000000\n",
       "Monsieur count   834.000000      834.000000\n",
       "         mean   2013.496403        2.482014\n",
       "         std       3.034118        1.004330\n",
       "         min    2008.000000        1.000000\n",
       "         25%    2011.000000        2.000000\n",
       "         50%    2014.000000        3.000000\n",
       "         75%    2016.000000        3.000000\n",
       "         max    2017.000000        6.000000"
      ]
     },
     "execution_count": 47,
     "metadata": {},
     "output_type": "execute_result"
    }
   ],
   "source": [
    "msc_agg[msc_agg['semester_count'] >= 1].groupby('title').describe()"
   ]
  },
  {
   "cell_type": "markdown",
   "metadata": {
    "collapsed": true
   },
   "source": [
    "We now load all the data from the 'Master project' tables, hoping that it will provide us with reliable info on when a student successfully completed their degree. We indeed assume here that being registered for the Master project is a good indication that a student has passed all their classes, and got their degree after the project."
   ]
  },
  {
   "cell_type": "code",
   "execution_count": 48,
   "metadata": {
    "collapsed": false
   },
   "outputs": [],
   "source": [
    "parse_item_pdm_pattern = r\"\"\"Informatique,\\s*(?P<start_year>\\d+)-(?P<end_year>\\d+),\\s*Projet Master\\s+(?P<season>\\w+)\"\"\"\n",
    "parse_item_pdm_re = re.compile(parse_item_pdm_pattern)\n",
    "\n",
    "##\n",
    "# Extract information regarding degree, academic period and semester number from\n",
    "# the given string, according to the following format:\n",
    "#\n",
    "#     Informatique, [start year]-[end year], Projet Master [season]\n",
    "#\n",
    "# @param  item -- The item text itself\n",
    "# @param  onclick_text -- The text held in the 'onclick' attribute of the item <a> tag\n",
    "# @param  payload -- The payload used to query the page displaying the items list\n",
    "# @return An object/dict holding the extracted information and the URL params associated to corresponding page\n",
    "#\n",
    "def parse_item_pdm(item, onclick_text, payload):\n",
    "    match = re.match(parse_item_pdm_re, item)\n",
    "    \n",
    "    # The above regex will match only the kind of records we are interested in, so we can\n",
    "    # safely drop all the non-matching ones\n",
    "    if match == None:\n",
    "        return None\n",
    "    \n",
    "    kv_pair = extract_kv_pair(onclick_text)\n",
    "    \n",
    "    if kv_pair == None:\n",
    "        return None\n",
    "    \n",
    "    params = payload.copy()\n",
    "    params[kv_pair.key] = kv_pair.value\n",
    "    \n",
    "    return objdict({\n",
    "        'start_year': int(match.group('start_year')),\n",
    "        'end_year': int(match.group('end_year')),\n",
    "        'season': match.group('season'),\n",
    "        'params': params\n",
    "    })\n",
    "\n",
    "\n",
    "all_items_pdm = [parse_item_pdm(link.text, link.onclick_text, payload) for link in links]\n",
    "items_pdm = filter_items(all_items_pdm)"
   ]
  },
  {
   "cell_type": "code",
   "execution_count": 49,
   "metadata": {
    "collapsed": true
   },
   "outputs": [],
   "source": [
    "##\n",
    "# Parse a row of the table into a dictionary, keeping all cells,\n",
    "# and adding the information about the degree and semester.\n",
    "#\n",
    "# @param  tr -- A BeautifulSoup object for the row\n",
    "# @param  item -- The item associated with the page\n",
    "# @param  headers -- The list of headers of the table\n",
    "# @return An objdict holding the extracted informaton + season, start and end years\n",
    "#\n",
    "def parse_student_row_pdm(tr, item, headers):\n",
    "    tds = tr.find_all('td')\n",
    "    texts = [td.text for td in tds]\n",
    "    \n",
    "    res = {}\n",
    "    for i, header in enumerate(headers):\n",
    "        res[header] = texts[i]\n",
    "    \n",
    "    item_keys = ['season', 'start_year', 'end_year']\n",
    "    for key in item_keys:\n",
    "        res[key] = item[key]\n",
    "    \n",
    "    return objdict(res)"
   ]
  },
  {
   "cell_type": "code",
   "execution_count": 50,
   "metadata": {
    "collapsed": false
   },
   "outputs": [],
   "source": [
    "# Set this flag to False to load the data from ISA\n",
    "pdm_load_from_disk = True\n",
    "pdm_save_path = \"pdm_data.p\"\n",
    "\n",
    "if pdm_load_from_disk:\n",
    "    student_list_pdm = pickle.load(open(pdm_save_path, 'rb'))\n",
    "else:\n",
    "    pdm_students_pages = [load_student_page(item) for item in items_pdm]\n",
    "\n",
    "    students_lists_pdm = [\n",
    "        parse_students_list(page.soup, page.item) for page in pdm_students_pages\n",
    "    ]\n",
    "\n",
    "    student_list_pdm = flatten_list(students_lists_pdm) \n",
    "    \n",
    "    # Serialize the whole data to disk\n",
    "    pickle.dump(student_list_pdm, open(pdm_save_path, 'wb'))"
   ]
  },
  {
   "cell_type": "markdown",
   "metadata": {},
   "source": [
    "Load the fetched data into a pandas DataFrame and filter+rename the columns for easier subsequent manipulations:"
   ]
  },
  {
   "cell_type": "code",
   "execution_count": 51,
   "metadata": {
    "collapsed": false
   },
   "outputs": [
    {
     "data": {
      "text/plain": [
       "False"
      ]
     },
     "execution_count": 51,
     "metadata": {},
     "output_type": "execute_result"
    }
   ],
   "source": [
    "students_pdm_data = pd.DataFrame(student_list_pdm)\n",
    "\n",
    "##\n",
    "# Load the pdm data from the records\n",
    "#\n",
    "# @param  data -- The pdm data\n",
    "# @return a dataframe with the masters project records\n",
    "#\n",
    "def load_pdm_data(data):\n",
    "    pdm_data = students_pdm_data[['No Sciper', 'Civilité', 'Nom Prénom', 'Mineur', 'Statut', 'start_year', 'end_year','season']]\n",
    "    return pdm_data.rename(columns={'No Sciper': 'sciper', 'Civilité': 'title', 'Nom Prénom': 'name', 'Statut': 'status', 'Mineur': 'minor'})\n",
    "    \n",
    "pdm_data = load_pdm_data(students_pdm_data)\n",
    "\n",
    "pdm_data = pdm_data.set_index('sciper').sort_index()\n",
    "pdm_data.index.is_unique"
   ]
  },
  {
   "cell_type": "markdown",
   "metadata": {},
   "source": [
    "There are apparently duplicates entries, so let's see how many and what data they hold:"
   ]
  },
  {
   "cell_type": "code",
   "execution_count": 52,
   "metadata": {
    "collapsed": false
   },
   "outputs": [
    {
     "data": {
      "text/plain": [
       "['146742', '159852', '160213', '170235', '173527', '183605', '191471']"
      ]
     },
     "execution_count": 52,
     "metadata": {},
     "output_type": "execute_result"
    }
   ],
   "source": [
    "pdm_data.index.get_duplicates()"
   ]
  },
  {
   "cell_type": "code",
   "execution_count": 53,
   "metadata": {
    "collapsed": false
   },
   "outputs": [
    {
     "data": {
      "text/html": [
       "<div>\n",
       "<table border=\"1\" class=\"dataframe\">\n",
       "  <thead>\n",
       "    <tr style=\"text-align: right;\">\n",
       "      <th></th>\n",
       "      <th>sciper</th>\n",
       "      <th>title</th>\n",
       "      <th>name</th>\n",
       "      <th>minor</th>\n",
       "      <th>status</th>\n",
       "      <th>start_year</th>\n",
       "      <th>end_year</th>\n",
       "      <th>season</th>\n",
       "    </tr>\n",
       "  </thead>\n",
       "  <tbody>\n",
       "    <tr>\n",
       "      <th>1</th>\n",
       "      <td>146742</td>\n",
       "      <td>Monsieur</td>\n",
       "      <td>Marx Clément</td>\n",
       "      <td></td>\n",
       "      <td>Présent</td>\n",
       "      <td>2010</td>\n",
       "      <td>2011</td>\n",
       "      <td>automne</td>\n",
       "    </tr>\n",
       "    <tr>\n",
       "      <th>2</th>\n",
       "      <td>146742</td>\n",
       "      <td>Monsieur</td>\n",
       "      <td>Marx Clément</td>\n",
       "      <td></td>\n",
       "      <td>Congé</td>\n",
       "      <td>2010</td>\n",
       "      <td>2011</td>\n",
       "      <td>printemps</td>\n",
       "    </tr>\n",
       "    <tr>\n",
       "      <th>6</th>\n",
       "      <td>159852</td>\n",
       "      <td>Monsieur</td>\n",
       "      <td>Brutsche Florian</td>\n",
       "      <td></td>\n",
       "      <td>Congé</td>\n",
       "      <td>2007</td>\n",
       "      <td>2008</td>\n",
       "      <td>printemps</td>\n",
       "    </tr>\n",
       "    <tr>\n",
       "      <th>7</th>\n",
       "      <td>159852</td>\n",
       "      <td>Monsieur</td>\n",
       "      <td>Brutsche Florian</td>\n",
       "      <td></td>\n",
       "      <td>Congé</td>\n",
       "      <td>2008</td>\n",
       "      <td>2009</td>\n",
       "      <td>automne</td>\n",
       "    </tr>\n",
       "    <tr>\n",
       "      <th>9</th>\n",
       "      <td>160213</td>\n",
       "      <td>Monsieur</td>\n",
       "      <td>Bécholey Alexandre</td>\n",
       "      <td></td>\n",
       "      <td>Congé</td>\n",
       "      <td>2009</td>\n",
       "      <td>2010</td>\n",
       "      <td>printemps</td>\n",
       "    </tr>\n",
       "    <tr>\n",
       "      <th>10</th>\n",
       "      <td>160213</td>\n",
       "      <td>Monsieur</td>\n",
       "      <td>Bécholey Alexandre</td>\n",
       "      <td></td>\n",
       "      <td>Présent</td>\n",
       "      <td>2009</td>\n",
       "      <td>2010</td>\n",
       "      <td>automne</td>\n",
       "    </tr>\n",
       "    <tr>\n",
       "      <th>19</th>\n",
       "      <td>170235</td>\n",
       "      <td>Monsieur</td>\n",
       "      <td>Gruner Samuel</td>\n",
       "      <td></td>\n",
       "      <td>Congé</td>\n",
       "      <td>2011</td>\n",
       "      <td>2012</td>\n",
       "      <td>printemps</td>\n",
       "    </tr>\n",
       "    <tr>\n",
       "      <th>20</th>\n",
       "      <td>170235</td>\n",
       "      <td>Monsieur</td>\n",
       "      <td>Gruner Samuel</td>\n",
       "      <td></td>\n",
       "      <td>Présent</td>\n",
       "      <td>2012</td>\n",
       "      <td>2013</td>\n",
       "      <td>automne</td>\n",
       "    </tr>\n",
       "    <tr>\n",
       "      <th>29</th>\n",
       "      <td>173527</td>\n",
       "      <td>Monsieur</td>\n",
       "      <td>Stewart Conail</td>\n",
       "      <td></td>\n",
       "      <td>Présent</td>\n",
       "      <td>2007</td>\n",
       "      <td>2008</td>\n",
       "      <td>automne</td>\n",
       "    </tr>\n",
       "    <tr>\n",
       "      <th>30</th>\n",
       "      <td>173527</td>\n",
       "      <td>Monsieur</td>\n",
       "      <td>Stewart Conail</td>\n",
       "      <td></td>\n",
       "      <td>Présent</td>\n",
       "      <td>2007</td>\n",
       "      <td>2008</td>\n",
       "      <td>printemps</td>\n",
       "    </tr>\n",
       "    <tr>\n",
       "      <th>45</th>\n",
       "      <td>183605</td>\n",
       "      <td>Madame</td>\n",
       "      <td>Kostic Teodora</td>\n",
       "      <td></td>\n",
       "      <td>Présent</td>\n",
       "      <td>2009</td>\n",
       "      <td>2010</td>\n",
       "      <td>printemps</td>\n",
       "    </tr>\n",
       "    <tr>\n",
       "      <th>46</th>\n",
       "      <td>183605</td>\n",
       "      <td>Madame</td>\n",
       "      <td>Kostic Teodora</td>\n",
       "      <td></td>\n",
       "      <td>Présent</td>\n",
       "      <td>2009</td>\n",
       "      <td>2010</td>\n",
       "      <td>automne</td>\n",
       "    </tr>\n",
       "    <tr>\n",
       "      <th>53</th>\n",
       "      <td>191471</td>\n",
       "      <td>Monsieur</td>\n",
       "      <td>Brot Benoît</td>\n",
       "      <td></td>\n",
       "      <td>Congé</td>\n",
       "      <td>2010</td>\n",
       "      <td>2011</td>\n",
       "      <td>printemps</td>\n",
       "    </tr>\n",
       "    <tr>\n",
       "      <th>54</th>\n",
       "      <td>191471</td>\n",
       "      <td>Monsieur</td>\n",
       "      <td>Brot Benoît</td>\n",
       "      <td></td>\n",
       "      <td>Présent</td>\n",
       "      <td>2010</td>\n",
       "      <td>2011</td>\n",
       "      <td>automne</td>\n",
       "    </tr>\n",
       "  </tbody>\n",
       "</table>\n",
       "</div>"
      ],
      "text/plain": [
       "    sciper     title                name minor   status  start_year  end_year  \\\n",
       "1   146742  Monsieur        Marx Clément        Présent        2010      2011   \n",
       "2   146742  Monsieur        Marx Clément          Congé        2010      2011   \n",
       "6   159852  Monsieur    Brutsche Florian          Congé        2007      2008   \n",
       "7   159852  Monsieur    Brutsche Florian          Congé        2008      2009   \n",
       "9   160213  Monsieur  Bécholey Alexandre          Congé        2009      2010   \n",
       "10  160213  Monsieur  Bécholey Alexandre        Présent        2009      2010   \n",
       "19  170235  Monsieur       Gruner Samuel          Congé        2011      2012   \n",
       "20  170235  Monsieur       Gruner Samuel        Présent        2012      2013   \n",
       "29  173527  Monsieur      Stewart Conail        Présent        2007      2008   \n",
       "30  173527  Monsieur      Stewart Conail        Présent        2007      2008   \n",
       "45  183605    Madame      Kostic Teodora        Présent        2009      2010   \n",
       "46  183605    Madame      Kostic Teodora        Présent        2009      2010   \n",
       "53  191471  Monsieur         Brot Benoît          Congé        2010      2011   \n",
       "54  191471  Monsieur         Brot Benoît        Présent        2010      2011   \n",
       "\n",
       "       season  \n",
       "1     automne  \n",
       "2   printemps  \n",
       "6   printemps  \n",
       "7     automne  \n",
       "9   printemps  \n",
       "10    automne  \n",
       "19  printemps  \n",
       "20    automne  \n",
       "29    automne  \n",
       "30  printemps  \n",
       "45  printemps  \n",
       "46    automne  \n",
       "53  printemps  \n",
       "54    automne  "
      ]
     },
     "execution_count": 53,
     "metadata": {},
     "output_type": "execute_result"
    }
   ],
   "source": [
    "pdm_data.reset_index()[pdm_data.reset_index()['sciper'].isin(pdm_data.index.get_duplicates())]"
   ]
  },
  {
   "cell_type": "markdown",
   "metadata": {},
   "source": [
    "There are very few of those students, who did more than one semester for the Master project. This is not a problem for our purposes since we only care about the year they ended their project. We will thus only keep one row per student, the one with the highest end year."
   ]
  },
  {
   "cell_type": "code",
   "execution_count": 54,
   "metadata": {
    "collapsed": false
   },
   "outputs": [],
   "source": [
    "pdm_data_final = pdm_data.reset_index().sort_values('end_year').groupby('sciper').agg('last')\n",
    "\n",
    "msc_agg_pdm = msc_agg.sort_index()\n",
    "msc_agg_pdm[['status','start_year','end_year','season']] = pdm_data_final[['status','start_year','end_year','season']]\n",
    "msc_agg_pdm = msc_agg_pdm.fillna('').sort_index()"
   ]
  },
  {
   "cell_type": "code",
   "execution_count": 55,
   "metadata": {
    "collapsed": false
   },
   "outputs": [
    {
     "data": {
      "text/html": [
       "<div>\n",
       "<table border=\"1\" class=\"dataframe\">\n",
       "  <thead>\n",
       "    <tr style=\"text-align: right;\">\n",
       "      <th></th>\n",
       "      <th>title</th>\n",
       "      <th>name</th>\n",
       "      <th>minor</th>\n",
       "      <th>specialisation</th>\n",
       "      <th>semester_count</th>\n",
       "      <th>end_year</th>\n",
       "      <th>status</th>\n",
       "      <th>start_year</th>\n",
       "      <th>season</th>\n",
       "    </tr>\n",
       "    <tr>\n",
       "      <th>sciper</th>\n",
       "      <th></th>\n",
       "      <th></th>\n",
       "      <th></th>\n",
       "      <th></th>\n",
       "      <th></th>\n",
       "      <th></th>\n",
       "      <th></th>\n",
       "      <th></th>\n",
       "      <th></th>\n",
       "    </tr>\n",
       "  </thead>\n",
       "  <tbody>\n",
       "    <tr>\n",
       "      <th>171091</th>\n",
       "      <td>Monsieur</td>\n",
       "      <td>Mortada Hamid</td>\n",
       "      <td></td>\n",
       "      <td></td>\n",
       "      <td>3</td>\n",
       "      <td>2012</td>\n",
       "      <td>Présent</td>\n",
       "      <td>2011</td>\n",
       "      <td>printemps</td>\n",
       "    </tr>\n",
       "    <tr>\n",
       "      <th>260636</th>\n",
       "      <td>Monsieur</td>\n",
       "      <td>Fokeas Sotirios</td>\n",
       "      <td></td>\n",
       "      <td></td>\n",
       "      <td>2</td>\n",
       "      <td>2017</td>\n",
       "      <td>Présent</td>\n",
       "      <td>2016</td>\n",
       "      <td>automne</td>\n",
       "    </tr>\n",
       "    <tr>\n",
       "      <th>223102</th>\n",
       "      <td>Monsieur</td>\n",
       "      <td>Lukovics Akos</td>\n",
       "      <td></td>\n",
       "      <td></td>\n",
       "      <td>2</td>\n",
       "      <td>2014</td>\n",
       "      <td>Présent</td>\n",
       "      <td>2013</td>\n",
       "      <td>automne</td>\n",
       "    </tr>\n",
       "    <tr>\n",
       "      <th>260811</th>\n",
       "      <td>Monsieur</td>\n",
       "      <td>Loiseleur Thibaut</td>\n",
       "      <td></td>\n",
       "      <td></td>\n",
       "      <td>2</td>\n",
       "      <td>2017</td>\n",
       "      <td>Présent</td>\n",
       "      <td>2016</td>\n",
       "      <td>automne</td>\n",
       "    </tr>\n",
       "    <tr>\n",
       "      <th>196602</th>\n",
       "      <td>Madame</td>\n",
       "      <td>Stojanov Marica</td>\n",
       "      <td>Mineur en Management, technologie et entrepren...</td>\n",
       "      <td></td>\n",
       "      <td>3</td>\n",
       "      <td>2012</td>\n",
       "      <td>Stage</td>\n",
       "      <td>2011</td>\n",
       "      <td>printemps</td>\n",
       "    </tr>\n",
       "    <tr>\n",
       "      <th>216702</th>\n",
       "      <td>Monsieur</td>\n",
       "      <td>Rudelle Matthieu François Edgard</td>\n",
       "      <td></td>\n",
       "      <td>Internet computing</td>\n",
       "      <td>3</td>\n",
       "      <td>2017</td>\n",
       "      <td>Présent</td>\n",
       "      <td>2016</td>\n",
       "      <td>automne</td>\n",
       "    </tr>\n",
       "    <tr>\n",
       "      <th>214637</th>\n",
       "      <td>Monsieur</td>\n",
       "      <td>Bovet Sidney</td>\n",
       "      <td></td>\n",
       "      <td></td>\n",
       "      <td>3</td>\n",
       "      <td>2017</td>\n",
       "      <td>Présent</td>\n",
       "      <td>2016</td>\n",
       "      <td>automne</td>\n",
       "    </tr>\n",
       "    <tr>\n",
       "      <th>166491</th>\n",
       "      <td>Monsieur</td>\n",
       "      <td>Imperatori Alexandre</td>\n",
       "      <td></td>\n",
       "      <td></td>\n",
       "      <td>4</td>\n",
       "      <td>2011</td>\n",
       "      <td>Congé</td>\n",
       "      <td>2010</td>\n",
       "      <td>printemps</td>\n",
       "    </tr>\n",
       "    <tr>\n",
       "      <th>204253</th>\n",
       "      <td>Monsieur</td>\n",
       "      <td>Junker Florian Christophe</td>\n",
       "      <td></td>\n",
       "      <td>Internet computing</td>\n",
       "      <td>4</td>\n",
       "      <td>2017</td>\n",
       "      <td>Présent</td>\n",
       "      <td>2016</td>\n",
       "      <td>automne</td>\n",
       "    </tr>\n",
       "    <tr>\n",
       "      <th>202059</th>\n",
       "      <td>Monsieur</td>\n",
       "      <td>Coca Olmos Cievoloth Gilber</td>\n",
       "      <td></td>\n",
       "      <td>Service science</td>\n",
       "      <td>4</td>\n",
       "      <td>2013</td>\n",
       "      <td>Présent</td>\n",
       "      <td>2012</td>\n",
       "      <td>automne</td>\n",
       "    </tr>\n",
       "  </tbody>\n",
       "</table>\n",
       "</div>"
      ],
      "text/plain": [
       "           title                              name  \\\n",
       "sciper                                               \n",
       "171091  Monsieur                     Mortada Hamid   \n",
       "260636  Monsieur                   Fokeas Sotirios   \n",
       "223102  Monsieur                     Lukovics Akos   \n",
       "260811  Monsieur                 Loiseleur Thibaut   \n",
       "196602    Madame                   Stojanov Marica   \n",
       "216702  Monsieur  Rudelle Matthieu François Edgard   \n",
       "214637  Monsieur                      Bovet Sidney   \n",
       "166491  Monsieur              Imperatori Alexandre   \n",
       "204253  Monsieur         Junker Florian Christophe   \n",
       "202059  Monsieur       Coca Olmos Cievoloth Gilber   \n",
       "\n",
       "                                                    minor      specialisation  \\\n",
       "sciper                                                                          \n",
       "171091                                                                          \n",
       "260636                                                                          \n",
       "223102                                                                          \n",
       "260811                                                                          \n",
       "196602  Mineur en Management, technologie et entrepren...                       \n",
       "216702                                                     Internet computing   \n",
       "214637                                                                          \n",
       "166491                                                                          \n",
       "204253                                                     Internet computing   \n",
       "202059                                                        Service science   \n",
       "\n",
       "        semester_count end_year   status start_year     season  \n",
       "sciper                                                          \n",
       "171091               3     2012  Présent       2011  printemps  \n",
       "260636               2     2017  Présent       2016    automne  \n",
       "223102               2     2014  Présent       2013    automne  \n",
       "260811               2     2017  Présent       2016    automne  \n",
       "196602               3     2012    Stage       2011  printemps  \n",
       "216702               3     2017  Présent       2016    automne  \n",
       "214637               3     2017  Présent       2016    automne  \n",
       "166491               4     2011    Congé       2010  printemps  \n",
       "204253               4     2017  Présent       2016    automne  \n",
       "202059               4     2013  Présent       2012    automne  "
      ]
     },
     "execution_count": 55,
     "metadata": {},
     "output_type": "execute_result"
    }
   ],
   "source": [
    "msc_agg_pdm[(msc_agg_pdm['end_year'] != '')].sample(10)"
   ]
  },
  {
   "cell_type": "code",
   "execution_count": 56,
   "metadata": {
    "collapsed": false
   },
   "outputs": [
    {
     "data": {
      "text/html": [
       "<div>\n",
       "<table border=\"1\" class=\"dataframe\">\n",
       "  <thead>\n",
       "    <tr style=\"text-align: right;\">\n",
       "      <th></th>\n",
       "      <th></th>\n",
       "      <th>semester_count</th>\n",
       "    </tr>\n",
       "    <tr>\n",
       "      <th>title</th>\n",
       "      <th></th>\n",
       "      <th></th>\n",
       "    </tr>\n",
       "  </thead>\n",
       "  <tbody>\n",
       "    <tr>\n",
       "      <th rowspan=\"8\" valign=\"top\">Madame</th>\n",
       "      <th>count</th>\n",
       "      <td>13.000000</td>\n",
       "    </tr>\n",
       "    <tr>\n",
       "      <th>mean</th>\n",
       "      <td>2.692308</td>\n",
       "    </tr>\n",
       "    <tr>\n",
       "      <th>std</th>\n",
       "      <td>0.854850</td>\n",
       "    </tr>\n",
       "    <tr>\n",
       "      <th>min</th>\n",
       "      <td>2.000000</td>\n",
       "    </tr>\n",
       "    <tr>\n",
       "      <th>25%</th>\n",
       "      <td>2.000000</td>\n",
       "    </tr>\n",
       "    <tr>\n",
       "      <th>50%</th>\n",
       "      <td>3.000000</td>\n",
       "    </tr>\n",
       "    <tr>\n",
       "      <th>75%</th>\n",
       "      <td>3.000000</td>\n",
       "    </tr>\n",
       "    <tr>\n",
       "      <th>max</th>\n",
       "      <td>5.000000</td>\n",
       "    </tr>\n",
       "    <tr>\n",
       "      <th rowspan=\"8\" valign=\"top\">Monsieur</th>\n",
       "      <th>count</th>\n",
       "      <td>107.000000</td>\n",
       "    </tr>\n",
       "    <tr>\n",
       "      <th>mean</th>\n",
       "      <td>2.803738</td>\n",
       "    </tr>\n",
       "    <tr>\n",
       "      <th>std</th>\n",
       "      <td>0.840477</td>\n",
       "    </tr>\n",
       "    <tr>\n",
       "      <th>min</th>\n",
       "      <td>1.000000</td>\n",
       "    </tr>\n",
       "    <tr>\n",
       "      <th>25%</th>\n",
       "      <td>2.000000</td>\n",
       "    </tr>\n",
       "    <tr>\n",
       "      <th>50%</th>\n",
       "      <td>3.000000</td>\n",
       "    </tr>\n",
       "    <tr>\n",
       "      <th>75%</th>\n",
       "      <td>3.000000</td>\n",
       "    </tr>\n",
       "    <tr>\n",
       "      <th>max</th>\n",
       "      <td>5.000000</td>\n",
       "    </tr>\n",
       "  </tbody>\n",
       "</table>\n",
       "</div>"
      ],
      "text/plain": [
       "                semester_count\n",
       "title                         \n",
       "Madame   count       13.000000\n",
       "         mean         2.692308\n",
       "         std          0.854850\n",
       "         min          2.000000\n",
       "         25%          2.000000\n",
       "         50%          3.000000\n",
       "         75%          3.000000\n",
       "         max          5.000000\n",
       "Monsieur count      107.000000\n",
       "         mean         2.803738\n",
       "         std          0.840477\n",
       "         min          1.000000\n",
       "         25%          2.000000\n",
       "         50%          3.000000\n",
       "         75%          3.000000\n",
       "         max          5.000000"
      ]
     },
     "execution_count": 56,
     "metadata": {},
     "output_type": "execute_result"
    }
   ],
   "source": [
    "msc_agg_pdm[(msc_agg_pdm['end_year'] != '')].groupby('title').describe()"
   ]
  },
  {
   "cell_type": "markdown",
   "metadata": {},
   "source": [
    "Sadly, with only 107+13=120 entries, this data set is way too sparse to actually provide any useful information. Let's then keep working with the original data set only."
   ]
  },
  {
   "cell_type": "markdown",
   "metadata": {},
   "source": [
    "We will now clean up the data set a bit by only keeping students who did at least two semesters, and removing the ones who are registered with a minor or a specialisation but have a semester count smaller than 3."
   ]
  },
  {
   "cell_type": "code",
   "execution_count": 57,
   "metadata": {
    "collapsed": false
   },
   "outputs": [],
   "source": [
    "not_enough_semesters = (msc_agg['semester_count'] < 3) & ((msc_agg['specialisation'] != '') | (msc_agg['minor'] != ''))\n",
    "less_than_two        = msc_agg['semester_count'] < 2\n",
    "\n",
    "msc_agg_valid = msc_agg[~(not_enough_semesters | less_than_two)]\n",
    "msc_agg_valid = msc_agg_valid.reset_index().groupby('sciper').agg('first')"
   ]
  },
  {
   "cell_type": "code",
   "execution_count": 58,
   "metadata": {
    "collapsed": false
   },
   "outputs": [
    {
     "data": {
      "text/html": [
       "<div>\n",
       "<table border=\"1\" class=\"dataframe\">\n",
       "  <thead>\n",
       "    <tr style=\"text-align: right;\">\n",
       "      <th></th>\n",
       "      <th></th>\n",
       "      <th>end_year</th>\n",
       "      <th>semester_count</th>\n",
       "    </tr>\n",
       "    <tr>\n",
       "      <th>title</th>\n",
       "      <th></th>\n",
       "      <th></th>\n",
       "      <th></th>\n",
       "    </tr>\n",
       "  </thead>\n",
       "  <tbody>\n",
       "    <tr>\n",
       "      <th rowspan=\"8\" valign=\"top\">Madame</th>\n",
       "      <th>count</th>\n",
       "      <td>103.000000</td>\n",
       "      <td>103.000000</td>\n",
       "    </tr>\n",
       "    <tr>\n",
       "      <th>mean</th>\n",
       "      <td>2013.281553</td>\n",
       "      <td>2.893204</td>\n",
       "    </tr>\n",
       "    <tr>\n",
       "      <th>std</th>\n",
       "      <td>2.639881</td>\n",
       "      <td>0.895661</td>\n",
       "    </tr>\n",
       "    <tr>\n",
       "      <th>min</th>\n",
       "      <td>2008.000000</td>\n",
       "      <td>2.000000</td>\n",
       "    </tr>\n",
       "    <tr>\n",
       "      <th>25%</th>\n",
       "      <td>2012.000000</td>\n",
       "      <td>2.000000</td>\n",
       "    </tr>\n",
       "    <tr>\n",
       "      <th>50%</th>\n",
       "      <td>2013.000000</td>\n",
       "      <td>3.000000</td>\n",
       "    </tr>\n",
       "    <tr>\n",
       "      <th>75%</th>\n",
       "      <td>2015.000000</td>\n",
       "      <td>3.000000</td>\n",
       "    </tr>\n",
       "    <tr>\n",
       "      <th>max</th>\n",
       "      <td>2017.000000</td>\n",
       "      <td>7.000000</td>\n",
       "    </tr>\n",
       "    <tr>\n",
       "      <th rowspan=\"8\" valign=\"top\">Monsieur</th>\n",
       "      <th>count</th>\n",
       "      <td>645.000000</td>\n",
       "      <td>645.000000</td>\n",
       "    </tr>\n",
       "    <tr>\n",
       "      <th>mean</th>\n",
       "      <td>2013.406202</td>\n",
       "      <td>2.883721</td>\n",
       "    </tr>\n",
       "    <tr>\n",
       "      <th>std</th>\n",
       "      <td>2.662010</td>\n",
       "      <td>0.750030</td>\n",
       "    </tr>\n",
       "    <tr>\n",
       "      <th>min</th>\n",
       "      <td>2008.000000</td>\n",
       "      <td>2.000000</td>\n",
       "    </tr>\n",
       "    <tr>\n",
       "      <th>25%</th>\n",
       "      <td>2011.000000</td>\n",
       "      <td>2.000000</td>\n",
       "    </tr>\n",
       "    <tr>\n",
       "      <th>50%</th>\n",
       "      <td>2014.000000</td>\n",
       "      <td>3.000000</td>\n",
       "    </tr>\n",
       "    <tr>\n",
       "      <th>75%</th>\n",
       "      <td>2016.000000</td>\n",
       "      <td>3.000000</td>\n",
       "    </tr>\n",
       "    <tr>\n",
       "      <th>max</th>\n",
       "      <td>2017.000000</td>\n",
       "      <td>6.000000</td>\n",
       "    </tr>\n",
       "  </tbody>\n",
       "</table>\n",
       "</div>"
      ],
      "text/plain": [
       "                   end_year  semester_count\n",
       "title                                      \n",
       "Madame   count   103.000000      103.000000\n",
       "         mean   2013.281553        2.893204\n",
       "         std       2.639881        0.895661\n",
       "         min    2008.000000        2.000000\n",
       "         25%    2012.000000        2.000000\n",
       "         50%    2013.000000        3.000000\n",
       "         75%    2015.000000        3.000000\n",
       "         max    2017.000000        7.000000\n",
       "Monsieur count   645.000000      645.000000\n",
       "         mean   2013.406202        2.883721\n",
       "         std       2.662010        0.750030\n",
       "         min    2008.000000        2.000000\n",
       "         25%    2011.000000        2.000000\n",
       "         50%    2014.000000        3.000000\n",
       "         75%    2016.000000        3.000000\n",
       "         max    2017.000000        6.000000"
      ]
     },
     "execution_count": 58,
     "metadata": {},
     "output_type": "execute_result"
    }
   ],
   "source": [
    "msc_agg_valid.groupby('title').describe()"
   ]
  },
  {
   "cell_type": "markdown",
   "metadata": {},
   "source": [
    "#### Average stay at EPFL for master students"
   ]
  },
  {
   "cell_type": "code",
   "execution_count": 59,
   "metadata": {
    "collapsed": false
   },
   "outputs": [
    {
     "name": "stdout",
     "output_type": "stream",
     "text": [
      "The average stay for masters students at EPFL is 2.89 semesters\n"
     ]
    }
   ],
   "source": [
    "avg_stay_masters = msc_agg_valid.mean()\n",
    "print('The average stay for masters students at EPFL is %.02f semesters' % (avg_stay_masters['semester_count']))"
   ]
  },
  {
   "cell_type": "markdown",
   "metadata": {},
   "source": [
    "### Breakdown per specialisation"
   ]
  },
  {
   "cell_type": "markdown",
   "metadata": {},
   "source": [
    "Let's now see whether the choice of specialisation has any influence on the number of semesters a student stays at EPFL:"
   ]
  },
  {
   "cell_type": "code",
   "execution_count": 60,
   "metadata": {
    "collapsed": false
   },
   "outputs": [
    {
     "data": {
      "text/html": [
       "<div>\n",
       "<table border=\"1\" class=\"dataframe\">\n",
       "  <thead>\n",
       "    <tr style=\"text-align: right;\">\n",
       "      <th></th>\n",
       "      <th>title</th>\n",
       "      <th>name</th>\n",
       "      <th>minor</th>\n",
       "      <th>specialisation</th>\n",
       "      <th>semester_count</th>\n",
       "      <th>end_year</th>\n",
       "    </tr>\n",
       "    <tr>\n",
       "      <th>sciper</th>\n",
       "      <th></th>\n",
       "      <th></th>\n",
       "      <th></th>\n",
       "      <th></th>\n",
       "      <th></th>\n",
       "      <th></th>\n",
       "    </tr>\n",
       "  </thead>\n",
       "  <tbody>\n",
       "    <tr>\n",
       "      <th>175012</th>\n",
       "      <td>Monsieur</td>\n",
       "      <td>Marquis Bastian</td>\n",
       "      <td></td>\n",
       "      <td>Foundations of Software</td>\n",
       "      <td>4</td>\n",
       "      <td>2012</td>\n",
       "    </tr>\n",
       "    <tr>\n",
       "      <th>186060</th>\n",
       "      <td>Monsieur</td>\n",
       "      <td>Stroe Bogdan</td>\n",
       "      <td></td>\n",
       "      <td>Foundations of Software</td>\n",
       "      <td>3</td>\n",
       "      <td>2010</td>\n",
       "    </tr>\n",
       "    <tr>\n",
       "      <th>199060</th>\n",
       "      <td>Madame</td>\n",
       "      <td>Delgado Borda Pamela Isabel</td>\n",
       "      <td></td>\n",
       "      <td>Foundations of Software</td>\n",
       "      <td>3</td>\n",
       "      <td>2012</td>\n",
       "    </tr>\n",
       "    <tr>\n",
       "      <th>192757</th>\n",
       "      <td>Madame</td>\n",
       "      <td>Balmau Oana Maria</td>\n",
       "      <td></td>\n",
       "      <td>Internet computing</td>\n",
       "      <td>3</td>\n",
       "      <td>2014</td>\n",
       "    </tr>\n",
       "    <tr>\n",
       "      <th>180570</th>\n",
       "      <td>Monsieur</td>\n",
       "      <td>Habfast Paul</td>\n",
       "      <td></td>\n",
       "      <td>Foundations of Software</td>\n",
       "      <td>4</td>\n",
       "      <td>2013</td>\n",
       "    </tr>\n",
       "    <tr>\n",
       "      <th>180160</th>\n",
       "      <td>Monsieur</td>\n",
       "      <td>Pakzad Pooya</td>\n",
       "      <td></td>\n",
       "      <td>Internet computing</td>\n",
       "      <td>3</td>\n",
       "      <td>2009</td>\n",
       "    </tr>\n",
       "    <tr>\n",
       "      <th>177636</th>\n",
       "      <td>Monsieur</td>\n",
       "      <td>Pilchen Jerome</td>\n",
       "      <td></td>\n",
       "      <td>Signals, Images and Interfaces</td>\n",
       "      <td>3</td>\n",
       "      <td>2009</td>\n",
       "    </tr>\n",
       "    <tr>\n",
       "      <th>194875</th>\n",
       "      <td>Monsieur</td>\n",
       "      <td>Carlessi Alexandre</td>\n",
       "      <td></td>\n",
       "      <td>Internet computing</td>\n",
       "      <td>4</td>\n",
       "      <td>2016</td>\n",
       "    </tr>\n",
       "    <tr>\n",
       "      <th>227660</th>\n",
       "      <td>Monsieur</td>\n",
       "      <td>Pestalozzi Rossi Lukas Andri</td>\n",
       "      <td></td>\n",
       "      <td>Internet computing</td>\n",
       "      <td>3</td>\n",
       "      <td>2017</td>\n",
       "    </tr>\n",
       "    <tr>\n",
       "      <th>170224</th>\n",
       "      <td>Monsieur</td>\n",
       "      <td>Margot Alexandre</td>\n",
       "      <td></td>\n",
       "      <td>Signals, Images and Interfaces</td>\n",
       "      <td>5</td>\n",
       "      <td>2013</td>\n",
       "    </tr>\n",
       "  </tbody>\n",
       "</table>\n",
       "</div>"
      ],
      "text/plain": [
       "           title                          name minor  \\\n",
       "sciper                                                 \n",
       "175012  Monsieur               Marquis Bastian         \n",
       "186060  Monsieur                  Stroe Bogdan         \n",
       "199060    Madame   Delgado Borda Pamela Isabel         \n",
       "192757    Madame             Balmau Oana Maria         \n",
       "180570  Monsieur                  Habfast Paul         \n",
       "180160  Monsieur                  Pakzad Pooya         \n",
       "177636  Monsieur                Pilchen Jerome         \n",
       "194875  Monsieur            Carlessi Alexandre         \n",
       "227660  Monsieur  Pestalozzi Rossi Lukas Andri         \n",
       "170224  Monsieur              Margot Alexandre         \n",
       "\n",
       "                        specialisation  semester_count  end_year  \n",
       "sciper                                                            \n",
       "175012         Foundations of Software               4      2012  \n",
       "186060         Foundations of Software               3      2010  \n",
       "199060         Foundations of Software               3      2012  \n",
       "192757              Internet computing               3      2014  \n",
       "180570         Foundations of Software               4      2013  \n",
       "180160              Internet computing               3      2009  \n",
       "177636  Signals, Images and Interfaces               3      2009  \n",
       "194875              Internet computing               4      2016  \n",
       "227660              Internet computing               3      2017  \n",
       "170224  Signals, Images and Interfaces               5      2013  "
      ]
     },
     "execution_count": 60,
     "metadata": {},
     "output_type": "execute_result"
    }
   ],
   "source": [
    "with_specialisation = msc_agg_valid['specialisation'] != ''\n",
    "msc_agg_spe = msc_agg_valid[with_specialisation]\n",
    "msc_agg_spe.sample(10)"
   ]
  },
  {
   "cell_type": "code",
   "execution_count": 61,
   "metadata": {
    "collapsed": false
   },
   "outputs": [
    {
     "data": {
      "text/html": [
       "<div>\n",
       "<table border=\"1\" class=\"dataframe\">\n",
       "  <thead>\n",
       "    <tr style=\"text-align: right;\">\n",
       "      <th></th>\n",
       "      <th></th>\n",
       "      <th>end_year</th>\n",
       "      <th>semester_count</th>\n",
       "    </tr>\n",
       "    <tr>\n",
       "      <th>specialisation</th>\n",
       "      <th></th>\n",
       "      <th></th>\n",
       "      <th></th>\n",
       "    </tr>\n",
       "  </thead>\n",
       "  <tbody>\n",
       "    <tr>\n",
       "      <th rowspan=\"8\" valign=\"top\">Biocomputing</th>\n",
       "      <th>count</th>\n",
       "      <td>3.000000</td>\n",
       "      <td>3.000000</td>\n",
       "    </tr>\n",
       "    <tr>\n",
       "      <th>mean</th>\n",
       "      <td>2010.000000</td>\n",
       "      <td>4.333333</td>\n",
       "    </tr>\n",
       "    <tr>\n",
       "      <th>std</th>\n",
       "      <td>0.000000</td>\n",
       "      <td>1.154701</td>\n",
       "    </tr>\n",
       "    <tr>\n",
       "      <th>min</th>\n",
       "      <td>2010.000000</td>\n",
       "      <td>3.000000</td>\n",
       "    </tr>\n",
       "    <tr>\n",
       "      <th>25%</th>\n",
       "      <td>2010.000000</td>\n",
       "      <td>4.000000</td>\n",
       "    </tr>\n",
       "    <tr>\n",
       "      <th>50%</th>\n",
       "      <td>2010.000000</td>\n",
       "      <td>5.000000</td>\n",
       "    </tr>\n",
       "    <tr>\n",
       "      <th>75%</th>\n",
       "      <td>2010.000000</td>\n",
       "      <td>5.000000</td>\n",
       "    </tr>\n",
       "    <tr>\n",
       "      <th>max</th>\n",
       "      <td>2010.000000</td>\n",
       "      <td>5.000000</td>\n",
       "    </tr>\n",
       "    <tr>\n",
       "      <th rowspan=\"8\" valign=\"top\">Computer Engineering - SP</th>\n",
       "      <th>count</th>\n",
       "      <td>18.000000</td>\n",
       "      <td>18.000000</td>\n",
       "    </tr>\n",
       "    <tr>\n",
       "      <th>mean</th>\n",
       "      <td>2013.722222</td>\n",
       "      <td>3.388889</td>\n",
       "    </tr>\n",
       "    <tr>\n",
       "      <th>std</th>\n",
       "      <td>3.044871</td>\n",
       "      <td>0.697802</td>\n",
       "    </tr>\n",
       "    <tr>\n",
       "      <th>min</th>\n",
       "      <td>2009.000000</td>\n",
       "      <td>3.000000</td>\n",
       "    </tr>\n",
       "    <tr>\n",
       "      <th>25%</th>\n",
       "      <td>2011.000000</td>\n",
       "      <td>3.000000</td>\n",
       "    </tr>\n",
       "    <tr>\n",
       "      <th>50%</th>\n",
       "      <td>2013.500000</td>\n",
       "      <td>3.000000</td>\n",
       "    </tr>\n",
       "    <tr>\n",
       "      <th>75%</th>\n",
       "      <td>2017.000000</td>\n",
       "      <td>3.750000</td>\n",
       "    </tr>\n",
       "    <tr>\n",
       "      <th>max</th>\n",
       "      <td>2017.000000</td>\n",
       "      <td>5.000000</td>\n",
       "    </tr>\n",
       "    <tr>\n",
       "      <th rowspan=\"8\" valign=\"top\">Computer Science Theory</th>\n",
       "      <th>count</th>\n",
       "      <td>1.000000</td>\n",
       "      <td>1.000000</td>\n",
       "    </tr>\n",
       "    <tr>\n",
       "      <th>mean</th>\n",
       "      <td>2017.000000</td>\n",
       "      <td>3.000000</td>\n",
       "    </tr>\n",
       "    <tr>\n",
       "      <th>std</th>\n",
       "      <td>NaN</td>\n",
       "      <td>NaN</td>\n",
       "    </tr>\n",
       "    <tr>\n",
       "      <th>min</th>\n",
       "      <td>2017.000000</td>\n",
       "      <td>3.000000</td>\n",
       "    </tr>\n",
       "    <tr>\n",
       "      <th>25%</th>\n",
       "      <td>2017.000000</td>\n",
       "      <td>3.000000</td>\n",
       "    </tr>\n",
       "    <tr>\n",
       "      <th>50%</th>\n",
       "      <td>2017.000000</td>\n",
       "      <td>3.000000</td>\n",
       "    </tr>\n",
       "    <tr>\n",
       "      <th>75%</th>\n",
       "      <td>2017.000000</td>\n",
       "      <td>3.000000</td>\n",
       "    </tr>\n",
       "    <tr>\n",
       "      <th>max</th>\n",
       "      <td>2017.000000</td>\n",
       "      <td>3.000000</td>\n",
       "    </tr>\n",
       "    <tr>\n",
       "      <th rowspan=\"6\" valign=\"top\">Data Analytics</th>\n",
       "      <th>count</th>\n",
       "      <td>5.000000</td>\n",
       "      <td>5.000000</td>\n",
       "    </tr>\n",
       "    <tr>\n",
       "      <th>mean</th>\n",
       "      <td>2017.000000</td>\n",
       "      <td>3.000000</td>\n",
       "    </tr>\n",
       "    <tr>\n",
       "      <th>std</th>\n",
       "      <td>0.000000</td>\n",
       "      <td>0.000000</td>\n",
       "    </tr>\n",
       "    <tr>\n",
       "      <th>min</th>\n",
       "      <td>2017.000000</td>\n",
       "      <td>3.000000</td>\n",
       "    </tr>\n",
       "    <tr>\n",
       "      <th>25%</th>\n",
       "      <td>2017.000000</td>\n",
       "      <td>3.000000</td>\n",
       "    </tr>\n",
       "    <tr>\n",
       "      <th>50%</th>\n",
       "      <td>2017.000000</td>\n",
       "      <td>3.000000</td>\n",
       "    </tr>\n",
       "    <tr>\n",
       "      <th>...</th>\n",
       "      <th>...</th>\n",
       "      <td>...</td>\n",
       "      <td>...</td>\n",
       "    </tr>\n",
       "    <tr>\n",
       "      <th rowspan=\"6\" valign=\"top\">Internet computing</th>\n",
       "      <th>std</th>\n",
       "      <td>2.689543</td>\n",
       "      <td>0.668285</td>\n",
       "    </tr>\n",
       "    <tr>\n",
       "      <th>min</th>\n",
       "      <td>2009.000000</td>\n",
       "      <td>3.000000</td>\n",
       "    </tr>\n",
       "    <tr>\n",
       "      <th>25%</th>\n",
       "      <td>2011.000000</td>\n",
       "      <td>3.000000</td>\n",
       "    </tr>\n",
       "    <tr>\n",
       "      <th>50%</th>\n",
       "      <td>2013.000000</td>\n",
       "      <td>3.000000</td>\n",
       "    </tr>\n",
       "    <tr>\n",
       "      <th>75%</th>\n",
       "      <td>2015.000000</td>\n",
       "      <td>4.000000</td>\n",
       "    </tr>\n",
       "    <tr>\n",
       "      <th>max</th>\n",
       "      <td>2017.000000</td>\n",
       "      <td>6.000000</td>\n",
       "    </tr>\n",
       "    <tr>\n",
       "      <th rowspan=\"8\" valign=\"top\">Service science</th>\n",
       "      <th>count</th>\n",
       "      <td>3.000000</td>\n",
       "      <td>3.000000</td>\n",
       "    </tr>\n",
       "    <tr>\n",
       "      <th>mean</th>\n",
       "      <td>2012.666667</td>\n",
       "      <td>3.333333</td>\n",
       "    </tr>\n",
       "    <tr>\n",
       "      <th>std</th>\n",
       "      <td>2.081666</td>\n",
       "      <td>0.577350</td>\n",
       "    </tr>\n",
       "    <tr>\n",
       "      <th>min</th>\n",
       "      <td>2011.000000</td>\n",
       "      <td>3.000000</td>\n",
       "    </tr>\n",
       "    <tr>\n",
       "      <th>25%</th>\n",
       "      <td>2011.500000</td>\n",
       "      <td>3.000000</td>\n",
       "    </tr>\n",
       "    <tr>\n",
       "      <th>50%</th>\n",
       "      <td>2012.000000</td>\n",
       "      <td>3.000000</td>\n",
       "    </tr>\n",
       "    <tr>\n",
       "      <th>75%</th>\n",
       "      <td>2013.500000</td>\n",
       "      <td>3.500000</td>\n",
       "    </tr>\n",
       "    <tr>\n",
       "      <th>max</th>\n",
       "      <td>2015.000000</td>\n",
       "      <td>4.000000</td>\n",
       "    </tr>\n",
       "    <tr>\n",
       "      <th rowspan=\"8\" valign=\"top\">Signals, Images and Interfaces</th>\n",
       "      <th>count</th>\n",
       "      <td>22.000000</td>\n",
       "      <td>22.000000</td>\n",
       "    </tr>\n",
       "    <tr>\n",
       "      <th>mean</th>\n",
       "      <td>2013.909091</td>\n",
       "      <td>3.727273</td>\n",
       "    </tr>\n",
       "    <tr>\n",
       "      <th>std</th>\n",
       "      <td>2.286796</td>\n",
       "      <td>0.882735</td>\n",
       "    </tr>\n",
       "    <tr>\n",
       "      <th>min</th>\n",
       "      <td>2009.000000</td>\n",
       "      <td>3.000000</td>\n",
       "    </tr>\n",
       "    <tr>\n",
       "      <th>25%</th>\n",
       "      <td>2013.000000</td>\n",
       "      <td>3.000000</td>\n",
       "    </tr>\n",
       "    <tr>\n",
       "      <th>50%</th>\n",
       "      <td>2013.000000</td>\n",
       "      <td>3.500000</td>\n",
       "    </tr>\n",
       "    <tr>\n",
       "      <th>75%</th>\n",
       "      <td>2016.000000</td>\n",
       "      <td>4.000000</td>\n",
       "    </tr>\n",
       "    <tr>\n",
       "      <th>max</th>\n",
       "      <td>2017.000000</td>\n",
       "      <td>6.000000</td>\n",
       "    </tr>\n",
       "    <tr>\n",
       "      <th rowspan=\"8\" valign=\"top\">Software Systems</th>\n",
       "      <th>count</th>\n",
       "      <td>14.000000</td>\n",
       "      <td>14.000000</td>\n",
       "    </tr>\n",
       "    <tr>\n",
       "      <th>mean</th>\n",
       "      <td>2015.142857</td>\n",
       "      <td>3.071429</td>\n",
       "    </tr>\n",
       "    <tr>\n",
       "      <th>std</th>\n",
       "      <td>1.875229</td>\n",
       "      <td>0.267261</td>\n",
       "    </tr>\n",
       "    <tr>\n",
       "      <th>min</th>\n",
       "      <td>2012.000000</td>\n",
       "      <td>3.000000</td>\n",
       "    </tr>\n",
       "    <tr>\n",
       "      <th>25%</th>\n",
       "      <td>2013.250000</td>\n",
       "      <td>3.000000</td>\n",
       "    </tr>\n",
       "    <tr>\n",
       "      <th>50%</th>\n",
       "      <td>2016.000000</td>\n",
       "      <td>3.000000</td>\n",
       "    </tr>\n",
       "    <tr>\n",
       "      <th>75%</th>\n",
       "      <td>2017.000000</td>\n",
       "      <td>3.000000</td>\n",
       "    </tr>\n",
       "    <tr>\n",
       "      <th>max</th>\n",
       "      <td>2017.000000</td>\n",
       "      <td>4.000000</td>\n",
       "    </tr>\n",
       "  </tbody>\n",
       "</table>\n",
       "<p>88 rows × 2 columns</p>\n",
       "</div>"
      ],
      "text/plain": [
       "                                         end_year  semester_count\n",
       "specialisation                                                   \n",
       "Biocomputing                   count     3.000000        3.000000\n",
       "                               mean   2010.000000        4.333333\n",
       "                               std       0.000000        1.154701\n",
       "                               min    2010.000000        3.000000\n",
       "                               25%    2010.000000        4.000000\n",
       "                               50%    2010.000000        5.000000\n",
       "                               75%    2010.000000        5.000000\n",
       "                               max    2010.000000        5.000000\n",
       "Computer Engineering - SP      count    18.000000       18.000000\n",
       "                               mean   2013.722222        3.388889\n",
       "                               std       3.044871        0.697802\n",
       "                               min    2009.000000        3.000000\n",
       "                               25%    2011.000000        3.000000\n",
       "                               50%    2013.500000        3.000000\n",
       "                               75%    2017.000000        3.750000\n",
       "                               max    2017.000000        5.000000\n",
       "Computer Science Theory        count     1.000000        1.000000\n",
       "                               mean   2017.000000        3.000000\n",
       "                               std            NaN             NaN\n",
       "                               min    2017.000000        3.000000\n",
       "                               25%    2017.000000        3.000000\n",
       "                               50%    2017.000000        3.000000\n",
       "                               75%    2017.000000        3.000000\n",
       "                               max    2017.000000        3.000000\n",
       "Data Analytics                 count     5.000000        5.000000\n",
       "                               mean   2017.000000        3.000000\n",
       "                               std       0.000000        0.000000\n",
       "                               min    2017.000000        3.000000\n",
       "                               25%    2017.000000        3.000000\n",
       "                               50%    2017.000000        3.000000\n",
       "...                                           ...             ...\n",
       "Internet computing             std       2.689543        0.668285\n",
       "                               min    2009.000000        3.000000\n",
       "                               25%    2011.000000        3.000000\n",
       "                               50%    2013.000000        3.000000\n",
       "                               75%    2015.000000        4.000000\n",
       "                               max    2017.000000        6.000000\n",
       "Service science                count     3.000000        3.000000\n",
       "                               mean   2012.666667        3.333333\n",
       "                               std       2.081666        0.577350\n",
       "                               min    2011.000000        3.000000\n",
       "                               25%    2011.500000        3.000000\n",
       "                               50%    2012.000000        3.000000\n",
       "                               75%    2013.500000        3.500000\n",
       "                               max    2015.000000        4.000000\n",
       "Signals, Images and Interfaces count    22.000000       22.000000\n",
       "                               mean   2013.909091        3.727273\n",
       "                               std       2.286796        0.882735\n",
       "                               min    2009.000000        3.000000\n",
       "                               25%    2013.000000        3.000000\n",
       "                               50%    2013.000000        3.500000\n",
       "                               75%    2016.000000        4.000000\n",
       "                               max    2017.000000        6.000000\n",
       "Software Systems               count    14.000000       14.000000\n",
       "                               mean   2015.142857        3.071429\n",
       "                               std       1.875229        0.267261\n",
       "                               min    2012.000000        3.000000\n",
       "                               25%    2013.250000        3.000000\n",
       "                               50%    2016.000000        3.000000\n",
       "                               75%    2017.000000        3.000000\n",
       "                               max    2017.000000        4.000000\n",
       "\n",
       "[88 rows x 2 columns]"
      ]
     },
     "execution_count": 61,
     "metadata": {},
     "output_type": "execute_result"
    }
   ],
   "source": [
    "msc_by_spe = msc_agg_spe.reset_index().groupby(['specialisation'])\n",
    "msc_by_spe.describe()"
   ]
  },
  {
   "cell_type": "code",
   "execution_count": 62,
   "metadata": {
    "collapsed": false
   },
   "outputs": [
    {
     "data": {
      "text/plain": [
       "<matplotlib.axes._subplots.AxesSubplot at 0x11b34b4e0>"
      ]
     },
     "execution_count": 62,
     "metadata": {},
     "output_type": "execute_result"
    },
    {
     "data": {
      "image/png": "[encoded data removed]",
      "text/plain": [
       "<matplotlib.figure.Figure at 0x11b375278>"
      ]
     },
     "metadata": {},
     "output_type": "display_data"
    }
   ],
   "source": [
    "msc_by_spe['semester_count'].mean().plot(kind = 'bar')"
   ]
  },
  {
   "cell_type": "markdown",
   "metadata": {
    "collapsed": true
   },
   "source": [
    "To find statistical differences in these means we will use an F-test for one-way ANOVA, with the null hypothesis H0\n",
    "> **H0** -- The mean stay for all specialisations is the same\n",
    "\n",
    "We will assume the following hypotheses to be true:\n",
    "* Each population is normally distributed\n",
    "* Independent samples from the populations\n",
    "* Equal population standard deviations"
   ]
  },
  {
   "cell_type": "code",
   "execution_count": 63,
   "metadata": {
    "collapsed": false
   },
   "outputs": [],
   "source": [
    "import numpy\n",
    "\n",
    "msc_spe_gp = msc_agg_valid.reset_index()[['specialisation', 'semester_count']].groupby('specialisation')\n",
    "specialisations = [spe for spe in msc_spe_gp.groups if spe != '']\n",
    "msc_gp = [msc_spe_gp.get_group(spe)['semester_count'] for spe in specialisations]\n",
    "msc_gp = [gp for gp in msc_gp if not numpy.isnan(gp.var()) and not gp.var() == 0.0] # Remove N/A values"
   ]
  },
  {
   "cell_type": "code",
   "execution_count": 64,
   "metadata": {
    "collapsed": false
   },
   "outputs": [
    {
     "data": {
      "text/plain": [
       "F_onewayResult(statistic=2.4170087808535743, pvalue=0.021459689589905049)"
      ]
     },
     "execution_count": 64,
     "metadata": {},
     "output_type": "execute_result"
    }
   ],
   "source": [
    "stats.f_oneway(*msc_gp)"
   ]
  },
  {
   "cell_type": "markdown",
   "metadata": {},
   "source": [
    "The low p-value (```p = 0.02```) is below the traditional confidence interval (```alpha = 0.05```) which means we must invalidate the null hypthesis **H0**, to conclude instead that **the means of all the specialisations are not equal**. This validates our intuition which saw that *Biocomputing* for example seems longer on average than other specialties."
   ]
  },
  {
   "cell_type": "markdown",
   "metadata": {},
   "source": [
    "### Bonus\n",
    "> Perform the gender-based study also on the Master students, as explained in 1. Use scatterplots to visually identify changes over time. Plot males and females with different colors -- can you spot different trends that match the results of your statistical tests?"
   ]
  },
  {
   "cell_type": "code",
   "execution_count": 65,
   "metadata": {
    "collapsed": false
   },
   "outputs": [
    {
     "data": {
      "text/plain": [
       "title          \n",
       "Madame    count    103.000000\n",
       "          mean       2.893204\n",
       "          std        0.895661\n",
       "          min        2.000000\n",
       "          25%        2.000000\n",
       "          50%        3.000000\n",
       "          75%        3.000000\n",
       "          max        7.000000\n",
       "Monsieur  count    645.000000\n",
       "          mean       2.883721\n",
       "          std        0.750030\n",
       "          min        2.000000\n",
       "          25%        2.000000\n",
       "          50%        3.000000\n",
       "          75%        3.000000\n",
       "          max        6.000000\n",
       "Name: semester_count, dtype: float64"
      ]
     },
     "execution_count": 65,
     "metadata": {},
     "output_type": "execute_result"
    }
   ],
   "source": [
    "msc_by_title = msc_agg_valid.groupby('title')\n",
    "msc_by_title['semester_count'].describe()"
   ]
  },
  {
   "cell_type": "code",
   "execution_count": 66,
   "metadata": {
    "collapsed": false
   },
   "outputs": [],
   "source": [
    "M_msc = msc_by_title.get_group('Monsieur')['semester_count']\n",
    "F_msc = msc_by_title.get_group('Madame')['semester_count']"
   ]
  },
  {
   "cell_type": "code",
   "execution_count": 67,
   "metadata": {
    "collapsed": false
   },
   "outputs": [
    {
     "name": "stdout",
     "output_type": "stream",
     "text": [
      "Mean duration for male students = 2.883720930232558\n",
      "Mean duration for female students = 2.8932038834951457\n"
     ]
    }
   ],
   "source": [
    "print('Mean duration for male students = {}'.format(M_msc.mean()))\n",
    "print('Mean duration for female students = {}'.format(F_msc.mean()))"
   ]
  },
  {
   "cell_type": "code",
   "execution_count": 68,
   "metadata": {
    "collapsed": false
   },
   "outputs": [
    {
     "name": "stdout",
     "output_type": "stream",
     "text": [
      "M var = 0.5625451393904326, F var = 0.8022082619455537, delta = 0.23966312255512112\n",
      "We find a statistic t = -0.10189897182871749, with a p-value = 0.9189990129838373\n"
     ]
    }
   ],
   "source": [
    "# Check that the variances are not equal (justifying Welch's t-test)\n",
    "delta_variance = abs(M_msc.var() - F_msc.var())\n",
    "\n",
    "print('M var = {}, F var = {}, delta = {}'.format(M_msc.var(), F_msc.var(), delta_variance))\n",
    "\n",
    "# Under this tolerance the difference is not significative\n",
    "tol = 1e-6\n",
    "\n",
    "(t_statistic_msc, p_value_msc) = stats.ttest_ind(M_msc, F_msc, equal_var = delta_variance < tol)\n",
    "\n",
    "print('We find a statistic t = {}, with a p-value = {}'.format(t_statistic_msc, p_value_msc))"
   ]
  },
  {
   "cell_type": "markdown",
   "metadata": {},
   "source": [
    "Once again we find a large p-value, way above the significance threshold ```alpha=0.05```, which means **there is no statistically significant difference in the mean duration for male and female masters students**."
   ]
  },
  {
   "cell_type": "markdown",
   "metadata": {},
   "source": [
    "### Average stay duration over time"
   ]
  },
  {
   "cell_type": "code",
   "execution_count": 69,
   "metadata": {
    "collapsed": false
   },
   "outputs": [],
   "source": [
    "def agg_mean_stay(grouped_data):\n",
    "    return grouped_data.agg('mean').rename(columns={'semester_count': 'average_stay'})\n",
    "\n",
    "avg_stay_per_year = agg_mean_stay(msc_agg_valid.groupby(['end_year']))\n",
    "avg_stay_per_year_and_title = agg_mean_stay(msc_agg_valid.groupby(['end_year', 'title']))"
   ]
  },
  {
   "cell_type": "code",
   "execution_count": 70,
   "metadata": {
    "collapsed": false
   },
   "outputs": [
    {
     "data": {
      "text/html": [
       "<div>\n",
       "<table border=\"1\" class=\"dataframe\">\n",
       "  <thead>\n",
       "    <tr style=\"text-align: right;\">\n",
       "      <th></th>\n",
       "      <th>average_stay</th>\n",
       "    </tr>\n",
       "    <tr>\n",
       "      <th>end_year</th>\n",
       "      <th></th>\n",
       "    </tr>\n",
       "  </thead>\n",
       "  <tbody>\n",
       "    <tr>\n",
       "      <th>2008</th>\n",
       "      <td>2.000000</td>\n",
       "    </tr>\n",
       "    <tr>\n",
       "      <th>2009</th>\n",
       "      <td>2.711864</td>\n",
       "    </tr>\n",
       "    <tr>\n",
       "      <th>2010</th>\n",
       "      <td>3.181818</td>\n",
       "    </tr>\n",
       "    <tr>\n",
       "      <th>2011</th>\n",
       "      <td>2.636364</td>\n",
       "    </tr>\n",
       "    <tr>\n",
       "      <th>2012</th>\n",
       "      <td>2.870588</td>\n",
       "    </tr>\n",
       "    <tr>\n",
       "      <th>2013</th>\n",
       "      <td>2.978261</td>\n",
       "    </tr>\n",
       "    <tr>\n",
       "      <th>2014</th>\n",
       "      <td>2.866667</td>\n",
       "    </tr>\n",
       "    <tr>\n",
       "      <th>2015</th>\n",
       "      <td>2.948052</td>\n",
       "    </tr>\n",
       "    <tr>\n",
       "      <th>2016</th>\n",
       "      <td>2.930435</td>\n",
       "    </tr>\n",
       "    <tr>\n",
       "      <th>2017</th>\n",
       "      <td>3.158416</td>\n",
       "    </tr>\n",
       "  </tbody>\n",
       "</table>\n",
       "</div>"
      ],
      "text/plain": [
       "          average_stay\n",
       "end_year              \n",
       "2008          2.000000\n",
       "2009          2.711864\n",
       "2010          3.181818\n",
       "2011          2.636364\n",
       "2012          2.870588\n",
       "2013          2.978261\n",
       "2014          2.866667\n",
       "2015          2.948052\n",
       "2016          2.930435\n",
       "2017          3.158416"
      ]
     },
     "execution_count": 70,
     "metadata": {},
     "output_type": "execute_result"
    }
   ],
   "source": [
    "avg_stay_per_year"
   ]
  },
  {
   "cell_type": "code",
   "execution_count": 71,
   "metadata": {
    "collapsed": false
   },
   "outputs": [
    {
     "data": {
      "text/html": [
       "<div>\n",
       "<table border=\"1\" class=\"dataframe\">\n",
       "  <thead>\n",
       "    <tr style=\"text-align: right;\">\n",
       "      <th></th>\n",
       "      <th></th>\n",
       "      <th>average_stay</th>\n",
       "    </tr>\n",
       "    <tr>\n",
       "      <th>end_year</th>\n",
       "      <th>title</th>\n",
       "      <th></th>\n",
       "    </tr>\n",
       "  </thead>\n",
       "  <tbody>\n",
       "    <tr>\n",
       "      <th rowspan=\"2\" valign=\"top\">2008</th>\n",
       "      <th>Madame</th>\n",
       "      <td>2.000000</td>\n",
       "    </tr>\n",
       "    <tr>\n",
       "      <th>Monsieur</th>\n",
       "      <td>2.000000</td>\n",
       "    </tr>\n",
       "    <tr>\n",
       "      <th rowspan=\"2\" valign=\"top\">2009</th>\n",
       "      <th>Madame</th>\n",
       "      <td>2.500000</td>\n",
       "    </tr>\n",
       "    <tr>\n",
       "      <th>Monsieur</th>\n",
       "      <td>2.727273</td>\n",
       "    </tr>\n",
       "    <tr>\n",
       "      <th rowspan=\"2\" valign=\"top\">2010</th>\n",
       "      <th>Madame</th>\n",
       "      <td>3.800000</td>\n",
       "    </tr>\n",
       "    <tr>\n",
       "      <th>Monsieur</th>\n",
       "      <td>3.071429</td>\n",
       "    </tr>\n",
       "    <tr>\n",
       "      <th rowspan=\"2\" valign=\"top\">2011</th>\n",
       "      <th>Madame</th>\n",
       "      <td>2.500000</td>\n",
       "    </tr>\n",
       "    <tr>\n",
       "      <th>Monsieur</th>\n",
       "      <td>2.650000</td>\n",
       "    </tr>\n",
       "    <tr>\n",
       "      <th rowspan=\"2\" valign=\"top\">2012</th>\n",
       "      <th>Madame</th>\n",
       "      <td>2.750000</td>\n",
       "    </tr>\n",
       "    <tr>\n",
       "      <th>Monsieur</th>\n",
       "      <td>2.890411</td>\n",
       "    </tr>\n",
       "    <tr>\n",
       "      <th rowspan=\"2\" valign=\"top\">2013</th>\n",
       "      <th>Madame</th>\n",
       "      <td>2.882353</td>\n",
       "    </tr>\n",
       "    <tr>\n",
       "      <th>Monsieur</th>\n",
       "      <td>3.000000</td>\n",
       "    </tr>\n",
       "    <tr>\n",
       "      <th rowspan=\"2\" valign=\"top\">2014</th>\n",
       "      <th>Madame</th>\n",
       "      <td>3.000000</td>\n",
       "    </tr>\n",
       "    <tr>\n",
       "      <th>Monsieur</th>\n",
       "      <td>2.837838</td>\n",
       "    </tr>\n",
       "    <tr>\n",
       "      <th rowspan=\"2\" valign=\"top\">2015</th>\n",
       "      <th>Madame</th>\n",
       "      <td>2.909091</td>\n",
       "    </tr>\n",
       "    <tr>\n",
       "      <th>Monsieur</th>\n",
       "      <td>2.954545</td>\n",
       "    </tr>\n",
       "    <tr>\n",
       "      <th rowspan=\"2\" valign=\"top\">2016</th>\n",
       "      <th>Madame</th>\n",
       "      <td>2.800000</td>\n",
       "    </tr>\n",
       "    <tr>\n",
       "      <th>Monsieur</th>\n",
       "      <td>2.942857</td>\n",
       "    </tr>\n",
       "    <tr>\n",
       "      <th rowspan=\"2\" valign=\"top\">2017</th>\n",
       "      <th>Madame</th>\n",
       "      <td>3.428571</td>\n",
       "    </tr>\n",
       "    <tr>\n",
       "      <th>Monsieur</th>\n",
       "      <td>3.114943</td>\n",
       "    </tr>\n",
       "  </tbody>\n",
       "</table>\n",
       "</div>"
      ],
      "text/plain": [
       "                   average_stay\n",
       "end_year title                 \n",
       "2008     Madame        2.000000\n",
       "         Monsieur      2.000000\n",
       "2009     Madame        2.500000\n",
       "         Monsieur      2.727273\n",
       "2010     Madame        3.800000\n",
       "         Monsieur      3.071429\n",
       "2011     Madame        2.500000\n",
       "         Monsieur      2.650000\n",
       "2012     Madame        2.750000\n",
       "         Monsieur      2.890411\n",
       "2013     Madame        2.882353\n",
       "         Monsieur      3.000000\n",
       "2014     Madame        3.000000\n",
       "         Monsieur      2.837838\n",
       "2015     Madame        2.909091\n",
       "         Monsieur      2.954545\n",
       "2016     Madame        2.800000\n",
       "         Monsieur      2.942857\n",
       "2017     Madame        3.428571\n",
       "         Monsieur      3.114943"
      ]
     },
     "execution_count": 71,
     "metadata": {},
     "output_type": "execute_result"
    }
   ],
   "source": [
    "avg_stay_per_year_and_title"
   ]
  },
  {
   "cell_type": "code",
   "execution_count": 72,
   "metadata": {
    "collapsed": false
   },
   "outputs": [
    {
     "data": {
      "text/plain": [
       "<matplotlib.axes._subplots.AxesSubplot at 0x11ddfc940>"
      ]
     },
     "execution_count": 72,
     "metadata": {},
     "output_type": "execute_result"
    },
    {
     "data": {
      "image/png": "[encoded data removed]",
      "text/plain": [
       "<matplotlib.figure.Figure at 0x11dde5c50>"
      ]
     },
     "metadata": {},
     "output_type": "display_data"
    }
   ],
   "source": [
    "def plot_avg_stay_per_year(data, title, color, base_plot=None):\n",
    "    return data[data['title'] == title].plot(kind='scatter', x='end_year', y='average_stay', color=color, ax=base_plot)\n",
    "\n",
    "avg_stay = avg_stay_per_year_and_title.reset_index()\n",
    "female_plot = plot_avg_stay_per_year(avg_stay, 'Madame', 'Red')\n",
    "all_plot = plot_avg_stay_per_year(avg_stay, 'Monsieur', 'Blue', female_plot)\n",
    "all_plot"
   ]
  },
  {
   "cell_type": "markdown",
   "metadata": {
    "collapsed": true
   },
   "source": [
    "Tho"
   ]
  },
  {
   "cell_type": "code",
   "execution_count": null,
   "metadata": {
    "collapsed": true
   },
   "outputs": [],
   "source": []
  }
 ],
 "metadata": {
  "anaconda-cloud": {},
  "kernelspec": {
   "display_name": "Python [conda root]",
   "language": "python",
   "name": "conda-root-py"
  },
  "language_info": {
   "codemirror_mode": {
    "name": "ipython",
    "version": 3
   },
   "file_extension": ".py",
   "mimetype": "text/x-python",
   "name": "python",
   "nbconvert_exporter": "python",
   "pygments_lexer": "ipython3",
   "version": "3.5.2"
  }
 },
 "nbformat": 4,
 "nbformat_minor": 0
}
