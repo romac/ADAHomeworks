{
 "cells": [
  {
   "cell_type": "markdown",
   "metadata": {},
   "source": [
    "# 02 - Data from the Web\n",
    "\n",
    "\n",
    "## You will never guess how long it takes EPFL students to complete their degree!\n",
    "\n",
    "## Question 2 will shock you!"
   ]
  },
  {
   "cell_type": "markdown",
   "metadata": {},
   "source": [
    "---"
   ]
  },
  {
   "cell_type": "markdown",
   "metadata": {},
   "source": [
    "## Part 0 - Helpers and constants"
   ]
  },
  {
   "cell_type": "markdown",
   "metadata": {},
   "source": [
    "#### Import modules"
   ]
  },
  {
   "cell_type": "code",
   "execution_count": 40,
   "metadata": {
    "collapsed": true
   },
   "outputs": [],
   "source": [
    "import requests\n",
    "\n",
    "from bs4 import BeautifulSoup\n",
    "\n",
    "import re\n",
    "\n",
    "import pickle\n",
    "\n",
    "import pandas as pd"
   ]
  },
  {
   "cell_type": "markdown",
   "metadata": {},
   "source": [
    "#### Constants"
   ]
  },
  {
   "cell_type": "code",
   "execution_count": 41,
   "metadata": {
    "collapsed": true
   },
   "outputs": [],
   "source": [
    "# Base URL for isa.epfl.ch public report searches\n",
    "isa_base_url = 'http://isa.epfl.ch/imoniteur_ISAP/'"
   ]
  },
  {
   "cell_type": "markdown",
   "metadata": {},
   "source": [
    "#### Helpers"
   ]
  },
  {
   "cell_type": "code",
   "execution_count": 42,
   "metadata": {
    "collapsed": true
   },
   "outputs": [],
   "source": [
    "# Helper for creating search path\n",
    "def isa_url(path):\n",
    "    return isa_base_url + path"
   ]
  },
  {
   "cell_type": "code",
   "execution_count": 43,
   "metadata": {
    "collapsed": true
   },
   "outputs": [],
   "source": [
    "# Allow accessing dictionary items as object attributes\n",
    "# https://goodcode.io/articles/python-dict-object/\n",
    "class objdict(dict):\n",
    "    def __getattr__(self, name):\n",
    "        if name in self:\n",
    "            return self[name]\n",
    "        else:\n",
    "            raise AttributeError(\"No such attribute: \" + name)\n",
    "\n",
    "    def __setattr__(self, name, value):\n",
    "        self[name] = value\n",
    "\n",
    "    def __delattr__(self, name):\n",
    "        if name in self:\n",
    "            del self[name]\n",
    "        else:\n",
    "            raise AttributeError(\"No such attribute: \" + name)"
   ]
  },
  {
   "cell_type": "code",
   "execution_count": 44,
   "metadata": {
    "collapsed": true
   },
   "outputs": [],
   "source": [
    "# Fetch the given url using a GET requests with the supplied parameters\n",
    "def get_page(url, params=None):\n",
    "    r = requests.get(url, params)\n",
    "    \n",
    "     # Check whether the request succeeded or not\n",
    "    if r.status_code is not requests.codes.ok:\n",
    "        print(\"Something went wrong. Got status code = \" + str(r.status_code))\n",
    "        return None\n",
    "    \n",
    "    # TODO: Check Content-Length\n",
    "    \n",
    "    # Extract the response body\n",
    "    html = r.text\n",
    "    \n",
    "    # Parse it with BeautifulSoup\n",
    "    return BeautifulSoup(html, 'html.parser')"
   ]
  },
  {
   "cell_type": "markdown",
   "metadata": {},
   "source": [
    "## Part 1 - Scraper Module"
   ]
  },
  {
   "cell_type": "markdown",
   "metadata": {},
   "source": [
    "The first step is to fetch all the data from ISA.\n",
    "\n",
    "To do this, we will have to scrape the respective frames that ISA serves for the form and then the search results. Steps are detailed below."
   ]
  },
  {
   "cell_type": "code",
   "execution_count": 45,
   "metadata": {
    "collapsed": false
   },
   "outputs": [],
   "source": [
    "# URL of the public ISA home page.\n",
    "isa_home_url = isa_url('%21gedpublicreports.htm?ww_i_reportmodel=133685247')"
   ]
  },
  {
   "cell_type": "markdown",
   "metadata": {},
   "source": [
    "#### Get the form URL from the home page"
   ]
  },
  {
   "cell_type": "code",
   "execution_count": 46,
   "metadata": {
    "collapsed": false
   },
   "outputs": [],
   "source": [
    "home_soup = get_page(isa_home_url)"
   ]
  },
  {
   "cell_type": "code",
   "execution_count": 47,
   "metadata": {
    "collapsed": false
   },
   "outputs": [],
   "source": [
    "# Find the form frame\n",
    "toc_frame = home_soup.find('frame', attrs={'name': 'toc'})"
   ]
  },
  {
   "cell_type": "code",
   "execution_count": 48,
   "metadata": {
    "collapsed": false
   },
   "outputs": [
    {
     "data": {
      "text/plain": [
       "'!GEDPUBLICREPORTS.filter?ww_i_reportModel=133685247'"
      ]
     },
     "execution_count": 48,
     "metadata": {},
     "output_type": "execute_result"
    }
   ],
   "source": [
    "# Extract the form's URL\n",
    "toc_frame_url = toc_frame.attrs['src']\n",
    "toc_frame_url # Sanity check"
   ]
  },
  {
   "cell_type": "code",
   "execution_count": 49,
   "metadata": {
    "collapsed": false
   },
   "outputs": [],
   "source": [
    "# Repeat previous process for the form's frame\n",
    "toc_url = isa_url(toc_frame_url)"
   ]
  },
  {
   "cell_type": "markdown",
   "metadata": {},
   "source": [
    "#### Get the form"
   ]
  },
  {
   "cell_type": "code",
   "execution_count": 50,
   "metadata": {
    "collapsed": false
   },
   "outputs": [],
   "source": [
    "toc_soup = get_page(toc_url)"
   ]
  },
  {
   "cell_type": "code",
   "execution_count": 51,
   "metadata": {
    "collapsed": true
   },
   "outputs": [],
   "source": [
    "# Find the form itself within the page\n",
    "# The form's name is a heuristic, read from the page's source\n",
    "form_elem = toc_soup.find('form', attrs={'name': 'f'})"
   ]
  },
  {
   "cell_type": "code",
   "execution_count": 52,
   "metadata": {
    "collapsed": false
   },
   "outputs": [
    {
     "data": {
      "text/plain": [
       "'http://isa.epfl.ch/imoniteur_ISAP/!GEDPUBLICREPORTS.filter'"
      ]
     },
     "execution_count": 52,
     "metadata": {},
     "output_type": "execute_result"
    }
   ],
   "source": [
    "# Find the form's action on validation\n",
    "form_action = form_elem['action']\n",
    "form_action_url = isa_url(form_action)\n",
    "form_action_url # Debug print"
   ]
  },
  {
   "cell_type": "code",
   "execution_count": 53,
   "metadata": {
    "collapsed": false
   },
   "outputs": [],
   "source": [
    "# Define a payload dictionary with all the parameters expected by ISA's API endpoint\n",
    "\n",
    "# /!\\ By default we will request all possibilities from the endpoint, and then filter. /!\\ #\n",
    "\n",
    "# Example requests for specific academic or pedagogic periods are left FYI.\n",
    "\n",
    "payload = {\n",
    "    'ww_b_list': '1',\n",
    "    'ww_i_reportmodel': '133685247',\n",
    "    'ww_c_langue': '',\n",
    "    \n",
    "    # Format = html\n",
    "    'ww_i_reportModelXsl': '133685270', \n",
    "    \n",
    "    # Faculty = { Informatique : 249847 }\n",
    "    'zz_x_UNITE_ACAD': 'Informatique',\n",
    "    'ww_x_UNITE_ACAD': '249847',\n",
    "    \n",
    "    # Academic Period = { '' : null } if we want all possible periods\n",
    "    #                 = { '2016-2017' : 355925344 } for a specific year\n",
    "    'zz_x_PERIODE_ACAD': '',\n",
    "    'ww_x_PERIODE_ACAD': 'null',\n",
    "\n",
    "    \n",
    "    # Pedagogic Period = { '' : null } if we want all possible periods\n",
    "    #                  = { 'Bachelor semestre 1' : 249108 } for a specific period\n",
    "    'zz_x_PERIODE_PEDAGO': '',\n",
    "    'ww_x_PERIODE_PEDAGO': 'null',\n",
    "    \n",
    "    # Winter or summer semesters\n",
    "    'zz_x_HIVERETE': '',\n",
    "    'ww_x_HIVERETE': 'null',\n",
    "    \n",
    "    'dummy': 'ok'\n",
    "}"
   ]
  },
  {
   "cell_type": "markdown",
   "metadata": {},
   "source": [
    "#### Fill in the form and parse the search results"
   ]
  },
  {
   "cell_type": "code",
   "execution_count": 54,
   "metadata": {
    "collapsed": true
   },
   "outputs": [],
   "source": [
    "# Parse the result\n",
    "form_result_soup = get_page(form_action_url, params=payload)\n",
    "# form_result_soup.prettify() # Debug print"
   ]
  },
  {
   "cell_type": "code",
   "execution_count": 55,
   "metadata": {
    "collapsed": true
   },
   "outputs": [],
   "source": [
    "# Extract the links from the list of results\n",
    "all_links = form_result_soup('a', class_='ww_x_GPS')\n",
    "# all_links # Debug print"
   ]
  },
  {
   "cell_type": "code",
   "execution_count": 56,
   "metadata": {
    "collapsed": true
   },
   "outputs": [],
   "source": [
    "# Store the links in a dictionary. Some cleaning is applied, such as whitespace stripping\n",
    "# Note : removing 'Tous' allows us to iterate and filter independently each result\n",
    "#        instead of an aggregate HTML table which would be much more painful to parse\n",
    "links = [\n",
    "    objdict({\n",
    "        'text': link.text.strip(),\n",
    "        'url': link.attrs['onclick']\n",
    "    }) for link in all_links if link.text.strip() != 'Tous'\n",
    "]"
   ]
  },
  {
   "cell_type": "markdown",
   "metadata": {},
   "source": [
    "For each link,the page loads the respective results with the following on-click action :\n",
    "\n",
    "```\n",
    "loadReport('ww_x_GPS=2021043255');return false;\n",
    "```\n",
    "\n",
    "We will use the following function ```parse_url()``` to extract the ```ww_x_GPS``` parameter expected by the API to return the desired information about the students."
   ]
  },
  {
   "cell_type": "code",
   "execution_count": 57,
   "metadata": {
    "collapsed": true
   },
   "outputs": [],
   "source": [
    "parse_url_pattern = r\"\"\"'(\\w+)=(\\d+)'\"\"\"\n",
    "parse_url_re = re.compile(parse_url_pattern)\n",
    "\n",
    "def parse_url(url):\n",
    "    match = re.search(parse_url_pattern, url)\n",
    "\n",
    "    if match == None:\n",
    "        print('parse_url: parsing failure: %s' % url)\n",
    "        return None\n",
    "    \n",
    "    return objdict({\n",
    "        'key': match.group(1),\n",
    "        'value': match.group(2)\n",
    "    })"
   ]
  },
  {
   "cell_type": "markdown",
   "metadata": {},
   "source": [
    "The list itself must be parsed to extract information regarding section, academic year, pedagogic period. The format is the following :\n",
    "\n",
    "```\n",
    "Informatique, 2016-2017, Bachelor semestre 1\n",
    "```\n",
    "\n",
    "We call an element of the list an item, and it will be parsed by the following ```parse_item()``` function."
   ]
  },
  {
   "cell_type": "code",
   "execution_count": 58,
   "metadata": {
    "collapsed": false
   },
   "outputs": [],
   "source": [
    "parse_item_pattern = r\"\"\"Informatique,\\s*(?P<start_year>\\d+)-(?P<end_year>\\d+),\\s*(?P<degree>[\\w]+) semestre (?P<semester>\\d)\"\"\"\n",
    "parse_item_re = re.compile(parse_item_pattern)\n",
    "\n",
    "def parse_item(item, url, payload):\n",
    "    match = re.match(parse_item_re, item)\n",
    "    \n",
    "    # The above regex will match only the kind of records we are interested in, so we can\n",
    "    # safely drop all the non-matching ones\n",
    "    if match == None:\n",
    "        # print('Match failed: %s ' % item)\n",
    "        return None\n",
    "    \n",
    "    parsed_url = parse_url(url)\n",
    "    \n",
    "    if parsed_url == None:\n",
    "        return None\n",
    "    \n",
    "    params = payload.copy()\n",
    "    params[parsed_url.key] = parsed_url.value\n",
    "    \n",
    "    return objdict({\n",
    "        'start_year': int(match.group('start_year')),\n",
    "        'end_year': int(match.group('end_year')),\n",
    "        'degree': match.group('degree'),\n",
    "        'semester': int(match.group('semester')),\n",
    "        'params': params\n",
    "    })\n",
    "\n",
    "# Filter all None elements from the given list\n",
    "def filter_none(a_list):\n",
    "    return [item for item in a_list if item != None]"
   ]
  },
  {
   "cell_type": "code",
   "execution_count": 59,
   "metadata": {
    "collapsed": false
   },
   "outputs": [],
   "source": [
    "all_items = [parse_item(link.text, link.url, payload) for link in links]"
   ]
  },
  {
   "cell_type": "code",
   "execution_count": 60,
   "metadata": {
    "collapsed": false
   },
   "outputs": [],
   "source": [
    "def is_valid_item(item):\n",
    "    return item != None and item.start_year >= 2007 and item.end_year <= 2017\n",
    "\n",
    "def filter_items(items):\n",
    "    return [item for item in items if is_valid_item(item)]"
   ]
  },
  {
   "cell_type": "code",
   "execution_count": 61,
   "metadata": {
    "collapsed": false
   },
   "outputs": [],
   "source": [
    "items = filter_items(all_items)"
   ]
  },
  {
   "cell_type": "markdown",
   "metadata": {},
   "source": [
    "#### Going through the years to extract the list of enrolled students"
   ]
  },
  {
   "cell_type": "code",
   "execution_count": 62,
   "metadata": {
    "collapsed": false
   },
   "outputs": [],
   "source": [
    "list_page_url = isa_url('!GEDPUBLICREPORTS.html')\n",
    "\n",
    "def parse_student_row(tr, item, headers):\n",
    "    tds = tr.find_all('td')\n",
    "    texts = [td.text for td in tds]\n",
    "    \n",
    "    res = {}\n",
    "    for i, header in enumerate(headers):\n",
    "        res[header] = texts[i]\n",
    "    \n",
    "    item_keys = ['degree', 'semester', 'start_year', 'end_year']\n",
    "    for key in item_keys:\n",
    "        res[key] = item[key]\n",
    "    \n",
    "    return objdict(res)\n",
    "\n",
    "def parse_students_list(page_soup, item):\n",
    "    table = page_soup.find('table')\n",
    "    trs = table.find_all('tr')\n",
    "    \n",
    "    if len(trs) < 3:\n",
    "        return []\n",
    "    \n",
    "    (header_row, students_rows) = (trs[1], trs[2:])\n",
    "        \n",
    "    headers = [x.text for x in header_row.find_all('th')]\n",
    "    \n",
    "    return [\n",
    "        parse_student_row(student_row, item, headers) for student_row in students_rows\n",
    "    ]\n",
    "\n",
    "def load_student_page(item):\n",
    "    return objdict({\n",
    "        'soup': get_page(list_page_url, item.params),\n",
    "        'item': item\n",
    "    })\n",
    "\n",
    "def flatten_list(a_list):\n",
    "    return [item for sublist in a_list for item in sublist]\n",
    "\n",
    "# TODO: Add logging statements above to see the progress"
   ]
  },
  {
   "cell_type": "code",
   "execution_count": 63,
   "metadata": {
    "collapsed": true
   },
   "outputs": [],
   "source": [
    "load_from_disk = True\n",
    "save_path = \"students_data.p\"\n",
    "\n",
    "if load_from_disk:\n",
    "    student_list = pickle.load(open(save_path, 'rb'))\n",
    "else:\n",
    "    students_pages = [load_student_page(item) for item in items]\n",
    "\n",
    "    students_lists = [\n",
    "        parse_students_list(page.soup, page.item) for page in students_pages\n",
    "    ]\n",
    "\n",
    "    student_list = flatten_list(students_lists)\n",
    "    \n",
    "    # Serialize the whole data to disk\n",
    "    pickle.dump(student_list, open(save_path, 'wb'))"
   ]
  },
  {
   "cell_type": "markdown",
   "metadata": {},
   "source": [
    "## Part 2 - Data analysis"
   ]
  },
  {
   "cell_type": "markdown",
   "metadata": {},
   "source": [
    "### Question 1\n",
    "\n",
    "> Keep only the students for which you have an entry for both Bachelor semestre 1 and Bachelor semestre 6. Compute how many months it took each student to go from the first to the sixth semester. Partition the data between male and female students, and compute the average -- is the difference in average statistically significant?"
   ]
  },
  {
   "cell_type": "code",
   "execution_count": 64,
   "metadata": {
    "collapsed": false
   },
   "outputs": [],
   "source": [
    "students_data = pd.DataFrame(student_list)\n",
    "\n",
    "def load_bsc_data(data):\n",
    "    bsc_data = students_data[['No Sciper', 'Civilité', 'Nom Prénom', 'degree', 'semester', 'start_year', 'end_year']]\n",
    "    return bsc_data.rename(columns={'No Sciper': 'sciper', 'Civilité': 'title', 'Nom Prénom': 'name'})\n",
    "    \n",
    "bsc_data = load_bsc_data(students_data)"
   ]
  },
  {
   "cell_type": "code",
   "execution_count": 66,
   "metadata": {
    "collapsed": false
   },
   "outputs": [
    {
     "data": {
      "text/html": [
       "<div>\n",
       "<table border=\"1\" class=\"dataframe\">\n",
       "  <thead>\n",
       "    <tr style=\"text-align: right;\">\n",
       "      <th></th>\n",
       "      <th>title</th>\n",
       "      <th>name</th>\n",
       "      <th>degree</th>\n",
       "      <th>semester</th>\n",
       "      <th>start_year</th>\n",
       "      <th>end_year</th>\n",
       "    </tr>\n",
       "    <tr>\n",
       "      <th>sciper</th>\n",
       "      <th></th>\n",
       "      <th></th>\n",
       "      <th></th>\n",
       "      <th></th>\n",
       "      <th></th>\n",
       "      <th></th>\n",
       "    </tr>\n",
       "  </thead>\n",
       "  <tbody>\n",
       "    <tr>\n",
       "      <th>147008</th>\n",
       "      <td>Monsieur</td>\n",
       "      <td>Good Xavier</td>\n",
       "      <td>Bachelor</td>\n",
       "      <td>4</td>\n",
       "      <td>2009</td>\n",
       "      <td>2010</td>\n",
       "    </tr>\n",
       "    <tr>\n",
       "      <th>147008</th>\n",
       "      <td>Monsieur</td>\n",
       "      <td>Good Xavier</td>\n",
       "      <td>Bachelor</td>\n",
       "      <td>1</td>\n",
       "      <td>2008</td>\n",
       "      <td>2009</td>\n",
       "    </tr>\n",
       "    <tr>\n",
       "      <th>147008</th>\n",
       "      <td>Monsieur</td>\n",
       "      <td>Good Xavier</td>\n",
       "      <td>Bachelor</td>\n",
       "      <td>2</td>\n",
       "      <td>2008</td>\n",
       "      <td>2009</td>\n",
       "    </tr>\n",
       "    <tr>\n",
       "      <th>147008</th>\n",
       "      <td>Monsieur</td>\n",
       "      <td>Good Xavier</td>\n",
       "      <td>Bachelor</td>\n",
       "      <td>3</td>\n",
       "      <td>2009</td>\n",
       "      <td>2010</td>\n",
       "    </tr>\n",
       "    <tr>\n",
       "      <th>147008</th>\n",
       "      <td>Monsieur</td>\n",
       "      <td>Good Xavier</td>\n",
       "      <td>Bachelor</td>\n",
       "      <td>6</td>\n",
       "      <td>2010</td>\n",
       "      <td>2011</td>\n",
       "    </tr>\n",
       "    <tr>\n",
       "      <th>147008</th>\n",
       "      <td>Monsieur</td>\n",
       "      <td>Good Xavier</td>\n",
       "      <td>Bachelor</td>\n",
       "      <td>5</td>\n",
       "      <td>2010</td>\n",
       "      <td>2011</td>\n",
       "    </tr>\n",
       "    <tr>\n",
       "      <th>169569</th>\n",
       "      <td>Monsieur</td>\n",
       "      <td>Arévalo Christian</td>\n",
       "      <td>Bachelor</td>\n",
       "      <td>3</td>\n",
       "      <td>2008</td>\n",
       "      <td>2009</td>\n",
       "    </tr>\n",
       "    <tr>\n",
       "      <th>169569</th>\n",
       "      <td>Monsieur</td>\n",
       "      <td>Arévalo Christian</td>\n",
       "      <td>Bachelor</td>\n",
       "      <td>4</td>\n",
       "      <td>2008</td>\n",
       "      <td>2009</td>\n",
       "    </tr>\n",
       "    <tr>\n",
       "      <th>169569</th>\n",
       "      <td>Monsieur</td>\n",
       "      <td>Arévalo Christian</td>\n",
       "      <td>Bachelor</td>\n",
       "      <td>2</td>\n",
       "      <td>2007</td>\n",
       "      <td>2008</td>\n",
       "    </tr>\n",
       "    <tr>\n",
       "      <th>169569</th>\n",
       "      <td>Monsieur</td>\n",
       "      <td>Arévalo Christian</td>\n",
       "      <td>Bachelor</td>\n",
       "      <td>5</td>\n",
       "      <td>2009</td>\n",
       "      <td>2010</td>\n",
       "    </tr>\n",
       "    <tr>\n",
       "      <th>169569</th>\n",
       "      <td>Monsieur</td>\n",
       "      <td>Arévalo Christian</td>\n",
       "      <td>Bachelor</td>\n",
       "      <td>6</td>\n",
       "      <td>2009</td>\n",
       "      <td>2010</td>\n",
       "    </tr>\n",
       "    <tr>\n",
       "      <th>169569</th>\n",
       "      <td>Monsieur</td>\n",
       "      <td>Arévalo Christian</td>\n",
       "      <td>Bachelor</td>\n",
       "      <td>1</td>\n",
       "      <td>2007</td>\n",
       "      <td>2008</td>\n",
       "    </tr>\n",
       "    <tr>\n",
       "      <th>169731</th>\n",
       "      <td>Monsieur</td>\n",
       "      <td>Knecht Mathieu</td>\n",
       "      <td>Bachelor</td>\n",
       "      <td>5</td>\n",
       "      <td>2010</td>\n",
       "      <td>2011</td>\n",
       "    </tr>\n",
       "    <tr>\n",
       "      <th>169731</th>\n",
       "      <td>Monsieur</td>\n",
       "      <td>Knecht Mathieu</td>\n",
       "      <td>Bachelor</td>\n",
       "      <td>3</td>\n",
       "      <td>2008</td>\n",
       "      <td>2009</td>\n",
       "    </tr>\n",
       "    <tr>\n",
       "      <th>169731</th>\n",
       "      <td>Monsieur</td>\n",
       "      <td>Knecht Mathieu</td>\n",
       "      <td>Bachelor</td>\n",
       "      <td>4</td>\n",
       "      <td>2008</td>\n",
       "      <td>2009</td>\n",
       "    </tr>\n",
       "    <tr>\n",
       "      <th>169731</th>\n",
       "      <td>Monsieur</td>\n",
       "      <td>Knecht Mathieu</td>\n",
       "      <td>Bachelor</td>\n",
       "      <td>3</td>\n",
       "      <td>2009</td>\n",
       "      <td>2010</td>\n",
       "    </tr>\n",
       "    <tr>\n",
       "      <th>169731</th>\n",
       "      <td>Monsieur</td>\n",
       "      <td>Knecht Mathieu</td>\n",
       "      <td>Bachelor</td>\n",
       "      <td>4</td>\n",
       "      <td>2009</td>\n",
       "      <td>2010</td>\n",
       "    </tr>\n",
       "    <tr>\n",
       "      <th>169731</th>\n",
       "      <td>Monsieur</td>\n",
       "      <td>Knecht Mathieu</td>\n",
       "      <td>Bachelor</td>\n",
       "      <td>6</td>\n",
       "      <td>2010</td>\n",
       "      <td>2011</td>\n",
       "    </tr>\n",
       "    <tr>\n",
       "      <th>169731</th>\n",
       "      <td>Monsieur</td>\n",
       "      <td>Knecht Mathieu</td>\n",
       "      <td>Bachelor</td>\n",
       "      <td>1</td>\n",
       "      <td>2007</td>\n",
       "      <td>2008</td>\n",
       "    </tr>\n",
       "    <tr>\n",
       "      <th>169731</th>\n",
       "      <td>Monsieur</td>\n",
       "      <td>Knecht Mathieu</td>\n",
       "      <td>Bachelor</td>\n",
       "      <td>2</td>\n",
       "      <td>2007</td>\n",
       "      <td>2008</td>\n",
       "    </tr>\n",
       "    <tr>\n",
       "      <th>169795</th>\n",
       "      <td>Monsieur</td>\n",
       "      <td>Scheiben Pascal</td>\n",
       "      <td>Bachelor</td>\n",
       "      <td>6</td>\n",
       "      <td>2010</td>\n",
       "      <td>2011</td>\n",
       "    </tr>\n",
       "    <tr>\n",
       "      <th>169795</th>\n",
       "      <td>Monsieur</td>\n",
       "      <td>Scheiben Pascal</td>\n",
       "      <td>Bachelor</td>\n",
       "      <td>5</td>\n",
       "      <td>2011</td>\n",
       "      <td>2012</td>\n",
       "    </tr>\n",
       "    <tr>\n",
       "      <th>169795</th>\n",
       "      <td>Monsieur</td>\n",
       "      <td>Scheiben Pascal</td>\n",
       "      <td>Bachelor</td>\n",
       "      <td>4</td>\n",
       "      <td>2008</td>\n",
       "      <td>2009</td>\n",
       "    </tr>\n",
       "    <tr>\n",
       "      <th>169795</th>\n",
       "      <td>Monsieur</td>\n",
       "      <td>Scheiben Pascal</td>\n",
       "      <td>Bachelor</td>\n",
       "      <td>5</td>\n",
       "      <td>2010</td>\n",
       "      <td>2011</td>\n",
       "    </tr>\n",
       "    <tr>\n",
       "      <th>169795</th>\n",
       "      <td>Monsieur</td>\n",
       "      <td>Scheiben Pascal</td>\n",
       "      <td>Bachelor</td>\n",
       "      <td>5</td>\n",
       "      <td>2009</td>\n",
       "      <td>2010</td>\n",
       "    </tr>\n",
       "    <tr>\n",
       "      <th>169795</th>\n",
       "      <td>Monsieur</td>\n",
       "      <td>Scheiben Pascal</td>\n",
       "      <td>Bachelor</td>\n",
       "      <td>2</td>\n",
       "      <td>2007</td>\n",
       "      <td>2008</td>\n",
       "    </tr>\n",
       "    <tr>\n",
       "      <th>169795</th>\n",
       "      <td>Monsieur</td>\n",
       "      <td>Scheiben Pascal</td>\n",
       "      <td>Bachelor</td>\n",
       "      <td>1</td>\n",
       "      <td>2007</td>\n",
       "      <td>2008</td>\n",
       "    </tr>\n",
       "    <tr>\n",
       "      <th>169795</th>\n",
       "      <td>Monsieur</td>\n",
       "      <td>Scheiben Pascal</td>\n",
       "      <td>Bachelor</td>\n",
       "      <td>6</td>\n",
       "      <td>2009</td>\n",
       "      <td>2010</td>\n",
       "    </tr>\n",
       "    <tr>\n",
       "      <th>169795</th>\n",
       "      <td>Monsieur</td>\n",
       "      <td>Scheiben Pascal</td>\n",
       "      <td>Bachelor</td>\n",
       "      <td>3</td>\n",
       "      <td>2008</td>\n",
       "      <td>2009</td>\n",
       "    </tr>\n",
       "    <tr>\n",
       "      <th>171195</th>\n",
       "      <td>Monsieur</td>\n",
       "      <td>Richter Arnaud</td>\n",
       "      <td>Bachelor</td>\n",
       "      <td>4</td>\n",
       "      <td>2008</td>\n",
       "      <td>2009</td>\n",
       "    </tr>\n",
       "    <tr>\n",
       "      <th>...</th>\n",
       "      <td>...</td>\n",
       "      <td>...</td>\n",
       "      <td>...</td>\n",
       "      <td>...</td>\n",
       "      <td>...</td>\n",
       "      <td>...</td>\n",
       "    </tr>\n",
       "    <tr>\n",
       "      <th>250300</th>\n",
       "      <td>Monsieur</td>\n",
       "      <td>Bovel Matthieu Alexandre</td>\n",
       "      <td>Bachelor</td>\n",
       "      <td>5</td>\n",
       "      <td>2016</td>\n",
       "      <td>2017</td>\n",
       "    </tr>\n",
       "    <tr>\n",
       "      <th>250300</th>\n",
       "      <td>Monsieur</td>\n",
       "      <td>Bovel Matthieu Alexandre</td>\n",
       "      <td>Bachelor</td>\n",
       "      <td>1</td>\n",
       "      <td>2014</td>\n",
       "      <td>2015</td>\n",
       "    </tr>\n",
       "    <tr>\n",
       "      <th>250300</th>\n",
       "      <td>Monsieur</td>\n",
       "      <td>Bovel Matthieu Alexandre</td>\n",
       "      <td>Bachelor</td>\n",
       "      <td>6</td>\n",
       "      <td>2016</td>\n",
       "      <td>2017</td>\n",
       "    </tr>\n",
       "    <tr>\n",
       "      <th>250300</th>\n",
       "      <td>Monsieur</td>\n",
       "      <td>Bovel Matthieu Alexandre</td>\n",
       "      <td>Bachelor</td>\n",
       "      <td>4</td>\n",
       "      <td>2015</td>\n",
       "      <td>2016</td>\n",
       "    </tr>\n",
       "    <tr>\n",
       "      <th>250300</th>\n",
       "      <td>Monsieur</td>\n",
       "      <td>Bovel Matthieu Alexandre</td>\n",
       "      <td>Bachelor</td>\n",
       "      <td>2</td>\n",
       "      <td>2014</td>\n",
       "      <td>2015</td>\n",
       "    </tr>\n",
       "    <tr>\n",
       "      <th>250300</th>\n",
       "      <td>Monsieur</td>\n",
       "      <td>Bovel Matthieu Alexandre</td>\n",
       "      <td>Bachelor</td>\n",
       "      <td>3</td>\n",
       "      <td>2015</td>\n",
       "      <td>2016</td>\n",
       "    </tr>\n",
       "    <tr>\n",
       "      <th>250362</th>\n",
       "      <td>Monsieur</td>\n",
       "      <td>Rigori Valentin Joseph</td>\n",
       "      <td>Bachelor</td>\n",
       "      <td>4</td>\n",
       "      <td>2015</td>\n",
       "      <td>2016</td>\n",
       "    </tr>\n",
       "    <tr>\n",
       "      <th>250362</th>\n",
       "      <td>Monsieur</td>\n",
       "      <td>Rigori Valentin Joseph</td>\n",
       "      <td>Bachelor</td>\n",
       "      <td>3</td>\n",
       "      <td>2015</td>\n",
       "      <td>2016</td>\n",
       "    </tr>\n",
       "    <tr>\n",
       "      <th>250362</th>\n",
       "      <td>Monsieur</td>\n",
       "      <td>Rigori Valentin Joseph</td>\n",
       "      <td>Bachelor</td>\n",
       "      <td>2</td>\n",
       "      <td>2014</td>\n",
       "      <td>2015</td>\n",
       "    </tr>\n",
       "    <tr>\n",
       "      <th>250362</th>\n",
       "      <td>Monsieur</td>\n",
       "      <td>Rigori Valentin Joseph</td>\n",
       "      <td>Bachelor</td>\n",
       "      <td>1</td>\n",
       "      <td>2014</td>\n",
       "      <td>2015</td>\n",
       "    </tr>\n",
       "    <tr>\n",
       "      <th>250362</th>\n",
       "      <td>Monsieur</td>\n",
       "      <td>Rigori Valentin Joseph</td>\n",
       "      <td>Bachelor</td>\n",
       "      <td>6</td>\n",
       "      <td>2016</td>\n",
       "      <td>2017</td>\n",
       "    </tr>\n",
       "    <tr>\n",
       "      <th>250362</th>\n",
       "      <td>Monsieur</td>\n",
       "      <td>Rigori Valentin Joseph</td>\n",
       "      <td>Bachelor</td>\n",
       "      <td>5</td>\n",
       "      <td>2016</td>\n",
       "      <td>2017</td>\n",
       "    </tr>\n",
       "    <tr>\n",
       "      <th>250703</th>\n",
       "      <td>Monsieur</td>\n",
       "      <td>Madillo Raphael Frederic</td>\n",
       "      <td>Bachelor</td>\n",
       "      <td>4</td>\n",
       "      <td>2015</td>\n",
       "      <td>2016</td>\n",
       "    </tr>\n",
       "    <tr>\n",
       "      <th>250703</th>\n",
       "      <td>Monsieur</td>\n",
       "      <td>Madillo Raphael Frederic</td>\n",
       "      <td>Bachelor</td>\n",
       "      <td>3</td>\n",
       "      <td>2015</td>\n",
       "      <td>2016</td>\n",
       "    </tr>\n",
       "    <tr>\n",
       "      <th>250703</th>\n",
       "      <td>Monsieur</td>\n",
       "      <td>Madillo Raphael Frederic</td>\n",
       "      <td>Bachelor</td>\n",
       "      <td>1</td>\n",
       "      <td>2014</td>\n",
       "      <td>2015</td>\n",
       "    </tr>\n",
       "    <tr>\n",
       "      <th>250703</th>\n",
       "      <td>Monsieur</td>\n",
       "      <td>Madillo Raphael Frederic</td>\n",
       "      <td>Bachelor</td>\n",
       "      <td>6</td>\n",
       "      <td>2016</td>\n",
       "      <td>2017</td>\n",
       "    </tr>\n",
       "    <tr>\n",
       "      <th>250703</th>\n",
       "      <td>Monsieur</td>\n",
       "      <td>Madillo Raphael Frederic</td>\n",
       "      <td>Bachelor</td>\n",
       "      <td>2</td>\n",
       "      <td>2014</td>\n",
       "      <td>2015</td>\n",
       "    </tr>\n",
       "    <tr>\n",
       "      <th>250703</th>\n",
       "      <td>Monsieur</td>\n",
       "      <td>Madillo Raphael Frederic</td>\n",
       "      <td>Bachelor</td>\n",
       "      <td>5</td>\n",
       "      <td>2016</td>\n",
       "      <td>2017</td>\n",
       "    </tr>\n",
       "    <tr>\n",
       "      <th>251758</th>\n",
       "      <td>Monsieur</td>\n",
       "      <td>Benlalah Ali</td>\n",
       "      <td>Bachelor</td>\n",
       "      <td>3</td>\n",
       "      <td>2015</td>\n",
       "      <td>2016</td>\n",
       "    </tr>\n",
       "    <tr>\n",
       "      <th>251758</th>\n",
       "      <td>Monsieur</td>\n",
       "      <td>Benlalah Ali</td>\n",
       "      <td>Bachelor</td>\n",
       "      <td>1</td>\n",
       "      <td>2014</td>\n",
       "      <td>2015</td>\n",
       "    </tr>\n",
       "    <tr>\n",
       "      <th>251758</th>\n",
       "      <td>Monsieur</td>\n",
       "      <td>Benlalah Ali</td>\n",
       "      <td>Bachelor</td>\n",
       "      <td>5</td>\n",
       "      <td>2016</td>\n",
       "      <td>2017</td>\n",
       "    </tr>\n",
       "    <tr>\n",
       "      <th>251758</th>\n",
       "      <td>Monsieur</td>\n",
       "      <td>Benlalah Ali</td>\n",
       "      <td>Bachelor</td>\n",
       "      <td>6</td>\n",
       "      <td>2016</td>\n",
       "      <td>2017</td>\n",
       "    </tr>\n",
       "    <tr>\n",
       "      <th>251758</th>\n",
       "      <td>Monsieur</td>\n",
       "      <td>Benlalah Ali</td>\n",
       "      <td>Bachelor</td>\n",
       "      <td>2</td>\n",
       "      <td>2014</td>\n",
       "      <td>2015</td>\n",
       "    </tr>\n",
       "    <tr>\n",
       "      <th>251758</th>\n",
       "      <td>Monsieur</td>\n",
       "      <td>Benlalah Ali</td>\n",
       "      <td>Bachelor</td>\n",
       "      <td>4</td>\n",
       "      <td>2015</td>\n",
       "      <td>2016</td>\n",
       "    </tr>\n",
       "    <tr>\n",
       "      <th>251759</th>\n",
       "      <td>Monsieur</td>\n",
       "      <td>Alami-Idrissi Ali</td>\n",
       "      <td>Bachelor</td>\n",
       "      <td>5</td>\n",
       "      <td>2016</td>\n",
       "      <td>2017</td>\n",
       "    </tr>\n",
       "    <tr>\n",
       "      <th>251759</th>\n",
       "      <td>Monsieur</td>\n",
       "      <td>Alami-Idrissi Ali</td>\n",
       "      <td>Bachelor</td>\n",
       "      <td>6</td>\n",
       "      <td>2016</td>\n",
       "      <td>2017</td>\n",
       "    </tr>\n",
       "    <tr>\n",
       "      <th>251759</th>\n",
       "      <td>Monsieur</td>\n",
       "      <td>Alami-Idrissi Ali</td>\n",
       "      <td>Bachelor</td>\n",
       "      <td>2</td>\n",
       "      <td>2014</td>\n",
       "      <td>2015</td>\n",
       "    </tr>\n",
       "    <tr>\n",
       "      <th>251759</th>\n",
       "      <td>Monsieur</td>\n",
       "      <td>Alami-Idrissi Ali</td>\n",
       "      <td>Bachelor</td>\n",
       "      <td>1</td>\n",
       "      <td>2014</td>\n",
       "      <td>2015</td>\n",
       "    </tr>\n",
       "    <tr>\n",
       "      <th>251759</th>\n",
       "      <td>Monsieur</td>\n",
       "      <td>Alami-Idrissi Ali</td>\n",
       "      <td>Bachelor</td>\n",
       "      <td>4</td>\n",
       "      <td>2015</td>\n",
       "      <td>2016</td>\n",
       "    </tr>\n",
       "    <tr>\n",
       "      <th>251759</th>\n",
       "      <td>Monsieur</td>\n",
       "      <td>Alami-Idrissi Ali</td>\n",
       "      <td>Bachelor</td>\n",
       "      <td>3</td>\n",
       "      <td>2015</td>\n",
       "      <td>2016</td>\n",
       "    </tr>\n",
       "  </tbody>\n",
       "</table>\n",
       "<p>2812 rows × 6 columns</p>\n",
       "</div>"
      ],
      "text/plain": [
       "           title                      name    degree  semester  start_year  \\\n",
       "sciper                                                                       \n",
       "147008  Monsieur               Good Xavier  Bachelor         4        2009   \n",
       "147008  Monsieur               Good Xavier  Bachelor         1        2008   \n",
       "147008  Monsieur               Good Xavier  Bachelor         2        2008   \n",
       "147008  Monsieur               Good Xavier  Bachelor         3        2009   \n",
       "147008  Monsieur               Good Xavier  Bachelor         6        2010   \n",
       "147008  Monsieur               Good Xavier  Bachelor         5        2010   \n",
       "169569  Monsieur         Arévalo Christian  Bachelor         3        2008   \n",
       "169569  Monsieur         Arévalo Christian  Bachelor         4        2008   \n",
       "169569  Monsieur         Arévalo Christian  Bachelor         2        2007   \n",
       "169569  Monsieur         Arévalo Christian  Bachelor         5        2009   \n",
       "169569  Monsieur         Arévalo Christian  Bachelor         6        2009   \n",
       "169569  Monsieur         Arévalo Christian  Bachelor         1        2007   \n",
       "169731  Monsieur            Knecht Mathieu  Bachelor         5        2010   \n",
       "169731  Monsieur            Knecht Mathieu  Bachelor         3        2008   \n",
       "169731  Monsieur            Knecht Mathieu  Bachelor         4        2008   \n",
       "169731  Monsieur            Knecht Mathieu  Bachelor         3        2009   \n",
       "169731  Monsieur            Knecht Mathieu  Bachelor         4        2009   \n",
       "169731  Monsieur            Knecht Mathieu  Bachelor         6        2010   \n",
       "169731  Monsieur            Knecht Mathieu  Bachelor         1        2007   \n",
       "169731  Monsieur            Knecht Mathieu  Bachelor         2        2007   \n",
       "169795  Monsieur           Scheiben Pascal  Bachelor         6        2010   \n",
       "169795  Monsieur           Scheiben Pascal  Bachelor         5        2011   \n",
       "169795  Monsieur           Scheiben Pascal  Bachelor         4        2008   \n",
       "169795  Monsieur           Scheiben Pascal  Bachelor         5        2010   \n",
       "169795  Monsieur           Scheiben Pascal  Bachelor         5        2009   \n",
       "169795  Monsieur           Scheiben Pascal  Bachelor         2        2007   \n",
       "169795  Monsieur           Scheiben Pascal  Bachelor         1        2007   \n",
       "169795  Monsieur           Scheiben Pascal  Bachelor         6        2009   \n",
       "169795  Monsieur           Scheiben Pascal  Bachelor         3        2008   \n",
       "171195  Monsieur            Richter Arnaud  Bachelor         4        2008   \n",
       "...          ...                       ...       ...       ...         ...   \n",
       "250300  Monsieur  Bovel Matthieu Alexandre  Bachelor         5        2016   \n",
       "250300  Monsieur  Bovel Matthieu Alexandre  Bachelor         1        2014   \n",
       "250300  Monsieur  Bovel Matthieu Alexandre  Bachelor         6        2016   \n",
       "250300  Monsieur  Bovel Matthieu Alexandre  Bachelor         4        2015   \n",
       "250300  Monsieur  Bovel Matthieu Alexandre  Bachelor         2        2014   \n",
       "250300  Monsieur  Bovel Matthieu Alexandre  Bachelor         3        2015   \n",
       "250362  Monsieur    Rigori Valentin Joseph  Bachelor         4        2015   \n",
       "250362  Monsieur    Rigori Valentin Joseph  Bachelor         3        2015   \n",
       "250362  Monsieur    Rigori Valentin Joseph  Bachelor         2        2014   \n",
       "250362  Monsieur    Rigori Valentin Joseph  Bachelor         1        2014   \n",
       "250362  Monsieur    Rigori Valentin Joseph  Bachelor         6        2016   \n",
       "250362  Monsieur    Rigori Valentin Joseph  Bachelor         5        2016   \n",
       "250703  Monsieur  Madillo Raphael Frederic  Bachelor         4        2015   \n",
       "250703  Monsieur  Madillo Raphael Frederic  Bachelor         3        2015   \n",
       "250703  Monsieur  Madillo Raphael Frederic  Bachelor         1        2014   \n",
       "250703  Monsieur  Madillo Raphael Frederic  Bachelor         6        2016   \n",
       "250703  Monsieur  Madillo Raphael Frederic  Bachelor         2        2014   \n",
       "250703  Monsieur  Madillo Raphael Frederic  Bachelor         5        2016   \n",
       "251758  Monsieur              Benlalah Ali  Bachelor         3        2015   \n",
       "251758  Monsieur              Benlalah Ali  Bachelor         1        2014   \n",
       "251758  Monsieur              Benlalah Ali  Bachelor         5        2016   \n",
       "251758  Monsieur              Benlalah Ali  Bachelor         6        2016   \n",
       "251758  Monsieur              Benlalah Ali  Bachelor         2        2014   \n",
       "251758  Monsieur              Benlalah Ali  Bachelor         4        2015   \n",
       "251759  Monsieur         Alami-Idrissi Ali  Bachelor         5        2016   \n",
       "251759  Monsieur         Alami-Idrissi Ali  Bachelor         6        2016   \n",
       "251759  Monsieur         Alami-Idrissi Ali  Bachelor         2        2014   \n",
       "251759  Monsieur         Alami-Idrissi Ali  Bachelor         1        2014   \n",
       "251759  Monsieur         Alami-Idrissi Ali  Bachelor         4        2015   \n",
       "251759  Monsieur         Alami-Idrissi Ali  Bachelor         3        2015   \n",
       "\n",
       "        end_year  \n",
       "sciper            \n",
       "147008      2010  \n",
       "147008      2009  \n",
       "147008      2009  \n",
       "147008      2010  \n",
       "147008      2011  \n",
       "147008      2011  \n",
       "169569      2009  \n",
       "169569      2009  \n",
       "169569      2008  \n",
       "169569      2010  \n",
       "169569      2010  \n",
       "169569      2008  \n",
       "169731      2011  \n",
       "169731      2009  \n",
       "169731      2009  \n",
       "169731      2010  \n",
       "169731      2010  \n",
       "169731      2011  \n",
       "169731      2008  \n",
       "169731      2008  \n",
       "169795      2011  \n",
       "169795      2012  \n",
       "169795      2009  \n",
       "169795      2011  \n",
       "169795      2010  \n",
       "169795      2008  \n",
       "169795      2008  \n",
       "169795      2010  \n",
       "169795      2009  \n",
       "171195      2009  \n",
       "...          ...  \n",
       "250300      2017  \n",
       "250300      2015  \n",
       "250300      2017  \n",
       "250300      2016  \n",
       "250300      2015  \n",
       "250300      2016  \n",
       "250362      2016  \n",
       "250362      2016  \n",
       "250362      2015  \n",
       "250362      2015  \n",
       "250362      2017  \n",
       "250362      2017  \n",
       "250703      2016  \n",
       "250703      2016  \n",
       "250703      2015  \n",
       "250703      2017  \n",
       "250703      2015  \n",
       "250703      2017  \n",
       "251758      2016  \n",
       "251758      2015  \n",
       "251758      2017  \n",
       "251758      2017  \n",
       "251758      2015  \n",
       "251758      2016  \n",
       "251759      2017  \n",
       "251759      2017  \n",
       "251759      2015  \n",
       "251759      2015  \n",
       "251759      2016  \n",
       "251759      2016  \n",
       "\n",
       "[2812 rows x 6 columns]"
      ]
     },
     "execution_count": 66,
     "metadata": {},
     "output_type": "execute_result"
    }
   ],
   "source": [
    "def filter_bsc_students(bsc_data):\n",
    "    bsc_students = bsc_data[bsc_data['degree'] == 'Bachelor']\n",
    "    idx1 = set(bsc_students[bsc_students['semester'] == 1].set_index('sciper').index)\n",
    "    idx6 = set(bsc_students[bsc_students['semester'] == 6].set_index('sciper').index)\n",
    "\n",
    "    idx = idx1.intersection(idx6)\n",
    "\n",
    "    return bsc_students[bsc_students['sciper'].isin(idx)].set_index('sciper').sort_index()\n",
    "\n",
    "bsc = filter_bsc_students(bsc_data)\n",
    "bsc"
   ]
  },
  {
   "cell_type": "code",
   "execution_count": null,
   "metadata": {
    "collapsed": false
   },
   "outputs": [],
   "source": [
    "def add_semesters_count(bsc):\n",
    "    cols = ['sciper', 'semester']\n",
    "    semester_count = bsc.reset_index()[cols].groupby('sciper').count().rename(columns={'semester': 'semester_count'})\n",
    "    return bsc.merge(semester_count, left_index=True, right_index=True)\n",
    "    \n",
    "with_counts = add_semesters_count(bsc)\n",
    "with_counts.head(20)"
   ]
  },
  {
   "cell_type": "code",
   "execution_count": null,
   "metadata": {
    "collapsed": false
   },
   "outputs": [],
   "source": [
    "abc = with_count[['title', 'name', 'semester_count']].reset_index().groupby('sciper').agg('first')\n",
    "abc.sample(10)"
   ]
  },
  {
   "cell_type": "code",
   "execution_count": null,
   "metadata": {
    "collapsed": false
   },
   "outputs": [],
   "source": [
    "by_title = abc.groupby('title')\n",
    "by_title['semester_count'].describe()"
   ]
  },
  {
   "cell_type": "markdown",
   "metadata": {},
   "source": [
    "### Question 2\n",
    "\n",
    "> Perform a similar operation to what described above, this time for Master students. Notice that this data is more tricky, as there are many missing records in the IS-Academia database. Therefore, try to guess how much time a master student spent at EPFL by at least checking the distance in months between Master semestre 1 and Master semestre 2. If the Mineur field is not empty, the student should also appear registered in Master semestre 3. Last but not the least, don't forget to check if the student has an entry also in the Projet Master tables. Once you can handle well this data, compute the \"average stay at EPFL\" for master students. Now extract all the students with a Spécialisation and compute the \"average stay\" per each category of that attribute -- compared to the general average, can you find any specialization for which the difference in average is statistically significant?"
   ]
  },
  {
   "cell_type": "code",
   "execution_count": null,
   "metadata": {
    "collapsed": false
   },
   "outputs": [],
   "source": [
    "def load_msc_data(data):\n",
    "    cols = [\n",
    "        'Civilité', 'No Sciper', 'Nom Prénom', 'Statut',\n",
    "        'Spécialisation', 'Mineur',\n",
    "        'degree', 'semester', 'end_year', 'start_year'\n",
    "    ]\n",
    "    rename = {\n",
    "        'Civilité': 'title',\n",
    "        'No Sciper': 'sciper',\n",
    "        'Nom Prénom': 'name',\n",
    "        'Statut': 'status',\n",
    "        'Spécialisation': 'specialisation',\n",
    "        'Mineur': 'minor'\n",
    "    }\n",
    "    \n",
    "    return students_data[cols].rename(columns=rename)\n",
    "    \n",
    "msc_data = load_msc_data(students_data)\n",
    "\n",
    "def filter_msc_students(students_data):\n",
    "    return students_data[(students_data['degree'] == 'Master') & (students_data['status'] == 'Présent')]\n",
    "\n",
    "msc = filter_msc_students(msc_data).set_index('sciper').sort_index()\n",
    "msc"
   ]
  },
  {
   "cell_type": "code",
   "execution_count": null,
   "metadata": {
    "collapsed": false
   },
   "outputs": [],
   "source": [
    "msc_count = add_semesters_count(msc)\n",
    "msc_count[(msc_count['semester_count'] < 3) & (msc_count['minor'] != '')]"
   ]
  },
  {
   "cell_type": "code",
   "execution_count": null,
   "metadata": {
    "collapsed": false
   },
   "outputs": [],
   "source": [
    "msc_agg = msc_count[['title', 'name', 'minor', 'semester_count']].reset_index().groupby('sciper').agg('first')\n",
    "msc_agg.sample(10)"
   ]
  },
  {
   "cell_type": "code",
   "execution_count": null,
   "metadata": {
    "collapsed": false
   },
   "outputs": [],
   "source": [
    "msc_agg[msc_agg['semester_count'] >= 1].groupby('title').describe()"
   ]
  },
  {
   "cell_type": "code",
   "execution_count": null,
   "metadata": {
    "collapsed": true
   },
   "outputs": [],
   "source": []
  },
  {
   "cell_type": "code",
   "execution_count": null,
   "metadata": {
    "collapsed": true
   },
   "outputs": [],
   "source": []
  }
 ],
 "metadata": {
  "anaconda-cloud": {},
  "kernelspec": {
   "display_name": "Python [Root]",
   "language": "python",
   "name": "Python [Root]"
  },
  "language_info": {
   "codemirror_mode": {
    "name": "ipython",
    "version": 3
   },
   "file_extension": ".py",
   "mimetype": "text/x-python",
   "name": "python",
   "nbconvert_exporter": "python",
   "pygments_lexer": "ipython3",
   "version": "3.5.2"
  }
 },
 "nbformat": 4,
 "nbformat_minor": 0
}
