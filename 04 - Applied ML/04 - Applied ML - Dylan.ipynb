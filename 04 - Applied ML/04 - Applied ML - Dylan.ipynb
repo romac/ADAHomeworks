{
 "cells": [
  {
   "cell_type": "markdown",
   "metadata": {},
   "source": [
    "# 04 - Applied ML\n",
    "\n",
    "## Deadline\n",
    "Tuesday November 22, 2016 at 11:59PM\n",
    "\n",
    "## Background\n",
    "In this homework we will gain experience on Applied Machine Learning, exploring an interesting dataset about soccer players and referees.\n",
    "You can find all the data in the `CrowdstormingDataJuly1st.csv` file, while you can read a thorough [dataset description here](DATA.md).\n",
    "Given that the focus of this homework is Machine Learning, I recommend you to first take a look at [this notebook](http://nbviewer.jupyter.org/github/mathewzilla/redcard/blob/master/Crowdstorming_visualisation.ipynb)\n",
    "containing a solid work in pre-processing + visualization of the given dataset. You are *not* allowed to just copy/paste the pre-processing steps\n",
    "performed by the notebook authors -- you are still supposed to perform your own data analysis for the homework. Still, I'm confident that consulting first\n",
    "the work done by expert data analysts will speed up tangibly your effort (i.e., they have already found for you many glitches in the data :)\n",
    "\n",
    "\n",
    "## Assignment\n",
    "1. Train a `sklearn.ensemble.RandomForestClassifier` that given a soccer player description outputs his skin color. Show how different parameters \n",
    "passed to the Classifier affect the overfitting issue. Perform cross-validation to mitigate the overfitting of your model. Once you assessed your model,\n",
    "inspect the `feature_importances_` attribute and discuss the obtained results. With different assumptions on the data (e.g., dropping certain features even\n",
    "before feeding them to the classifier), can you obtain a substantially different `feature_importances_` attribute?\n",
    "\n",
    "  *BONUS*: plot the learning curves against at least 2 different sets of parameters passed to your Random Forest. To obtain smooth curves, partition\n",
    "your data in at least 20 folds. Can you find a set of parameters that leads to high bias, and one which does not?\n",
    "\n",
    "2. Aggregate the referee information grouping by soccer player, and use an unsupervised learning technique to cluster the soccer players in 2 disjoint\n",
    "clusters. Remove features iteratively, and at each step perform again the clustering and compute the silhouette score -- can you find a configuration of features with high silhouette\n",
    "score where players with dark and light skin colors belong to different clusters? Discuss the obtained results.\n"
   ]
  },
  {
   "cell_type": "markdown",
   "metadata": {},
   "source": [
    "----"
   ]
  },
  {
   "cell_type": "markdown",
   "metadata": {},
   "source": [
    "# Data Description\n",
    "\n",
    "From a company for sports statistics, we obtained data and profile photos from all soccer players (N = 2053) playing in the first male divisions of England, Germany, France and Spain in the 2012-2013 season and all referees (N = 3147) that these players played under in their professional career. We created a dataset of player–referee dyads including the number of matches players and referees encountered each other and our dependent variable, the number of red cards given to a player by a particular referee throughout all matches the two encountered each other.\n",
    " \n",
    "Player photos were available from the source for 1586 out of 2053 players. Players’ skin tone was coded by two independent raters blind to the research question who, based on their profile photo, categorized players on a 5-point scale ranging from “very light skin” to “very dark skin” with “neither dark nor light skin” as the center value. \n",
    "\n",
    "Additionally, implicit bias scores for each referee country were calculated using a race implicit association test (IAT), with higher values corresponding to faster white | good, black | bad associations. Explicit bias scores for each referee country were calculated using a racial thermometer task, with higher values corresponding to greater feelings of warmth toward whites versus blacks. Both these measures were created by aggregating data from many online users in referee countries taking these tests on [Project Implicit](http://projectimplicit.net).\n",
    "\n",
    "In all, the dataset has a total of 146028 dyads of players and referees. A detailed description of all variables in the dataset can be seen in the list below.\n",
    "\n",
    "## Variables:\n",
    "\n",
    "*playerShort* - short player ID\n",
    "\n",
    "*player* - player name\n",
    "\n",
    "*club* - player club\n",
    "\n",
    "*leagueCountry* - country of player club (England, Germany, France, and Spain)\n",
    "\n",
    "*birthday* - player birthday\n",
    "\n",
    "*height* - player height (in cm)\n",
    "\n",
    "*weight* - player weight (in kg)\n",
    "\n",
    "*position* - detailed player position\n",
    "\n",
    "*games* - number of games in the player-referee dyad\n",
    "\n",
    "*victories* - victories in the player-referee dyad\n",
    "\n",
    "*ties* - ties in the player-referee dyad\n",
    "\n",
    "*defeats* - losses in the player-referee dyad\n",
    "\n",
    "*goals* - goals scored by a player in the player-referee dyad\n",
    "\n",
    "*yellowCards* - number of yellow cards player received from referee\n",
    "\n",
    "*yellowReds* - number of yellow-red cards player received from referee\n",
    "\n",
    "*redCards* - number of red cards player received from referee\n",
    "\n",
    "*photoID* - ID of player photo (if available)\n",
    "\n",
    "*rater1* - skin rating of photo by rater 1 (5-point scale ranging from “very light skin” to “very dark skin”)\n",
    "\n",
    "*rater2* - skin rating of photo by rater 2 (5-point scale ranging from “very light skin” to “very dark skin”)\n",
    "\n",
    "*refNum* - unique referee ID number (referee name removed for anonymizing purposes)\n",
    "\n",
    "*refCountry* - unique referee country ID number (country name removed for anonymizing purposes)\n",
    "\n",
    "*meanIAT* - mean implicit bias score (using the race IAT) for referee country, higher values correspond to faster white | good, black | bad associations\n",
    "\n",
    "*nIAT* - sample size for race IAT in that particular country\n",
    "\n",
    "*seIAT* - standard error for mean estimate of race IAT\n",
    "\n",
    "*meanExp* - mean explicit bias score (using a racial thermometer task) for referee country, higher values correspond to greater feelings of warmth toward whites versus blacks\n",
    "\n",
    "*nExp* - sample size for explicit bias in that particular country\n",
    "\n",
    "*seExp* - standard error for mean estimate of explicit bias measure\n"
   ]
  },
  {
   "cell_type": "markdown",
   "metadata": {
    "collapsed": true
   },
   "source": [
    "---\n",
    "# 1. Random Forest Classifier"
   ]
  },
  {
   "cell_type": "markdown",
   "metadata": {},
   "source": [
    "We want to train a `RandomForestClassifier` to predict a player's skin color based on the player's description."
   ]
  },
  {
   "cell_type": "code",
   "execution_count": 227,
   "metadata": {
    "collapsed": false
   },
   "outputs": [],
   "source": [
    "# Import stuff\n",
    "import pandas as pd\n",
    "import numpy as np\n",
    "\n",
    "import matplotlib.pyplot as plt \n",
    "\n",
    "from sklearn.ensemble import RandomForestClassifier\n",
    "from sklearn.preprocessing import LabelEncoder\n",
    "\n",
    "%matplotlib inline\n"
   ]
  },
  {
   "cell_type": "markdown",
   "metadata": {},
   "source": [
    "### 1.1 Loading the data\n",
    "\n",
    "The first step is of course to load the data provided to us in `CrowdstormingDataJuly1st.csv`. Its fields are described above for reference."
   ]
  },
  {
   "cell_type": "code",
   "execution_count": 228,
   "metadata": {
    "collapsed": false
   },
   "outputs": [
    {
     "data": {
      "text/html": [
       "<div>\n",
       "<table border=\"1\" class=\"dataframe\">\n",
       "  <thead>\n",
       "    <tr style=\"text-align: right;\">\n",
       "      <th></th>\n",
       "      <th>playerShort</th>\n",
       "      <th>player</th>\n",
       "      <th>club</th>\n",
       "      <th>leagueCountry</th>\n",
       "      <th>birthday</th>\n",
       "      <th>height</th>\n",
       "      <th>weight</th>\n",
       "      <th>position</th>\n",
       "      <th>games</th>\n",
       "      <th>victories</th>\n",
       "      <th>...</th>\n",
       "      <th>rater2</th>\n",
       "      <th>refNum</th>\n",
       "      <th>refCountry</th>\n",
       "      <th>Alpha_3</th>\n",
       "      <th>meanIAT</th>\n",
       "      <th>nIAT</th>\n",
       "      <th>seIAT</th>\n",
       "      <th>meanExp</th>\n",
       "      <th>nExp</th>\n",
       "      <th>seExp</th>\n",
       "    </tr>\n",
       "  </thead>\n",
       "  <tbody>\n",
       "    <tr>\n",
       "      <th>94805</th>\n",
       "      <td>alexander-madlung</td>\n",
       "      <td>Alexander Madlung</td>\n",
       "      <td>VfL Wolfsburg</td>\n",
       "      <td>Germany</td>\n",
       "      <td>11.07.1982</td>\n",
       "      <td>193.0</td>\n",
       "      <td>92.0</td>\n",
       "      <td>Center Back</td>\n",
       "      <td>4</td>\n",
       "      <td>1</td>\n",
       "      <td>...</td>\n",
       "      <td>0.00</td>\n",
       "      <td>2042</td>\n",
       "      <td>8</td>\n",
       "      <td>DEU</td>\n",
       "      <td>0.336628</td>\n",
       "      <td>7749.0</td>\n",
       "      <td>0.000055</td>\n",
       "      <td>0.335967</td>\n",
       "      <td>7974.0</td>\n",
       "      <td>0.000225</td>\n",
       "    </tr>\n",
       "    <tr>\n",
       "      <th>10981</th>\n",
       "      <td>nicky-shorey</td>\n",
       "      <td>Nicky Shorey</td>\n",
       "      <td>Reading FC</td>\n",
       "      <td>England</td>\n",
       "      <td>19.02.1981</td>\n",
       "      <td>175.0</td>\n",
       "      <td>67.0</td>\n",
       "      <td>Left Fullback</td>\n",
       "      <td>4</td>\n",
       "      <td>2</td>\n",
       "      <td>...</td>\n",
       "      <td>0.00</td>\n",
       "      <td>254</td>\n",
       "      <td>44</td>\n",
       "      <td>ENGL</td>\n",
       "      <td>0.326690</td>\n",
       "      <td>44791.0</td>\n",
       "      <td>0.000010</td>\n",
       "      <td>0.356446</td>\n",
       "      <td>46916.0</td>\n",
       "      <td>0.000037</td>\n",
       "    </tr>\n",
       "    <tr>\n",
       "      <th>141944</th>\n",
       "      <td>michal-kadlec</td>\n",
       "      <td>Michal Kadlec</td>\n",
       "      <td>Bayer Leverkusen</td>\n",
       "      <td>Germany</td>\n",
       "      <td>13.12.1984</td>\n",
       "      <td>184.0</td>\n",
       "      <td>76.0</td>\n",
       "      <td>Left Fullback</td>\n",
       "      <td>3</td>\n",
       "      <td>2</td>\n",
       "      <td>...</td>\n",
       "      <td>0.00</td>\n",
       "      <td>3025</td>\n",
       "      <td>21</td>\n",
       "      <td>HUN</td>\n",
       "      <td>0.376127</td>\n",
       "      <td>574.0</td>\n",
       "      <td>0.000714</td>\n",
       "      <td>0.498350</td>\n",
       "      <td>606.0</td>\n",
       "      <td>0.002968</td>\n",
       "    </tr>\n",
       "    <tr>\n",
       "      <th>64627</th>\n",
       "      <td>iniesta</td>\n",
       "      <td>Iniesta</td>\n",
       "      <td>FC Barcelona</td>\n",
       "      <td>Spain</td>\n",
       "      <td>11.05.1984</td>\n",
       "      <td>170.0</td>\n",
       "      <td>65.0</td>\n",
       "      <td>Left Midfielder</td>\n",
       "      <td>16</td>\n",
       "      <td>13</td>\n",
       "      <td>...</td>\n",
       "      <td>0.25</td>\n",
       "      <td>1356</td>\n",
       "      <td>3</td>\n",
       "      <td>ESP</td>\n",
       "      <td>0.369894</td>\n",
       "      <td>1785.0</td>\n",
       "      <td>0.000229</td>\n",
       "      <td>0.588297</td>\n",
       "      <td>1897.0</td>\n",
       "      <td>0.001002</td>\n",
       "    </tr>\n",
       "    <tr>\n",
       "      <th>128077</th>\n",
       "      <td>marvin-ducksch</td>\n",
       "      <td>Marvin Ducksch</td>\n",
       "      <td>Borussia Dortmund</td>\n",
       "      <td>Germany</td>\n",
       "      <td>07.03.1994</td>\n",
       "      <td>188.0</td>\n",
       "      <td>75.0</td>\n",
       "      <td>Center Forward</td>\n",
       "      <td>3</td>\n",
       "      <td>2</td>\n",
       "      <td>...</td>\n",
       "      <td>0.00</td>\n",
       "      <td>2753</td>\n",
       "      <td>8</td>\n",
       "      <td>DEU</td>\n",
       "      <td>0.336628</td>\n",
       "      <td>7749.0</td>\n",
       "      <td>0.000055</td>\n",
       "      <td>0.335967</td>\n",
       "      <td>7974.0</td>\n",
       "      <td>0.000225</td>\n",
       "    </tr>\n",
       "    <tr>\n",
       "      <th>11717</th>\n",
       "      <td>augusto-fernandez</td>\n",
       "      <td>Augusto Fernández</td>\n",
       "      <td>Celta Vigo</td>\n",
       "      <td>Spain</td>\n",
       "      <td>10.04.1986</td>\n",
       "      <td>177.0</td>\n",
       "      <td>71.0</td>\n",
       "      <td>Right Midfielder</td>\n",
       "      <td>1</td>\n",
       "      <td>0</td>\n",
       "      <td>...</td>\n",
       "      <td>0.50</td>\n",
       "      <td>262</td>\n",
       "      <td>77</td>\n",
       "      <td>PRY</td>\n",
       "      <td>0.359406</td>\n",
       "      <td>40.0</td>\n",
       "      <td>0.009383</td>\n",
       "      <td>0.772727</td>\n",
       "      <td>44.0</td>\n",
       "      <td>0.056498</td>\n",
       "    </tr>\n",
       "    <tr>\n",
       "      <th>118024</th>\n",
       "      <td>martin-montoya</td>\n",
       "      <td>Martín Montoya</td>\n",
       "      <td>FC Barcelona</td>\n",
       "      <td>Spain</td>\n",
       "      <td>14.04.1991</td>\n",
       "      <td>174.0</td>\n",
       "      <td>74.0</td>\n",
       "      <td>Right Fullback</td>\n",
       "      <td>1</td>\n",
       "      <td>0</td>\n",
       "      <td>...</td>\n",
       "      <td>0.50</td>\n",
       "      <td>2507</td>\n",
       "      <td>3</td>\n",
       "      <td>ESP</td>\n",
       "      <td>0.369894</td>\n",
       "      <td>1785.0</td>\n",
       "      <td>0.000229</td>\n",
       "      <td>0.588297</td>\n",
       "      <td>1897.0</td>\n",
       "      <td>0.001002</td>\n",
       "    </tr>\n",
       "    <tr>\n",
       "      <th>102523</th>\n",
       "      <td>jon-walters</td>\n",
       "      <td>Jon Walters</td>\n",
       "      <td>Stoke City</td>\n",
       "      <td>England</td>\n",
       "      <td>20.09.1983</td>\n",
       "      <td>183.0</td>\n",
       "      <td>79.0</td>\n",
       "      <td>NaN</td>\n",
       "      <td>5</td>\n",
       "      <td>1</td>\n",
       "      <td>...</td>\n",
       "      <td>0.25</td>\n",
       "      <td>2186</td>\n",
       "      <td>44</td>\n",
       "      <td>ENGL</td>\n",
       "      <td>0.326690</td>\n",
       "      <td>44791.0</td>\n",
       "      <td>0.000010</td>\n",
       "      <td>0.356446</td>\n",
       "      <td>46916.0</td>\n",
       "      <td>0.000037</td>\n",
       "    </tr>\n",
       "    <tr>\n",
       "      <th>29919</th>\n",
       "      <td>roy-contout</td>\n",
       "      <td>Roy Contout</td>\n",
       "      <td>FC Sochaux</td>\n",
       "      <td>France</td>\n",
       "      <td>11.02.1985</td>\n",
       "      <td>174.0</td>\n",
       "      <td>62.0</td>\n",
       "      <td>Center Forward</td>\n",
       "      <td>1</td>\n",
       "      <td>1</td>\n",
       "      <td>...</td>\n",
       "      <td>0.50</td>\n",
       "      <td>548</td>\n",
       "      <td>7</td>\n",
       "      <td>FRA</td>\n",
       "      <td>0.334684</td>\n",
       "      <td>2882.0</td>\n",
       "      <td>0.000151</td>\n",
       "      <td>0.336101</td>\n",
       "      <td>3011.0</td>\n",
       "      <td>0.000586</td>\n",
       "    </tr>\n",
       "    <tr>\n",
       "      <th>145476</th>\n",
       "      <td>youssef-el-arabi</td>\n",
       "      <td>Youssef El-Arabi</td>\n",
       "      <td>Granada CF</td>\n",
       "      <td>Spain</td>\n",
       "      <td>03.02.1987</td>\n",
       "      <td>180.0</td>\n",
       "      <td>75.0</td>\n",
       "      <td>Center Forward</td>\n",
       "      <td>2</td>\n",
       "      <td>1</td>\n",
       "      <td>...</td>\n",
       "      <td>0.75</td>\n",
       "      <td>3114</td>\n",
       "      <td>7</td>\n",
       "      <td>FRA</td>\n",
       "      <td>0.334684</td>\n",
       "      <td>2882.0</td>\n",
       "      <td>0.000151</td>\n",
       "      <td>0.336101</td>\n",
       "      <td>3011.0</td>\n",
       "      <td>0.000586</td>\n",
       "    </tr>\n",
       "  </tbody>\n",
       "</table>\n",
       "<p>10 rows × 28 columns</p>\n",
       "</div>"
      ],
      "text/plain": [
       "              playerShort             player               club leagueCountry  \\\n",
       "94805   alexander-madlung  Alexander Madlung      VfL Wolfsburg       Germany   \n",
       "10981        nicky-shorey       Nicky Shorey         Reading FC       England   \n",
       "141944      michal-kadlec      Michal Kadlec   Bayer Leverkusen       Germany   \n",
       "64627             iniesta            Iniesta       FC Barcelona         Spain   \n",
       "128077     marvin-ducksch     Marvin Ducksch  Borussia Dortmund       Germany   \n",
       "11717   augusto-fernandez  Augusto Fernández         Celta Vigo         Spain   \n",
       "118024     martin-montoya     Martín Montoya       FC Barcelona         Spain   \n",
       "102523        jon-walters        Jon Walters         Stoke City       England   \n",
       "29919         roy-contout        Roy Contout         FC Sochaux        France   \n",
       "145476   youssef-el-arabi   Youssef El-Arabi         Granada CF         Spain   \n",
       "\n",
       "          birthday  height  weight          position  games  victories  \\\n",
       "94805   11.07.1982   193.0    92.0       Center Back      4          1   \n",
       "10981   19.02.1981   175.0    67.0     Left Fullback      4          2   \n",
       "141944  13.12.1984   184.0    76.0     Left Fullback      3          2   \n",
       "64627   11.05.1984   170.0    65.0   Left Midfielder     16         13   \n",
       "128077  07.03.1994   188.0    75.0    Center Forward      3          2   \n",
       "11717   10.04.1986   177.0    71.0  Right Midfielder      1          0   \n",
       "118024  14.04.1991   174.0    74.0    Right Fullback      1          0   \n",
       "102523  20.09.1983   183.0    79.0               NaN      5          1   \n",
       "29919   11.02.1985   174.0    62.0    Center Forward      1          1   \n",
       "145476  03.02.1987   180.0    75.0    Center Forward      2          1   \n",
       "\n",
       "          ...     rater2  refNum  refCountry  Alpha_3   meanIAT     nIAT  \\\n",
       "94805     ...       0.00    2042           8      DEU  0.336628   7749.0   \n",
       "10981     ...       0.00     254          44     ENGL  0.326690  44791.0   \n",
       "141944    ...       0.00    3025          21      HUN  0.376127    574.0   \n",
       "64627     ...       0.25    1356           3      ESP  0.369894   1785.0   \n",
       "128077    ...       0.00    2753           8      DEU  0.336628   7749.0   \n",
       "11717     ...       0.50     262          77      PRY  0.359406     40.0   \n",
       "118024    ...       0.50    2507           3      ESP  0.369894   1785.0   \n",
       "102523    ...       0.25    2186          44     ENGL  0.326690  44791.0   \n",
       "29919     ...       0.50     548           7      FRA  0.334684   2882.0   \n",
       "145476    ...       0.75    3114           7      FRA  0.334684   2882.0   \n",
       "\n",
       "           seIAT   meanExp     nExp     seExp  \n",
       "94805   0.000055  0.335967   7974.0  0.000225  \n",
       "10981   0.000010  0.356446  46916.0  0.000037  \n",
       "141944  0.000714  0.498350    606.0  0.002968  \n",
       "64627   0.000229  0.588297   1897.0  0.001002  \n",
       "128077  0.000055  0.335967   7974.0  0.000225  \n",
       "11717   0.009383  0.772727     44.0  0.056498  \n",
       "118024  0.000229  0.588297   1897.0  0.001002  \n",
       "102523  0.000010  0.356446  46916.0  0.000037  \n",
       "29919   0.000151  0.336101   3011.0  0.000586  \n",
       "145476  0.000151  0.336101   3011.0  0.000586  \n",
       "\n",
       "[10 rows x 28 columns]"
      ]
     },
     "execution_count": 228,
     "metadata": {},
     "output_type": "execute_result"
    }
   ],
   "source": [
    "filename='CrowdstormingDataJuly1st.csv'\n",
    "df = pd.read_csv(filename)\n",
    "df.sample(10)"
   ]
  },
  {
   "cell_type": "markdown",
   "metadata": {},
   "source": [
    "### 1.2 Cleaning the data\n",
    "\n",
    "A few things have to be done to clean the data before we feed it to the classifier.\n",
    "\n",
    "Firstly, let's merge the two skin color ratings into a mean one, since this score will act as our label for the classifier, and remove the two rating columns."
   ]
  },
  {
   "cell_type": "code",
   "execution_count": 229,
   "metadata": {
    "collapsed": false
   },
   "outputs": [],
   "source": [
    "df['skintone']= (df['rater1']+df['rater2']) / 2\n",
    "df = df.drop('rater1', 1)\n",
    "df = df.drop('rater2', 1)"
   ]
  },
  {
   "cell_type": "markdown",
   "metadata": {},
   "source": [
    "Secondly, let's remove players who don't have this rating since we won't be able to train the classifier with these examples. They are currently store as `NaN` scpre in the `skintone` column."
   ]
  },
  {
   "cell_type": "code",
   "execution_count": 230,
   "metadata": {
    "collapsed": false
   },
   "outputs": [
    {
     "name": "stdout",
     "output_type": "stream",
     "text": [
      "We kept 124621 of 146028 entries (delta = 21407).\n"
     ]
    }
   ],
   "source": [
    "clean_df = df.copy()\n",
    "clean_df = clean_df.dropna(axis = 0, subset = ['skintone'])\n",
    "\n",
    "print(\"We kept {} of {} entries (delta = {}).\".format(len(clean_df), len(df), len(df) - len(clean_df)))"
   ]
  },
  {
   "cell_type": "markdown",
   "metadata": {},
   "source": [
    "Let's now check for other missing values :"
   ]
  },
  {
   "cell_type": "code",
   "execution_count": 231,
   "metadata": {
    "collapsed": false
   },
   "outputs": [
    {
     "name": "stdout",
     "output_type": "stream",
     "text": [
      "playerShort: 0\n",
      "player: 0\n",
      "club: 0\n",
      "leagueCountry: 0\n",
      "birthday: 0\n",
      "height: 46\n",
      "weight: 753\n",
      "position: 8461\n",
      "games: 0\n",
      "victories: 0\n",
      "ties: 0\n",
      "defeats: 0\n",
      "goals: 0\n",
      "yellowCards: 0\n",
      "yellowReds: 0\n",
      "redCards: 0\n",
      "photoID: 0\n",
      "refNum: 0\n",
      "refCountry: 0\n",
      "Alpha_3: 1\n",
      "meanIAT: 153\n",
      "nIAT: 153\n",
      "seIAT: 153\n",
      "meanExp: 153\n",
      "nExp: 153\n",
      "seExp: 153\n",
      "skintone: 0\n"
     ]
    }
   ],
   "source": [
    "for column in clean_df:\n",
    "    print(column + ':', len(clean_df[column].iloc[clean_df[column].isnull().nonzero()]))"
   ]
  },
  {
   "cell_type": "markdown",
   "metadata": {},
   "source": [
    "Since the features `meanIAT`, `nIAT`, `seIAT`, `meanExp`, `nExp` and `seExp` have the same count, we can figure that they missing entries correspond to the same players for each field. We can safely remove entries which don't have these values. Additionnally, heightand weightwill have to be part of our dataset, so we must remove entries with no values in this field."
   ]
  },
  {
   "cell_type": "code",
   "execution_count": 232,
   "metadata": {
    "collapsed": false
   },
   "outputs": [],
   "source": [
    "to_drop = [\n",
    "    'player', 'photoID', 'birthday',\n",
    "    'refNum', 'meanIAT', 'nIAT', 'seIAT',\n",
    "    'nExp', 'seExp', 'refCountry', 'meanExp',\n",
    "]\n",
    "\n",
    "final_df = clean_df.drop(to_drop, axis=1).dropna().groupby('playerShort').agg('first')"
   ]
  },
  {
   "cell_type": "markdown",
   "metadata": {},
   "source": [
    "We also must only keep a unique player instance, otherwise a player can be found in the test set AND in the training set."
   ]
  },
  {
   "cell_type": "markdown",
   "metadata": {},
   "source": [
    "This leaves us with our final dataset :"
   ]
  },
  {
   "cell_type": "code",
   "execution_count": 233,
   "metadata": {
    "collapsed": false
   },
   "outputs": [
    {
     "name": "stdout",
     "output_type": "stream",
     "text": [
      "There are 1419 individual player entries.\n"
     ]
    }
   ],
   "source": [
    "print(\"There are {} individual player entries.\".format(len(final_df)))"
   ]
  },
  {
   "cell_type": "markdown",
   "metadata": {},
   "source": [
    "We can now extract the labels that will be used to train the classifier. We will use the `LabelEncoder` to get labels usable by sklearn."
   ]
  },
  {
   "cell_type": "code",
   "execution_count": 234,
   "metadata": {
    "collapsed": false
   },
   "outputs": [],
   "source": [
    "labels = np.array(final_df['skintone'])\n",
    "\n",
    "label_encoder = LabelEncoder()\n",
    "labels = label_encoder.fit_transform(labels)"
   ]
  },
  {
   "cell_type": "markdown",
   "metadata": {},
   "source": [
    "We'll start by using all the features provided by the dataset to train the classifier, later figuring out which ones are actually interesting. Once again we will transform the entries into values that are processable by sklearn, using `LabelEncoder`."
   ]
  },
  {
   "cell_type": "code",
   "execution_count": 235,
   "metadata": {
    "collapsed": false
   },
   "outputs": [],
   "source": [
    "features = final_df.drop('skintone', 1)\n",
    "\n",
    "encoders = {}\n",
    "for col in features.columns.values:\n",
    "    le = LabelEncoder()\n",
    "    features[col] = le.fit_transform(pd.factorize(features[col])[0])    "
   ]
  },
  {
   "cell_type": "markdown",
   "metadata": {},
   "source": [
    "### 1.3 Training the classifier\n",
    "\n",
    "We've now got our training data so let's try to train the `RandomForestClassifier`."
   ]
  },
  {
   "cell_type": "code",
   "execution_count": 236,
   "metadata": {
    "collapsed": false
   },
   "outputs": [
    {
     "name": "stdout",
     "output_type": "stream",
     "text": [
      "Score: \n",
      "   -  test : 0.25704225352112675 \n",
      "   -  train : 0.9800235017626322\n",
      "\n",
      "Accuracy:\n",
      "   0.271487 (+/- 0.078941)\n"
     ]
    }
   ],
   "source": [
    "from sklearn.model_selection import train_test_split\n",
    "from sklearn.model_selection import cross_val_score\n",
    "\n",
    "X_clf = features\n",
    "Y_clf = labels\n",
    "\n",
    "def run_random_forest(X,Y):\n",
    "    # Split into a test and a train set\n",
    "    X_train, X_test, y_train, y_test = train_test_split(X, Y, test_size=0.4, random_state=42)\n",
    "\n",
    "    # Create the RandomForestClassifier\n",
    "    forest = RandomForestClassifier()\n",
    "\n",
    "    # Train the model\n",
    "    clf_tmp = forest.fit(X_train, y_train)\n",
    "    \n",
    "    test_score = clf_tmp.score(X_test, y_test)\n",
    "    train_score = clf_tmp.score(X_train, y_train)\n",
    "    \n",
    "    print(\"Score: \\n   -  test : {} \\n   -  train : {}\\n\".format(test_score, train_score))\n",
    "    \n",
    "    scores = cross_val_score(clf_tmp, X_test, y_test, cv=5)\n",
    "    print(\"Accuracy:\\n   %0.6f (+/- %0.6f)\" % (scores.mean(), scores.std() * 2))\n",
    "    \n",
    "    return clf_tmp\n",
    "\n",
    "clf = run_random_forest(X_clf,Y_clf)"
   ]
  },
  {
   "cell_type": "markdown",
   "metadata": {},
   "source": [
    "### 1.4 Learning Curves\n",
    "\n",
    "We want to see how our model's accuracy evolves with the number of samples. For this we can plot a learning curve, which will randomly split the data into test and training sets using a `ShuffleSplit`. It will then train the model and compute its score over the test set. We can then plot the accuracy over the number of training examples."
   ]
  },
  {
   "cell_type": "code",
   "execution_count": 237,
   "metadata": {
    "collapsed": false
   },
   "outputs": [],
   "source": [
    "# Plot code adapted from :\n",
    "# http://scikit-learn.org/stable/auto_examples/model_selection/plot_learning_curve.html\n",
    "#\n",
    "from sklearn.model_selection import learning_curve\n",
    "from sklearn.model_selection import ShuffleSplit\n",
    "\n",
    "def learning_curve_plot(clf, X, Y):\n",
    "    # Legends\n",
    "    title  = \"Learning Curves (Random Forest Classifier)\"\n",
    "    xlabel = \"Training examples\"\n",
    "    ylabel = \"Score\"\n",
    "\n",
    "    # Plots params\n",
    "    y_lim = (0.0, 1.01)\n",
    "\n",
    "    # CV params\n",
    "    train_sizes = np.linspace(.01, 1.0, 10)\n",
    "    cv = ShuffleSplit(n_splits=5, test_size=0.2, random_state=0)\n",
    "\n",
    "    plt.figure()\n",
    "    plt.title(title)\n",
    "    plt.ylim(*y_lim)\n",
    "    plt.xlabel(xlabel)\n",
    "    plt.ylabel(ylabel)\n",
    "\n",
    "    train_sizes, train_scores, test_scores = learning_curve(clf, X, Y, cv=cv, n_jobs=4, train_sizes=train_sizes)\n",
    "\n",
    "    train_scores_mean = np.mean(train_scores, axis=1)\n",
    "    test_scores_mean  = np.mean(test_scores , axis=1)\n",
    "\n",
    "    train_scores_std  = np.std(train_scores, axis=1)\n",
    "    test_scores_std   = np.std(test_scores , axis=1)\n",
    "\n",
    "    plt.grid()\n",
    "    plt.fill_between(train_sizes, train_scores_mean - train_scores_std,\n",
    "                     train_scores_mean + train_scores_std, alpha=0.1,\n",
    "                     color=\"r\")\n",
    "    plt.fill_between(train_sizes, test_scores_mean - test_scores_std,\n",
    "                     test_scores_mean + test_scores_std, alpha=0.1, color=\"g\")\n",
    "    plt.plot(train_sizes, train_scores_mean, 'o-', color=\"r\",\n",
    "             label=\"Training score\")\n",
    "    plt.plot(train_sizes, test_scores_mean, 'o-', color=\"g\",\n",
    "             label=\"Cross-validation score\")\n",
    "    plt.legend(loc=\"best\")\n",
    "\n",
    "    plt.show()"
   ]
  },
  {
   "cell_type": "code",
   "execution_count": 238,
   "metadata": {
    "collapsed": false
   },
   "outputs": [
    {
     "data": {
      "image/png": "[encoded data removed]",
      "text/plain": [
       "<matplotlib.figure.Figure at 0x11d6f9940>"
      ]
     },
     "metadata": {},
     "output_type": "display_data"
    }
   ],
   "source": [
    "learning_curve_plot(clf, X_clf, Y_clf)"
   ]
  },
  {
   "cell_type": "markdown",
   "metadata": {},
   "source": [
    "As we can see (and might have guessed from our accuracy scores), our model has a very good score on the training set but does not generalize well : the test score is quite low (30%). In order to adress this we will do some cross-validation on our classifier's parameters. The main parameters to adjust when using these methods is `n_estimators` and `max_features`."
   ]
  },
  {
   "cell_type": "code",
   "execution_count": 239,
   "metadata": {
    "collapsed": false
   },
   "outputs": [],
   "source": [
    "from sklearn.model_selection import cross_val_score\n",
    "\n",
    "n_estimators_range = range(1, 500, 50)\n",
    "\n",
    "scores = list()\n",
    "scores_std = list()\n",
    "\n",
    "# Split into a test and a train set\n",
    "X_train, X_test, y_train, y_test = train_test_split(X_clf, Y_clf, test_size=0.4, random_state=42)\n",
    "\n",
    "for n_estimators in n_estimators_range:\n",
    "    f = RandomForestClassifier(n_estimators=n_estimators)\n",
    "    clf_tmp = f.fit(X_train, y_train)\n",
    "    this_scores = cross_val_score(clf, X, Y)\n",
    "    scores.append(np.mean(this_scores))\n",
    "    scores_std.append(np.std(this_scores))\n"
   ]
  },
  {
   "cell_type": "code",
   "execution_count": 240,
   "metadata": {
    "collapsed": false
   },
   "outputs": [
    {
     "data": {
      "image/png": "[encoded data removed]",
      "text/plain": [
       "<matplotlib.figure.Figure at 0x11ae1b518>"
      ]
     },
     "metadata": {},
     "output_type": "display_data"
    }
   ],
   "source": [
    "plt.figure(1, figsize=(4, 3))\n",
    "plt.clf()\n",
    "plt.plot(n_estimators_range, scores)\n",
    "plt.plot(n_estimators_range, np.array(scores) + np.array(scores_std), 'b--')\n",
    "plt.plot(n_estimators_range, np.array(scores) - np.array(scores_std), 'b--')\n",
    "plt.ylabel('CV score')\n",
    "plt.xlabel('Parameter n_estimators')\n",
    "plt.ylim(0, 0.4)\n",
    "plt.show()"
   ]
  },
  {
   "cell_type": "markdown",
   "metadata": {},
   "source": [
    "As we can see here the CV score stays around 30% for any `n_estimators` > 50. This means we might have another issue : the features do not hold enough information or their subset was not chosen correctly. Let's study this aspect next."
   ]
  },
  {
   "cell_type": "markdown",
   "metadata": {},
   "source": [
    "### 1.5 Feature importances\n",
    "\n",
    "We would like to figure out which of the features are the most relevant to our model (i.e. the features that represent the most variance / information). These are the features that help the classifier make its decision.\n",
    "\n",
    "We have access to this information in `RandomForestClassifier.feature_importances_`, so we can plot their importance."
   ]
  },
  {
   "cell_type": "code",
   "execution_count": 241,
   "metadata": {
    "collapsed": false
   },
   "outputs": [],
   "source": [
    "def feature_importances_plot(clf, X, Y):\n",
    "    # Plot code adapted from :\n",
    "    # http://scikit-learn.org/stable/auto_examples/ensemble/plot_forest_importances.html#sphx-glr-auto-examples-ensemble-plot-forest-importances-py\n",
    "    #\n",
    "    importances = clf.feature_importances_\n",
    "    std = np.std([tree.feature_importances_ for tree in clf.estimators_],\n",
    "                 axis=0)\n",
    "    indices = np.argsort(importances)[::-1]\n",
    "    feature_names = X.columns.values.tolist()\n",
    "\n",
    "    # Print the feature ranking\n",
    "    print(\"Feature ranking:\")\n",
    "\n",
    "    for j in range(X_train.shape[1]):\n",
    "        print(\"%d. feature #%d %s (%f)\" % (j + 1, indices[j], feature_names[indices[j]], importances[indices[j]]))\n",
    "\n",
    "    # Plot the feature importances of the forest\n",
    "    plt.figure()\n",
    "    plt.title(\"Feature importances\")\n",
    "    plt.bar(range(X_train.shape[1]), importances[indices],\n",
    "           color=\"r\", yerr=std[indices], align=\"center\")\n",
    "    plt.xticks(range(X_train.shape[1]), indices)\n",
    "    plt.xlim([-1, X_train.shape[1]])\n",
    "    plt.show()"
   ]
  },
  {
   "cell_type": "code",
   "execution_count": 242,
   "metadata": {
    "collapsed": false
   },
   "outputs": [
    {
     "name": "stdout",
     "output_type": "stream",
     "text": [
      "Feature ranking:\n",
      "1. feature #0 club (0.163499)\n",
      "2. feature #3 weight (0.141885)\n",
      "3. feature #2 height (0.140782)\n",
      "4. feature #13 Alpha_3 (0.113813)\n",
      "5. feature #4 position (0.099761)\n",
      "6. feature #1 leagueCountry (0.071434)\n",
      "7. feature #6 victories (0.055424)\n",
      "8. feature #5 games (0.054065)\n",
      "9. feature #8 defeats (0.052111)\n",
      "10. feature #7 ties (0.039548)\n",
      "11. feature #10 yellowCards (0.031021)\n",
      "12. feature #9 goals (0.030982)\n",
      "13. feature #11 yellowReds (0.002909)\n",
      "14. feature #12 redCards (0.002766)\n"
     ]
    },
    {
     "data": {
      "image/png": "[encoded data removed]",
      "text/plain": [
       "<matplotlib.figure.Figure at 0x116eaecc0>"
      ]
     },
     "metadata": {},
     "output_type": "display_data"
    }
   ],
   "source": [
    "feature_importances_plot(clf, X_clf, Y_clf)"
   ]
  },
  {
   "cell_type": "markdown",
   "metadata": {},
   "source": [
    "It is interesting to note that `yellowReds` and `redCards` seem to not have any impact.\n",
    "\n",
    "On the other hand there are notably 5 features that seem to be more important than the rest :\n",
    "* club\n",
    "* height\n",
    "* weight\n",
    "* position\n",
    "* Alpha_3\n",
    "\n",
    "Let's create a powerset (i.e. all possible cominbations of the 5) of these features and see which combinations give good results."
   ]
  },
  {
   "cell_type": "code",
   "execution_count": 243,
   "metadata": {
    "collapsed": true
   },
   "outputs": [],
   "source": [
    "from itertools import combinations\n",
    "\n",
    "# Compute the powerset of the given list\n",
    "def powerset(l):\n",
    "    combs = []\n",
    "    for i in range(0, len(l) + 1):\n",
    "        listing = [list(x) for x in combinations(l, i)]\n",
    "        combs.extend(listing)\n",
    "    return combs"
   ]
  },
  {
   "cell_type": "code",
   "execution_count": 244,
   "metadata": {
    "collapsed": false
   },
   "outputs": [],
   "source": [
    "good_features = ['club', 'height' ,'weight', 'position', 'Alpha_3']\n",
    "feature_subsets = list(powerset(good_features))\n",
    "\n",
    "subset_scores = list()\n",
    "subset_scores_std = list()\n",
    "\n",
    "feature_subsets = [x for x in feature_subsets if x != []]\n",
    "\n",
    "for subset in feature_subsets:\n",
    "    # Split into a test and a train set\n",
    "    X_train, X_test, y_train, y_test = train_test_split(X_clf[subset], Y_clf, test_size=0.4, random_state=42)\n",
    "    f = RandomForestClassifier(n_estimators=n_estimators)\n",
    "    clf_tmp = f.fit(X_train, y_train)\n",
    "    this_scores = cross_val_score(clf_tmp, X[subset], Y)\n",
    "    subset_scores.append(np.mean(this_scores))\n",
    "    subset_scores_std.append(np.std(this_scores))\n"
   ]
  },
  {
   "cell_type": "code",
   "execution_count": 245,
   "metadata": {
    "collapsed": false
   },
   "outputs": [
    {
     "data": {
      "text/html": [
       "<div>\n",
       "<table border=\"1\" class=\"dataframe\">\n",
       "  <thead>\n",
       "    <tr style=\"text-align: right;\">\n",
       "      <th></th>\n",
       "      <th>index</th>\n",
       "      <th>score</th>\n",
       "      <th>std</th>\n",
       "      <th>subset</th>\n",
       "    </tr>\n",
       "  </thead>\n",
       "  <tbody>\n",
       "    <tr>\n",
       "      <th>0</th>\n",
       "      <td>0</td>\n",
       "      <td>0.315109</td>\n",
       "      <td>0.014598</td>\n",
       "      <td>[club]</td>\n",
       "    </tr>\n",
       "    <tr>\n",
       "      <th>1</th>\n",
       "      <td>30</td>\n",
       "      <td>0.300130</td>\n",
       "      <td>0.011738</td>\n",
       "      <td>[club, height, weight, position, Alpha_3]</td>\n",
       "    </tr>\n",
       "    <tr>\n",
       "      <th>2</th>\n",
       "      <td>26</td>\n",
       "      <td>0.296039</td>\n",
       "      <td>0.009285</td>\n",
       "      <td>[club, height, weight, Alpha_3]</td>\n",
       "    </tr>\n",
       "    <tr>\n",
       "      <th>3</th>\n",
       "      <td>4</td>\n",
       "      <td>0.295298</td>\n",
       "      <td>0.009876</td>\n",
       "      <td>[Alpha_3]</td>\n",
       "    </tr>\n",
       "    <tr>\n",
       "      <th>4</th>\n",
       "      <td>28</td>\n",
       "      <td>0.294492</td>\n",
       "      <td>0.013747</td>\n",
       "      <td>[club, weight, position, Alpha_3]</td>\n",
       "    </tr>\n",
       "    <tr>\n",
       "      <th>5</th>\n",
       "      <td>2</td>\n",
       "      <td>0.293208</td>\n",
       "      <td>0.006835</td>\n",
       "      <td>[weight]</td>\n",
       "    </tr>\n",
       "    <tr>\n",
       "      <th>6</th>\n",
       "      <td>8</td>\n",
       "      <td>0.289696</td>\n",
       "      <td>0.013260</td>\n",
       "      <td>[club, Alpha_3]</td>\n",
       "    </tr>\n",
       "    <tr>\n",
       "      <th>7</th>\n",
       "      <td>25</td>\n",
       "      <td>0.288239</td>\n",
       "      <td>0.003676</td>\n",
       "      <td>[club, height, weight, position]</td>\n",
       "    </tr>\n",
       "    <tr>\n",
       "      <th>8</th>\n",
       "      <td>3</td>\n",
       "      <td>0.280451</td>\n",
       "      <td>0.007703</td>\n",
       "      <td>[position]</td>\n",
       "    </tr>\n",
       "    <tr>\n",
       "      <th>9</th>\n",
       "      <td>1</td>\n",
       "      <td>0.273285</td>\n",
       "      <td>0.024672</td>\n",
       "      <td>[height]</td>\n",
       "    </tr>\n",
       "    <tr>\n",
       "      <th>10</th>\n",
       "      <td>17</td>\n",
       "      <td>0.272692</td>\n",
       "      <td>0.010323</td>\n",
       "      <td>[club, height, Alpha_3]</td>\n",
       "    </tr>\n",
       "    <tr>\n",
       "      <th>11</th>\n",
       "      <td>27</td>\n",
       "      <td>0.271988</td>\n",
       "      <td>0.007113</td>\n",
       "      <td>[club, height, position, Alpha_3]</td>\n",
       "    </tr>\n",
       "    <tr>\n",
       "      <th>12</th>\n",
       "      <td>14</td>\n",
       "      <td>0.269921</td>\n",
       "      <td>0.002122</td>\n",
       "      <td>[position, Alpha_3]</td>\n",
       "    </tr>\n",
       "    <tr>\n",
       "      <th>13</th>\n",
       "      <td>15</td>\n",
       "      <td>0.269276</td>\n",
       "      <td>0.011186</td>\n",
       "      <td>[club, height, weight]</td>\n",
       "    </tr>\n",
       "    <tr>\n",
       "      <th>14</th>\n",
       "      <td>19</td>\n",
       "      <td>0.267842</td>\n",
       "      <td>0.023911</td>\n",
       "      <td>[club, weight, Alpha_3]</td>\n",
       "    </tr>\n",
       "    <tr>\n",
       "      <th>15</th>\n",
       "      <td>7</td>\n",
       "      <td>0.265000</td>\n",
       "      <td>0.007800</td>\n",
       "      <td>[club, position]</td>\n",
       "    </tr>\n",
       "    <tr>\n",
       "      <th>16</th>\n",
       "      <td>20</td>\n",
       "      <td>0.262205</td>\n",
       "      <td>0.007575</td>\n",
       "      <td>[club, position, Alpha_3]</td>\n",
       "    </tr>\n",
       "    <tr>\n",
       "      <th>17</th>\n",
       "      <td>18</td>\n",
       "      <td>0.257229</td>\n",
       "      <td>0.021439</td>\n",
       "      <td>[club, weight, position]</td>\n",
       "    </tr>\n",
       "    <tr>\n",
       "      <th>18</th>\n",
       "      <td>24</td>\n",
       "      <td>0.254422</td>\n",
       "      <td>0.017612</td>\n",
       "      <td>[weight, position, Alpha_3]</td>\n",
       "    </tr>\n",
       "    <tr>\n",
       "      <th>19</th>\n",
       "      <td>12</td>\n",
       "      <td>0.252912</td>\n",
       "      <td>0.013877</td>\n",
       "      <td>[weight, position]</td>\n",
       "    </tr>\n",
       "    <tr>\n",
       "      <th>20</th>\n",
       "      <td>13</td>\n",
       "      <td>0.250899</td>\n",
       "      <td>0.006955</td>\n",
       "      <td>[weight, Alpha_3]</td>\n",
       "    </tr>\n",
       "    <tr>\n",
       "      <th>21</th>\n",
       "      <td>6</td>\n",
       "      <td>0.247452</td>\n",
       "      <td>0.024953</td>\n",
       "      <td>[club, weight]</td>\n",
       "    </tr>\n",
       "    <tr>\n",
       "      <th>22</th>\n",
       "      <td>5</td>\n",
       "      <td>0.246789</td>\n",
       "      <td>0.019831</td>\n",
       "      <td>[club, height]</td>\n",
       "    </tr>\n",
       "    <tr>\n",
       "      <th>23</th>\n",
       "      <td>29</td>\n",
       "      <td>0.243099</td>\n",
       "      <td>0.006288</td>\n",
       "      <td>[height, weight, position, Alpha_3]</td>\n",
       "    </tr>\n",
       "    <tr>\n",
       "      <th>24</th>\n",
       "      <td>11</td>\n",
       "      <td>0.240973</td>\n",
       "      <td>0.007539</td>\n",
       "      <td>[height, Alpha_3]</td>\n",
       "    </tr>\n",
       "    <tr>\n",
       "      <th>25</th>\n",
       "      <td>16</td>\n",
       "      <td>0.238883</td>\n",
       "      <td>0.013691</td>\n",
       "      <td>[club, height, position]</td>\n",
       "    </tr>\n",
       "    <tr>\n",
       "      <th>26</th>\n",
       "      <td>22</td>\n",
       "      <td>0.237490</td>\n",
       "      <td>0.006978</td>\n",
       "      <td>[height, weight, Alpha_3]</td>\n",
       "    </tr>\n",
       "    <tr>\n",
       "      <th>27</th>\n",
       "      <td>21</td>\n",
       "      <td>0.224136</td>\n",
       "      <td>0.007832</td>\n",
       "      <td>[height, weight, position]</td>\n",
       "    </tr>\n",
       "    <tr>\n",
       "      <th>28</th>\n",
       "      <td>23</td>\n",
       "      <td>0.211456</td>\n",
       "      <td>0.011904</td>\n",
       "      <td>[height, position, Alpha_3]</td>\n",
       "    </tr>\n",
       "    <tr>\n",
       "      <th>29</th>\n",
       "      <td>9</td>\n",
       "      <td>0.205777</td>\n",
       "      <td>0.013954</td>\n",
       "      <td>[height, weight]</td>\n",
       "    </tr>\n",
       "    <tr>\n",
       "      <th>30</th>\n",
       "      <td>10</td>\n",
       "      <td>0.204343</td>\n",
       "      <td>0.003888</td>\n",
       "      <td>[height, position]</td>\n",
       "    </tr>\n",
       "  </tbody>\n",
       "</table>\n",
       "</div>"
      ],
      "text/plain": [
       "    index     score       std                                     subset\n",
       "0       0  0.315109  0.014598                                     [club]\n",
       "1      30  0.300130  0.011738  [club, height, weight, position, Alpha_3]\n",
       "2      26  0.296039  0.009285            [club, height, weight, Alpha_3]\n",
       "3       4  0.295298  0.009876                                  [Alpha_3]\n",
       "4      28  0.294492  0.013747          [club, weight, position, Alpha_3]\n",
       "5       2  0.293208  0.006835                                   [weight]\n",
       "6       8  0.289696  0.013260                            [club, Alpha_3]\n",
       "7      25  0.288239  0.003676           [club, height, weight, position]\n",
       "8       3  0.280451  0.007703                                 [position]\n",
       "9       1  0.273285  0.024672                                   [height]\n",
       "10     17  0.272692  0.010323                    [club, height, Alpha_3]\n",
       "11     27  0.271988  0.007113          [club, height, position, Alpha_3]\n",
       "12     14  0.269921  0.002122                        [position, Alpha_3]\n",
       "13     15  0.269276  0.011186                     [club, height, weight]\n",
       "14     19  0.267842  0.023911                    [club, weight, Alpha_3]\n",
       "15      7  0.265000  0.007800                           [club, position]\n",
       "16     20  0.262205  0.007575                  [club, position, Alpha_3]\n",
       "17     18  0.257229  0.021439                   [club, weight, position]\n",
       "18     24  0.254422  0.017612                [weight, position, Alpha_3]\n",
       "19     12  0.252912  0.013877                         [weight, position]\n",
       "20     13  0.250899  0.006955                          [weight, Alpha_3]\n",
       "21      6  0.247452  0.024953                             [club, weight]\n",
       "22      5  0.246789  0.019831                             [club, height]\n",
       "23     29  0.243099  0.006288        [height, weight, position, Alpha_3]\n",
       "24     11  0.240973  0.007539                          [height, Alpha_3]\n",
       "25     16  0.238883  0.013691                   [club, height, position]\n",
       "26     22  0.237490  0.006978                  [height, weight, Alpha_3]\n",
       "27     21  0.224136  0.007832                 [height, weight, position]\n",
       "28     23  0.211456  0.011904                [height, position, Alpha_3]\n",
       "29      9  0.205777  0.013954                           [height, weight]\n",
       "30     10  0.204343  0.003888                         [height, position]"
      ]
     },
     "execution_count": 245,
     "metadata": {},
     "output_type": "execute_result"
    }
   ],
   "source": [
    "feature_subsets = [x for x in feature_subsets if x != []]\n",
    "scores_df = pd.DataFrame({ 'subset' : feature_subsets, 'score' : subset_scores, 'std' : subset_scores_std })\n",
    "scores_df.sort_values(['score'], ascending = False).reset_index()"
   ]
  },
  {
   "cell_type": "markdown",
   "metadata": {},
   "source": [
    "As we can see the combinations don't bring better results, with a maximum accuracy of 30%."
   ]
  },
  {
   "cell_type": "markdown",
   "metadata": {},
   "source": [
    "### 1.6 Binary Classification\n",
    "\n",
    "Another idea is to treat this problem as a binary classification problem : instead of the 6 labels for the skintone, let's arbitrarily divide the labels into 2 classes and see if we can achieve better results."
   ]
  },
  {
   "cell_type": "code",
   "execution_count": 246,
   "metadata": {
    "collapsed": false
   },
   "outputs": [
    {
     "name": "stdout",
     "output_type": "stream",
     "text": [
      "Score: \n",
      "   -  test : 0.8309859154929577 \n",
      "   -  train : 0.9764982373678026\n",
      "\n",
      "Accuracy:\n",
      "   0.832743 (+/- 0.022288)\n"
     ]
    },
    {
     "data": {
      "image/png": "[encoded data removed]",
      "text/plain": [
       "<matplotlib.figure.Figure at 0x119113208>"
      ]
     },
     "metadata": {},
     "output_type": "display_data"
    }
   ],
   "source": [
    "def binary_skintone(tone):\n",
    "    return 1 if tone > 0.5 else 0 \n",
    "\n",
    "X_bin = X_clf\n",
    "Y_bin = np.array(final_df['skintone'].apply(binary_skintone))\n",
    "\n",
    "clf_bin = run_random_forest(X_bin, Y_bin)\n",
    "learning_curve_plot(clf_bin, X_bin, Y_bin)"
   ]
  },
  {
   "cell_type": "code",
   "execution_count": null,
   "metadata": {
    "collapsed": true
   },
   "outputs": [],
   "source": []
  },
  {
   "cell_type": "markdown",
   "metadata": {
    "collapsed": false
   },
   "source": [
    "---\n",
    "# 2. Player Clustering"
   ]
  }
 ],
 "metadata": {
  "anaconda-cloud": {},
  "kernelspec": {
   "display_name": "Python [conda root]",
   "language": "python",
   "name": "conda-root-py"
  },
  "language_info": {
   "codemirror_mode": {
    "name": "ipython",
    "version": 3
   },
   "file_extension": ".py",
   "mimetype": "text/x-python",
   "name": "python",
   "nbconvert_exporter": "python",
   "pygments_lexer": "ipython3",
   "version": "3.5.2"
  }
 },
 "nbformat": 4,
 "nbformat_minor": 1
}
