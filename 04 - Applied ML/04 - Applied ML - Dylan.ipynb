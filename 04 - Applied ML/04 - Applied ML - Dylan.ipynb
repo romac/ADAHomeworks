{
 "cells": [
  {
   "cell_type": "markdown",
   "metadata": {},
   "source": [
    "# 04 - Applied ML\n",
    "\n",
    "## Deadline\n",
    "Tuesday November 22, 2016 at 11:59PM\n",
    "\n",
    "## Background\n",
    "In this homework we will gain experience on Applied Machine Learning, exploring an interesting dataset about soccer players and referees.\n",
    "You can find all the data in the `CrowdstormingDataJuly1st.csv` file, while you can read a thorough [dataset description here](DATA.md).\n",
    "Given that the focus of this homework is Machine Learning, I recommend you to first take a look at [this notebook](http://nbviewer.jupyter.org/github/mathewzilla/redcard/blob/master/Crowdstorming_visualisation.ipynb)\n",
    "containing a solid work in pre-processing + visualization of the given dataset. You are *not* allowed to just copy/paste the pre-processing steps\n",
    "performed by the notebook authors -- you are still supposed to perform your own data analysis for the homework. Still, I'm confident that consulting first\n",
    "the work done by expert data analysts will speed up tangibly your effort (i.e., they have already found for you many glitches in the data :)\n",
    "\n",
    "\n",
    "## Assignment\n",
    "1. Train a `sklearn.ensemble.RandomForestClassifier` that given a soccer player description outputs his skin color. Show how different parameters \n",
    "passed to the Classifier affect the overfitting issue. Perform cross-validation to mitigate the overfitting of your model. Once you assessed your model,\n",
    "inspect the `feature_importances_` attribute and discuss the obtained results. With different assumptions on the data (e.g., dropping certain features even\n",
    "before feeding them to the classifier), can you obtain a substantially different `feature_importances_` attribute?\n",
    "\n",
    "  *BONUS*: plot the learning curves against at least 2 different sets of parameters passed to your Random Forest. To obtain smooth curves, partition\n",
    "your data in at least 20 folds. Can you find a set of parameters that leads to high bias, and one which does not?\n",
    "\n",
    "2. Aggregate the referee information grouping by soccer player, and use an unsupervised learning technique to cluster the soccer players in 2 disjoint\n",
    "clusters. Remove features iteratively, and at each step perform again the clustering and compute the silhouette score -- can you find a configuration of features with high silhouette\n",
    "score where players with dark and light skin colors belong to different clusters? Discuss the obtained results.\n"
   ]
  },
  {
   "cell_type": "markdown",
   "metadata": {},
   "source": [
    "----"
   ]
  },
  {
   "cell_type": "markdown",
   "metadata": {},
   "source": [
    "# Data Description\n",
    "\n",
    "From a company for sports statistics, we obtained data and profile photos from all soccer players (N = 2053) playing in the first male divisions of England, Germany, France and Spain in the 2012-2013 season and all referees (N = 3147) that these players played under in their professional career. We created a dataset of player–referee dyads including the number of matches players and referees encountered each other and our dependent variable, the number of red cards given to a player by a particular referee throughout all matches the two encountered each other.\n",
    " \n",
    "Player photos were available from the source for 1586 out of 2053 players. Players’ skin tone was coded by two independent raters blind to the research question who, based on their profile photo, categorized players on a 5-point scale ranging from “very light skin” to “very dark skin” with “neither dark nor light skin” as the center value. \n",
    "\n",
    "Additionally, implicit bias scores for each referee country were calculated using a race implicit association test (IAT), with higher values corresponding to faster white | good, black | bad associations. Explicit bias scores for each referee country were calculated using a racial thermometer task, with higher values corresponding to greater feelings of warmth toward whites versus blacks. Both these measures were created by aggregating data from many online users in referee countries taking these tests on [Project Implicit](http://projectimplicit.net).\n",
    "\n",
    "In all, the dataset has a total of 146028 dyads of players and referees. A detailed description of all variables in the dataset can be seen in the list below.\n",
    "\n",
    "## Variables:\n",
    "\n",
    "*playerShort* - short player ID\n",
    "\n",
    "*player* - player name\n",
    "\n",
    "*club* - player club\n",
    "\n",
    "*leagueCountry* - country of player club (England, Germany, France, and Spain)\n",
    "\n",
    "*birthday* - player birthday\n",
    "\n",
    "*height* - player height (in cm)\n",
    "\n",
    "*weight* - player weight (in kg)\n",
    "\n",
    "*position* - detailed player position\n",
    "\n",
    "*games* - number of games in the player-referee dyad\n",
    "\n",
    "*victories* - victories in the player-referee dyad\n",
    "\n",
    "*ties* - ties in the player-referee dyad\n",
    "\n",
    "*defeats* - losses in the player-referee dyad\n",
    "\n",
    "*goals* - goals scored by a player in the player-referee dyad\n",
    "\n",
    "*yellowCards* - number of yellow cards player received from referee\n",
    "\n",
    "*yellowReds* - number of yellow-red cards player received from referee\n",
    "\n",
    "*redCards* - number of red cards player received from referee\n",
    "\n",
    "*photoID* - ID of player photo (if available)\n",
    "\n",
    "*rater1* - skin rating of photo by rater 1 (5-point scale ranging from “very light skin” to “very dark skin”)\n",
    "\n",
    "*rater2* - skin rating of photo by rater 2 (5-point scale ranging from “very light skin” to “very dark skin”)\n",
    "\n",
    "*refNum* - unique referee ID number (referee name removed for anonymizing purposes)\n",
    "\n",
    "*refCountry* - unique referee country ID number (country name removed for anonymizing purposes)\n",
    "\n",
    "*meanIAT* - mean implicit bias score (using the race IAT) for referee country, higher values correspond to faster white | good, black | bad associations\n",
    "\n",
    "*nIAT* - sample size for race IAT in that particular country\n",
    "\n",
    "*seIAT* - standard error for mean estimate of race IAT\n",
    "\n",
    "*meanExp* - mean explicit bias score (using a racial thermometer task) for referee country, higher values correspond to greater feelings of warmth toward whites versus blacks\n",
    "\n",
    "*nExp* - sample size for explicit bias in that particular country\n",
    "\n",
    "*seExp* - standard error for mean estimate of explicit bias measure\n"
   ]
  },
  {
   "cell_type": "markdown",
   "metadata": {
    "collapsed": true
   },
   "source": [
    "---\n",
    "# 1. Random Forest Classifier"
   ]
  },
  {
   "cell_type": "markdown",
   "metadata": {},
   "source": [
    "We want to train a `RandomForestClassifier` to predict a player's skin color based on the player's description."
   ]
  },
  {
   "cell_type": "code",
   "execution_count": 26,
   "metadata": {
    "collapsed": false
   },
   "outputs": [],
   "source": [
    "# Import stuff\n",
    "import pandas as pd\n",
    "import numpy as np\n",
    "\n",
    "import matplotlib.pyplot as plt \n",
    "\n",
    "from sklearn.ensemble import RandomForestClassifier\n",
    "from sklearn.preprocessing import LabelEncoder\n",
    "\n",
    "%matplotlib inline\n"
   ]
  },
  {
   "cell_type": "markdown",
   "metadata": {},
   "source": [
    "### 1.1 Loading the data\n",
    "\n",
    "The first step is of course to load the data provided to us in `CrowdstormingDataJuly1st.csv`. Its fields are described above for reference."
   ]
  },
  {
   "cell_type": "code",
   "execution_count": 27,
   "metadata": {
    "collapsed": false
   },
   "outputs": [
    {
     "data": {
      "text/html": [
       "<div>\n",
       "<table border=\"1\" class=\"dataframe\">\n",
       "  <thead>\n",
       "    <tr style=\"text-align: right;\">\n",
       "      <th></th>\n",
       "      <th>playerShort</th>\n",
       "      <th>player</th>\n",
       "      <th>club</th>\n",
       "      <th>leagueCountry</th>\n",
       "      <th>birthday</th>\n",
       "      <th>height</th>\n",
       "      <th>weight</th>\n",
       "      <th>position</th>\n",
       "      <th>games</th>\n",
       "      <th>victories</th>\n",
       "      <th>...</th>\n",
       "      <th>rater2</th>\n",
       "      <th>refNum</th>\n",
       "      <th>refCountry</th>\n",
       "      <th>Alpha_3</th>\n",
       "      <th>meanIAT</th>\n",
       "      <th>nIAT</th>\n",
       "      <th>seIAT</th>\n",
       "      <th>meanExp</th>\n",
       "      <th>nExp</th>\n",
       "      <th>seExp</th>\n",
       "    </tr>\n",
       "  </thead>\n",
       "  <tbody>\n",
       "    <tr>\n",
       "      <th>123058</th>\n",
       "      <td>jaroslav-plasil</td>\n",
       "      <td>Jaroslav Plašil</td>\n",
       "      <td>Girondins Bordeaux</td>\n",
       "      <td>France</td>\n",
       "      <td>05.01.1982</td>\n",
       "      <td>183.0</td>\n",
       "      <td>72.0</td>\n",
       "      <td>Right Midfielder</td>\n",
       "      <td>9</td>\n",
       "      <td>3</td>\n",
       "      <td>...</td>\n",
       "      <td>0.25</td>\n",
       "      <td>2619</td>\n",
       "      <td>7</td>\n",
       "      <td>FRA</td>\n",
       "      <td>0.334684</td>\n",
       "      <td>2882.0</td>\n",
       "      <td>0.000151</td>\n",
       "      <td>0.336101</td>\n",
       "      <td>3011.0</td>\n",
       "      <td>0.000586</td>\n",
       "    </tr>\n",
       "    <tr>\n",
       "      <th>7479</th>\n",
       "      <td>theodor-gebre-selassie</td>\n",
       "      <td>Theodor Gebre Selassie</td>\n",
       "      <td>Werder Bremen</td>\n",
       "      <td>Germany</td>\n",
       "      <td>24.12.1986</td>\n",
       "      <td>181.0</td>\n",
       "      <td>71.0</td>\n",
       "      <td>Right Fullback</td>\n",
       "      <td>1</td>\n",
       "      <td>1</td>\n",
       "      <td>...</td>\n",
       "      <td>0.75</td>\n",
       "      <td>176</td>\n",
       "      <td>68</td>\n",
       "      <td>AZE</td>\n",
       "      <td>0.284753</td>\n",
       "      <td>339.0</td>\n",
       "      <td>0.001535</td>\n",
       "      <td>0.139394</td>\n",
       "      <td>330.0</td>\n",
       "      <td>0.011747</td>\n",
       "    </tr>\n",
       "    <tr>\n",
       "      <th>131460</th>\n",
       "      <td>thomas-soerensen</td>\n",
       "      <td>Thomas Sørensen</td>\n",
       "      <td>Stoke City</td>\n",
       "      <td>England</td>\n",
       "      <td>12.06.1976</td>\n",
       "      <td>195.0</td>\n",
       "      <td>89.0</td>\n",
       "      <td>Goalkeeper</td>\n",
       "      <td>6</td>\n",
       "      <td>0</td>\n",
       "      <td>...</td>\n",
       "      <td>0.25</td>\n",
       "      <td>2799</td>\n",
       "      <td>44</td>\n",
       "      <td>ENGL</td>\n",
       "      <td>0.326690</td>\n",
       "      <td>44791.0</td>\n",
       "      <td>0.000010</td>\n",
       "      <td>0.356446</td>\n",
       "      <td>46916.0</td>\n",
       "      <td>0.000037</td>\n",
       "    </tr>\n",
       "    <tr>\n",
       "      <th>47537</th>\n",
       "      <td>manu-del-moral</td>\n",
       "      <td>Manu del Moral</td>\n",
       "      <td>Sevilla FC</td>\n",
       "      <td>Spain</td>\n",
       "      <td>25.02.1984</td>\n",
       "      <td>185.0</td>\n",
       "      <td>77.0</td>\n",
       "      <td>Center Forward</td>\n",
       "      <td>11</td>\n",
       "      <td>4</td>\n",
       "      <td>...</td>\n",
       "      <td>0.25</td>\n",
       "      <td>916</td>\n",
       "      <td>3</td>\n",
       "      <td>ESP</td>\n",
       "      <td>0.369894</td>\n",
       "      <td>1785.0</td>\n",
       "      <td>0.000229</td>\n",
       "      <td>0.588297</td>\n",
       "      <td>1897.0</td>\n",
       "      <td>0.001002</td>\n",
       "    </tr>\n",
       "    <tr>\n",
       "      <th>115958</th>\n",
       "      <td>mahamadou-diarra</td>\n",
       "      <td>Mahamadou Diarra</td>\n",
       "      <td>Fulham FC</td>\n",
       "      <td>England</td>\n",
       "      <td>18.05.1981</td>\n",
       "      <td>183.0</td>\n",
       "      <td>76.0</td>\n",
       "      <td>Defensive Midfielder</td>\n",
       "      <td>2</td>\n",
       "      <td>0</td>\n",
       "      <td>...</td>\n",
       "      <td>1.00</td>\n",
       "      <td>2426</td>\n",
       "      <td>64</td>\n",
       "      <td>NLD</td>\n",
       "      <td>0.352920</td>\n",
       "      <td>5952.0</td>\n",
       "      <td>0.000070</td>\n",
       "      <td>0.445679</td>\n",
       "      <td>6121.0</td>\n",
       "      <td>0.000269</td>\n",
       "    </tr>\n",
       "    <tr>\n",
       "      <th>71063</th>\n",
       "      <td>andrija-delibasic</td>\n",
       "      <td>Andrija Delibašić</td>\n",
       "      <td>Rayo Vallecano</td>\n",
       "      <td>Spain</td>\n",
       "      <td>24.04.1981</td>\n",
       "      <td>188.0</td>\n",
       "      <td>84.0</td>\n",
       "      <td>Center Forward</td>\n",
       "      <td>7</td>\n",
       "      <td>3</td>\n",
       "      <td>...</td>\n",
       "      <td>0.00</td>\n",
       "      <td>1536</td>\n",
       "      <td>3</td>\n",
       "      <td>ESP</td>\n",
       "      <td>0.369894</td>\n",
       "      <td>1785.0</td>\n",
       "      <td>0.000229</td>\n",
       "      <td>0.588297</td>\n",
       "      <td>1897.0</td>\n",
       "      <td>0.001002</td>\n",
       "    </tr>\n",
       "    <tr>\n",
       "      <th>132691</th>\n",
       "      <td>adam-le-fondre</td>\n",
       "      <td>Adam Le Fondre</td>\n",
       "      <td>Reading FC</td>\n",
       "      <td>England</td>\n",
       "      <td>02.12.1986</td>\n",
       "      <td>180.0</td>\n",
       "      <td>73.0</td>\n",
       "      <td>NaN</td>\n",
       "      <td>1</td>\n",
       "      <td>0</td>\n",
       "      <td>...</td>\n",
       "      <td>NaN</td>\n",
       "      <td>2822</td>\n",
       "      <td>44</td>\n",
       "      <td>ENGL</td>\n",
       "      <td>0.326690</td>\n",
       "      <td>44791.0</td>\n",
       "      <td>0.000010</td>\n",
       "      <td>0.356446</td>\n",
       "      <td>46916.0</td>\n",
       "      <td>0.000037</td>\n",
       "    </tr>\n",
       "    <tr>\n",
       "      <th>55868</th>\n",
       "      <td>adam-hlousek</td>\n",
       "      <td>Adam Hloušek</td>\n",
       "      <td>1. FC Nürnberg</td>\n",
       "      <td>Germany</td>\n",
       "      <td>20.12.1988</td>\n",
       "      <td>188.0</td>\n",
       "      <td>76.0</td>\n",
       "      <td>Left Midfielder</td>\n",
       "      <td>1</td>\n",
       "      <td>1</td>\n",
       "      <td>...</td>\n",
       "      <td>0.00</td>\n",
       "      <td>1108</td>\n",
       "      <td>8</td>\n",
       "      <td>DEU</td>\n",
       "      <td>0.336628</td>\n",
       "      <td>7749.0</td>\n",
       "      <td>0.000055</td>\n",
       "      <td>0.335967</td>\n",
       "      <td>7974.0</td>\n",
       "      <td>0.000225</td>\n",
       "    </tr>\n",
       "    <tr>\n",
       "      <th>60560</th>\n",
       "      <td>bueno</td>\n",
       "      <td>Bueno</td>\n",
       "      <td>Real Valladolid</td>\n",
       "      <td>Spain</td>\n",
       "      <td>20.03.1988</td>\n",
       "      <td>178.0</td>\n",
       "      <td>64.0</td>\n",
       "      <td>Center Forward</td>\n",
       "      <td>1</td>\n",
       "      <td>0</td>\n",
       "      <td>...</td>\n",
       "      <td>0.25</td>\n",
       "      <td>1233</td>\n",
       "      <td>44</td>\n",
       "      <td>ENGL</td>\n",
       "      <td>0.326690</td>\n",
       "      <td>44791.0</td>\n",
       "      <td>0.000010</td>\n",
       "      <td>0.356446</td>\n",
       "      <td>46916.0</td>\n",
       "      <td>0.000037</td>\n",
       "    </tr>\n",
       "    <tr>\n",
       "      <th>26209</th>\n",
       "      <td>javi-garcia</td>\n",
       "      <td>Javi García</td>\n",
       "      <td>Manchester City</td>\n",
       "      <td>England</td>\n",
       "      <td>08.02.1987</td>\n",
       "      <td>186.0</td>\n",
       "      <td>82.0</td>\n",
       "      <td>Defensive Midfielder</td>\n",
       "      <td>4</td>\n",
       "      <td>4</td>\n",
       "      <td>...</td>\n",
       "      <td>0.25</td>\n",
       "      <td>487</td>\n",
       "      <td>44</td>\n",
       "      <td>ENGL</td>\n",
       "      <td>0.326690</td>\n",
       "      <td>44791.0</td>\n",
       "      <td>0.000010</td>\n",
       "      <td>0.356446</td>\n",
       "      <td>46916.0</td>\n",
       "      <td>0.000037</td>\n",
       "    </tr>\n",
       "  </tbody>\n",
       "</table>\n",
       "<p>10 rows × 28 columns</p>\n",
       "</div>"
      ],
      "text/plain": [
       "                   playerShort                  player                club  \\\n",
       "123058         jaroslav-plasil         Jaroslav Plašil  Girondins Bordeaux   \n",
       "7479    theodor-gebre-selassie  Theodor Gebre Selassie       Werder Bremen   \n",
       "131460        thomas-soerensen         Thomas Sørensen          Stoke City   \n",
       "47537           manu-del-moral          Manu del Moral          Sevilla FC   \n",
       "115958        mahamadou-diarra        Mahamadou Diarra           Fulham FC   \n",
       "71063        andrija-delibasic       Andrija Delibašić      Rayo Vallecano   \n",
       "132691          adam-le-fondre          Adam Le Fondre          Reading FC   \n",
       "55868             adam-hlousek            Adam Hloušek      1. FC Nürnberg   \n",
       "60560                    bueno                   Bueno     Real Valladolid   \n",
       "26209              javi-garcia             Javi García     Manchester City   \n",
       "\n",
       "       leagueCountry    birthday  height  weight              position  games  \\\n",
       "123058        France  05.01.1982   183.0    72.0      Right Midfielder      9   \n",
       "7479         Germany  24.12.1986   181.0    71.0        Right Fullback      1   \n",
       "131460       England  12.06.1976   195.0    89.0            Goalkeeper      6   \n",
       "47537          Spain  25.02.1984   185.0    77.0        Center Forward     11   \n",
       "115958       England  18.05.1981   183.0    76.0  Defensive Midfielder      2   \n",
       "71063          Spain  24.04.1981   188.0    84.0        Center Forward      7   \n",
       "132691       England  02.12.1986   180.0    73.0                   NaN      1   \n",
       "55868        Germany  20.12.1988   188.0    76.0       Left Midfielder      1   \n",
       "60560          Spain  20.03.1988   178.0    64.0        Center Forward      1   \n",
       "26209        England  08.02.1987   186.0    82.0  Defensive Midfielder      4   \n",
       "\n",
       "        victories    ...     rater2  refNum  refCountry  Alpha_3   meanIAT  \\\n",
       "123058          3    ...       0.25    2619           7      FRA  0.334684   \n",
       "7479            1    ...       0.75     176          68      AZE  0.284753   \n",
       "131460          0    ...       0.25    2799          44     ENGL  0.326690   \n",
       "47537           4    ...       0.25     916           3      ESP  0.369894   \n",
       "115958          0    ...       1.00    2426          64      NLD  0.352920   \n",
       "71063           3    ...       0.00    1536           3      ESP  0.369894   \n",
       "132691          0    ...        NaN    2822          44     ENGL  0.326690   \n",
       "55868           1    ...       0.00    1108           8      DEU  0.336628   \n",
       "60560           0    ...       0.25    1233          44     ENGL  0.326690   \n",
       "26209           4    ...       0.25     487          44     ENGL  0.326690   \n",
       "\n",
       "           nIAT     seIAT   meanExp     nExp     seExp  \n",
       "123058   2882.0  0.000151  0.336101   3011.0  0.000586  \n",
       "7479      339.0  0.001535  0.139394    330.0  0.011747  \n",
       "131460  44791.0  0.000010  0.356446  46916.0  0.000037  \n",
       "47537    1785.0  0.000229  0.588297   1897.0  0.001002  \n",
       "115958   5952.0  0.000070  0.445679   6121.0  0.000269  \n",
       "71063    1785.0  0.000229  0.588297   1897.0  0.001002  \n",
       "132691  44791.0  0.000010  0.356446  46916.0  0.000037  \n",
       "55868    7749.0  0.000055  0.335967   7974.0  0.000225  \n",
       "60560   44791.0  0.000010  0.356446  46916.0  0.000037  \n",
       "26209   44791.0  0.000010  0.356446  46916.0  0.000037  \n",
       "\n",
       "[10 rows x 28 columns]"
      ]
     },
     "execution_count": 27,
     "metadata": {},
     "output_type": "execute_result"
    }
   ],
   "source": [
    "filename='CrowdstormingDataJuly1st.csv'\n",
    "df = pd.read_csv(filename)\n",
    "df.sample(10)"
   ]
  },
  {
   "cell_type": "markdown",
   "metadata": {},
   "source": [
    "### 1.2 Cleaning the data\n",
    "\n",
    "A few things have to be done to clean the data before we feed it to the classifier.\n",
    "\n",
    "Firstly, let's merge the two skin color ratings into a mean one, since this score will act as our label for the classifier, and remove the two rating columns."
   ]
  },
  {
   "cell_type": "code",
   "execution_count": 28,
   "metadata": {
    "collapsed": false
   },
   "outputs": [],
   "source": [
    "df['skintone']= (df['rater1']+df['rater2']) / 2\n",
    "df = df.drop('rater1', 1)\n",
    "df = df.drop('rater2', 1)"
   ]
  },
  {
   "cell_type": "markdown",
   "metadata": {},
   "source": [
    "Secondly, let's remove players who don't have this rating since we won't be able to train the classifier with these examples. They are currently store as `NaN` scpre in the `skintone` column."
   ]
  },
  {
   "cell_type": "code",
   "execution_count": 29,
   "metadata": {
    "collapsed": false
   },
   "outputs": [
    {
     "name": "stdout",
     "output_type": "stream",
     "text": [
      "We kept 124621 of 146028 entries (delta = 21407).\n"
     ]
    }
   ],
   "source": [
    "clean_df = df.copy()\n",
    "clean_df = clean_df.dropna(axis = 0, subset = ['skintone'])\n",
    "\n",
    "print(\"We kept {} of {} entries (delta = {}).\".format(len(clean_df), len(df), len(df) - len(clean_df)))"
   ]
  },
  {
   "cell_type": "markdown",
   "metadata": {},
   "source": [
    "Let's now check for other missing values :"
   ]
  },
  {
   "cell_type": "code",
   "execution_count": 30,
   "metadata": {
    "collapsed": false
   },
   "outputs": [
    {
     "name": "stdout",
     "output_type": "stream",
     "text": [
      "playerShort: 0\n",
      "player: 0\n",
      "club: 0\n",
      "leagueCountry: 0\n",
      "birthday: 0\n",
      "height: 46\n",
      "weight: 753\n",
      "position: 8461\n",
      "games: 0\n",
      "victories: 0\n",
      "ties: 0\n",
      "defeats: 0\n",
      "goals: 0\n",
      "yellowCards: 0\n",
      "yellowReds: 0\n",
      "redCards: 0\n",
      "photoID: 0\n",
      "refNum: 0\n",
      "refCountry: 0\n",
      "Alpha_3: 1\n",
      "meanIAT: 153\n",
      "nIAT: 153\n",
      "seIAT: 153\n",
      "meanExp: 153\n",
      "nExp: 153\n",
      "seExp: 153\n",
      "skintone: 0\n"
     ]
    }
   ],
   "source": [
    "for column in clean_df:\n",
    "    print(column + ':', len(clean_df[column].iloc[clean_df[column].isnull().nonzero()]))"
   ]
  },
  {
   "cell_type": "markdown",
   "metadata": {},
   "source": [
    "Since the features `meanIAT`, `nIAT`, `seIAT`, `meanExp`, `nExp` and `seExp` have the same count, we can figure that they missing entries correspond to the same players for each field. We can safely remove entries which don't have these values. Additionnally, heightand weightwill have to be part of our dataset, so we must remove entries with no values in this field."
   ]
  },
  {
   "cell_type": "code",
   "execution_count": 31,
   "metadata": {
    "collapsed": false
   },
   "outputs": [],
   "source": [
    "to_drop = [\n",
    "    'player', 'photoID', 'birthday',\n",
    "    'refNum', 'meanIAT', 'nIAT', 'seIAT',\n",
    "    'nExp', 'seExp', 'refCountry', 'meanExp',\n",
    "]\n",
    "\n",
    "final_df = clean_df.drop(to_drop, axis=1).dropna().groupby('playerShort').agg('first')"
   ]
  },
  {
   "cell_type": "markdown",
   "metadata": {},
   "source": [
    "We also must only keep a unique player instance, otherwise a player can be found in the test set AND in the training set."
   ]
  },
  {
   "cell_type": "markdown",
   "metadata": {},
   "source": [
    "This leaves us with our final dataset :"
   ]
  },
  {
   "cell_type": "code",
   "execution_count": 32,
   "metadata": {
    "collapsed": false
   },
   "outputs": [
    {
     "name": "stdout",
     "output_type": "stream",
     "text": [
      "There are 1419 individual player entries.\n"
     ]
    }
   ],
   "source": [
    "print(\"There are {} individual player entries.\".format(len(final_df)))"
   ]
  },
  {
   "cell_type": "markdown",
   "metadata": {},
   "source": [
    "We can now extract the labels that will be used to train the classifier. We will use the `LabelEncoder` to get labels usable by sklearn."
   ]
  },
  {
   "cell_type": "code",
   "execution_count": 33,
   "metadata": {
    "collapsed": false
   },
   "outputs": [],
   "source": [
    "labels = np.array(final_df['skintone'])\n",
    "\n",
    "label_encoder = LabelEncoder()\n",
    "labels = label_encoder.fit_transform(labels)"
   ]
  },
  {
   "cell_type": "markdown",
   "metadata": {},
   "source": [
    "We'll start by using all the features provided by the dataset to train the classifier, later figuring out which ones are actually interesting. Once again we will transform the entries into values that are processable by sklearn, using `LabelEncoder`."
   ]
  },
  {
   "cell_type": "code",
   "execution_count": 34,
   "metadata": {
    "collapsed": false
   },
   "outputs": [],
   "source": [
    "features = final_df.drop('skintone', 1)\n",
    "\n",
    "encoders = {}\n",
    "for col in features.columns.values:\n",
    "    le = LabelEncoder()\n",
    "    features[col] = le.fit_transform(pd.factorize(features[col])[0])    "
   ]
  },
  {
   "cell_type": "markdown",
   "metadata": {},
   "source": [
    "### 1.3 Training the classifier\n",
    "\n",
    "We've now got our training data so let's try to train the `RandomForestClassifier`."
   ]
  },
  {
   "cell_type": "code",
   "execution_count": 35,
   "metadata": {
    "collapsed": false
   },
   "outputs": [
    {
     "name": "stdout",
     "output_type": "stream",
     "text": [
      "Score: \n",
      "   -  test : 0.29225352112676056 \n",
      "   -  train : 0.982373678025852\n",
      "\n",
      "Accuracy:\n",
      "   0.235566 (+/- 0.082821)\n"
     ]
    }
   ],
   "source": [
    "from sklearn.model_selection import train_test_split\n",
    "from sklearn.model_selection import cross_val_score\n",
    "\n",
    "X_clf = features\n",
    "Y_clf = labels\n",
    "\n",
    "def run_random_forest(X,Y):\n",
    "    # Split into a test and a train set\n",
    "    X_train, X_test, y_train, y_test = train_test_split(X, Y, test_size=0.4, random_state=42)\n",
    "\n",
    "    # Create the RandomForestClassifier\n",
    "    forest = RandomForestClassifier()\n",
    "\n",
    "    # Train the model\n",
    "    clf_tmp = forest.fit(X_train, y_train)\n",
    "    \n",
    "    test_score = clf_tmp.score(X_test, y_test)\n",
    "    train_score = clf_tmp.score(X_train, y_train)\n",
    "    \n",
    "    print(\"Score: \\n   -  test : {} \\n   -  train : {}\\n\".format(test_score, train_score))\n",
    "    \n",
    "    scores = cross_val_score(clf_tmp, X_test, y_test, cv=5)\n",
    "    print(\"Accuracy:\\n   %0.6f (+/- %0.6f)\" % (scores.mean(), scores.std() * 2))\n",
    "    \n",
    "    return clf_tmp\n",
    "\n",
    "clf = run_random_forest(X_clf,Y_clf)"
   ]
  },
  {
   "cell_type": "markdown",
   "metadata": {},
   "source": [
    "### 1.4 Learning Curves\n",
    "\n",
    "We want to see how our model's accuracy evolves with the number of samples. For this we can plot a learning curve, which will randomly split the data into test and training sets using a `ShuffleSplit`. It will then train the model and compute its score over the test set. We can then plot the accuracy over the number of training examples."
   ]
  },
  {
   "cell_type": "code",
   "execution_count": 36,
   "metadata": {
    "collapsed": false
   },
   "outputs": [],
   "source": [
    "# Plot code adapted from :\n",
    "# http://scikit-learn.org/stable/auto_examples/model_selection/plot_learning_curve.html\n",
    "#\n",
    "from sklearn.model_selection import learning_curve\n",
    "from sklearn.model_selection import ShuffleSplit\n",
    "\n",
    "def learning_curve_plot(clf, X, Y):\n",
    "    # Legends\n",
    "    title  = \"Learning Curves (Random Forest Classifier)\"\n",
    "    xlabel = \"Training examples\"\n",
    "    ylabel = \"Score\"\n",
    "\n",
    "    # Plots params\n",
    "    y_lim = (0.0, 1.01)\n",
    "\n",
    "    # CV params\n",
    "    train_sizes = np.linspace(.01, 1.0, 10)\n",
    "    cv = ShuffleSplit(n_splits=5, test_size=0.2, random_state=0)\n",
    "\n",
    "    plt.figure()\n",
    "    plt.title(title)\n",
    "    plt.ylim(*y_lim)\n",
    "    plt.xlabel(xlabel)\n",
    "    plt.ylabel(ylabel)\n",
    "\n",
    "    train_sizes, train_scores, test_scores = learning_curve(clf, X, Y, cv=cv, n_jobs=4, train_sizes=train_sizes)\n",
    "\n",
    "    train_scores_mean = np.mean(train_scores, axis=1)\n",
    "    test_scores_mean  = np.mean(test_scores , axis=1)\n",
    "\n",
    "    train_scores_std  = np.std(train_scores, axis=1)\n",
    "    test_scores_std   = np.std(test_scores , axis=1)\n",
    "\n",
    "    plt.grid()\n",
    "    plt.fill_between(train_sizes, train_scores_mean - train_scores_std,\n",
    "                     train_scores_mean + train_scores_std, alpha=0.1,\n",
    "                     color=\"r\")\n",
    "    plt.fill_between(train_sizes, test_scores_mean - test_scores_std,\n",
    "                     test_scores_mean + test_scores_std, alpha=0.1, color=\"g\")\n",
    "    plt.plot(train_sizes, train_scores_mean, 'o-', color=\"r\",\n",
    "             label=\"Training score\")\n",
    "    plt.plot(train_sizes, test_scores_mean, 'o-', color=\"g\",\n",
    "             label=\"Cross-validation score\")\n",
    "    plt.legend(loc=\"best\")\n",
    "\n",
    "    plt.show()"
   ]
  },
  {
   "cell_type": "code",
   "execution_count": 37,
   "metadata": {
    "collapsed": false
   },
   "outputs": [
    {
     "data": {
      "image/png": "[encoded data removed]",
      "text/plain": [
       "<matplotlib.figure.Figure at 0x10ad2b400>"
      ]
     },
     "metadata": {},
     "output_type": "display_data"
    }
   ],
   "source": [
    "learning_curve_plot(clf, X_clf, Y_clf)"
   ]
  },
  {
   "cell_type": "markdown",
   "metadata": {},
   "source": [
    "As we can see (and might have guessed from our accuracy scores), our model has a very good score on the training set but does not generalize well : the test score is quite low (30%). In order to adress this we will do some cross-validation on our classifier's parameters. The main parameters to adjust when using these methods is `n_estimators` and `max_features`."
   ]
  },
  {
   "cell_type": "code",
   "execution_count": 40,
   "metadata": {
    "collapsed": false
   },
   "outputs": [],
   "source": [
    "from sklearn.model_selection import cross_val_score\n",
    "\n",
    "n_estimators_range = range(1, 500, 50)\n",
    "\n",
    "scores = list()\n",
    "scores_std = list()\n",
    "\n",
    "# Split into a test and a train set\n",
    "X_train, X_test, Y_train, Y_test = train_test_split(X_clf, Y_clf, test_size=0.4, random_state=42)\n",
    "\n",
    "for n_estimators in n_estimators_range:\n",
    "    f = RandomForestClassifier(n_estimators=n_estimators)\n",
    "    clf_tmp = f.fit(X_train, Y_train)\n",
    "    this_scores = cross_val_score(clf, X_clf, Y_clf)\n",
    "    scores.append(np.mean(this_scores))\n",
    "    scores_std.append(np.std(this_scores))"
   ]
  },
  {
   "cell_type": "code",
   "execution_count": 41,
   "metadata": {
    "collapsed": false
   },
   "outputs": [
    {
     "data": {
      "image/png": "[encoded data removed]",
      "text/plain": [
       "<matplotlib.figure.Figure at 0x10addd438>"
      ]
     },
     "metadata": {},
     "output_type": "display_data"
    }
   ],
   "source": [
    "plt.figure(1, figsize=(4, 3))\n",
    "plt.clf()\n",
    "plt.plot(n_estimators_range, scores)\n",
    "plt.plot(n_estimators_range, np.array(scores) + np.array(scores_std), 'b--')\n",
    "plt.plot(n_estimators_range, np.array(scores) - np.array(scores_std), 'b--')\n",
    "plt.ylabel('CV score')\n",
    "plt.xlabel('Parameter n_estimators')\n",
    "plt.ylim(0, 0.4)\n",
    "plt.show()"
   ]
  },
  {
   "cell_type": "markdown",
   "metadata": {},
   "source": [
    "As we can see here the CV score stays around 30% for any `n_estimators` > 50. This means we might have another issue : the features do not hold enough information or their subset was not chosen correctly. Let's study this aspect next."
   ]
  },
  {
   "cell_type": "markdown",
   "metadata": {},
   "source": [
    "### 1.5 Feature importances\n",
    "\n",
    "We would like to figure out which of the features are the most relevant to our model (i.e. the features that represent the most variance / information). These are the features that help the classifier make its decision.\n",
    "\n",
    "We have access to this information in `RandomForestClassifier.feature_importances_`, so we can plot their importance."
   ]
  },
  {
   "cell_type": "code",
   "execution_count": 42,
   "metadata": {
    "collapsed": false
   },
   "outputs": [],
   "source": [
    "def feature_importances_plot(clf, X, Y):\n",
    "    # Plot code adapted from :\n",
    "    # http://scikit-learn.org/stable/auto_examples/ensemble/plot_forest_importances.html#sphx-glr-auto-examples-ensemble-plot-forest-importances-py\n",
    "    #\n",
    "    importances = clf.feature_importances_\n",
    "    std = np.std([tree.feature_importances_ for tree in clf.estimators_],\n",
    "                 axis=0)\n",
    "    indices = np.argsort(importances)[::-1]\n",
    "    feature_names = X.columns.values.tolist()\n",
    "\n",
    "    # Print the feature ranking\n",
    "    print(\"Feature ranking:\")\n",
    "\n",
    "    for j in range(X_train.shape[1]):\n",
    "        print(\"%d. feature #%d %s (%f)\" % (j + 1, indices[j], feature_names[indices[j]], importances[indices[j]]))\n",
    "\n",
    "    # Plot the feature importances of the forest\n",
    "    plt.figure()\n",
    "    plt.title(\"Feature importances\")\n",
    "    plt.bar(range(X_train.shape[1]), importances[indices],\n",
    "           color=\"r\", yerr=std[indices], align=\"center\")\n",
    "    plt.xticks(range(X_train.shape[1]), indices)\n",
    "    plt.xlim([-1, X_train.shape[1]])\n",
    "    plt.show()"
   ]
  },
  {
   "cell_type": "code",
   "execution_count": 43,
   "metadata": {
    "collapsed": false
   },
   "outputs": [
    {
     "name": "stdout",
     "output_type": "stream",
     "text": [
      "Feature ranking:\n",
      "1. feature #0 club (0.159875)\n",
      "2. feature #3 weight (0.144068)\n",
      "3. feature #2 height (0.143831)\n",
      "4. feature #13 Alpha_3 (0.106342)\n",
      "5. feature #4 position (0.105762)\n",
      "6. feature #5 games (0.059831)\n",
      "7. feature #6 victories (0.059090)\n",
      "8. feature #8 defeats (0.055565)\n",
      "9. feature #1 leagueCountry (0.052218)\n",
      "10. feature #7 ties (0.041498)\n",
      "11. feature #10 yellowCards (0.036452)\n",
      "12. feature #9 goals (0.029966)\n",
      "13. feature #11 yellowReds (0.003765)\n",
      "14. feature #12 redCards (0.001737)\n"
     ]
    },
    {
     "data": {
      "image/png": "[encoded data removed]",
      "text/plain": [
       "<matplotlib.figure.Figure at 0x116ca50b8>"
      ]
     },
     "metadata": {},
     "output_type": "display_data"
    }
   ],
   "source": [
    "feature_importances_plot(clf, X_clf, Y_clf)"
   ]
  },
  {
   "cell_type": "markdown",
   "metadata": {},
   "source": [
    "It is interesting to note that `yellowReds` and `redCards` seem to not have any impact.\n",
    "\n",
    "On the other hand there are notably 5 features that seem to be more important than the rest :\n",
    "* club\n",
    "* height\n",
    "* weight\n",
    "* position\n",
    "* Alpha_3\n",
    "\n",
    "Let's create a powerset (i.e. all possible cominbations of the 5) of these features and see which combinations give good results."
   ]
  },
  {
   "cell_type": "code",
   "execution_count": 44,
   "metadata": {
    "collapsed": true
   },
   "outputs": [],
   "source": [
    "from itertools import combinations\n",
    "\n",
    "# Compute the powerset of the given list\n",
    "def powerset(l):\n",
    "    combs = []\n",
    "    for i in range(0, len(l) + 1):\n",
    "        listing = [list(x) for x in combinations(l, i)]\n",
    "        combs.extend(listing)\n",
    "    return combs"
   ]
  },
  {
   "cell_type": "code",
   "execution_count": 46,
   "metadata": {
    "collapsed": false
   },
   "outputs": [],
   "source": [
    "good_features = ['club', 'height' ,'weight', 'position', 'Alpha_3']\n",
    "feature_subsets = list(powerset(good_features))\n",
    "\n",
    "subset_scores = list()\n",
    "subset_scores_std = list()\n",
    "\n",
    "feature_subsets = [x for x in feature_subsets if x != []]\n",
    "\n",
    "for subset in feature_subsets:\n",
    "    # Split into a test and a train set\n",
    "    X_train, X_test, Y_train, Y_test = train_test_split(X_clf[subset], Y_clf, test_size=0.4, random_state=42)\n",
    "    f = RandomForestClassifier(n_estimators=n_estimators)\n",
    "    clf_tmp = f.fit(X_train, Y_train)\n",
    "    this_scores = cross_val_score(clf_tmp, X_clf[subset], Y_clf)\n",
    "    subset_scores.append(np.mean(this_scores))\n",
    "    subset_scores_std.append(np.std(this_scores))"
   ]
  },
  {
   "cell_type": "code",
   "execution_count": 48,
   "metadata": {
    "collapsed": false
   },
   "outputs": [
    {
     "data": {
      "text/html": [
       "<div>\n",
       "<table border=\"1\" class=\"dataframe\">\n",
       "  <thead>\n",
       "    <tr style=\"text-align: right;\">\n",
       "      <th></th>\n",
       "      <th>index</th>\n",
       "      <th>score</th>\n",
       "      <th>std</th>\n",
       "      <th>subset</th>\n",
       "    </tr>\n",
       "  </thead>\n",
       "  <tbody>\n",
       "    <tr>\n",
       "      <th>0</th>\n",
       "      <td>0</td>\n",
       "      <td>0.316459</td>\n",
       "      <td>0.011498</td>\n",
       "      <td>[club]</td>\n",
       "    </tr>\n",
       "    <tr>\n",
       "      <th>1</th>\n",
       "      <td>26</td>\n",
       "      <td>0.303075</td>\n",
       "      <td>0.007326</td>\n",
       "      <td>[club, height, weight, Alpha_3]</td>\n",
       "    </tr>\n",
       "    <tr>\n",
       "      <th>2</th>\n",
       "      <td>30</td>\n",
       "      <td>0.297956</td>\n",
       "      <td>0.020631</td>\n",
       "      <td>[club, height, weight, position, Alpha_3]</td>\n",
       "    </tr>\n",
       "    <tr>\n",
       "      <th>3</th>\n",
       "      <td>4</td>\n",
       "      <td>0.296732</td>\n",
       "      <td>0.008359</td>\n",
       "      <td>[Alpha_3]</td>\n",
       "    </tr>\n",
       "    <tr>\n",
       "      <th>4</th>\n",
       "      <td>2</td>\n",
       "      <td>0.294600</td>\n",
       "      <td>0.004273</td>\n",
       "      <td>[weight]</td>\n",
       "    </tr>\n",
       "    <tr>\n",
       "      <th>5</th>\n",
       "      <td>28</td>\n",
       "      <td>0.287433</td>\n",
       "      <td>0.014866</td>\n",
       "      <td>[club, weight, position, Alpha_3]</td>\n",
       "    </tr>\n",
       "    <tr>\n",
       "      <th>6</th>\n",
       "      <td>8</td>\n",
       "      <td>0.286197</td>\n",
       "      <td>0.014945</td>\n",
       "      <td>[club, Alpha_3]</td>\n",
       "    </tr>\n",
       "    <tr>\n",
       "      <th>7</th>\n",
       "      <td>25</td>\n",
       "      <td>0.281932</td>\n",
       "      <td>0.006287</td>\n",
       "      <td>[club, height, weight, position]</td>\n",
       "    </tr>\n",
       "    <tr>\n",
       "      <th>8</th>\n",
       "      <td>17</td>\n",
       "      <td>0.279734</td>\n",
       "      <td>0.012913</td>\n",
       "      <td>[club, height, Alpha_3]</td>\n",
       "    </tr>\n",
       "    <tr>\n",
       "      <th>9</th>\n",
       "      <td>3</td>\n",
       "      <td>0.278348</td>\n",
       "      <td>0.006928</td>\n",
       "      <td>[position]</td>\n",
       "    </tr>\n",
       "    <tr>\n",
       "      <th>10</th>\n",
       "      <td>15</td>\n",
       "      <td>0.275595</td>\n",
       "      <td>0.014705</td>\n",
       "      <td>[club, height, weight]</td>\n",
       "    </tr>\n",
       "    <tr>\n",
       "      <th>11</th>\n",
       "      <td>1</td>\n",
       "      <td>0.273983</td>\n",
       "      <td>0.024315</td>\n",
       "      <td>[height]</td>\n",
       "    </tr>\n",
       "    <tr>\n",
       "      <th>12</th>\n",
       "      <td>14</td>\n",
       "      <td>0.270638</td>\n",
       "      <td>0.004698</td>\n",
       "      <td>[position, Alpha_3]</td>\n",
       "    </tr>\n",
       "    <tr>\n",
       "      <th>13</th>\n",
       "      <td>27</td>\n",
       "      <td>0.270578</td>\n",
       "      <td>0.007856</td>\n",
       "      <td>[club, height, position, Alpha_3]</td>\n",
       "    </tr>\n",
       "    <tr>\n",
       "      <th>14</th>\n",
       "      <td>19</td>\n",
       "      <td>0.266433</td>\n",
       "      <td>0.013808</td>\n",
       "      <td>[club, weight, Alpha_3]</td>\n",
       "    </tr>\n",
       "    <tr>\n",
       "      <th>15</th>\n",
       "      <td>20</td>\n",
       "      <td>0.262885</td>\n",
       "      <td>0.005307</td>\n",
       "      <td>[club, position, Alpha_3]</td>\n",
       "    </tr>\n",
       "    <tr>\n",
       "      <th>16</th>\n",
       "      <td>7</td>\n",
       "      <td>0.260060</td>\n",
       "      <td>0.007909</td>\n",
       "      <td>[club, position]</td>\n",
       "    </tr>\n",
       "    <tr>\n",
       "      <th>17</th>\n",
       "      <td>13</td>\n",
       "      <td>0.257199</td>\n",
       "      <td>0.014394</td>\n",
       "      <td>[weight, Alpha_3]</td>\n",
       "    </tr>\n",
       "    <tr>\n",
       "      <th>18</th>\n",
       "      <td>18</td>\n",
       "      <td>0.254392</td>\n",
       "      <td>0.013084</td>\n",
       "      <td>[club, weight, position]</td>\n",
       "    </tr>\n",
       "    <tr>\n",
       "      <th>19</th>\n",
       "      <td>12</td>\n",
       "      <td>0.253007</td>\n",
       "      <td>0.004368</td>\n",
       "      <td>[weight, position]</td>\n",
       "    </tr>\n",
       "    <tr>\n",
       "      <th>20</th>\n",
       "      <td>24</td>\n",
       "      <td>0.249459</td>\n",
       "      <td>0.018040</td>\n",
       "      <td>[weight, position, Alpha_3]</td>\n",
       "    </tr>\n",
       "    <tr>\n",
       "      <th>21</th>\n",
       "      <td>5</td>\n",
       "      <td>0.248193</td>\n",
       "      <td>0.019667</td>\n",
       "      <td>[club, height]</td>\n",
       "    </tr>\n",
       "    <tr>\n",
       "      <th>22</th>\n",
       "      <td>29</td>\n",
       "      <td>0.246647</td>\n",
       "      <td>0.002636</td>\n",
       "      <td>[height, weight, position, Alpha_3]</td>\n",
       "    </tr>\n",
       "    <tr>\n",
       "      <th>23</th>\n",
       "      <td>6</td>\n",
       "      <td>0.244567</td>\n",
       "      <td>0.024749</td>\n",
       "      <td>[club, weight]</td>\n",
       "    </tr>\n",
       "    <tr>\n",
       "      <th>24</th>\n",
       "      <td>16</td>\n",
       "      <td>0.242406</td>\n",
       "      <td>0.008849</td>\n",
       "      <td>[club, height, position]</td>\n",
       "    </tr>\n",
       "    <tr>\n",
       "      <th>25</th>\n",
       "      <td>11</td>\n",
       "      <td>0.239545</td>\n",
       "      <td>0.009987</td>\n",
       "      <td>[height, Alpha_3]</td>\n",
       "    </tr>\n",
       "    <tr>\n",
       "      <th>26</th>\n",
       "      <td>22</td>\n",
       "      <td>0.236815</td>\n",
       "      <td>0.008550</td>\n",
       "      <td>[height, weight, Alpha_3]</td>\n",
       "    </tr>\n",
       "    <tr>\n",
       "      <th>27</th>\n",
       "      <td>21</td>\n",
       "      <td>0.220618</td>\n",
       "      <td>0.008764</td>\n",
       "      <td>[height, weight, position]</td>\n",
       "    </tr>\n",
       "    <tr>\n",
       "      <th>28</th>\n",
       "      <td>9</td>\n",
       "      <td>0.212090</td>\n",
       "      <td>0.010476</td>\n",
       "      <td>[height, weight]</td>\n",
       "    </tr>\n",
       "    <tr>\n",
       "      <th>29</th>\n",
       "      <td>23</td>\n",
       "      <td>0.211456</td>\n",
       "      <td>0.005980</td>\n",
       "      <td>[height, position, Alpha_3]</td>\n",
       "    </tr>\n",
       "    <tr>\n",
       "      <th>30</th>\n",
       "      <td>10</td>\n",
       "      <td>0.203615</td>\n",
       "      <td>0.008737</td>\n",
       "      <td>[height, position]</td>\n",
       "    </tr>\n",
       "  </tbody>\n",
       "</table>\n",
       "</div>"
      ],
      "text/plain": [
       "    index     score       std                                     subset\n",
       "0       0  0.316459  0.011498                                     [club]\n",
       "1      26  0.303075  0.007326            [club, height, weight, Alpha_3]\n",
       "2      30  0.297956  0.020631  [club, height, weight, position, Alpha_3]\n",
       "3       4  0.296732  0.008359                                  [Alpha_3]\n",
       "4       2  0.294600  0.004273                                   [weight]\n",
       "5      28  0.287433  0.014866          [club, weight, position, Alpha_3]\n",
       "6       8  0.286197  0.014945                            [club, Alpha_3]\n",
       "7      25  0.281932  0.006287           [club, height, weight, position]\n",
       "8      17  0.279734  0.012913                    [club, height, Alpha_3]\n",
       "9       3  0.278348  0.006928                                 [position]\n",
       "10     15  0.275595  0.014705                     [club, height, weight]\n",
       "11      1  0.273983  0.024315                                   [height]\n",
       "12     14  0.270638  0.004698                        [position, Alpha_3]\n",
       "13     27  0.270578  0.007856          [club, height, position, Alpha_3]\n",
       "14     19  0.266433  0.013808                    [club, weight, Alpha_3]\n",
       "15     20  0.262885  0.005307                  [club, position, Alpha_3]\n",
       "16      7  0.260060  0.007909                           [club, position]\n",
       "17     13  0.257199  0.014394                          [weight, Alpha_3]\n",
       "18     18  0.254392  0.013084                   [club, weight, position]\n",
       "19     12  0.253007  0.004368                         [weight, position]\n",
       "20     24  0.249459  0.018040                [weight, position, Alpha_3]\n",
       "21      5  0.248193  0.019667                             [club, height]\n",
       "22     29  0.246647  0.002636        [height, weight, position, Alpha_3]\n",
       "23      6  0.244567  0.024749                             [club, weight]\n",
       "24     16  0.242406  0.008849                   [club, height, position]\n",
       "25     11  0.239545  0.009987                          [height, Alpha_3]\n",
       "26     22  0.236815  0.008550                  [height, weight, Alpha_3]\n",
       "27     21  0.220618  0.008764                 [height, weight, position]\n",
       "28      9  0.212090  0.010476                           [height, weight]\n",
       "29     23  0.211456  0.005980                [height, position, Alpha_3]\n",
       "30     10  0.203615  0.008737                         [height, position]"
      ]
     },
     "execution_count": 48,
     "metadata": {},
     "output_type": "execute_result"
    }
   ],
   "source": [
    "feature_subsets = [x for x in feature_subsets if x != []]\n",
    "scores_df = pd.DataFrame({ 'subset' : feature_subsets, 'score' : subset_scores, 'std' : subset_scores_std })\n",
    "scores_df.sort_values(['score'], ascending = False).reset_index()"
   ]
  },
  {
   "cell_type": "markdown",
   "metadata": {},
   "source": [
    "As we can see the combinations don't bring better results, with a maximum accuracy of 30%."
   ]
  },
  {
   "cell_type": "markdown",
   "metadata": {},
   "source": [
    "### 1.6 Binary Classification\n",
    "\n",
    "Another idea is to treat this problem as a binary classification problem : instead of the 6 labels for the skintone, let's arbitrarily divide the labels into 2 classes and see if we can achieve better results."
   ]
  },
  {
   "cell_type": "code",
   "execution_count": 50,
   "metadata": {
    "collapsed": false
   },
   "outputs": [
    {
     "name": "stdout",
     "output_type": "stream",
     "text": [
      "Score: \n",
      "   -  test : 0.8257042253521126 \n",
      "   -  train : 0.981198589894242\n",
      "\n",
      "Accuracy:\n",
      "   0.829219 (+/- 0.018086)\n"
     ]
    },
    {
     "data": {
      "image/png": "[encoded data removed]",
      "text/plain": [
       "<matplotlib.figure.Figure at 0x11a30f160>"
      ]
     },
     "metadata": {},
     "output_type": "display_data"
    }
   ],
   "source": [
    "def binary_skintone(tone):\n",
    "    return 1 if tone > 0.5 else 0 \n",
    "\n",
    "X_bin = X_clf\n",
    "Y_bin = np.array(final_df['skintone'].apply(binary_skintone))\n",
    "\n",
    "clf_bin = run_random_forest(X_bin, Y_bin)\n",
    "learning_curve_plot(clf_bin, X_bin, Y_bin)"
   ]
  },
  {
   "cell_type": "markdown",
   "metadata": {},
   "source": [
    "As we can see, the binary classifier is much more accurate, but we need to keep in mind that it's easier to classify into two classes versus the six we had before."
   ]
  },
  {
   "cell_type": "markdown",
   "metadata": {
    "collapsed": false
   },
   "source": [
    "---\n",
    "# 2. Player Clustering"
   ]
  },
  {
   "cell_type": "markdown",
   "metadata": {},
   "source": [
    "First, some imports, and utilities:"
   ]
  },
  {
   "cell_type": "code",
   "execution_count": 21,
   "metadata": {
    "collapsed": true
   },
   "outputs": [],
   "source": [
    "from sklearn.cluster import KMeans\n",
    "from sklearn.metrics import silhouette_score\n",
    "from scipy           import stats\n",
    "\n",
    "from itertools import combinations\n",
    "from copy      import copy\n",
    "\n",
    "# Compute the powerset of the given list\n",
    "def powerset(l):\n",
    "    combs = []\n",
    "    for i in range(0, len(l) + 1):\n",
    "        listing = [list(x) for x in combinations(l, i)]\n",
    "        combs.extend(listing)\n",
    "    return combs"
   ]
  },
  {
   "cell_type": "markdown",
   "metadata": {},
   "source": [
    "Here's the list of all features from the dataset, mostly present here as a reference for us, as we copy-pasted them from `df.columns.values`'s output"
   ]
  },
  {
   "cell_type": "code",
   "execution_count": 22,
   "metadata": {
    "collapsed": true
   },
   "outputs": [],
   "source": [
    "all_features = [\n",
    "    'player', 'photoID', 'birthday', 'games',\n",
    "    'refNum', 'refCountry', 'victories', 'ties', 'defeats',\n",
    "    'club', 'height', 'Alpha_3',\n",
    "    'leagueCountry', 'weight', 'position',\n",
    "    'nExp', 'seExp',\n",
    "    'nIAT', 'seIAT',\n",
    "    'meanExp', 'meanIAT',\n",
    "    'yellowCards', 'yellowReds', 'redCards',\n",
    "]"
   ]
  },
  {
   "cell_type": "markdown",
   "metadata": {},
   "source": [
    "All uncommented features in the list below will be taken into\n",
    "account when computing the various features subsets before running KMeans.\n",
    "We only picked features that had something to do with referee decisions, and not ones about the players themselves, or the game results."
   ]
  },
  {
   "cell_type": "code",
   "execution_count": 23,
   "metadata": {
    "collapsed": true
   },
   "outputs": [],
   "source": [
    "features_map = {\n",
    "    # 'player'        : 'first',\n",
    "    # 'club'          : 'first',\n",
    "    #'leagueCountry' : 'first',\n",
    "    # 'birthday'      : 'first',\n",
    "    #'height'        : 'first',\n",
    "    #'weight'        : 'first',\n",
    "    #'position'      : 'first',\n",
    "    # 'games'         : 'sum',\n",
    "    # 'victories'     : 'sum',\n",
    "    # 'ties'          : 'sum',\n",
    "    # 'defeats'       : 'sum',\n",
    "    # 'goals'         : 'sum',\n",
    "    'yellowCards'   : 'sum',\n",
    "    'yellowReds'    : 'sum',\n",
    "    'redCards'      : 'sum',\n",
    "    # 'photoID'       : 'first',\n",
    "    # 'refNum'        : 'first',\n",
    "    'refCountry'    : 'first',\n",
    "    #'Alpha_3'       : 'first',\n",
    "    'meanIAT'       : 'mean',\n",
    "    #'nIAT'          : 'mean',\n",
    "    #'seIAT'         : 'mean',\n",
    "    'meanExp'       : 'mean',\n",
    "    #'nExp'          : 'mean',\n",
    "    #'seExp'         : 'mean',\n",
    "    #'skintone': 'mean'\n",
    "}"
   ]
  },
  {
   "cell_type": "markdown",
   "metadata": {},
   "source": [
    "Here's the meat of the algorithm, described in detail in the code below:"
   ]
  },
  {
   "cell_type": "code",
   "execution_count": 24,
   "metadata": {
    "collapsed": true
   },
   "outputs": [],
   "source": [
    "#\n",
    "# Run K-Means on DataFrame df with the given features.\n",
    "# \n",
    "# @param df the DataFrame to run K-Means on\n",
    "# @param features a subset of the `features_map` defined above\n",
    "#\n",
    "def run_kmeans(df, features_kept):\n",
    "\n",
    "    # We first compute the columns we need to drop from the DataFrame (ie. the ones not in `features_kept`)\n",
    "    to_drop = [feature for feature in all_features if feature not in features_kept]\n",
    "    \n",
    "    # We don't want to include the 'skintone' feature in K-Means but still need to keep it\n",
    "    # around so that we can see how much it is going to vary between the two clusters.\n",
    "    agg = copy(features_kept)\n",
    "    agg['skintone'] = 'mean'\n",
    "\n",
    "    # We now drop those features, drop all rows with N/A values, and group them by player,\n",
    "    # aggregating the remaining columns with the aggregator function defined in the map above.\n",
    "    cluster_df = df.drop(to_drop, axis=1).dropna().groupby('playerShort').agg(agg)\n",
    "\n",
    "    # We now encode all non-numerical values (if any).\n",
    "    # These are denoted by their aggregator being 'first' in the map above.\n",
    "    for col in cluster_df.columns.values:\n",
    "        if agg[col] != 'first':\n",
    "            continue\n",
    "            \n",
    "        le = LabelEncoder()\n",
    "        labels = le.fit_transform(cluster_df[col])\n",
    "        cluster_df[col] = labels\n",
    "        # encoders[col] = le\n",
    "\n",
    "    # Initialize K-Means with sensible parameters\n",
    "    kmeans = KMeans(n_clusters=2, max_iter=100, n_init=5, n_jobs=4, random_state=42)\n",
    "\n",
    "    # We now drop the skintone and the player shortname from the dataset,\n",
    "    # as the former should not be included, while the latter is unique to a player\n",
    "    # and won't yield any interesting information.\n",
    "    dataset = cluster_df.reset_index().drop(['skintone', 'playerShort'], axis=1)\n",
    "\n",
    "    # Let's see in which cluster each row landed\n",
    "    dist = kmeans.fit_predict(dataset)\n",
    "\n",
    "    # Put the cluster number of each row in a DataFrame...\n",
    "    cluster_num_df = pd.DataFrame(dist, columns=['cluster'])\n",
    "\n",
    "    # ... that we then join with the original DataFrame containing the player name and skintone.\n",
    "    with_cluster = cluster_df.reset_index().join(cluster_num_df)\n",
    "\n",
    "    # Compute the silhouette score for that clustering\n",
    "    sil_score = silhouette_score(dataset, dist)\n",
    "    \n",
    "    # Split the DataFrame per cluster\n",
    "    cluster_0 = with_cluster[with_cluster['cluster'] == 0]\n",
    "    cluster_1 = with_cluster[with_cluster['cluster'] == 1]\n",
    "    \n",
    "    # Get the skintones from each cluster\n",
    "    skintone_0 = cluster_0['skintone']\n",
    "    skintone_1 = cluster_1['skintone']\n",
    "    \n",
    "    # Compute the difference in skintone variance between the two clusters\n",
    "    delta_variance = abs(skintone_0.var() - skintone_1.var())\n",
    "\n",
    "    # Perform a T-test over the skintone distributions of the two clusters\n",
    "    (t_statistic, p_value) = stats.ttest_ind(skintone_0, skintone_1, equal_var = delta_variance < 1e-6)\n",
    "\n",
    "    # Store the result for further processing\n",
    "    return {\n",
    "        'score': sil_score,\n",
    "        'features': list(features_kept.keys()),\n",
    "        'skintone_diff': skintone_0.mean() - skintone_1.mean(),\n",
    "        'cluster_0_skintone': skintone_0.mean(),\n",
    "        'cluster_1_skintone': skintone_1.mean(),\n",
    "        'p_value': p_value,\n",
    "        'diff_is_stat_sign': p_value < 0.05,\n",
    "        'data': with_cluster\n",
    "    }"
   ]
  },
  {
   "cell_type": "markdown",
   "metadata": {},
   "source": [
    "Let's run the algorithm above on all possible subsets of features, amongst the ones we chose to consider above:"
   ]
  },
  {
   "cell_type": "code",
   "execution_count": 25,
   "metadata": {
    "collapsed": false
   },
   "outputs": [
    {
     "ename": "NameError",
     "evalue": "name 'clean_df' is not defined",
     "output_type": "error",
     "traceback": [
      "\u001b[0;31m---------------------------------------------------------------------------\u001b[0m",
      "\u001b[0;31mNameError\u001b[0m                                 Traceback (most recent call last)",
      "\u001b[0;32m<ipython-input-25-b71c52df0bf6>\u001b[0m in \u001b[0;36m<module>\u001b[0;34m()\u001b[0m\n\u001b[1;32m      7\u001b[0m     \u001b[0;32mreturn\u001b[0m \u001b[0mint\u001b[0m\u001b[0;34m(\u001b[0m\u001b[0mx\u001b[0m\u001b[0;34m[\u001b[0m\u001b[0;34m'skintone'\u001b[0m\u001b[0;34m]\u001b[0m\u001b[0;34m)\u001b[0m\u001b[0;34m\u001b[0m\u001b[0m\n\u001b[1;32m      8\u001b[0m \u001b[0;34m\u001b[0m\u001b[0m\n\u001b[0;32m----> 9\u001b[0;31m \u001b[0mclean_df2\u001b[0m\u001b[0;34m[\u001b[0m\u001b[0;34m'skintone'\u001b[0m\u001b[0;34m]\u001b[0m \u001b[0;34m=\u001b[0m \u001b[0mclean_df\u001b[0m\u001b[0;34m.\u001b[0m\u001b[0mapply\u001b[0m\u001b[0;34m(\u001b[0m\u001b[0mbinary_skintone\u001b[0m\u001b[0;34m,\u001b[0m \u001b[0maxis\u001b[0m\u001b[0;34m=\u001b[0m\u001b[0;36m1\u001b[0m\u001b[0;34m)\u001b[0m\u001b[0;34m\u001b[0m\u001b[0m\n\u001b[0m\u001b[1;32m     10\u001b[0m \u001b[0;34m\u001b[0m\u001b[0m\n\u001b[1;32m     11\u001b[0m \u001b[0;31m# Run K-Means on each non-empty subset\u001b[0m\u001b[0;34m\u001b[0m\u001b[0;34m\u001b[0m\u001b[0m\n",
      "\u001b[0;31mNameError\u001b[0m: name 'clean_df' is not defined"
     ]
    }
   ],
   "source": [
    "results = []\n",
    "\n",
    "# Compute the powerset of all the features we want to consider\n",
    "all_subsets = list(powerset(features_map.keys()))\n",
    "\n",
    "def binary_skintone(x, axis=None):\n",
    "    return int(x['skintone'])\n",
    "\n",
    "clean_df2['skintone'] = clean_df.apply(binary_skintone, axis=1)\n",
    "\n",
    "# Run K-Means on each non-empty subset\n",
    "for subset in all_subsets:\n",
    "    if len(subset) == 0:\n",
    "        continue\n",
    "        \n",
    "    agg = {}\n",
    "    for feature in subset:\n",
    "        agg[feature] = features_map[feature]\n",
    "        \n",
    "    result = run_kmeans(clean_df2.copy(), agg)\n",
    "    results.append(result)\n",
    "    print('Features: {}\\n - Score: {}\\n - P-value: {}\\n'.format(result['features'], result['score'], result['p_value']))"
   ]
  },
  {
   "cell_type": "markdown",
   "metadata": {},
   "source": [
    "We now only keep the results for which the difference between the mean skintone of each cluster is statistically significant, and plot the silhouette score:"
   ]
  },
  {
   "cell_type": "code",
   "execution_count": null,
   "metadata": {
    "collapsed": false
   },
   "outputs": [],
   "source": [
    "results_df = pd.DataFrame(results, columns=['score', 'features', 'skintone_diff', 'cluster_0_skintone', 'cluster_1_skintone', 'diff_is_stat_sign'])\n",
    "results_df = results_df[results_df['diff_is_stat_sign'] == True]\n",
    "results_df[['score', 'features']].sort_values(['score']).set_index('features').plot(kind='bar')"
   ]
  },
  {
   "cell_type": "markdown",
   "metadata": {},
   "source": [
    "Let's take a look at the results themselves as well:"
   ]
  },
  {
   "cell_type": "code",
   "execution_count": null,
   "metadata": {
    "collapsed": false
   },
   "outputs": [],
   "source": [
    "results_df.sort_values('score', ascending=False)"
   ]
  },
  {
   "cell_type": "markdown",
   "metadata": {},
   "source": [
    "There does seem to be indeed a difference in skintone between the two clusters when we cluster by the mean value of either of the racism indicators. But as these features only appear by themselves, we cannot conclude anything other than these indicators have a slight influence on the overall number of decisions taken by referee given the player's skintone.\n",
    "\n",
    "Overall it seems there is no racial bias in the referees' decisions, at least those that involve a card of either color."
   ]
  }
 ],
 "metadata": {
  "anaconda-cloud": {},
  "kernelspec": {
   "display_name": "Python [Root]",
   "language": "python",
   "name": "Python [Root]"
  },
  "language_info": {
   "codemirror_mode": {
    "name": "ipython",
    "version": 3
   },
   "file_extension": ".py",
   "mimetype": "text/x-python",
   "name": "python",
   "nbconvert_exporter": "python",
   "pygments_lexer": "ipython3",
   "version": "3.5.2"
  }
 },
 "nbformat": 4,
 "nbformat_minor": 1
}
