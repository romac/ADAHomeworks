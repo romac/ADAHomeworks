{
 "cells": [
  {
   "cell_type": "markdown",
   "metadata": {},
   "source": [
    "# 04 - Applied ML\n",
    "\n",
    "## Deadline\n",
    "Tuesday November 22, 2016 at 11:59PM\n",
    "\n",
    "## Background\n",
    "In this homework we will gain experience on Applied Machine Learning, exploring an interesting dataset about soccer players and referees.\n",
    "You can find all the data in the `CrowdstormingDataJuly1st.csv` file, while you can read a thorough [dataset description here](DATA.md).\n",
    "Given that the focus of this homework is Machine Learning, I recommend you to first take a look at [this notebook](http://nbviewer.jupyter.org/github/mathewzilla/redcard/blob/master/Crowdstorming_visualisation.ipynb)\n",
    "containing a solid work in pre-processing + visualization of the given dataset. You are *not* allowed to just copy/paste the pre-processing steps\n",
    "performed by the notebook authors -- you are still supposed to perform your own data analysis for the homework. Still, I'm confident that consulting first\n",
    "the work done by expert data analysts will speed up tangibly your effort (i.e., they have already found for you many glitches in the data :)\n",
    "\n",
    "\n",
    "## Assignment\n",
    "1. Train a `sklearn.ensemble.RandomForestClassifier` that given a soccer player description outputs his skin color. Show how different parameters \n",
    "passed to the Classifier affect the overfitting issue. Perform cross-validation to mitigate the overfitting of your model. Once you assessed your model,\n",
    "inspect the `feature_importances_` attribute and discuss the obtained results. With different assumptions on the data (e.g., dropping certain features even\n",
    "before feeding them to the classifier), can you obtain a substantially different `feature_importances_` attribute?\n",
    "\n",
    "  *BONUS*: plot the learning curves against at least 2 different sets of parameters passed to your Random Forest. To obtain smooth curves, partition\n",
    "your data in at least 20 folds. Can you find a set of parameters that leads to high bias, and one which does not?\n",
    "\n",
    "2. Aggregate the referee information grouping by soccer player, and use an unsupervised learning technique to cluster the soccer players in 2 disjoint\n",
    "clusters. Remove features iteratively, and at each step perform again the clustering and compute the silhouette score -- can you find a configuration of features with high silhouette\n",
    "score where players with dark and light skin colors belong to different clusters? Discuss the obtained results.\n"
   ]
  },
  {
   "cell_type": "markdown",
   "metadata": {},
   "source": [
    "----"
   ]
  },
  {
   "cell_type": "markdown",
   "metadata": {},
   "source": [
    "# Data Description\n",
    "\n",
    "From a company for sports statistics, we obtained data and profile photos from all soccer players (N = 2053) playing in the first male divisions of England, Germany, France and Spain in the 2012-2013 season and all referees (N = 3147) that these players played under in their professional career. We created a dataset of player–referee dyads including the number of matches players and referees encountered each other and our dependent variable, the number of red cards given to a player by a particular referee throughout all matches the two encountered each other.\n",
    " \n",
    "Player photos were available from the source for 1586 out of 2053 players. Players’ skin tone was coded by two independent raters blind to the research question who, based on their profile photo, categorized players on a 5-point scale ranging from “very light skin” to “very dark skin” with “neither dark nor light skin” as the center value. \n",
    "\n",
    "Additionally, implicit bias scores for each referee country were calculated using a race implicit association test (IAT), with higher values corresponding to faster white | good, black | bad associations. Explicit bias scores for each referee country were calculated using a racial thermometer task, with higher values corresponding to greater feelings of warmth toward whites versus blacks. Both these measures were created by aggregating data from many online users in referee countries taking these tests on [Project Implicit](http://projectimplicit.net).\n",
    "\n",
    "In all, the dataset has a total of 146028 dyads of players and referees. A detailed description of all variables in the dataset can be seen in the list below.\n",
    "\n",
    "## Variables:\n",
    "\n",
    "*playerShort* - short player ID\n",
    "\n",
    "*player* - player name\n",
    "\n",
    "*club* - player club\n",
    "\n",
    "*leagueCountry* - country of player club (England, Germany, France, and Spain)\n",
    "\n",
    "*birthday* - player birthday\n",
    "\n",
    "*height* - player height (in cm)\n",
    "\n",
    "*weight* - player weight (in kg)\n",
    "\n",
    "*position* - detailed player position\n",
    "\n",
    "*games* - number of games in the player-referee dyad\n",
    "\n",
    "*victories* - victories in the player-referee dyad\n",
    "\n",
    "*ties* - ties in the player-referee dyad\n",
    "\n",
    "*defeats* - losses in the player-referee dyad\n",
    "\n",
    "*goals* - goals scored by a player in the player-referee dyad\n",
    "\n",
    "*yellowCards* - number of yellow cards player received from referee\n",
    "\n",
    "*yellowReds* - number of yellow-red cards player received from referee\n",
    "\n",
    "*redCards* - number of red cards player received from referee\n",
    "\n",
    "*photoID* - ID of player photo (if available)\n",
    "\n",
    "*rater1* - skin rating of photo by rater 1 (5-point scale ranging from “very light skin” to “very dark skin”)\n",
    "\n",
    "*rater2* - skin rating of photo by rater 2 (5-point scale ranging from “very light skin” to “very dark skin”)\n",
    "\n",
    "*refNum* - unique referee ID number (referee name removed for anonymizing purposes)\n",
    "\n",
    "*refCountry* - unique referee country ID number (country name removed for anonymizing purposes)\n",
    "\n",
    "*meanIAT* - mean implicit bias score (using the race IAT) for referee country, higher values correspond to faster white | good, black | bad associations\n",
    "\n",
    "*nIAT* - sample size for race IAT in that particular country\n",
    "\n",
    "*seIAT* - standard error for mean estimate of race IAT\n",
    "\n",
    "*meanExp* - mean explicit bias score (using a racial thermometer task) for referee country, higher values correspond to greater feelings of warmth toward whites versus blacks\n",
    "\n",
    "*nExp* - sample size for explicit bias in that particular country\n",
    "\n",
    "*seExp* - standard error for mean estimate of explicit bias measure\n"
   ]
  },
  {
   "cell_type": "markdown",
   "metadata": {},
   "source": [
    "---\n",
    "# Links & Resources"
   ]
  },
  {
   "cell_type": "markdown",
   "metadata": {},
   "source": [
    "sklearn : \n",
    "* [Feature importances with forests of trees](http://scikit-learn.org/stable/auto_examples/ensemble/plot_forest_importances.html)\n",
    "* [Label encoder](http://scikit-learn.org/dev/modules/generated/sklearn.preprocessing.LabelEncoder.html)\n",
    "* [Random Forest Classifier](http://scikit-learn.org/stable/modules/generated/sklearn.ensemble.RandomForestClassifier.html)"
   ]
  },
  {
   "cell_type": "markdown",
   "metadata": {
    "collapsed": true
   },
   "source": [
    "---\n",
    "# 1. Random Forest Classifier"
   ]
  },
  {
   "cell_type": "markdown",
   "metadata": {},
   "source": [
    "We want to train a `RandomForestClassifier` to predict a player's skin color based on the player's description."
   ]
  },
  {
   "cell_type": "code",
   "execution_count": 2,
   "metadata": {
    "collapsed": false
   },
   "outputs": [],
   "source": [
    "# Import stuff\n",
    "from sklearn.ensemble import RandomForestClassifier\n",
    "from sklearn.preprocessing import LabelEncoder\n",
    "import pandas as pd\n",
    "import numpy as np\n",
    "import matplotlib.pyplot as plt \n",
    "\n",
    "%matplotlib inline"
   ]
  },
  {
   "cell_type": "markdown",
   "metadata": {},
   "source": [
    "### 1.1 Loading the data\n",
    "\n",
    "The first step is of course to load the data provided to us in `CrowdstormingDataJuly1st.csv`. Its fields are described above for reference."
   ]
  },
  {
   "cell_type": "code",
   "execution_count": 3,
   "metadata": {
    "collapsed": false
   },
   "outputs": [
    {
     "data": {
      "text/html": [
       "<div>\n",
       "<table border=\"1\" class=\"dataframe\">\n",
       "  <thead>\n",
       "    <tr style=\"text-align: right;\">\n",
       "      <th></th>\n",
       "      <th>playerShort</th>\n",
       "      <th>player</th>\n",
       "      <th>club</th>\n",
       "      <th>leagueCountry</th>\n",
       "      <th>birthday</th>\n",
       "      <th>height</th>\n",
       "      <th>weight</th>\n",
       "      <th>position</th>\n",
       "      <th>games</th>\n",
       "      <th>victories</th>\n",
       "      <th>...</th>\n",
       "      <th>rater2</th>\n",
       "      <th>refNum</th>\n",
       "      <th>refCountry</th>\n",
       "      <th>Alpha_3</th>\n",
       "      <th>meanIAT</th>\n",
       "      <th>nIAT</th>\n",
       "      <th>seIAT</th>\n",
       "      <th>meanExp</th>\n",
       "      <th>nExp</th>\n",
       "      <th>seExp</th>\n",
       "    </tr>\n",
       "  </thead>\n",
       "  <tbody>\n",
       "    <tr>\n",
       "      <th>15886</th>\n",
       "      <td>franck-tabanou</td>\n",
       "      <td>Franck Tabanou</td>\n",
       "      <td>Toulouse FC</td>\n",
       "      <td>France</td>\n",
       "      <td>30.01.1989</td>\n",
       "      <td>178.0</td>\n",
       "      <td>70.0</td>\n",
       "      <td>Left Midfielder</td>\n",
       "      <td>11</td>\n",
       "      <td>3</td>\n",
       "      <td>...</td>\n",
       "      <td>NaN</td>\n",
       "      <td>343</td>\n",
       "      <td>7</td>\n",
       "      <td>FRA</td>\n",
       "      <td>0.334684</td>\n",
       "      <td>2882.0</td>\n",
       "      <td>0.000151</td>\n",
       "      <td>0.336101</td>\n",
       "      <td>3011.0</td>\n",
       "      <td>0.000586</td>\n",
       "    </tr>\n",
       "    <tr>\n",
       "      <th>22940</th>\n",
       "      <td>damien-perquis</td>\n",
       "      <td>Damien Perquis</td>\n",
       "      <td>Real Betis</td>\n",
       "      <td>Spain</td>\n",
       "      <td>10.04.1984</td>\n",
       "      <td>184.0</td>\n",
       "      <td>78.0</td>\n",
       "      <td>Center Back</td>\n",
       "      <td>1</td>\n",
       "      <td>0</td>\n",
       "      <td>...</td>\n",
       "      <td>0.00</td>\n",
       "      <td>433</td>\n",
       "      <td>3</td>\n",
       "      <td>ESP</td>\n",
       "      <td>0.369894</td>\n",
       "      <td>1785.0</td>\n",
       "      <td>0.000229</td>\n",
       "      <td>0.588297</td>\n",
       "      <td>1897.0</td>\n",
       "      <td>0.001002</td>\n",
       "    </tr>\n",
       "    <tr>\n",
       "      <th>65715</th>\n",
       "      <td>richard-dunne</td>\n",
       "      <td>Richard Dunne</td>\n",
       "      <td>Aston Villa</td>\n",
       "      <td>England</td>\n",
       "      <td>21.09.1979</td>\n",
       "      <td>188.0</td>\n",
       "      <td>95.0</td>\n",
       "      <td>Center Back</td>\n",
       "      <td>1</td>\n",
       "      <td>1</td>\n",
       "      <td>...</td>\n",
       "      <td>0.00</td>\n",
       "      <td>1383</td>\n",
       "      <td>44</td>\n",
       "      <td>ENGL</td>\n",
       "      <td>0.326690</td>\n",
       "      <td>44791.0</td>\n",
       "      <td>0.000010</td>\n",
       "      <td>0.356446</td>\n",
       "      <td>46916.0</td>\n",
       "      <td>0.000037</td>\n",
       "    </tr>\n",
       "    <tr>\n",
       "      <th>138961</th>\n",
       "      <td>james-mcarthur</td>\n",
       "      <td>James McArthur</td>\n",
       "      <td>Wigan Athletic</td>\n",
       "      <td>England</td>\n",
       "      <td>07.10.1987</td>\n",
       "      <td>168.0</td>\n",
       "      <td>63.0</td>\n",
       "      <td>Center Midfielder</td>\n",
       "      <td>1</td>\n",
       "      <td>1</td>\n",
       "      <td>...</td>\n",
       "      <td>NaN</td>\n",
       "      <td>2949</td>\n",
       "      <td>28</td>\n",
       "      <td>IRL</td>\n",
       "      <td>0.355498</td>\n",
       "      <td>4078.0</td>\n",
       "      <td>0.000098</td>\n",
       "      <td>0.517225</td>\n",
       "      <td>4238.0</td>\n",
       "      <td>0.000405</td>\n",
       "    </tr>\n",
       "    <tr>\n",
       "      <th>1646</th>\n",
       "      <td>christoph-metzelder</td>\n",
       "      <td>Christoph Metzelder</td>\n",
       "      <td>FC Schalke 04</td>\n",
       "      <td>Germany</td>\n",
       "      <td>05.11.1980</td>\n",
       "      <td>194.0</td>\n",
       "      <td>92.0</td>\n",
       "      <td>Center Back</td>\n",
       "      <td>1</td>\n",
       "      <td>1</td>\n",
       "      <td>...</td>\n",
       "      <td>0.25</td>\n",
       "      <td>72</td>\n",
       "      <td>28</td>\n",
       "      <td>IRL</td>\n",
       "      <td>0.355498</td>\n",
       "      <td>4078.0</td>\n",
       "      <td>0.000098</td>\n",
       "      <td>0.517225</td>\n",
       "      <td>4238.0</td>\n",
       "      <td>0.000405</td>\n",
       "    </tr>\n",
       "    <tr>\n",
       "      <th>117828</th>\n",
       "      <td>mahamadou-diarra</td>\n",
       "      <td>Mahamadou Diarra</td>\n",
       "      <td>Fulham FC</td>\n",
       "      <td>England</td>\n",
       "      <td>18.05.1981</td>\n",
       "      <td>183.0</td>\n",
       "      <td>76.0</td>\n",
       "      <td>Defensive Midfielder</td>\n",
       "      <td>9</td>\n",
       "      <td>5</td>\n",
       "      <td>...</td>\n",
       "      <td>1.00</td>\n",
       "      <td>2500</td>\n",
       "      <td>64</td>\n",
       "      <td>NLD</td>\n",
       "      <td>0.352920</td>\n",
       "      <td>5952.0</td>\n",
       "      <td>0.000070</td>\n",
       "      <td>0.445679</td>\n",
       "      <td>6121.0</td>\n",
       "      <td>0.000269</td>\n",
       "    </tr>\n",
       "    <tr>\n",
       "      <th>15654</th>\n",
       "      <td>jermaine-jenas</td>\n",
       "      <td>Jermaine Jenas</td>\n",
       "      <td>Nottingham Forest</td>\n",
       "      <td>England</td>\n",
       "      <td>18.02.1983</td>\n",
       "      <td>179.0</td>\n",
       "      <td>76.0</td>\n",
       "      <td>Center Midfielder</td>\n",
       "      <td>7</td>\n",
       "      <td>2</td>\n",
       "      <td>...</td>\n",
       "      <td>0.25</td>\n",
       "      <td>340</td>\n",
       "      <td>44</td>\n",
       "      <td>ENGL</td>\n",
       "      <td>0.326690</td>\n",
       "      <td>44791.0</td>\n",
       "      <td>0.000010</td>\n",
       "      <td>0.356446</td>\n",
       "      <td>46916.0</td>\n",
       "      <td>0.000037</td>\n",
       "    </tr>\n",
       "    <tr>\n",
       "      <th>123014</th>\n",
       "      <td>geoffrey-kondogbia</td>\n",
       "      <td>Geoffrey Kondogbia</td>\n",
       "      <td>Sevilla FC</td>\n",
       "      <td>Spain</td>\n",
       "      <td>15.02.1993</td>\n",
       "      <td>188.0</td>\n",
       "      <td>76.0</td>\n",
       "      <td>Defensive Midfielder</td>\n",
       "      <td>3</td>\n",
       "      <td>2</td>\n",
       "      <td>...</td>\n",
       "      <td>1.00</td>\n",
       "      <td>2619</td>\n",
       "      <td>7</td>\n",
       "      <td>FRA</td>\n",
       "      <td>0.334684</td>\n",
       "      <td>2882.0</td>\n",
       "      <td>0.000151</td>\n",
       "      <td>0.336101</td>\n",
       "      <td>3011.0</td>\n",
       "      <td>0.000586</td>\n",
       "    </tr>\n",
       "    <tr>\n",
       "      <th>110985</th>\n",
       "      <td>arana_4</td>\n",
       "      <td>Arana</td>\n",
       "      <td>Rayo Vallecano</td>\n",
       "      <td>Spain</td>\n",
       "      <td>03.12.1984</td>\n",
       "      <td>175.0</td>\n",
       "      <td>72.0</td>\n",
       "      <td>Defensive Midfielder</td>\n",
       "      <td>1</td>\n",
       "      <td>0</td>\n",
       "      <td>...</td>\n",
       "      <td>NaN</td>\n",
       "      <td>2359</td>\n",
       "      <td>3</td>\n",
       "      <td>ESP</td>\n",
       "      <td>0.369894</td>\n",
       "      <td>1785.0</td>\n",
       "      <td>0.000229</td>\n",
       "      <td>0.588297</td>\n",
       "      <td>1897.0</td>\n",
       "      <td>0.001002</td>\n",
       "    </tr>\n",
       "    <tr>\n",
       "      <th>65496</th>\n",
       "      <td>damien-duff</td>\n",
       "      <td>Damien Duff</td>\n",
       "      <td>Fulham FC</td>\n",
       "      <td>England</td>\n",
       "      <td>02.03.1979</td>\n",
       "      <td>178.0</td>\n",
       "      <td>70.0</td>\n",
       "      <td>Left Winger</td>\n",
       "      <td>14</td>\n",
       "      <td>5</td>\n",
       "      <td>...</td>\n",
       "      <td>0.00</td>\n",
       "      <td>1372</td>\n",
       "      <td>44</td>\n",
       "      <td>ENGL</td>\n",
       "      <td>0.326690</td>\n",
       "      <td>44791.0</td>\n",
       "      <td>0.000010</td>\n",
       "      <td>0.356446</td>\n",
       "      <td>46916.0</td>\n",
       "      <td>0.000037</td>\n",
       "    </tr>\n",
       "  </tbody>\n",
       "</table>\n",
       "<p>10 rows × 28 columns</p>\n",
       "</div>"
      ],
      "text/plain": [
       "                playerShort               player               club  \\\n",
       "15886        franck-tabanou       Franck Tabanou        Toulouse FC   \n",
       "22940        damien-perquis       Damien Perquis         Real Betis   \n",
       "65715         richard-dunne        Richard Dunne        Aston Villa   \n",
       "138961       james-mcarthur       James McArthur     Wigan Athletic   \n",
       "1646    christoph-metzelder  Christoph Metzelder      FC Schalke 04   \n",
       "117828     mahamadou-diarra     Mahamadou Diarra          Fulham FC   \n",
       "15654        jermaine-jenas       Jermaine Jenas  Nottingham Forest   \n",
       "123014   geoffrey-kondogbia   Geoffrey Kondogbia         Sevilla FC   \n",
       "110985              arana_4                Arana     Rayo Vallecano   \n",
       "65496           damien-duff          Damien Duff          Fulham FC   \n",
       "\n",
       "       leagueCountry    birthday  height  weight              position  games  \\\n",
       "15886         France  30.01.1989   178.0    70.0       Left Midfielder     11   \n",
       "22940          Spain  10.04.1984   184.0    78.0           Center Back      1   \n",
       "65715        England  21.09.1979   188.0    95.0           Center Back      1   \n",
       "138961       England  07.10.1987   168.0    63.0     Center Midfielder      1   \n",
       "1646         Germany  05.11.1980   194.0    92.0           Center Back      1   \n",
       "117828       England  18.05.1981   183.0    76.0  Defensive Midfielder      9   \n",
       "15654        England  18.02.1983   179.0    76.0     Center Midfielder      7   \n",
       "123014         Spain  15.02.1993   188.0    76.0  Defensive Midfielder      3   \n",
       "110985         Spain  03.12.1984   175.0    72.0  Defensive Midfielder      1   \n",
       "65496        England  02.03.1979   178.0    70.0           Left Winger     14   \n",
       "\n",
       "        victories    ...     rater2  refNum  refCountry  Alpha_3   meanIAT  \\\n",
       "15886           3    ...        NaN     343           7      FRA  0.334684   \n",
       "22940           0    ...       0.00     433           3      ESP  0.369894   \n",
       "65715           1    ...       0.00    1383          44     ENGL  0.326690   \n",
       "138961          1    ...        NaN    2949          28      IRL  0.355498   \n",
       "1646            1    ...       0.25      72          28      IRL  0.355498   \n",
       "117828          5    ...       1.00    2500          64      NLD  0.352920   \n",
       "15654           2    ...       0.25     340          44     ENGL  0.326690   \n",
       "123014          2    ...       1.00    2619           7      FRA  0.334684   \n",
       "110985          0    ...        NaN    2359           3      ESP  0.369894   \n",
       "65496           5    ...       0.00    1372          44     ENGL  0.326690   \n",
       "\n",
       "           nIAT     seIAT   meanExp     nExp     seExp  \n",
       "15886    2882.0  0.000151  0.336101   3011.0  0.000586  \n",
       "22940    1785.0  0.000229  0.588297   1897.0  0.001002  \n",
       "65715   44791.0  0.000010  0.356446  46916.0  0.000037  \n",
       "138961   4078.0  0.000098  0.517225   4238.0  0.000405  \n",
       "1646     4078.0  0.000098  0.517225   4238.0  0.000405  \n",
       "117828   5952.0  0.000070  0.445679   6121.0  0.000269  \n",
       "15654   44791.0  0.000010  0.356446  46916.0  0.000037  \n",
       "123014   2882.0  0.000151  0.336101   3011.0  0.000586  \n",
       "110985   1785.0  0.000229  0.588297   1897.0  0.001002  \n",
       "65496   44791.0  0.000010  0.356446  46916.0  0.000037  \n",
       "\n",
       "[10 rows x 28 columns]"
      ]
     },
     "execution_count": 3,
     "metadata": {},
     "output_type": "execute_result"
    }
   ],
   "source": [
    "filename='CrowdstormingDataJuly1st.csv'\n",
    "df = pd.read_csv(filename)\n",
    "df.sample(10)"
   ]
  },
  {
   "cell_type": "markdown",
   "metadata": {},
   "source": [
    "### 1.2 Cleaning the data\n",
    "\n",
    "A few things have to be done to clean the data before we feed it to the classifier.\n",
    "\n",
    "Firstly, let's merge the two skin color ratings into a mean one, since this score will act as our label for the classifier, and remove the two rating columns."
   ]
  },
  {
   "cell_type": "code",
   "execution_count": 4,
   "metadata": {
    "collapsed": true
   },
   "outputs": [],
   "source": [
    "df['skintone']=(df['rater1']+df['rater2'])/2\n",
    "df = df.drop('rater1', 1)\n",
    "df = df.drop('rater2', 1)"
   ]
  },
  {
   "cell_type": "markdown",
   "metadata": {},
   "source": [
    "Secondly, let's remove players who don't have this rating since we won't be able to train the classifier with these examples. They are currently store as `NaN` scpre in the `skintone` column."
   ]
  },
  {
   "cell_type": "code",
   "execution_count": 5,
   "metadata": {
    "collapsed": false
   },
   "outputs": [
    {
     "data": {
      "text/plain": [
       "146028"
      ]
     },
     "execution_count": 5,
     "metadata": {},
     "output_type": "execute_result"
    }
   ],
   "source": [
    "clean_df = df.copy()\n",
    "len(clean_df)"
   ]
  },
  {
   "cell_type": "code",
   "execution_count": 6,
   "metadata": {
    "collapsed": false
   },
   "outputs": [
    {
     "data": {
      "text/plain": [
       "9164"
      ]
     },
     "execution_count": 6,
     "metadata": {},
     "output_type": "execute_result"
    }
   ],
   "source": [
    "clean_df = clean_df.dropna(axis=0, subset = ['skintone'])\n",
    "len(clean_df) - len(clean_df.dropna(axis=0))"
   ]
  },
  {
   "cell_type": "markdown",
   "metadata": {},
   "source": [
    "Let's now check for other missing values :"
   ]
  },
  {
   "cell_type": "code",
   "execution_count": 7,
   "metadata": {
    "collapsed": false
   },
   "outputs": [
    {
     "name": "stdout",
     "output_type": "stream",
     "text": [
      "playerShort: 0\n",
      "player: 0\n",
      "club: 0\n",
      "leagueCountry: 0\n",
      "birthday: 0\n",
      "height: 46\n",
      "weight: 753\n",
      "position: 8461\n",
      "games: 0\n",
      "victories: 0\n",
      "ties: 0\n",
      "defeats: 0\n",
      "goals: 0\n",
      "yellowCards: 0\n",
      "yellowReds: 0\n",
      "redCards: 0\n",
      "photoID: 0\n",
      "refNum: 0\n",
      "refCountry: 0\n",
      "Alpha_3: 1\n",
      "meanIAT: 153\n",
      "nIAT: 153\n",
      "seIAT: 153\n",
      "meanExp: 153\n",
      "nExp: 153\n",
      "seExp: 153\n",
      "skintone: 0\n"
     ]
    }
   ],
   "source": [
    "for column in clean_df:\n",
    "    print(column + ':', len(clean_df[column].iloc[clean_df[column].isnull().nonzero()]))"
   ]
  },
  {
   "cell_type": "markdown",
   "metadata": {},
   "source": [
    "We can see that the features `meanIAT`, `nIAT`, `seIAT`, `meanExp`, `nExp` and `seExp` correspond to the same entries of the dataset. Let's look their distribution by country because thats how they have been collected."
   ]
  },
  {
   "cell_type": "code",
   "execution_count": 8,
   "metadata": {
    "collapsed": false
   },
   "outputs": [
    {
     "data": {
      "text/plain": [
       "<matplotlib.axes._subplots.AxesSubplot at 0x10208d208>"
      ]
     },
     "execution_count": 8,
     "metadata": {},
     "output_type": "execute_result"
    },
    {
     "data": {
      "image/png": "[encoded data removed]",
      "text/plain": [
       "<matplotlib.figure.Figure at 0x118813f98>"
      ]
     },
     "metadata": {},
     "output_type": "display_data"
    }
   ],
   "source": [
    "clean_df[['leagueCountry', 'meanIAT']].groupby('leagueCountry').agg('mean').plot(kind = 'bar')"
   ]
  },
  {
   "cell_type": "code",
   "execution_count": 9,
   "metadata": {
    "collapsed": false
   },
   "outputs": [
    {
     "data": {
      "text/plain": [
       "<matplotlib.axes._subplots.AxesSubplot at 0x10ad18470>"
      ]
     },
     "execution_count": 9,
     "metadata": {},
     "output_type": "execute_result"
    },
    {
     "data": {
      "image/png": "[encoded data removed]",
      "text/plain": [
       "<matplotlib.figure.Figure at 0x10ad3d0b8>"
      ]
     },
     "metadata": {},
     "output_type": "display_data"
    }
   ],
   "source": [
    "clean_df[['leagueCountry', 'meanExp']].groupby('leagueCountry').agg('mean').plot(kind = 'bar')"
   ]
  },
  {
   "cell_type": "markdown",
   "metadata": {},
   "source": [
    "We conclude that only `meanIAT` has a mean that make sense with its standard deviation. In any case, with respect to the size of our dataset, set we can drop these entries from our dataframe."
   ]
  },
  {
   "cell_type": "code",
   "execution_count": 10,
   "metadata": {
    "collapsed": true
   },
   "outputs": [],
   "source": [
    "# clean_df = clean_df.dropna(axis=0,subset=['meanIAT','nIAT','seIAT','meanExp','nExp','seExp']).reset_index()"
   ]
  },
  {
   "cell_type": "markdown",
   "metadata": {},
   "source": [
    "For the 'position' feauture we conclude that it was not a important feature for our model. Finally, for the height and weigth missing values we made the assumption that soccer player have almost all a 'athletic' condition that depend on their weight, height and skintone."
   ]
  },
  {
   "cell_type": "code",
   "execution_count": null,
   "metadata": {
    "collapsed": false
   },
   "outputs": [],
   "source": [
    "idx_weight = clean_df.iloc[clean_df['weight'].isnull().nonzero()].index\n",
    "idx_height = clean_df.iloc[clean_df['height'].isnull().nonzero()].index\n",
    "\n",
    "for idx in idx_weight:\n",
    "    mean_weight = clean_df['weight'][(clean_df['height'] == clean_df.iloc[idx].height) & \n",
    "                                     (clean_df['skintone'] == clean_df.iloc[idx].skintone)].mean() \n",
    "                       \n",
    "    clean_df.set_value(idx, 'weight', mean_weight)"
   ]
  },
  {
   "cell_type": "code",
   "execution_count": null,
   "metadata": {
    "collapsed": false
   },
   "outputs": [],
   "source": [
    "clean_df.iloc[idx_weight]"
   ]
  },
  {
   "cell_type": "markdown",
   "metadata": {},
   "source": [
    "We can now extract the labels that will be used to train the classifier."
   ]
  },
  {
   "cell_type": "markdown",
   "metadata": {},
   "source": [
    "We'll start by using all the features provided by the dataset to train the classifier, later figuring out which ones are actually interesting."
   ]
  },
  {
   "cell_type": "code",
   "execution_count": 11,
   "metadata": {
    "collapsed": false
   },
   "outputs": [
    {
     "data": {
      "text/plain": [
       "Index(['playerShort', 'player', 'club', 'leagueCountry', 'birthday', 'height',\n",
       "       'weight', 'position', 'games', 'victories', 'ties', 'defeats', 'goals',\n",
       "       'yellowCards', 'yellowReds', 'redCards', 'photoID', 'refNum',\n",
       "       'refCountry', 'Alpha_3', 'meanIAT', 'nIAT', 'seIAT', 'meanExp', 'nExp',\n",
       "       'seExp', 'skintone'],\n",
       "      dtype='object')"
      ]
     },
     "execution_count": 11,
     "metadata": {},
     "output_type": "execute_result"
    }
   ],
   "source": [
    "clean_df.columns"
   ]
  },
  {
   "cell_type": "code",
   "execution_count": 12,
   "metadata": {
    "collapsed": false
   },
   "outputs": [],
   "source": [
    "to_drop = [\n",
    "    'player', 'photoID', 'birthday',\n",
    "    'refNum', 'meanIAT', 'nIAT', 'seIAT',\n",
    "    'nExp', 'seExp', 'refCountry', 'meanExp',\n",
    "]\n",
    "\n",
    "final_df = clean_df.drop(to_drop, axis=1).dropna().groupby('playerShort').agg('first')\n",
    "features = final_df.drop('skintone', axis=1)\n",
    "\n",
    "for col in features.columns.values:\n",
    "    le = LabelEncoder()\n",
    "    labels = le.fit_transform(features[col])\n",
    "    features[col] = labels\n",
    "    \n",
    "le = LabelEncoder()\n",
    "labels = le.fit_transform(np.array(final_df['skintone']))"
   ]
  },
  {
   "cell_type": "markdown",
   "metadata": {},
   "source": [
    "### 1.3 Training the classifier\n",
    "\n",
    "We've now got our training data so let's try to train the `RandomForestClassifier`."
   ]
  },
  {
   "cell_type": "code",
   "execution_count": 13,
   "metadata": {
    "collapsed": false
   },
   "outputs": [],
   "source": [
    "from sklearn.model_selection import train_test_split\n",
    "\n",
    "# Split into a test and a train set\n",
    "X_train, X_test, Y_train, Y_test = train_test_split(features, labels, test_size=0.4)\n",
    "\n",
    "# Create the RandomForestClassifier\n",
    "forest = RandomForestClassifier(n_estimators = 100, random_state=12432)\n",
    "\n",
    "# Train the model\n",
    "clf = forest.fit(X_train, Y_train)"
   ]
  },
  {
   "cell_type": "markdown",
   "metadata": {},
   "source": [
    "Let's now see how accurate our model is :"
   ]
  },
  {
   "cell_type": "code",
   "execution_count": 14,
   "metadata": {
    "collapsed": false
   },
   "outputs": [
    {
     "data": {
      "text/plain": [
       "0.28873239436619719"
      ]
     },
     "execution_count": 14,
     "metadata": {},
     "output_type": "execute_result"
    }
   ],
   "source": [
    "clf.score(X_test, Y_test)"
   ]
  },
  {
   "cell_type": "markdown",
   "metadata": {},
   "source": [
    "This is a simple scoring method, so let's perform cross-validation on it to make sure we actually get the desired score."
   ]
  },
  {
   "cell_type": "code",
   "execution_count": 15,
   "metadata": {
    "collapsed": false
   },
   "outputs": [
    {
     "name": "stdout",
     "output_type": "stream",
     "text": [
      "Accuracy: 0.306253 (+/- 0.059758)\n"
     ]
    }
   ],
   "source": [
    "from sklearn.model_selection import cross_val_score\n",
    "\n",
    "scores = cross_val_score(clf, X_test, Y_test, cv=5)\n",
    "\n",
    "print(\"Accuracy: %0.6f (+/- %0.6f)\" % (scores.mean(), scores.std() * 2))"
   ]
  },
  {
   "cell_type": "markdown",
   "metadata": {},
   "source": [
    "### 1.5 Feature importances\n",
    "\n",
    "We would like to figure out which of the features are the most relevant to our model (i.e. the features that represent the most variance / information). These are the features that help the classifier make its decision.\n",
    "\n",
    "We have access to this information in `RandomForestClassifier.feature_importances_`, so we can plot their importance."
   ]
  },
  {
   "cell_type": "code",
   "execution_count": null,
   "metadata": {
    "collapsed": false
   },
   "outputs": [],
   "source": [
    "# Plot code adapted from :\n",
    "# http://scikit-learn.org/stable/auto_examples/ensemble/plot_forest_importances.html#sphx-glr-auto-examples-ensemble-plot-forest-importances-py\n",
    "\n",
    "importances = forest.feature_importances_\n",
    "\n",
    "std = np.std([tree.feature_importances_ for tree in forest.estimators_], axis=0)\n",
    "\n",
    "indices = np.argsort(importances)[::-1]\n",
    "\n",
    "feature_names = features.columns.values.tolist()\n",
    "\n",
    "# Print the feature ranking\n",
    "print(\"Feature ranking:\")\n",
    "\n",
    "for j in range(X_test.shape[1]):\n",
    "    print(\"%d. feature #%d %s (%f)\" % (j + 1, indices[j], feature_names[indices[j]], importances[indices[j]]))\n",
    "\n",
    "# Plot the feature importances of the forest\n",
    "plt.figure()\n",
    "plt.title(\"Feature importances\")\n",
    "plt.bar(range(X_test.shape[1]), importances[indices],\n",
    "       color=\"r\", yerr=std[indices], align=\"center\")\n",
    "plt.xticks(range(X_test.shape[1]), indices)\n",
    "plt.xlim([-1, X_test.shape[1]])\n",
    "plt.show()"
   ]
  },
  {
   "cell_type": "markdown",
   "metadata": {},
   "source": [
    "### 1.4 Learning Curves\n",
    "\n",
    "We want to see how our model's accuracy evolves with the number of samples. For this we can plot a learning curve, which will randomly split the data into test and training sets using a `ShuffleSplit`. It will then train the model and compute its score over the test set. We can then plot the accuracy over the number of training examples."
   ]
  },
  {
   "cell_type": "code",
   "execution_count": null,
   "metadata": {
    "collapsed": false
   },
   "outputs": [],
   "source": [
    "# Plot code adapted from :\n",
    "# http://scikit-learn.org/stable/auto_examples/model_selection/plot_learning_curve.html\n",
    "#\n",
    "from sklearn.model_selection import learning_curve\n",
    "from sklearn.model_selection import ShuffleSplit\n",
    "\n",
    "def run_learning_curve():\n",
    "\n",
    "    # Legends\n",
    "    title  = \"Learning Curves (Random Forest Regressor)\"\n",
    "    xlabel = \"Training examples\"\n",
    "    ylabel = \"Score\"\n",
    "\n",
    "    # Plots params\n",
    "    y_lim = (0.0, 1.01)\n",
    "\n",
    "    # CV params\n",
    "    train_sizes = np.linspace(.1, 1.0, 5)\n",
    "    cv = ShuffleSplit(n_splits=5, test_size=0.2, random_state=0)\n",
    "\n",
    "    plt.figure()\n",
    "    plt.title(title)\n",
    "    plt.ylim(*y_lim)\n",
    "    plt.xlabel(xlabel)\n",
    "    plt.ylabel(ylabel)\n",
    "\n",
    "    train_sizes, train_scores, test_scores = learning_curve(forest, features, labels, cv=cv, n_jobs=4, train_sizes=train_sizes)\n",
    "\n",
    "    train_scores_mean = np.mean(train_scores, axis=1)\n",
    "    test_scores_mean  = np.mean(test_scores , axis=1)\n",
    "\n",
    "    train_scores_std  = np.std(train_scores, axis=1)\n",
    "    test_scores_std   = np.std(test_scores , axis=1)\n",
    "\n",
    "    plt.grid()\n",
    "    plt.fill_between(train_sizes, train_scores_mean - train_scores_std,\n",
    "                     train_scores_mean + train_scores_std, alpha=0.1,\n",
    "                     color=\"r\")\n",
    "    plt.fill_between(train_sizes, test_scores_mean - test_scores_std,\n",
    "                     test_scores_mean + test_scores_std, alpha=0.1, color=\"g\")\n",
    "    plt.plot(train_sizes, train_scores_mean, 'o-', color=\"r\",\n",
    "             label=\"Training score\")\n",
    "    plt.plot(train_sizes, test_scores_mean, 'o-', color=\"g\",\n",
    "             label=\"Cross-validation score\")\n",
    "    plt.legend(loc=\"best\")\n",
    "\n",
    "\n",
    "    plt.show()\n",
    "    \n",
    "run_learning_curve()"
   ]
  },
  {
   "cell_type": "markdown",
   "metadata": {},
   "source": [
    "## 2. Clustering"
   ]
  },
  {
   "cell_type": "markdown",
   "metadata": {},
   "source": [
    "First, some imports, and utilities:"
   ]
  },
  {
   "cell_type": "code",
   "execution_count": 90,
   "metadata": {
    "collapsed": true
   },
   "outputs": [],
   "source": [
    "from sklearn.cluster import KMeans\n",
    "from sklearn.metrics import silhouette_score\n",
    "from scipy           import stats\n",
    "\n",
    "from itertools import combinations\n",
    "from copy      import copy\n",
    "\n",
    "# Compute the powerset of the given list\n",
    "def powerset(l):\n",
    "    combs = []\n",
    "    for i in range(0, len(l) + 1):\n",
    "        listing = [list(x) for x in combinations(l, i)]\n",
    "        combs.extend(listing)\n",
    "    return combs"
   ]
  },
  {
   "cell_type": "markdown",
   "metadata": {},
   "source": [
    "Here's the list of all features from the dataset, mostly present here as a reference for us, as we copy-pasted them from `df.columns.values`'s output"
   ]
  },
  {
   "cell_type": "code",
   "execution_count": 92,
   "metadata": {
    "collapsed": true
   },
   "outputs": [],
   "source": [
    "all_features = [\n",
    "    'player', 'photoID', 'birthday', 'games',\n",
    "    'refNum', 'refCountry', 'victories', 'ties', 'defeats',\n",
    "    'club', 'height', 'Alpha_3',\n",
    "    'leagueCountry', 'weight', 'position',\n",
    "    'nExp', 'seExp',\n",
    "    'nIAT', 'seIAT',\n",
    "    'meanExp', 'meanIAT',\n",
    "    'yellowCards', 'yellowReds', 'redCards',\n",
    "]"
   ]
  },
  {
   "cell_type": "markdown",
   "metadata": {},
   "source": [
    "All uncommented features in the list below will be taken into\n",
    "account when computing the various features subsets before running KMeans.\n",
    "We only picked features that had something to do with referee decisions, and not ones about the players themselves, or the game results."
   ]
  },
  {
   "cell_type": "code",
   "execution_count": 93,
   "metadata": {
    "collapsed": true
   },
   "outputs": [],
   "source": [
    "features_map = {\n",
    "    # 'player'        : 'first',\n",
    "    # 'club'          : 'first',\n",
    "    #'leagueCountry' : 'first',\n",
    "    # 'birthday'      : 'first',\n",
    "    #'height'        : 'first',\n",
    "    #'weight'        : 'first',\n",
    "    #'position'      : 'first',\n",
    "    # 'games'         : 'sum',\n",
    "    # 'victories'     : 'sum',\n",
    "    # 'ties'          : 'sum',\n",
    "    # 'defeats'       : 'sum',\n",
    "    # 'goals'         : 'sum',\n",
    "    'yellowCards'   : 'sum',\n",
    "    'yellowReds'    : 'sum',\n",
    "    'redCards'      : 'sum',\n",
    "    # 'photoID'       : 'first',\n",
    "    # 'refNum'        : 'first',\n",
    "    'refCountry'    : 'first',\n",
    "    #'Alpha_3'       : 'first',\n",
    "    'meanIAT'       : 'mean',\n",
    "    #'nIAT'          : 'mean',\n",
    "    #'seIAT'         : 'mean',\n",
    "    'meanExp'       : 'mean',\n",
    "    #'nExp'          : 'mean',\n",
    "    #'seExp'         : 'mean',\n",
    "    #'skintone': 'mean'\n",
    "}"
   ]
  },
  {
   "cell_type": "markdown",
   "metadata": {},
   "source": [
    "Here's the meat of the algorithm, described in detail in the code below:"
   ]
  },
  {
   "cell_type": "code",
   "execution_count": 95,
   "metadata": {
    "collapsed": false,
    "scrolled": true
   },
   "outputs": [],
   "source": [
    "#\n",
    "# Run K-Means on DataFrame df with the given features.\n",
    "# \n",
    "# @param df the DataFrame to run K-Means on\n",
    "# @param features a subset of the `features_map` defined above\n",
    "#\n",
    "def run_kmeans(df, features_kept):\n",
    "\n",
    "    # We first compute the columns we need to drop from the DataFrame (ie. the ones not in `features_kept`)\n",
    "    to_drop = [feature for feature in all_features if feature not in features_kept]\n",
    "    \n",
    "    # We don't want to include the 'skintone' feature in K-Means but still need to keep it\n",
    "    # around so that we can see how much it is going to vary between the two clusters.\n",
    "    agg = copy(features_kept)\n",
    "    agg['skintone'] = 'mean'\n",
    "\n",
    "    # We now drop those features, drop all rows with N/A values, and group them by player,\n",
    "    # aggregating the remaining columns with the aggregator function defined in the map above.\n",
    "    cluster_df = df.drop(to_drop, axis=1).dropna().groupby('playerShort').agg(agg)\n",
    "\n",
    "    # encoders = {}\n",
    "\n",
    "    # We now encode all non-numerical values (if any).\n",
    "    # These are denoted by their aggregator being 'first' in the map above.\n",
    "    for col in cluster_df.columns.values:\n",
    "        if agg[col] != 'first':\n",
    "            continue\n",
    "            \n",
    "        le = LabelEncoder()\n",
    "        labels = le.fit_transform(cluster_df[col])\n",
    "        cluster_df[col] = labels\n",
    "        # encoders[col] = le\n",
    "\n",
    "    # Initialize K-Means with sensible parameters\n",
    "    kmeans = KMeans(n_clusters=2, max_iter=100, n_init=5, n_jobs=4, random_state=42)\n",
    "\n",
    "    # We now drop the skintone and the player shortname from the dataset,\n",
    "    # as the former should not be included, while the latter is unique to a player\n",
    "    # and won't yield any interesting information.\n",
    "    dataset = cluster_df.reset_index().drop(['skintone', 'playerShort'], axis=1)\n",
    "\n",
    "    # Let's see in which cluster each row landed\n",
    "    dist = kmeans.fit_predict(dataset)\n",
    "\n",
    "    # Put the cluster number of each row in a DataFrame...\n",
    "    cluster_num_df = pd.DataFrame(dist, columns=['cluster'])\n",
    "\n",
    "    # ... that we then join with the original DataFrame containing the player name and skintone.\n",
    "    with_cluster = cluster_df.reset_index().join(cluster_num_df)\n",
    "\n",
    "    # Compute the silhouette score for that clustering\n",
    "    sil_score = silhouette_score(dataset, dist)\n",
    "    \n",
    "    # Split the DataFrame per cluster\n",
    "    cluster_0 = with_cluster[with_cluster['cluster'] == 0]\n",
    "    cluster_1 = with_cluster[with_cluster['cluster'] == 1]\n",
    "    \n",
    "    # Get the skintones from each cluster\n",
    "    skintone_0 = cluster_0['skintone']\n",
    "    skintone_1 = cluster_1['skintone']\n",
    "    \n",
    "    # Compute the difference in skintone variance between the two clusters\n",
    "    delta_variance = abs(skintone_0.var() - skintone_1.var())\n",
    "\n",
    "    # Perform a T-test over the skintone distributions of the two clusters\n",
    "    (t_statistic, p_value) = stats.ttest_ind(skintone_0, skintone_1, equal_var = delta_variance < 1e-6)\n",
    "\n",
    "    # Store the result for further processing\n",
    "    return {\n",
    "        'score': sil_score,\n",
    "        'features': list(features_kept.keys()),\n",
    "        'skintone_diff': skintone_0.mean() - skintone_1.mean(),\n",
    "        'cluster_0_skintone': skintone_0.mean(),\n",
    "        'cluster_1_skintone': skintone_1.mean(),\n",
    "        'diff_is_stat_sign': p_value < 0.05,\n",
    "        'data': with_cluster\n",
    "    }"
   ]
  },
  {
   "cell_type": "markdown",
   "metadata": {},
   "source": [
    "Let's run the algorithm above on all possible subsets of features, amongst the ones we chose to consider above:"
   ]
  },
  {
   "cell_type": "code",
   "execution_count": null,
   "metadata": {
    "collapsed": true
   },
   "outputs": [],
   "source": [
    "results = []\n",
    "\n",
    "# Compute the powerset of all the features we want to consider\n",
    "all_subsets = list(powerset(features_map.keys()))\n",
    "\n",
    "def binary_skintone(x, axis=None):\n",
    "    return int(x['skintone'])\n",
    "\n",
    "clean_df2['skintone'] = clean_df.apply(binary_skintone, axis=1)\n",
    "\n",
    "# Run K-Means on each non-empty subset\n",
    "for subset in all_subsets:\n",
    "    if len(subset) == 0:\n",
    "        continue\n",
    "        \n",
    "    agg = {}\n",
    "    for feature in subset:\n",
    "        agg[feature] = features_map[feature]\n",
    "        \n",
    "    result = run_kmeans(clean_df2.copy(), agg)\n",
    "    results.append(result)\n",
    "    print(result['features'])"
   ]
  },
  {
   "cell_type": "markdown",
   "metadata": {},
   "source": [
    "We now only keep the results for which the difference between the mean skintone of each cluster is statistically significant, and plot the silhouette score:"
   ]
  },
  {
   "cell_type": "code",
   "execution_count": null,
   "metadata": {
    "collapsed": false
   },
   "outputs": [],
   "source": [
    "results_df = pd.DataFrame(results, columns=['score', 'features', 'skintone_diff', 'cluster_0_skintone', 'cluster_1_skintone', 'diff_is_stat_sign'])\n",
    "results_df = results_df[results_df['diff_is_stat_sign'] == True]\n",
    "results_df[['score', 'features']].sort_values(['score']).set_index('features').plot(kind='bar')"
   ]
  },
  {
   "cell_type": "markdown",
   "metadata": {},
   "source": [
    "Let's take a look at the results themselves as well:"
   ]
  },
  {
   "cell_type": "code",
   "execution_count": null,
   "metadata": {
    "collapsed": false
   },
   "outputs": [],
   "source": [
    "results_df.sort_values('score', ascending=False)"
   ]
  },
  {
   "cell_type": "markdown",
   "metadata": {},
   "source": [
    "There does seem to be indeed a difference in skintone between the two clusters when we cluster by the mean value of either of the racism indicators. But as these features only appear by themselves, we cannot conclude anything other than these indicators have a slight influence on the overall number of decisions taken by referee given the player's skintone.\n",
    "\n",
    "Overall it seems there is no racial bias in the referees' decisions, at least those that involve a card of either color."
   ]
  }
 ],
 "metadata": {
  "anaconda-cloud": {},
  "kernelspec": {
   "display_name": "Python [Root]",
   "language": "python",
   "name": "Python [Root]"
  },
  "language_info": {
   "codemirror_mode": {
    "name": "ipython",
    "version": 3
   },
   "file_extension": ".py",
   "mimetype": "text/x-python",
   "name": "python",
   "nbconvert_exporter": "python",
   "pygments_lexer": "ipython3",
   "version": "3.5.2"
  }
 },
 "nbformat": 4,
 "nbformat_minor": 1
}
