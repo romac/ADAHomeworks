{
 "cells": [
  {
   "cell_type": "markdown",
   "metadata": {},
   "source": [
    "# 04 - Applied ML\n",
    "\n",
    "## Deadline\n",
    "Tuesday November 22, 2016 at 11:59PM\n",
    "\n",
    "## Background\n",
    "In this homework we will gain experience on Applied Machine Learning, exploring an interesting dataset about soccer players and referees.\n",
    "You can find all the data in the `CrowdstormingDataJuly1st.csv` file, while you can read a thorough [dataset description here](DATA.md).\n",
    "Given that the focus of this homework is Machine Learning, I recommend you to first take a look at [this notebook](http://nbviewer.jupyter.org/github/mathewzilla/redcard/blob/master/Crowdstorming_visualisation.ipynb)\n",
    "containing a solid work in pre-processing + visualization of the given dataset. You are *not* allowed to just copy/paste the pre-processing steps\n",
    "performed by the notebook authors -- you are still supposed to perform your own data analysis for the homework. Still, I'm confident that consulting first\n",
    "the work done by expert data analysts will speed up tangibly your effort (i.e., they have already found for you many glitches in the data :)\n",
    "\n",
    "\n",
    "## Assignment\n",
    "1. Train a `sklearn.ensemble.RandomForestClassifier` that given a soccer player description outputs his skin color. Show how different parameters \n",
    "passed to the Classifier affect the overfitting issue. Perform cross-validation to mitigate the overfitting of your model. Once you assessed your model,\n",
    "inspect the `feature_importances_` attribute and discuss the obtained results. With different assumptions on the data (e.g., dropping certain features even\n",
    "before feeding them to the classifier), can you obtain a substantially different `feature_importances_` attribute?\n",
    "\n",
    "  *BONUS*: plot the learning curves against at least 2 different sets of parameters passed to your Random Forest. To obtain smooth curves, partition\n",
    "your data in at least 20 folds. Can you find a set of parameters that leads to high bias, and one which does not?\n",
    "\n",
    "2. Aggregate the referee information grouping by soccer player, and use an unsupervised learning technique to cluster the soccer players in 2 disjoint\n",
    "clusters. Remove features iteratively, and at each step perform again the clustering and compute the silhouette score -- can you find a configuration of features with high silhouette\n",
    "score where players with dark and light skin colors belong to different clusters? Discuss the obtained results.\n"
   ]
  },
  {
   "cell_type": "markdown",
   "metadata": {},
   "source": [
    "----"
   ]
  },
  {
   "cell_type": "markdown",
   "metadata": {},
   "source": [
    "# Data Description\n",
    "\n",
    "From a company for sports statistics, we obtained data and profile photos from all soccer players (N = 2053) playing in the first male divisions of England, Germany, France and Spain in the 2012-2013 season and all referees (N = 3147) that these players played under in their professional career. We created a dataset of player–referee dyads including the number of matches players and referees encountered each other and our dependent variable, the number of red cards given to a player by a particular referee throughout all matches the two encountered each other.\n",
    " \n",
    "Player photos were available from the source for 1586 out of 2053 players. Players’ skin tone was coded by two independent raters blind to the research question who, based on their profile photo, categorized players on a 5-point scale ranging from “very light skin” to “very dark skin” with “neither dark nor light skin” as the center value. \n",
    "\n",
    "Additionally, implicit bias scores for each referee country were calculated using a race implicit association test (IAT), with higher values corresponding to faster white | good, black | bad associations. Explicit bias scores for each referee country were calculated using a racial thermometer task, with higher values corresponding to greater feelings of warmth toward whites versus blacks. Both these measures were created by aggregating data from many online users in referee countries taking these tests on [Project Implicit](http://projectimplicit.net).\n",
    "\n",
    "In all, the dataset has a total of 146028 dyads of players and referees. A detailed description of all variables in the dataset can be seen in the list below.\n",
    "\n",
    "## Variables:\n",
    "\n",
    "*playerShort* - short player ID\n",
    "\n",
    "*player* - player name\n",
    "\n",
    "*club* - player club\n",
    "\n",
    "*leagueCountry* - country of player club (England, Germany, France, and Spain)\n",
    "\n",
    "*birthday* - player birthday\n",
    "\n",
    "*height* - player height (in cm)\n",
    "\n",
    "*weight* - player weight (in kg)\n",
    "\n",
    "*position* - detailed player position\n",
    "\n",
    "*games* - number of games in the player-referee dyad\n",
    "\n",
    "*victories* - victories in the player-referee dyad\n",
    "\n",
    "*ties* - ties in the player-referee dyad\n",
    "\n",
    "*defeats* - losses in the player-referee dyad\n",
    "\n",
    "*goals* - goals scored by a player in the player-referee dyad\n",
    "\n",
    "*yellowCards* - number of yellow cards player received from referee\n",
    "\n",
    "*yellowReds* - number of yellow-red cards player received from referee\n",
    "\n",
    "*redCards* - number of red cards player received from referee\n",
    "\n",
    "*photoID* - ID of player photo (if available)\n",
    "\n",
    "*rater1* - skin rating of photo by rater 1 (5-point scale ranging from “very light skin” to “very dark skin”)\n",
    "\n",
    "*rater2* - skin rating of photo by rater 2 (5-point scale ranging from “very light skin” to “very dark skin”)\n",
    "\n",
    "*refNum* - unique referee ID number (referee name removed for anonymizing purposes)\n",
    "\n",
    "*refCountry* - unique referee country ID number (country name removed for anonymizing purposes)\n",
    "\n",
    "*meanIAT* - mean implicit bias score (using the race IAT) for referee country, higher values correspond to faster white | good, black | bad associations\n",
    "\n",
    "*nIAT* - sample size for race IAT in that particular country\n",
    "\n",
    "*seIAT* - standard error for mean estimate of race IAT\n",
    "\n",
    "*meanExp* - mean explicit bias score (using a racial thermometer task) for referee country, higher values correspond to greater feelings of warmth toward whites versus blacks\n",
    "\n",
    "*nExp* - sample size for explicit bias in that particular country\n",
    "\n",
    "*seExp* - standard error for mean estimate of explicit bias measure\n"
   ]
  },
  {
   "cell_type": "markdown",
   "metadata": {
    "collapsed": true
   },
   "source": [
    "---\n",
    "# 1. Random Forest Classifier"
   ]
  },
  {
   "cell_type": "markdown",
   "metadata": {},
   "source": [
    "We want to train a `RandomForestClassifier` to predict a player's skin color based on the player's description."
   ]
  },
  {
   "cell_type": "code",
   "execution_count": 1,
   "metadata": {
    "collapsed": false
   },
   "outputs": [],
   "source": [
    "# Import stuff\n",
    "import pandas as pd\n",
    "import numpy as np\n",
    "\n",
    "import matplotlib.pyplot as plt \n",
    "\n",
    "from sklearn.ensemble import RandomForestClassifier\n",
    "from sklearn.preprocessing import LabelEncoder\n",
    "\n",
    "%matplotlib inline"
   ]
  },
  {
   "cell_type": "markdown",
   "metadata": {},
   "source": [
    "### 1.1 Loading the data\n",
    "\n",
    "The first step is of course to load the data provided to us in `CrowdstormingDataJuly1st.csv`. Its fields are described above for reference."
   ]
  },
  {
   "cell_type": "code",
   "execution_count": 2,
   "metadata": {
    "collapsed": false
   },
   "outputs": [
    {
     "data": {
      "text/html": [
       "<div>\n",
       "<table border=\"1\" class=\"dataframe\">\n",
       "  <thead>\n",
       "    <tr style=\"text-align: right;\">\n",
       "      <th></th>\n",
       "      <th>playerShort</th>\n",
       "      <th>player</th>\n",
       "      <th>club</th>\n",
       "      <th>leagueCountry</th>\n",
       "      <th>birthday</th>\n",
       "      <th>height</th>\n",
       "      <th>weight</th>\n",
       "      <th>position</th>\n",
       "      <th>games</th>\n",
       "      <th>victories</th>\n",
       "      <th>...</th>\n",
       "      <th>rater2</th>\n",
       "      <th>refNum</th>\n",
       "      <th>refCountry</th>\n",
       "      <th>Alpha_3</th>\n",
       "      <th>meanIAT</th>\n",
       "      <th>nIAT</th>\n",
       "      <th>seIAT</th>\n",
       "      <th>meanExp</th>\n",
       "      <th>nExp</th>\n",
       "      <th>seExp</th>\n",
       "    </tr>\n",
       "  </thead>\n",
       "  <tbody>\n",
       "    <tr>\n",
       "      <th>80731</th>\n",
       "      <td>daniel-didavi</td>\n",
       "      <td>Daniel Didavi</td>\n",
       "      <td>VfB Stuttgart</td>\n",
       "      <td>Germany</td>\n",
       "      <td>21.02.1990</td>\n",
       "      <td>179.0</td>\n",
       "      <td>77.0</td>\n",
       "      <td>Left Midfielder</td>\n",
       "      <td>1</td>\n",
       "      <td>1</td>\n",
       "      <td>...</td>\n",
       "      <td>0.75</td>\n",
       "      <td>1745</td>\n",
       "      <td>48</td>\n",
       "      <td>ITA</td>\n",
       "      <td>0.386174</td>\n",
       "      <td>1761.0</td>\n",
       "      <td>0.000232</td>\n",
       "      <td>0.529815</td>\n",
       "      <td>1895.0</td>\n",
       "      <td>0.001091</td>\n",
       "    </tr>\n",
       "    <tr>\n",
       "      <th>115102</th>\n",
       "      <td>valentin-eysseric</td>\n",
       "      <td>Valentin Eysseric</td>\n",
       "      <td>OGC Nice</td>\n",
       "      <td>France</td>\n",
       "      <td>25.03.1992</td>\n",
       "      <td>181.0</td>\n",
       "      <td>73.0</td>\n",
       "      <td>NaN</td>\n",
       "      <td>2</td>\n",
       "      <td>0</td>\n",
       "      <td>...</td>\n",
       "      <td>NaN</td>\n",
       "      <td>2414</td>\n",
       "      <td>7</td>\n",
       "      <td>FRA</td>\n",
       "      <td>0.334684</td>\n",
       "      <td>2882.0</td>\n",
       "      <td>0.000151</td>\n",
       "      <td>0.336101</td>\n",
       "      <td>3011.0</td>\n",
       "      <td>0.000586</td>\n",
       "    </tr>\n",
       "    <tr>\n",
       "      <th>127940</th>\n",
       "      <td>lucas-wilchez</td>\n",
       "      <td>Lucas Wilchez</td>\n",
       "      <td>Real Zaragoza</td>\n",
       "      <td>Spain</td>\n",
       "      <td>31.08.1983</td>\n",
       "      <td>177.0</td>\n",
       "      <td>72.0</td>\n",
       "      <td>Attacking Midfielder</td>\n",
       "      <td>1</td>\n",
       "      <td>0</td>\n",
       "      <td>...</td>\n",
       "      <td>0.50</td>\n",
       "      <td>2747</td>\n",
       "      <td>1</td>\n",
       "      <td>GRC</td>\n",
       "      <td>0.326391</td>\n",
       "      <td>712.0</td>\n",
       "      <td>0.000564</td>\n",
       "      <td>0.396000</td>\n",
       "      <td>750.0</td>\n",
       "      <td>0.002696</td>\n",
       "    </tr>\n",
       "    <tr>\n",
       "      <th>95554</th>\n",
       "      <td>vedad-ibisevic</td>\n",
       "      <td>Vedad Ibišević</td>\n",
       "      <td>VfB Stuttgart</td>\n",
       "      <td>Germany</td>\n",
       "      <td>06.08.1984</td>\n",
       "      <td>188.0</td>\n",
       "      <td>80.0</td>\n",
       "      <td>Center Forward</td>\n",
       "      <td>1</td>\n",
       "      <td>1</td>\n",
       "      <td>...</td>\n",
       "      <td>0.25</td>\n",
       "      <td>2046</td>\n",
       "      <td>1</td>\n",
       "      <td>GRC</td>\n",
       "      <td>0.326391</td>\n",
       "      <td>712.0</td>\n",
       "      <td>0.000564</td>\n",
       "      <td>0.396000</td>\n",
       "      <td>750.0</td>\n",
       "      <td>0.002696</td>\n",
       "    </tr>\n",
       "    <tr>\n",
       "      <th>41490</th>\n",
       "      <td>pavel-krmas</td>\n",
       "      <td>Pavel Krmas</td>\n",
       "      <td>SC Freiburg</td>\n",
       "      <td>Germany</td>\n",
       "      <td>03.03.1980</td>\n",
       "      <td>193.0</td>\n",
       "      <td>86.0</td>\n",
       "      <td>Center Back</td>\n",
       "      <td>3</td>\n",
       "      <td>2</td>\n",
       "      <td>...</td>\n",
       "      <td>0.25</td>\n",
       "      <td>758</td>\n",
       "      <td>8</td>\n",
       "      <td>DEU</td>\n",
       "      <td>0.336628</td>\n",
       "      <td>7749.0</td>\n",
       "      <td>0.000055</td>\n",
       "      <td>0.335967</td>\n",
       "      <td>7974.0</td>\n",
       "      <td>0.000225</td>\n",
       "    </tr>\n",
       "    <tr>\n",
       "      <th>69883</th>\n",
       "      <td>raoul-loe</td>\n",
       "      <td>Raoul Loé</td>\n",
       "      <td>CA Osasuna</td>\n",
       "      <td>Spain</td>\n",
       "      <td>31.01.1989</td>\n",
       "      <td>192.0</td>\n",
       "      <td>83.0</td>\n",
       "      <td>Defensive Midfielder</td>\n",
       "      <td>3</td>\n",
       "      <td>0</td>\n",
       "      <td>...</td>\n",
       "      <td>1.00</td>\n",
       "      <td>1505</td>\n",
       "      <td>3</td>\n",
       "      <td>ESP</td>\n",
       "      <td>0.369894</td>\n",
       "      <td>1785.0</td>\n",
       "      <td>0.000229</td>\n",
       "      <td>0.588297</td>\n",
       "      <td>1897.0</td>\n",
       "      <td>0.001002</td>\n",
       "    </tr>\n",
       "    <tr>\n",
       "      <th>74182</th>\n",
       "      <td>simao</td>\n",
       "      <td>Simão</td>\n",
       "      <td>Espanyol Barcelona</td>\n",
       "      <td>Spain</td>\n",
       "      <td>31.10.1979</td>\n",
       "      <td>170.0</td>\n",
       "      <td>64.0</td>\n",
       "      <td>Left Midfielder</td>\n",
       "      <td>2</td>\n",
       "      <td>2</td>\n",
       "      <td>...</td>\n",
       "      <td>0.25</td>\n",
       "      <td>1624</td>\n",
       "      <td>64</td>\n",
       "      <td>NLD</td>\n",
       "      <td>0.352920</td>\n",
       "      <td>5952.0</td>\n",
       "      <td>0.000070</td>\n",
       "      <td>0.445679</td>\n",
       "      <td>6121.0</td>\n",
       "      <td>0.000269</td>\n",
       "    </tr>\n",
       "    <tr>\n",
       "      <th>38050</th>\n",
       "      <td>mladen-petric</td>\n",
       "      <td>Mladen Petrić</td>\n",
       "      <td>Fulham FC</td>\n",
       "      <td>England</td>\n",
       "      <td>01.01.1981</td>\n",
       "      <td>185.0</td>\n",
       "      <td>81.0</td>\n",
       "      <td>Center Forward</td>\n",
       "      <td>6</td>\n",
       "      <td>4</td>\n",
       "      <td>...</td>\n",
       "      <td>0.00</td>\n",
       "      <td>681</td>\n",
       "      <td>8</td>\n",
       "      <td>DEU</td>\n",
       "      <td>0.336628</td>\n",
       "      <td>7749.0</td>\n",
       "      <td>0.000055</td>\n",
       "      <td>0.335967</td>\n",
       "      <td>7974.0</td>\n",
       "      <td>0.000225</td>\n",
       "    </tr>\n",
       "    <tr>\n",
       "      <th>136585</th>\n",
       "      <td>andriy-voronin</td>\n",
       "      <td>Andriy Voronin</td>\n",
       "      <td>Fortuna Düsseldorf</td>\n",
       "      <td>Germany</td>\n",
       "      <td>21.07.1979</td>\n",
       "      <td>174.0</td>\n",
       "      <td>81.0</td>\n",
       "      <td>Center Forward</td>\n",
       "      <td>1</td>\n",
       "      <td>1</td>\n",
       "      <td>...</td>\n",
       "      <td>0.00</td>\n",
       "      <td>2905</td>\n",
       "      <td>8</td>\n",
       "      <td>DEU</td>\n",
       "      <td>0.336628</td>\n",
       "      <td>7749.0</td>\n",
       "      <td>0.000055</td>\n",
       "      <td>0.335967</td>\n",
       "      <td>7974.0</td>\n",
       "      <td>0.000225</td>\n",
       "    </tr>\n",
       "    <tr>\n",
       "      <th>85310</th>\n",
       "      <td>robert-mak</td>\n",
       "      <td>Róbert Mak</td>\n",
       "      <td>1. FC Nürnberg</td>\n",
       "      <td>Germany</td>\n",
       "      <td>08.03.1991</td>\n",
       "      <td>179.0</td>\n",
       "      <td>75.0</td>\n",
       "      <td>Right Winger</td>\n",
       "      <td>6</td>\n",
       "      <td>2</td>\n",
       "      <td>...</td>\n",
       "      <td>0.25</td>\n",
       "      <td>1852</td>\n",
       "      <td>8</td>\n",
       "      <td>DEU</td>\n",
       "      <td>0.336628</td>\n",
       "      <td>7749.0</td>\n",
       "      <td>0.000055</td>\n",
       "      <td>0.335967</td>\n",
       "      <td>7974.0</td>\n",
       "      <td>0.000225</td>\n",
       "    </tr>\n",
       "  </tbody>\n",
       "</table>\n",
       "<p>10 rows × 28 columns</p>\n",
       "</div>"
      ],
      "text/plain": [
       "              playerShort             player                club  \\\n",
       "80731       daniel-didavi      Daniel Didavi       VfB Stuttgart   \n",
       "115102  valentin-eysseric  Valentin Eysseric            OGC Nice   \n",
       "127940      lucas-wilchez      Lucas Wilchez       Real Zaragoza   \n",
       "95554      vedad-ibisevic     Vedad Ibišević       VfB Stuttgart   \n",
       "41490         pavel-krmas        Pavel Krmas         SC Freiburg   \n",
       "69883           raoul-loe          Raoul Loé          CA Osasuna   \n",
       "74182               simao              Simão  Espanyol Barcelona   \n",
       "38050       mladen-petric      Mladen Petrić           Fulham FC   \n",
       "136585     andriy-voronin     Andriy Voronin  Fortuna Düsseldorf   \n",
       "85310          robert-mak         Róbert Mak      1. FC Nürnberg   \n",
       "\n",
       "       leagueCountry    birthday  height  weight              position  games  \\\n",
       "80731        Germany  21.02.1990   179.0    77.0       Left Midfielder      1   \n",
       "115102        France  25.03.1992   181.0    73.0                   NaN      2   \n",
       "127940         Spain  31.08.1983   177.0    72.0  Attacking Midfielder      1   \n",
       "95554        Germany  06.08.1984   188.0    80.0        Center Forward      1   \n",
       "41490        Germany  03.03.1980   193.0    86.0           Center Back      3   \n",
       "69883          Spain  31.01.1989   192.0    83.0  Defensive Midfielder      3   \n",
       "74182          Spain  31.10.1979   170.0    64.0       Left Midfielder      2   \n",
       "38050        England  01.01.1981   185.0    81.0        Center Forward      6   \n",
       "136585       Germany  21.07.1979   174.0    81.0        Center Forward      1   \n",
       "85310        Germany  08.03.1991   179.0    75.0          Right Winger      6   \n",
       "\n",
       "        victories    ...     rater2  refNum  refCountry  Alpha_3   meanIAT  \\\n",
       "80731           1    ...       0.75    1745          48      ITA  0.386174   \n",
       "115102          0    ...        NaN    2414           7      FRA  0.334684   \n",
       "127940          0    ...       0.50    2747           1      GRC  0.326391   \n",
       "95554           1    ...       0.25    2046           1      GRC  0.326391   \n",
       "41490           2    ...       0.25     758           8      DEU  0.336628   \n",
       "69883           0    ...       1.00    1505           3      ESP  0.369894   \n",
       "74182           2    ...       0.25    1624          64      NLD  0.352920   \n",
       "38050           4    ...       0.00     681           8      DEU  0.336628   \n",
       "136585          1    ...       0.00    2905           8      DEU  0.336628   \n",
       "85310           2    ...       0.25    1852           8      DEU  0.336628   \n",
       "\n",
       "          nIAT     seIAT   meanExp    nExp     seExp  \n",
       "80731   1761.0  0.000232  0.529815  1895.0  0.001091  \n",
       "115102  2882.0  0.000151  0.336101  3011.0  0.000586  \n",
       "127940   712.0  0.000564  0.396000   750.0  0.002696  \n",
       "95554    712.0  0.000564  0.396000   750.0  0.002696  \n",
       "41490   7749.0  0.000055  0.335967  7974.0  0.000225  \n",
       "69883   1785.0  0.000229  0.588297  1897.0  0.001002  \n",
       "74182   5952.0  0.000070  0.445679  6121.0  0.000269  \n",
       "38050   7749.0  0.000055  0.335967  7974.0  0.000225  \n",
       "136585  7749.0  0.000055  0.335967  7974.0  0.000225  \n",
       "85310   7749.0  0.000055  0.335967  7974.0  0.000225  \n",
       "\n",
       "[10 rows x 28 columns]"
      ]
     },
     "execution_count": 2,
     "metadata": {},
     "output_type": "execute_result"
    }
   ],
   "source": [
    "filename='CrowdstormingDataJuly1st.csv'\n",
    "df = pd.read_csv(filename)\n",
    "df.sample(10)"
   ]
  },
  {
   "cell_type": "markdown",
   "metadata": {},
   "source": [
    "### 1.2 Cleaning the data\n",
    "\n",
    "A few things have to be done to clean the data before we feed it to the classifier.\n",
    "\n",
    "Firstly, let's merge the two skin color ratings into a mean one, since this score will act as our label for the classifier, and remove the two rating columns."
   ]
  },
  {
   "cell_type": "code",
   "execution_count": 3,
   "metadata": {
    "collapsed": false
   },
   "outputs": [],
   "source": [
    "df['skintone']= (df['rater1']+df['rater2']) / 2\n",
    "df = df.drop('rater1', 1)\n",
    "df = df.drop('rater2', 1)"
   ]
  },
  {
   "cell_type": "markdown",
   "metadata": {},
   "source": [
    "Secondly, let's remove players who don't have this rating since we won't be able to train the classifier with these examples. They are currently store as `NaN` scpre in the `skintone` column."
   ]
  },
  {
   "cell_type": "code",
   "execution_count": 4,
   "metadata": {
    "collapsed": false
   },
   "outputs": [
    {
     "name": "stdout",
     "output_type": "stream",
     "text": [
      "We kept 124621 of 146028 entries (delta = 21407).\n"
     ]
    }
   ],
   "source": [
    "clean_df = df.copy()\n",
    "clean_df = clean_df.dropna(axis = 0, subset = ['skintone'])\n",
    "\n",
    "print(\"We kept {} of {} entries (delta = {}).\".format(len(clean_df), len(df), len(df) - len(clean_df)))"
   ]
  },
  {
   "cell_type": "markdown",
   "metadata": {},
   "source": [
    "Let's now check for other missing values :"
   ]
  },
  {
   "cell_type": "code",
   "execution_count": 5,
   "metadata": {
    "collapsed": false
   },
   "outputs": [
    {
     "name": "stdout",
     "output_type": "stream",
     "text": [
      "playerShort: 0\n",
      "player: 0\n",
      "club: 0\n",
      "leagueCountry: 0\n",
      "birthday: 0\n",
      "height: 46\n",
      "weight: 753\n",
      "position: 8461\n",
      "games: 0\n",
      "victories: 0\n",
      "ties: 0\n",
      "defeats: 0\n",
      "goals: 0\n",
      "yellowCards: 0\n",
      "yellowReds: 0\n",
      "redCards: 0\n",
      "photoID: 0\n",
      "refNum: 0\n",
      "refCountry: 0\n",
      "Alpha_3: 1\n",
      "meanIAT: 153\n",
      "nIAT: 153\n",
      "seIAT: 153\n",
      "meanExp: 153\n",
      "nExp: 153\n",
      "seExp: 153\n",
      "skintone: 0\n"
     ]
    }
   ],
   "source": [
    "for column in clean_df:\n",
    "    print(column + ':', len(clean_df[column].iloc[clean_df[column].isnull().nonzero()]))"
   ]
  },
  {
   "cell_type": "markdown",
   "metadata": {},
   "source": [
    "Let's first try to recover some of the missing information:"
   ]
  },
  {
   "cell_type": "code",
   "execution_count": 6,
   "metadata": {
    "collapsed": false
   },
   "outputs": [],
   "source": [
    "clean_df = clean_df.reset_index()\n",
    "\n",
    "idx_weight = clean_df.iloc[clean_df['weight'].isnull().nonzero()].index\n",
    "idx_height = clean_df.iloc[clean_df['height'].isnull().nonzero()].index\n",
    "\n",
    "# Recover missing player weights, by taking the average weight of player with similar height and skintone\n",
    "for idx in idx_weight:\n",
    "    mean_weight = clean_df['weight'][\n",
    "        (clean_df['height'] == clean_df.iloc[idx].height) &  \n",
    "        (clean_df['skintone'] == clean_df.iloc[idx].skintone)\n",
    "    ].mean() \n",
    "\n",
    "    clean_df.set_value(idx, 'weight', mean_weight)\n",
    "\n",
    "# Recover missing player weights, by taking the average weight of player with similar weight and skintone\n",
    "for idx in idx_height:\n",
    "    mean_height = clean_df['height'][\n",
    "        (clean_df['weight'] == clean_df.iloc[idx].height) &  \n",
    "         (clean_df['skintone'] == clean_df.iloc[idx].skintone)\n",
    "    ].mean() \n",
    "\n",
    "    clean_df.set_value(idx, 'height', mean_weight)"
   ]
  },
  {
   "cell_type": "markdown",
   "metadata": {},
   "source": [
    "Harder, let's see if we can recover missing positions from the average number of goals a player scored:"
   ]
  },
  {
   "cell_type": "code",
   "execution_count": 7,
   "metadata": {
    "collapsed": false
   },
   "outputs": [
    {
     "data": {
      "text/plain": [
       "Series([], Name: goals, dtype: int64)"
      ]
     },
     "execution_count": 7,
     "metadata": {},
     "output_type": "execute_result"
    }
   ],
   "source": [
    "players_no_pos = clean_df[['playerShort','goals']].iloc[clean_df['position'].isnull().nonzero()]\n",
    "mean_goals_per_pos = clean_df[['position', 'goals']].groupby(['position']).mean()['goals'].to_dict()\n",
    "players_mean_goals = players_no_pos.groupby('playerShort').mean()\n",
    "\n",
    "# Compute player position label from the average number of goals a player scored:\n",
    "def compute_pos(row, axis=None):\n",
    "    goals = players_mean_goals[players_mean_goals.index == row['playerShort']].goals.any()\n",
    "    diff = [(abs(goals - mean_goals_per_pos[pos]), pos) for pos in mean_goals_per_pos]\n",
    "    diff.sort(key=lambda x: x[0])\n",
    "    return diff[0][1]\n",
    "\n",
    "idx = clean_df.iloc[clean_df['position'].isnull().nonzero()].index\n",
    "for i in idx:\n",
    "    pos = compute_pos(clean_df.iloc[i])\n",
    "    clean_df.set_value(i,'position',compute_pos(clean_df.iloc[i]))\n",
    "    \n",
    "clean_df['goals'].iloc[clean_df['position'].isnull().nonzero()]"
   ]
  },
  {
   "cell_type": "code",
   "execution_count": 8,
   "metadata": {
    "collapsed": false
   },
   "outputs": [],
   "source": [
    "to_drop = [\n",
    "    'player', 'photoID', 'birthday',\n",
    "    'refNum', 'meanIAT', 'nIAT', 'seIAT',\n",
    "    'nExp', 'seExp', 'refCountry', 'meanExp',\n",
    "    'index'\n",
    "]\n",
    "\n",
    "final_df = clean_df.drop(to_drop, axis=1).dropna().groupby('playerShort').agg('first')"
   ]
  },
  {
   "cell_type": "markdown",
   "metadata": {},
   "source": [
    "This leaves us with our final dataset:"
   ]
  },
  {
   "cell_type": "code",
   "execution_count": 9,
   "metadata": {
    "collapsed": false
   },
   "outputs": [
    {
     "name": "stdout",
     "output_type": "stream",
     "text": [
      "There are 1582 individual player entries.\n"
     ]
    }
   ],
   "source": [
    "print(\"There are {} individual player entries.\".format(len(final_df)))"
   ]
  },
  {
   "cell_type": "markdown",
   "metadata": {},
   "source": [
    "We can now extract the labels that will be used to train the classifier. We will use the `LabelEncoder` to get labels usable by sklearn."
   ]
  },
  {
   "cell_type": "code",
   "execution_count": 10,
   "metadata": {
    "collapsed": false
   },
   "outputs": [],
   "source": [
    "labels = np.array(final_df['skintone'])\n",
    "\n",
    "label_encoder = LabelEncoder()\n",
    "labels = label_encoder.fit_transform(labels)"
   ]
  },
  {
   "cell_type": "markdown",
   "metadata": {},
   "source": [
    "We'll start by using all the features provided by the dataset to train the classifier, later figuring out which ones are actually interesting. Once again we will transform the entries into values that are processable by sklearn, using `LabelEncoder`."
   ]
  },
  {
   "cell_type": "code",
   "execution_count": 11,
   "metadata": {
    "collapsed": false
   },
   "outputs": [],
   "source": [
    "features = final_df.drop('skintone', 1)\n",
    "\n",
    "encoders = {}\n",
    "for col in features.columns.values:\n",
    "    le = LabelEncoder()\n",
    "    features[col] = le.fit_transform(pd.factorize(features[col])[0])    "
   ]
  },
  {
   "cell_type": "markdown",
   "metadata": {},
   "source": [
    "### 1.3 Training the classifier\n",
    "\n",
    "We've now got our training data so let's try to train the `RandomForestClassifier`."
   ]
  },
  {
   "cell_type": "code",
   "execution_count": 12,
   "metadata": {
    "collapsed": false
   },
   "outputs": [
    {
     "name": "stdout",
     "output_type": "stream",
     "text": [
      "Score: \n",
      "   -  test : 0.24960505529225907 \n",
      "   -  train : 0.9768177028451\n",
      "\n",
      "Accuracy:\n",
      "   0.274813 (+/- 0.037676)\n"
     ]
    }
   ],
   "source": [
    "from sklearn.model_selection import train_test_split\n",
    "from sklearn.model_selection import cross_val_score\n",
    "\n",
    "X_clf = features\n",
    "Y_clf = labels\n",
    "\n",
    "def run_random_forest(X,Y):\n",
    "    # Split into a test and a train set\n",
    "    X_train, X_test, y_train, y_test = train_test_split(X, Y, test_size=0.4, random_state=42)\n",
    "\n",
    "    # Create the RandomForestClassifier\n",
    "    forest = RandomForestClassifier(n_jobs=4)\n",
    "\n",
    "    # Train the model\n",
    "    clf_tmp = forest.fit(X_train, y_train)\n",
    "    \n",
    "    test_score = clf_tmp.score(X_test, y_test)\n",
    "    train_score = clf_tmp.score(X_train, y_train)\n",
    "    \n",
    "    print(\"Score: \\n   -  test : {} \\n   -  train : {}\\n\".format(test_score, train_score))\n",
    "    \n",
    "    scores = cross_val_score(clf_tmp, X_test, y_test, cv=5)\n",
    "    print(\"Accuracy:\\n   %0.6f (+/- %0.6f)\" % (scores.mean(), scores.std() * 2))\n",
    "    \n",
    "    return clf_tmp\n",
    "\n",
    "clf = run_random_forest(X_clf,Y_clf)"
   ]
  },
  {
   "cell_type": "markdown",
   "metadata": {},
   "source": [
    "### 1.4 Learning Curves\n",
    "\n",
    "We want to see how our model's accuracy evolves with the number of samples. For this we can plot a learning curve, which will randomly split the data into test and training sets using a `ShuffleSplit`. It will then train the model and compute its score over the test set. We can then plot the accuracy over the number of training examples."
   ]
  },
  {
   "cell_type": "code",
   "execution_count": 13,
   "metadata": {
    "collapsed": false
   },
   "outputs": [],
   "source": [
    "# Plot code adapted from :\n",
    "# http://scikit-learn.org/stable/auto_examples/model_selection/plot_learning_curve.html\n",
    "#\n",
    "from sklearn.model_selection import learning_curve\n",
    "from sklearn.model_selection import ShuffleSplit\n",
    "\n",
    "def learning_curve_plot(clf, X, Y):\n",
    "    # Legends\n",
    "    title  = \"Learning Curves (Random Forest Classifier)\"\n",
    "    xlabel = \"Training examples\"\n",
    "    ylabel = \"Score\"\n",
    "\n",
    "    # Plots params\n",
    "    y_lim = (0.0, 1.01)\n",
    "\n",
    "    # CV params\n",
    "    train_sizes = np.linspace(.01, 1.0, 10)\n",
    "    cv = ShuffleSplit(n_splits=5, test_size=0.2, random_state=0)\n",
    "\n",
    "    plt.figure()\n",
    "    plt.title(title)\n",
    "    plt.ylim(*y_lim)\n",
    "    plt.xlabel(xlabel)\n",
    "    plt.ylabel(ylabel)\n",
    "\n",
    "    train_sizes, train_scores, test_scores = learning_curve(clf, X, Y, cv=cv, n_jobs=4, train_sizes=train_sizes)\n",
    "\n",
    "    train_scores_mean = np.mean(train_scores, axis=1)\n",
    "    test_scores_mean  = np.mean(test_scores , axis=1)\n",
    "\n",
    "    train_scores_std  = np.std(train_scores, axis=1)\n",
    "    test_scores_std   = np.std(test_scores , axis=1)\n",
    "\n",
    "    plt.grid()\n",
    "    plt.fill_between(train_sizes, train_scores_mean - train_scores_std,\n",
    "                     train_scores_mean + train_scores_std, alpha=0.1,\n",
    "                     color=\"r\")\n",
    "    plt.fill_between(train_sizes, test_scores_mean - test_scores_std,\n",
    "                     test_scores_mean + test_scores_std, alpha=0.1, color=\"g\")\n",
    "    plt.plot(train_sizes, train_scores_mean, 'o-', color=\"r\",\n",
    "             label=\"Training score\")\n",
    "    plt.plot(train_sizes, test_scores_mean, 'o-', color=\"g\",\n",
    "             label=\"Cross-validation score\")\n",
    "    plt.legend(loc=\"best\")\n",
    "\n",
    "    plt.show()"
   ]
  },
  {
   "cell_type": "code",
   "execution_count": 14,
   "metadata": {
    "collapsed": false
   },
   "outputs": [
    {
     "data": {
      "image/png": "[encoded data removed]",
      "text/plain": [
       "<matplotlib.figure.Figure at 0x10ab79c50>"
      ]
     },
     "metadata": {},
     "output_type": "display_data"
    }
   ],
   "source": [
    "learning_curve_plot(clf, X_clf, Y_clf)"
   ]
  },
  {
   "cell_type": "markdown",
   "metadata": {},
   "source": [
    "As we can see (and might have guessed from our accuracy scores), our model has a very good score on the training set but does not generalize well : the test score is quite low (30%). In order to adress this we will do some cross-validation on our classifier's parameters. The main parameters to adjust when using these methods is `n_estimators` and `max_features`."
   ]
  },
  {
   "cell_type": "code",
   "execution_count": 15,
   "metadata": {
    "collapsed": false
   },
   "outputs": [],
   "source": [
    "from sklearn.model_selection import cross_val_score\n",
    "\n",
    "n_estimators_range = range(1, 500, 50)\n",
    "\n",
    "scores = list()\n",
    "scores_std = list()\n",
    "\n",
    "# Split into a test and a train set\n",
    "X_train, X_test, Y_train, Y_test = train_test_split(X_clf, Y_clf, test_size=0.4, random_state=42)\n",
    "\n",
    "for n_estimators in n_estimators_range:\n",
    "    f = RandomForestClassifier(n_estimators=n_estimators, n_jobs=4)\n",
    "    clf_tmp = f.fit(X_train, Y_train)\n",
    "    this_scores = cross_val_score(clf, X_clf, Y_clf)\n",
    "    scores.append(np.mean(this_scores))\n",
    "    scores_std.append(np.std(this_scores))"
   ]
  },
  {
   "cell_type": "code",
   "execution_count": 16,
   "metadata": {
    "collapsed": false
   },
   "outputs": [
    {
     "data": {
      "image/png": "[encoded data removed]",
      "text/plain": [
       "<matplotlib.figure.Figure at 0x11c96c7f0>"
      ]
     },
     "metadata": {},
     "output_type": "display_data"
    }
   ],
   "source": [
    "plt.figure(1, figsize=(4, 3))\n",
    "plt.clf()\n",
    "plt.plot(n_estimators_range, scores)\n",
    "plt.plot(n_estimators_range, np.array(scores) + np.array(scores_std), 'b--')\n",
    "plt.plot(n_estimators_range, np.array(scores) - np.array(scores_std), 'b--')\n",
    "plt.ylabel('CV score')\n",
    "plt.xlabel('Parameter n_estimators')\n",
    "plt.ylim(0, 0.4)\n",
    "plt.show()"
   ]
  },
  {
   "cell_type": "markdown",
   "metadata": {},
   "source": [
    "As we can see here the CV score stays around 30% for any `n_estimators` > 50. This means we might have another issue : the features do not hold enough information or their subset was not chosen correctly. Let's study this aspect next."
   ]
  },
  {
   "cell_type": "markdown",
   "metadata": {},
   "source": [
    "### 1.5 Feature importances\n",
    "\n",
    "We would like to figure out which of the features are the most relevant to our model (i.e. the features that represent the most variance / information). These are the features that help the classifier make its decision.\n",
    "\n",
    "We have access to this information in `RandomForestClassifier.feature_importances_`, so we can plot their importance."
   ]
  },
  {
   "cell_type": "code",
   "execution_count": 17,
   "metadata": {
    "collapsed": false
   },
   "outputs": [],
   "source": [
    "def feature_importances_plot(clf, X, Y):\n",
    "    # Plot code adapted from :\n",
    "    # http://scikit-learn.org/stable/auto_examples/ensemble/plot_forest_importances.html#sphx-glr-auto-examples-ensemble-plot-forest-importances-py\n",
    "    #\n",
    "    importances = clf.feature_importances_\n",
    "    std = np.std([tree.feature_importances_ for tree in clf.estimators_],\n",
    "                 axis=0)\n",
    "    indices = np.argsort(importances)[::-1]\n",
    "    feature_names = X.columns.values.tolist()\n",
    "\n",
    "    # Print the feature ranking\n",
    "    print(\"Feature ranking:\")\n",
    "\n",
    "    for j in range(X_train.shape[1]):\n",
    "        print(\"%d. feature #%d %s (%f)\" % (j + 1, indices[j], feature_names[indices[j]], importances[indices[j]]))\n",
    "\n",
    "    # Plot the feature importances of the forest\n",
    "    plt.figure()\n",
    "    plt.title(\"Feature importances\")\n",
    "    plt.bar(range(X_train.shape[1]), importances[indices],\n",
    "           color=\"r\", yerr=std[indices], align=\"center\")\n",
    "    plt.xticks(range(X_train.shape[1]), indices)\n",
    "    plt.xlim([-1, X_train.shape[1]])\n",
    "    plt.show()"
   ]
  },
  {
   "cell_type": "code",
   "execution_count": 18,
   "metadata": {
    "collapsed": false
   },
   "outputs": [
    {
     "name": "stdout",
     "output_type": "stream",
     "text": [
      "Feature ranking:\n",
      "1. feature #0 club (0.155235)\n",
      "2. feature #2 height (0.145125)\n",
      "3. feature #3 weight (0.142685)\n",
      "4. feature #4 position (0.116729)\n",
      "5. feature #13 Alpha_3 (0.108725)\n",
      "6. feature #8 defeats (0.056788)\n",
      "7. feature #6 victories (0.055141)\n",
      "8. feature #5 games (0.054417)\n",
      "9. feature #1 leagueCountry (0.051308)\n",
      "10. feature #7 ties (0.041493)\n",
      "11. feature #10 yellowCards (0.034245)\n",
      "12. feature #9 goals (0.030779)\n",
      "13. feature #12 redCards (0.003898)\n",
      "14. feature #11 yellowReds (0.003433)\n"
     ]
    },
    {
     "data": {
      "image/png": "[encoded data removed]",
      "text/plain": [
       "<matplotlib.figure.Figure at 0x1123b8550>"
      ]
     },
     "metadata": {},
     "output_type": "display_data"
    }
   ],
   "source": [
    "feature_importances_plot(clf, X_clf, Y_clf)"
   ]
  },
  {
   "cell_type": "markdown",
   "metadata": {},
   "source": [
    "It is interesting to note that `yellowReds` and `redCards` seem to not have any impact.\n",
    "\n",
    "On the other hand there are notably 5 features that seem to be more important than the rest :\n",
    "* club\n",
    "* height\n",
    "* weight\n",
    "* position\n",
    "* Alpha_3\n",
    "\n",
    "Let's create a powerset (i.e. all possible cominbations of the 5) of these features and see which combinations give good results."
   ]
  },
  {
   "cell_type": "code",
   "execution_count": 19,
   "metadata": {
    "collapsed": true
   },
   "outputs": [],
   "source": [
    "from itertools import combinations\n",
    "\n",
    "# Compute the powerset of the given list\n",
    "def powerset(l):\n",
    "    combs = []\n",
    "    for i in range(0, len(l) + 1):\n",
    "        listing = [list(x) for x in combinations(l, i)]\n",
    "        combs.extend(listing)\n",
    "    return combs"
   ]
  },
  {
   "cell_type": "code",
   "execution_count": 20,
   "metadata": {
    "collapsed": false
   },
   "outputs": [],
   "source": [
    "good_features = ['club', 'height' ,'weight', 'position', 'Alpha_3']\n",
    "feature_subsets = list(powerset(good_features))\n",
    "\n",
    "subset_scores = list()\n",
    "subset_scores_std = list()\n",
    "\n",
    "feature_subsets = [x for x in feature_subsets if x != []]\n",
    "\n",
    "for subset in feature_subsets:\n",
    "    # Split into a test and a train set\n",
    "    X_train, X_test, Y_train, Y_test = train_test_split(X_clf[subset], Y_clf, test_size=0.4, random_state=42)\n",
    "    f = RandomForestClassifier(n_estimators=n_estimators, n_jobs=4)\n",
    "    clf_tmp = f.fit(X_train, Y_train)\n",
    "    this_scores = cross_val_score(clf_tmp, X_clf[subset], Y_clf)\n",
    "    subset_scores.append(np.mean(this_scores))\n",
    "    subset_scores_std.append(np.std(this_scores))"
   ]
  },
  {
   "cell_type": "code",
   "execution_count": 21,
   "metadata": {
    "collapsed": false
   },
   "outputs": [
    {
     "data": {
      "text/html": [
       "<div>\n",
       "<table border=\"1\" class=\"dataframe\">\n",
       "  <thead>\n",
       "    <tr style=\"text-align: right;\">\n",
       "      <th></th>\n",
       "      <th>index</th>\n",
       "      <th>score</th>\n",
       "      <th>std</th>\n",
       "      <th>subset</th>\n",
       "    </tr>\n",
       "  </thead>\n",
       "  <tbody>\n",
       "    <tr>\n",
       "      <th>0</th>\n",
       "      <td>0</td>\n",
       "      <td>0.316753</td>\n",
       "      <td>0.013808</td>\n",
       "      <td>[club]</td>\n",
       "    </tr>\n",
       "    <tr>\n",
       "      <th>1</th>\n",
       "      <td>4</td>\n",
       "      <td>0.302186</td>\n",
       "      <td>0.007888</td>\n",
       "      <td>[Alpha_3]</td>\n",
       "    </tr>\n",
       "    <tr>\n",
       "      <th>2</th>\n",
       "      <td>28</td>\n",
       "      <td>0.298941</td>\n",
       "      <td>0.014616</td>\n",
       "      <td>[club, weight, position, Alpha_3]</td>\n",
       "    </tr>\n",
       "    <tr>\n",
       "      <th>3</th>\n",
       "      <td>30</td>\n",
       "      <td>0.292649</td>\n",
       "      <td>0.004682</td>\n",
       "      <td>[club, height, weight, position, Alpha_3]</td>\n",
       "    </tr>\n",
       "    <tr>\n",
       "      <th>4</th>\n",
       "      <td>3</td>\n",
       "      <td>0.292006</td>\n",
       "      <td>0.006393</td>\n",
       "      <td>[position]</td>\n",
       "    </tr>\n",
       "    <tr>\n",
       "      <th>5</th>\n",
       "      <td>2</td>\n",
       "      <td>0.291420</td>\n",
       "      <td>0.003682</td>\n",
       "      <td>[weight]</td>\n",
       "    </tr>\n",
       "    <tr>\n",
       "      <th>6</th>\n",
       "      <td>26</td>\n",
       "      <td>0.283844</td>\n",
       "      <td>0.007889</td>\n",
       "      <td>[club, height, weight, Alpha_3]</td>\n",
       "    </tr>\n",
       "    <tr>\n",
       "      <th>7</th>\n",
       "      <td>1</td>\n",
       "      <td>0.283760</td>\n",
       "      <td>0.014330</td>\n",
       "      <td>[height]</td>\n",
       "    </tr>\n",
       "    <tr>\n",
       "      <th>8</th>\n",
       "      <td>25</td>\n",
       "      <td>0.282572</td>\n",
       "      <td>0.005022</td>\n",
       "      <td>[club, height, weight, position]</td>\n",
       "    </tr>\n",
       "    <tr>\n",
       "      <th>9</th>\n",
       "      <td>8</td>\n",
       "      <td>0.278811</td>\n",
       "      <td>0.010731</td>\n",
       "      <td>[club, Alpha_3]</td>\n",
       "    </tr>\n",
       "    <tr>\n",
       "      <th>10</th>\n",
       "      <td>14</td>\n",
       "      <td>0.278150</td>\n",
       "      <td>0.004545</td>\n",
       "      <td>[position, Alpha_3]</td>\n",
       "    </tr>\n",
       "    <tr>\n",
       "      <th>11</th>\n",
       "      <td>27</td>\n",
       "      <td>0.272372</td>\n",
       "      <td>0.015943</td>\n",
       "      <td>[club, height, position, Alpha_3]</td>\n",
       "    </tr>\n",
       "    <tr>\n",
       "      <th>12</th>\n",
       "      <td>17</td>\n",
       "      <td>0.269269</td>\n",
       "      <td>0.006555</td>\n",
       "      <td>[club, height, Alpha_3]</td>\n",
       "    </tr>\n",
       "    <tr>\n",
       "      <th>13</th>\n",
       "      <td>5</td>\n",
       "      <td>0.268721</td>\n",
       "      <td>0.018133</td>\n",
       "      <td>[club, height]</td>\n",
       "    </tr>\n",
       "    <tr>\n",
       "      <th>14</th>\n",
       "      <td>20</td>\n",
       "      <td>0.268707</td>\n",
       "      <td>0.016563</td>\n",
       "      <td>[club, position, Alpha_3]</td>\n",
       "    </tr>\n",
       "    <tr>\n",
       "      <th>15</th>\n",
       "      <td>7</td>\n",
       "      <td>0.265502</td>\n",
       "      <td>0.006688</td>\n",
       "      <td>[club, position]</td>\n",
       "    </tr>\n",
       "    <tr>\n",
       "      <th>16</th>\n",
       "      <td>15</td>\n",
       "      <td>0.262979</td>\n",
       "      <td>0.009596</td>\n",
       "      <td>[club, height, weight]</td>\n",
       "    </tr>\n",
       "    <tr>\n",
       "      <th>17</th>\n",
       "      <td>12</td>\n",
       "      <td>0.259194</td>\n",
       "      <td>0.017380</td>\n",
       "      <td>[weight, position]</td>\n",
       "    </tr>\n",
       "    <tr>\n",
       "      <th>18</th>\n",
       "      <td>19</td>\n",
       "      <td>0.252218</td>\n",
       "      <td>0.020474</td>\n",
       "      <td>[club, weight, Alpha_3]</td>\n",
       "    </tr>\n",
       "    <tr>\n",
       "      <th>19</th>\n",
       "      <td>18</td>\n",
       "      <td>0.249695</td>\n",
       "      <td>0.010481</td>\n",
       "      <td>[club, weight, position]</td>\n",
       "    </tr>\n",
       "    <tr>\n",
       "      <th>20</th>\n",
       "      <td>11</td>\n",
       "      <td>0.248363</td>\n",
       "      <td>0.012390</td>\n",
       "      <td>[height, Alpha_3]</td>\n",
       "    </tr>\n",
       "    <tr>\n",
       "      <th>21</th>\n",
       "      <td>13</td>\n",
       "      <td>0.247151</td>\n",
       "      <td>0.001348</td>\n",
       "      <td>[weight, Alpha_3]</td>\n",
       "    </tr>\n",
       "    <tr>\n",
       "      <th>22</th>\n",
       "      <td>22</td>\n",
       "      <td>0.242717</td>\n",
       "      <td>0.002973</td>\n",
       "      <td>[height, weight, Alpha_3]</td>\n",
       "    </tr>\n",
       "    <tr>\n",
       "      <th>23</th>\n",
       "      <td>24</td>\n",
       "      <td>0.242078</td>\n",
       "      <td>0.005539</td>\n",
       "      <td>[weight, position, Alpha_3]</td>\n",
       "    </tr>\n",
       "    <tr>\n",
       "      <th>24</th>\n",
       "      <td>29</td>\n",
       "      <td>0.240792</td>\n",
       "      <td>0.010130</td>\n",
       "      <td>[height, weight, position, Alpha_3]</td>\n",
       "    </tr>\n",
       "    <tr>\n",
       "      <th>25</th>\n",
       "      <td>6</td>\n",
       "      <td>0.238994</td>\n",
       "      <td>0.015565</td>\n",
       "      <td>[club, weight]</td>\n",
       "    </tr>\n",
       "    <tr>\n",
       "      <th>26</th>\n",
       "      <td>16</td>\n",
       "      <td>0.230088</td>\n",
       "      <td>0.002047</td>\n",
       "      <td>[club, height, position]</td>\n",
       "    </tr>\n",
       "    <tr>\n",
       "      <th>27</th>\n",
       "      <td>23</td>\n",
       "      <td>0.225071</td>\n",
       "      <td>0.011057</td>\n",
       "      <td>[height, position, Alpha_3]</td>\n",
       "    </tr>\n",
       "    <tr>\n",
       "      <th>28</th>\n",
       "      <td>9</td>\n",
       "      <td>0.219365</td>\n",
       "      <td>0.004898</td>\n",
       "      <td>[height, weight]</td>\n",
       "    </tr>\n",
       "    <tr>\n",
       "      <th>29</th>\n",
       "      <td>21</td>\n",
       "      <td>0.216182</td>\n",
       "      <td>0.002921</td>\n",
       "      <td>[height, weight, position]</td>\n",
       "    </tr>\n",
       "    <tr>\n",
       "      <th>30</th>\n",
       "      <td>10</td>\n",
       "      <td>0.209869</td>\n",
       "      <td>0.007785</td>\n",
       "      <td>[height, position]</td>\n",
       "    </tr>\n",
       "  </tbody>\n",
       "</table>\n",
       "</div>"
      ],
      "text/plain": [
       "    index     score       std                                     subset\n",
       "0       0  0.316753  0.013808                                     [club]\n",
       "1       4  0.302186  0.007888                                  [Alpha_3]\n",
       "2      28  0.298941  0.014616          [club, weight, position, Alpha_3]\n",
       "3      30  0.292649  0.004682  [club, height, weight, position, Alpha_3]\n",
       "4       3  0.292006  0.006393                                 [position]\n",
       "5       2  0.291420  0.003682                                   [weight]\n",
       "6      26  0.283844  0.007889            [club, height, weight, Alpha_3]\n",
       "7       1  0.283760  0.014330                                   [height]\n",
       "8      25  0.282572  0.005022           [club, height, weight, position]\n",
       "9       8  0.278811  0.010731                            [club, Alpha_3]\n",
       "10     14  0.278150  0.004545                        [position, Alpha_3]\n",
       "11     27  0.272372  0.015943          [club, height, position, Alpha_3]\n",
       "12     17  0.269269  0.006555                    [club, height, Alpha_3]\n",
       "13      5  0.268721  0.018133                             [club, height]\n",
       "14     20  0.268707  0.016563                  [club, position, Alpha_3]\n",
       "15      7  0.265502  0.006688                           [club, position]\n",
       "16     15  0.262979  0.009596                     [club, height, weight]\n",
       "17     12  0.259194  0.017380                         [weight, position]\n",
       "18     19  0.252218  0.020474                    [club, weight, Alpha_3]\n",
       "19     18  0.249695  0.010481                   [club, weight, position]\n",
       "20     11  0.248363  0.012390                          [height, Alpha_3]\n",
       "21     13  0.247151  0.001348                          [weight, Alpha_3]\n",
       "22     22  0.242717  0.002973                  [height, weight, Alpha_3]\n",
       "23     24  0.242078  0.005539                [weight, position, Alpha_3]\n",
       "24     29  0.240792  0.010130        [height, weight, position, Alpha_3]\n",
       "25      6  0.238994  0.015565                             [club, weight]\n",
       "26     16  0.230088  0.002047                   [club, height, position]\n",
       "27     23  0.225071  0.011057                [height, position, Alpha_3]\n",
       "28      9  0.219365  0.004898                           [height, weight]\n",
       "29     21  0.216182  0.002921                 [height, weight, position]\n",
       "30     10  0.209869  0.007785                         [height, position]"
      ]
     },
     "execution_count": 21,
     "metadata": {},
     "output_type": "execute_result"
    }
   ],
   "source": [
    "feature_subsets = [x for x in feature_subsets if x != []]\n",
    "scores_df = pd.DataFrame({ 'subset' : feature_subsets, 'score' : subset_scores, 'std' : subset_scores_std })\n",
    "scores_df.sort_values(['score'], ascending = False).reset_index()"
   ]
  },
  {
   "cell_type": "markdown",
   "metadata": {},
   "source": [
    "As we can see the combinations don't bring better results, with a maximum accuracy of 30%."
   ]
  },
  {
   "cell_type": "markdown",
   "metadata": {},
   "source": [
    "### 1.6 Binary Classification\n",
    "\n",
    "Another idea is to treat this problem as a binary classification problem : instead of the 6 labels for the skintone, let's arbitrarily divide the labels into 2 classes and see if we can achieve better results."
   ]
  },
  {
   "cell_type": "code",
   "execution_count": 22,
   "metadata": {
    "collapsed": false
   },
   "outputs": [
    {
     "name": "stdout",
     "output_type": "stream",
     "text": [
      "Score: \n",
      "   -  test : 0.8262243285939969 \n",
      "   -  train : 0.9894625922023182\n",
      "\n",
      "Accuracy:\n",
      "   0.838845 (+/- 0.016763)\n"
     ]
    },
    {
     "data": {
      "image/png": "[encoded data removed]",
      "text/plain": [
       "<matplotlib.figure.Figure at 0x11912a2b0>"
      ]
     },
     "metadata": {},
     "output_type": "display_data"
    }
   ],
   "source": [
    "def binary_skintone(tone):\n",
    "    return 1 if tone > 0.5 else 0 \n",
    "\n",
    "X_bin = X_clf\n",
    "Y_bin = np.array(final_df['skintone'].apply(binary_skintone))\n",
    "\n",
    "clf_bin = run_random_forest(X_bin, Y_bin)\n",
    "learning_curve_plot(clf_bin, X_bin, Y_bin)"
   ]
  },
  {
   "cell_type": "markdown",
   "metadata": {},
   "source": [
    "As we can see, the binary classifier is much more accurate, but we need to keep in mind that it's easier to classify into two classes versus the six we had before."
   ]
  },
  {
   "cell_type": "markdown",
   "metadata": {
    "collapsed": false
   },
   "source": [
    "---\n",
    "# 2. Player Clustering"
   ]
  },
  {
   "cell_type": "markdown",
   "metadata": {},
   "source": [
    "First, some imports, and utilities:"
   ]
  },
  {
   "cell_type": "code",
   "execution_count": 23,
   "metadata": {
    "collapsed": true
   },
   "outputs": [],
   "source": [
    "from sklearn.cluster import KMeans\n",
    "from sklearn.metrics import silhouette_score\n",
    "from scipy           import stats\n",
    "\n",
    "from itertools import combinations\n",
    "from copy      import copy\n",
    "\n",
    "# Compute the powerset of the given list\n",
    "def powerset(l):\n",
    "    combs = []\n",
    "    for i in range(0, len(l) + 1):\n",
    "        listing = [list(x) for x in combinations(l, i)]\n",
    "        combs.extend(listing)\n",
    "    return combs"
   ]
  },
  {
   "cell_type": "markdown",
   "metadata": {},
   "source": [
    "Here's the list of all features from the dataset, mostly present here as a reference for us, as we copy-pasted them from `df.columns.values`'s output"
   ]
  },
  {
   "cell_type": "code",
   "execution_count": 24,
   "metadata": {
    "collapsed": true
   },
   "outputs": [],
   "source": [
    "all_features = [\n",
    "    'player', 'photoID', 'birthday', 'games',\n",
    "    'refNum', 'refCountry', 'victories', 'ties', 'defeats',\n",
    "    'club', 'height', 'Alpha_3',\n",
    "    'leagueCountry', 'weight', 'position',\n",
    "    'nExp', 'seExp',\n",
    "    'nIAT', 'seIAT',\n",
    "    'meanExp', 'meanIAT',\n",
    "    'yellowCards', 'yellowReds', 'redCards',\n",
    "]"
   ]
  },
  {
   "cell_type": "markdown",
   "metadata": {},
   "source": [
    "All uncommented features in the list below will be taken into\n",
    "account when computing the various features subsets before running KMeans.\n",
    "We only picked features that had something to do with referee decisions, and not ones about the players themselves, or the game results."
   ]
  },
  {
   "cell_type": "code",
   "execution_count": 25,
   "metadata": {
    "collapsed": true
   },
   "outputs": [],
   "source": [
    "features_map = {\n",
    "    # 'player'        : 'first',\n",
    "    # 'club'          : 'first',\n",
    "    #'leagueCountry' : 'first',\n",
    "    # 'birthday'      : 'first',\n",
    "    #'height'        : 'first',\n",
    "    #'weight'        : 'first',\n",
    "    #'position'      : 'first',\n",
    "    # 'games'         : 'sum',\n",
    "    # 'victories'     : 'sum',\n",
    "    # 'ties'          : 'sum',\n",
    "    # 'defeats'       : 'sum',\n",
    "    # 'goals'         : 'sum',\n",
    "    'yellowCards'   : 'sum',\n",
    "    'yellowReds'    : 'sum',\n",
    "    'redCards'      : 'sum',\n",
    "    # 'photoID'       : 'first',\n",
    "    # 'refNum'        : 'first',\n",
    "    'refCountry'    : 'first',\n",
    "    #'Alpha_3'       : 'first',\n",
    "    'meanIAT'       : 'mean',\n",
    "    #'nIAT'          : 'mean',\n",
    "    #'seIAT'         : 'mean',\n",
    "    'meanExp'       : 'mean',\n",
    "    #'nExp'          : 'mean',\n",
    "    #'seExp'         : 'mean',\n",
    "    #'skintone': 'mean'\n",
    "}"
   ]
  },
  {
   "cell_type": "markdown",
   "metadata": {},
   "source": [
    "Here's the meat of the algorithm, described in detail in the code below:"
   ]
  },
  {
   "cell_type": "code",
   "execution_count": 26,
   "metadata": {
    "collapsed": true
   },
   "outputs": [],
   "source": [
    "#\n",
    "# Run K-Means on DataFrame df with the given features.\n",
    "# \n",
    "# @param df the DataFrame to run K-Means on\n",
    "# @param features a subset of the `features_map` defined above\n",
    "#\n",
    "def run_kmeans(df, features_kept):\n",
    "\n",
    "    # We first compute the columns we need to drop from the DataFrame (ie. the ones not in `features_kept`)\n",
    "    to_drop = [feature for feature in all_features if feature not in features_kept]\n",
    "    \n",
    "    # We don't want to include the 'skintone' feature in K-Means but still need to keep it\n",
    "    # around so that we can see how much it is going to vary between the two clusters.\n",
    "    agg = copy(features_kept)\n",
    "    agg['skintone'] = 'mean'\n",
    "\n",
    "    # We now drop those features, drop all rows with N/A values, and group them by player,\n",
    "    # aggregating the remaining columns with the aggregator function defined in the map above.\n",
    "    cluster_df = df.drop(to_drop, axis=1).dropna().groupby('playerShort').agg(agg)\n",
    "\n",
    "    # We now encode all non-numerical values (if any).\n",
    "    # These are denoted by their aggregator being 'first' in the map above.\n",
    "    for col in cluster_df.columns.values:\n",
    "        if agg[col] != 'first':\n",
    "            continue\n",
    "            \n",
    "        le = LabelEncoder()\n",
    "        labels = le.fit_transform(cluster_df[col])\n",
    "        cluster_df[col] = labels\n",
    "        # encoders[col] = le\n",
    "\n",
    "    # Initialize K-Means with sensible parameters\n",
    "    kmeans = KMeans(n_clusters=2, max_iter=100, n_init=5, n_jobs=4, random_state=42)\n",
    "\n",
    "    # We now drop the skintone and the player shortname from the dataset,\n",
    "    # as the former should not be included, while the latter is unique to a player\n",
    "    # and won't yield any interesting information.\n",
    "    dataset = cluster_df.reset_index().drop(['skintone', 'playerShort'], axis=1)\n",
    "\n",
    "    # Let's see in which cluster each row landed\n",
    "    dist = kmeans.fit_predict(dataset)\n",
    "\n",
    "    # Put the cluster number of each row in a DataFrame...\n",
    "    cluster_num_df = pd.DataFrame(dist, columns=['cluster'])\n",
    "\n",
    "    # ... that we then join with the original DataFrame containing the player name and skintone.\n",
    "    with_cluster = cluster_df.reset_index().join(cluster_num_df)\n",
    "\n",
    "    # Compute the silhouette score for that clustering\n",
    "    sil_score = silhouette_score(dataset, dist)\n",
    "    \n",
    "    # Split the DataFrame per cluster\n",
    "    cluster_0 = with_cluster[with_cluster['cluster'] == 0]\n",
    "    cluster_1 = with_cluster[with_cluster['cluster'] == 1]\n",
    "    \n",
    "    # Get the skintones from each cluster\n",
    "    skintone_0 = cluster_0['skintone']\n",
    "    skintone_1 = cluster_1['skintone']\n",
    "    \n",
    "    # Compute the difference in skintone variance between the two clusters\n",
    "    delta_variance = abs(skintone_0.var() - skintone_1.var())\n",
    "\n",
    "    # Perform a T-test over the skintone distributions of the two clusters\n",
    "    (t_statistic, p_value) = stats.ttest_ind(skintone_0, skintone_1, equal_var = delta_variance < 1e-6)\n",
    "\n",
    "    # Store the result for further processing\n",
    "    return {\n",
    "        'score': sil_score,\n",
    "        'features': list(features_kept.keys()),\n",
    "        'skintone_diff': skintone_0.mean() - skintone_1.mean(),\n",
    "        'cluster_0_skintone': skintone_0.mean(),\n",
    "        'cluster_1_skintone': skintone_1.mean(),\n",
    "        'p_value': p_value,\n",
    "        'diff_is_stat_sign': p_value < 0.05,\n",
    "        'data': with_cluster\n",
    "    }"
   ]
  },
  {
   "cell_type": "markdown",
   "metadata": {},
   "source": [
    "Let's run the algorithm above on all possible subsets of features, amongst the ones we chose to consider above:"
   ]
  },
  {
   "cell_type": "code",
   "execution_count": 28,
   "metadata": {
    "collapsed": false
   },
   "outputs": [
    {
     "name": "stdout",
     "output_type": "stream",
     "text": [
      "Features: ['redCards']\n",
      " - Score: 0.7275893595426473\n",
      " - P-value: 0.1551306467304273\n",
      "\n",
      "Features: ['yellowCards']\n",
      " - Score: 0.6148631770892143\n",
      " - P-value: 0.44188584575121015\n",
      "\n",
      "Features: ['meanExp']\n",
      " - Score: 0.6094101888589887\n",
      " - P-value: 0.00023519696030857822\n",
      "\n",
      "Features: ['refCountry']\n",
      " - Score: 0.8119676358811542\n",
      " - P-value: 0.6693309386831305\n",
      "\n",
      "Features: ['meanIAT']\n",
      " - Score: 0.6064169964405387\n",
      " - P-value: 2.362991432588616e-05\n",
      "\n",
      "Features: ['yellowReds']\n",
      " - Score: 0.7357371699871629\n",
      " - P-value: 0.9502621871015282\n",
      "\n",
      "Features: ['redCards', 'yellowCards']\n",
      " - Score: 0.6140480893449063\n",
      " - P-value: 0.459022615318467\n",
      "\n",
      "Features: ['meanExp', 'redCards']\n",
      " - Score: 0.7047443118959454\n",
      " - P-value: 0.1551306467304273\n",
      "\n",
      "Features: ['refCountry', 'redCards']\n",
      " - Score: 0.7924237238411892\n",
      " - P-value: 0.6693309386831305\n",
      "\n",
      "Features: ['meanIAT', 'redCards']\n",
      " - Score: 0.7245168688818283\n",
      " - P-value: 0.1551306467304273\n",
      "\n",
      "Features: ['redCards', 'yellowReds']\n",
      " - Score: 0.5685069299344473\n",
      " - P-value: 0.16346261062152742\n",
      "\n",
      "Features: ['meanExp', 'yellowCards']\n",
      " - Score: 0.6147589471911296\n",
      " - P-value: 0.450362877371176\n",
      "\n",
      "Features: ['refCountry', 'yellowCards']\n",
      " - Score: 0.46980065805898624\n",
      " - P-value: 0.5592244220540517\n",
      "\n",
      "Features: ['meanIAT', 'yellowCards']\n",
      " - Score: 0.6148426913105006\n",
      " - P-value: 0.450362877371176\n",
      "\n",
      "Features: ['yellowReds', 'yellowCards']\n",
      " - Score: 0.6145357392780302\n",
      " - P-value: 0.459022615318467\n",
      "\n",
      "Features: ['refCountry', 'meanExp']\n",
      " - Score: 0.812486945013607\n",
      " - P-value: 0.6941285663386609\n",
      "\n",
      "Features: ['meanExp', 'meanIAT']\n",
      " - Score: 0.6049801540775619\n",
      " - P-value: 0.00022487618374942967\n",
      "\n",
      "Features: ['meanExp', 'yellowReds']\n",
      " - Score: 0.7133811405926391\n",
      " - P-value: 0.9502621871015282\n",
      "\n",
      "Features: ['refCountry', 'meanIAT']\n",
      " - Score: 0.8129972638288696\n",
      " - P-value: 0.6941285663386609\n",
      "\n",
      "Features: ['refCountry', 'yellowReds']\n",
      " - Score: 0.7922718509921677\n",
      " - P-value: 0.6693309386831305\n",
      "\n",
      "Features: ['meanIAT', 'yellowReds']\n",
      " - Score: 0.7327218069757898\n",
      " - P-value: 0.9502621871015282\n",
      "\n",
      "Features: ['meanExp', 'redCards', 'yellowCards']\n",
      " - Score: 0.6141130291207777\n",
      " - P-value: 0.4678181031910641\n",
      "\n",
      "Features: ['refCountry', 'redCards', 'yellowCards']\n",
      " - Score: 0.46842633164909775\n",
      " - P-value: 0.5592244220540517\n",
      "\n",
      "Features: ['meanIAT', 'redCards', 'yellowCards']\n",
      " - Score: 0.6141608360365522\n",
      " - P-value: 0.4678181031910641\n",
      "\n",
      "Features: ['redCards', 'yellowReds', 'yellowCards']\n",
      " - Score: 0.6114754640379844\n",
      " - P-value: 0.459022615318467\n",
      "\n",
      "Features: ['refCountry', 'meanExp', 'redCards']\n",
      " - Score: 0.7925035222136197\n",
      " - P-value: 0.6941285663386609\n",
      "\n",
      "Features: ['meanExp', 'redCards', 'meanIAT']\n",
      " - Score: 0.7044302520048189\n",
      " - P-value: 0.1551306467304273\n",
      "\n",
      "Features: ['meanExp', 'redCards', 'yellowReds']\n",
      " - Score: 0.5627633763447671\n",
      " - P-value: 0.16346261062152742\n",
      "\n",
      "Features: ['refCountry', 'meanIAT', 'redCards']\n",
      " - Score: 0.7927248274731407\n",
      " - P-value: 0.6941285663386609\n",
      "\n",
      "Features: ['refCountry', 'redCards', 'yellowReds']\n",
      " - Score: 0.777756457787908\n",
      " - P-value: 0.6693309386831305\n",
      "\n",
      "Features: ['meanIAT', 'redCards', 'yellowReds']\n",
      " - Score: 0.5678300584362842\n",
      " - P-value: 0.16346261062152742\n",
      "\n",
      "Features: ['refCountry', 'meanExp', 'yellowCards']\n",
      " - Score: 0.4668932630369186\n",
      " - P-value: 0.45893444644340764\n",
      "\n",
      "Features: ['meanExp', 'yellowCards', 'meanIAT']\n",
      " - Score: 0.6147574854120139\n",
      " - P-value: 0.450362877371176\n",
      "\n",
      "Features: ['meanExp', 'yellowReds', 'yellowCards']\n",
      " - Score: 0.6145923741999704\n",
      " - P-value: 0.4678181031910641\n",
      "\n",
      "Features: ['refCountry', 'meanIAT', 'yellowCards']\n",
      " - Score: 0.46690916519569\n",
      " - P-value: 0.45893444644340764\n",
      "\n",
      "Features: ['refCountry', 'yellowReds', 'yellowCards']\n",
      " - Score: 0.468717807422567\n",
      " - P-value: 0.5592244220540517\n",
      "\n",
      "Features: ['meanIAT', 'yellowReds', 'yellowCards']\n",
      " - Score: 0.6146418121793809\n",
      " - P-value: 0.4678181031910641\n",
      "\n",
      "Features: ['refCountry', 'meanExp', 'meanIAT']\n",
      " - Score: 0.8124778451265573\n",
      " - P-value: 0.6941285663386609\n",
      "\n",
      "Features: ['refCountry', 'meanExp', 'yellowReds']\n",
      " - Score: 0.7922739765466299\n",
      " - P-value: 0.6941285663386609\n",
      "\n",
      "Features: ['meanExp', 'yellowReds', 'meanIAT']\n",
      " - Score: 0.7130749370609211\n",
      " - P-value: 0.9502621871015282\n",
      "\n",
      "Features: ['refCountry', 'meanIAT', 'yellowReds']\n",
      " - Score: 0.7924970206631672\n",
      " - P-value: 0.6941285663386609\n",
      "\n",
      "Features: ['refCountry', 'meanExp', 'redCards', 'yellowCards']\n",
      " - Score: 0.465466683317502\n",
      " - P-value: 0.45893444644340764\n",
      "\n",
      "Features: ['meanExp', 'redCards', 'yellowCards', 'meanIAT']\n",
      " - Score: 0.614112169563218\n",
      " - P-value: 0.4678181031910641\n",
      "\n",
      "Features: ['meanExp', 'redCards', 'yellowReds', 'yellowCards']\n",
      " - Score: 0.6115567643990458\n",
      " - P-value: 0.4678181031910641\n",
      "\n",
      "Features: ['refCountry', 'meanIAT', 'redCards', 'yellowCards']\n",
      " - Score: 0.4654790611609721\n",
      " - P-value: 0.45893444644340764\n",
      "\n",
      "Features: ['refCountry', 'redCards', 'yellowReds', 'yellowCards']\n",
      " - Score: 0.46744412127452145\n",
      " - P-value: 0.5592244220540517\n",
      "\n",
      "Features: ['meanIAT', 'redCards', 'yellowReds', 'yellowCards']\n",
      " - Score: 0.611592508200155\n",
      " - P-value: 0.4678181031910641\n",
      "\n",
      "Features: ['refCountry', 'meanExp', 'redCards', 'meanIAT']\n",
      " - Score: 0.7924994522226524\n",
      " - P-value: 0.6941285663386609\n",
      "\n",
      "Features: ['refCountry', 'meanExp', 'redCards', 'yellowReds']\n",
      " - Score: 0.7773772633661639\n",
      " - P-value: 0.6941285663386609\n",
      "\n",
      "Features: ['meanExp', 'redCards', 'yellowReds', 'meanIAT']\n",
      " - Score: 0.5626805629511945\n",
      " - P-value: 0.16346261062152742\n",
      "\n",
      "Features: ['refCountry', 'meanIAT', 'redCards', 'yellowReds']\n",
      " - Score: 0.7775063724123746\n",
      " - P-value: 0.6941285663386609\n",
      "\n",
      "Features: ['refCountry', 'meanExp', 'yellowCards', 'meanIAT']\n",
      " - Score: 0.46689295662586533\n",
      " - P-value: 0.45893444644340764\n",
      "\n",
      "Features: ['refCountry', 'meanExp', 'yellowReds', 'yellowCards']\n",
      " - Score: 0.4657686539119022\n",
      " - P-value: 0.45893444644340764\n",
      "\n",
      "Features: ['meanExp', 'yellowReds', 'yellowCards', 'meanIAT']\n",
      " - Score: 0.6145914685038705\n",
      " - P-value: 0.4678181031910641\n",
      "\n",
      "Features: ['refCountry', 'meanIAT', 'yellowReds', 'yellowCards']\n",
      " - Score: 0.46578118120179135\n",
      " - P-value: 0.45893444644340764\n",
      "\n",
      "Features: ['refCountry', 'meanExp', 'yellowReds', 'meanIAT']\n",
      " - Score: 0.7922698846896596\n",
      " - P-value: 0.6941285663386609\n",
      "\n",
      "Features: ['refCountry', 'meanExp', 'redCards', 'yellowCards', 'meanIAT']\n",
      " - Score: 0.46546644190355835\n",
      " - P-value: 0.45893444644340764\n",
      "\n",
      "Features: ['refCountry', 'meanExp', 'redCards', 'yellowReds', 'yellowCards']\n",
      " - Score: 0.46674439223612396\n",
      " - P-value: 0.5592244220540517\n",
      "\n",
      "Features: ['meanExp', 'redCards', 'yellowReds', 'yellowCards', 'meanIAT']\n",
      " - Score: 0.6115560932393977\n",
      " - P-value: 0.4678181031910641\n",
      "\n",
      "Features: ['refCountry', 'meanIAT', 'redCards', 'yellowReds', 'yellowCards']\n",
      " - Score: 0.46675532706207334\n",
      " - P-value: 0.5592244220540517\n",
      "\n",
      "Features: ['refCountry', 'meanExp', 'redCards', 'yellowReds', 'meanIAT']\n",
      " - Score: 0.7773748065946458\n",
      " - P-value: 0.6941285663386609\n",
      "\n",
      "Features: ['refCountry', 'meanExp', 'yellowReds', 'yellowCards', 'meanIAT']\n",
      " - Score: 0.46576840663187724\n",
      " - P-value: 0.45893444644340764\n",
      "\n",
      "Features: ['redCards', 'yellowCards', 'meanIAT', 'refCountry', 'meanExp', 'yellowReds']\n",
      " - Score: 0.46674417560566683\n",
      " - P-value: 0.5592244220540517\n",
      "\n"
     ]
    }
   ],
   "source": [
    "results = []\n",
    "\n",
    "# Compute the powerset of all the features we want to consider\n",
    "all_subsets = list(powerset(features_map.keys()))\n",
    "\n",
    "def binary_skintone(x, axis=None):\n",
    "    return int(x['skintone'])\n",
    "\n",
    "clean_df2 = clean_df.copy()\n",
    "clean_df2['skintone'] = clean_df.apply(binary_skintone, axis=1)\n",
    "\n",
    "# Run K-Means on each non-empty subset\n",
    "for subset in all_subsets:\n",
    "    if len(subset) == 0:\n",
    "        continue\n",
    "        \n",
    "    agg = {}\n",
    "    for feature in subset:\n",
    "        agg[feature] = features_map[feature]\n",
    "        \n",
    "    result = run_kmeans(clean_df2, agg)\n",
    "    results.append(result)\n",
    "    print('Features: {}\\n - Score: {}\\n - P-value: {}\\n'.format(result['features'], result['score'], result['p_value']))"
   ]
  },
  {
   "cell_type": "markdown",
   "metadata": {},
   "source": [
    "We now only keep the results for which the difference between the mean skintone of each cluster is statistically significant, and plot the silhouette score:"
   ]
  },
  {
   "cell_type": "code",
   "execution_count": 29,
   "metadata": {
    "collapsed": false
   },
   "outputs": [
    {
     "data": {
      "text/plain": [
       "<matplotlib.axes._subplots.AxesSubplot at 0x118de5c50>"
      ]
     },
     "execution_count": 29,
     "metadata": {},
     "output_type": "execute_result"
    },
    {
     "data": {
      "image/png": "[encoded data removed]",
      "text/plain": [
       "<matplotlib.figure.Figure at 0x119147b00>"
      ]
     },
     "metadata": {},
     "output_type": "display_data"
    }
   ],
   "source": [
    "results_df = pd.DataFrame(results, columns=['score', 'features', 'skintone_diff', 'cluster_0_skintone', 'cluster_1_skintone', 'diff_is_stat_sign'])\n",
    "results_df = results_df[results_df['diff_is_stat_sign'] == True]\n",
    "results_df[['score', 'features']].sort_values(['score']).set_index('features').plot(kind='bar')"
   ]
  },
  {
   "cell_type": "markdown",
   "metadata": {},
   "source": [
    "Let's take a look at the results themselves as well:"
   ]
  },
  {
   "cell_type": "code",
   "execution_count": 30,
   "metadata": {
    "collapsed": false
   },
   "outputs": [
    {
     "data": {
      "text/html": [
       "<div>\n",
       "<table border=\"1\" class=\"dataframe\">\n",
       "  <thead>\n",
       "    <tr style=\"text-align: right;\">\n",
       "      <th></th>\n",
       "      <th>score</th>\n",
       "      <th>features</th>\n",
       "      <th>skintone_diff</th>\n",
       "      <th>cluster_0_skintone</th>\n",
       "      <th>cluster_1_skintone</th>\n",
       "      <th>diff_is_stat_sign</th>\n",
       "    </tr>\n",
       "  </thead>\n",
       "  <tbody>\n",
       "    <tr>\n",
       "      <th>2</th>\n",
       "      <td>0.609410</td>\n",
       "      <td>[meanExp]</td>\n",
       "      <td>0.041601</td>\n",
       "      <td>0.076233</td>\n",
       "      <td>0.034632</td>\n",
       "      <td>True</td>\n",
       "    </tr>\n",
       "    <tr>\n",
       "      <th>4</th>\n",
       "      <td>0.606417</td>\n",
       "      <td>[meanIAT]</td>\n",
       "      <td>0.046263</td>\n",
       "      <td>0.075820</td>\n",
       "      <td>0.029557</td>\n",
       "      <td>True</td>\n",
       "    </tr>\n",
       "    <tr>\n",
       "      <th>16</th>\n",
       "      <td>0.604980</td>\n",
       "      <td>[meanExp, meanIAT]</td>\n",
       "      <td>-0.041737</td>\n",
       "      <td>0.034582</td>\n",
       "      <td>0.076319</td>\n",
       "      <td>True</td>\n",
       "    </tr>\n",
       "  </tbody>\n",
       "</table>\n",
       "</div>"
      ],
      "text/plain": [
       "       score            features  skintone_diff  cluster_0_skintone  \\\n",
       "2   0.609410           [meanExp]       0.041601            0.076233   \n",
       "4   0.606417           [meanIAT]       0.046263            0.075820   \n",
       "16  0.604980  [meanExp, meanIAT]      -0.041737            0.034582   \n",
       "\n",
       "    cluster_1_skintone diff_is_stat_sign  \n",
       "2             0.034632              True  \n",
       "4             0.029557              True  \n",
       "16            0.076319              True  "
      ]
     },
     "execution_count": 30,
     "metadata": {},
     "output_type": "execute_result"
    }
   ],
   "source": [
    "results_df.sort_values('score', ascending=False)"
   ]
  },
  {
   "cell_type": "markdown",
   "metadata": {},
   "source": [
    "There does seem to be indeed a difference in skintone between the two clusters when we cluster by the mean value of either of the racism indicators. But as these features only appear by themselves, we cannot conclude anything other than these indicators have a slight influence on the overall number of decisions taken by referee given the player's skintone.\n",
    "\n",
    "Overall it seems there is no racial bias in the referees' decisions, at least those that involve a card of either color."
   ]
  }
 ],
 "metadata": {
  "anaconda-cloud": {},
  "kernelspec": {
   "display_name": "Python [Root]",
   "language": "python",
   "name": "Python [Root]"
  },
  "language_info": {
   "codemirror_mode": {
    "name": "ipython",
    "version": 3
   },
   "file_extension": ".py",
   "mimetype": "text/x-python",
   "name": "python",
   "nbconvert_exporter": "python",
   "pygments_lexer": "ipython3",
   "version": "3.5.2"
  }
 },
 "nbformat": 4,
 "nbformat_minor": 1
}
